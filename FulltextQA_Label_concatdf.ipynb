{
  "nbformat": 4,
  "nbformat_minor": 0,
  "metadata": {
    "colab": {
      "name": "FulltextQA_Label_concatdf.ipynb",
      "provenance": []
    },
    "kernelspec": {
      "name": "python3",
      "display_name": "Python 3"
    },
    "language_info": {
      "name": "python"
    }
  },
  "cells": [
    {
      "cell_type": "code",
      "metadata": {
        "id": "oCWKaHwwYRj-"
      },
      "source": [
        "import pandas as pd"
      ],
      "execution_count": null,
      "outputs": []
    },
    {
      "cell_type": "code",
      "metadata": {
        "id": "QtLBHvoPahki"
      },
      "source": [
        "df = pd.read_pickle ('save_path')"
      ],
      "execution_count": null,
      "outputs": []
    },
    {
      "cell_type": "code",
      "metadata": {
        "colab": {
          "base_uri": "https://localhost:8080/",
          "height": 357
        },
        "id": "8Ho44gb5bFCi",
        "outputId": "1aa7490e-f0ea-4ab1-be5b-559209ebb4aa"
      },
      "source": [
        " df.head()"
      ],
      "execution_count": null,
      "outputs": [
        {
          "output_type": "execute_result",
          "data": {
            "text/html": [
              "<div>\n",
              "<style scoped>\n",
              "    .dataframe tbody tr th:only-of-type {\n",
              "        vertical-align: middle;\n",
              "    }\n",
              "\n",
              "    .dataframe tbody tr th {\n",
              "        vertical-align: top;\n",
              "    }\n",
              "\n",
              "    .dataframe thead th {\n",
              "        text-align: right;\n",
              "    }\n",
              "</style>\n",
              "<table border=\"1\" class=\"dataframe\">\n",
              "  <thead>\n",
              "    <tr style=\"text-align: right;\">\n",
              "      <th></th>\n",
              "      <th>Title</th>\n",
              "      <th>JournalInfo</th>\n",
              "      <th>Abstract</th>\n",
              "      <th>TiL</th>\n",
              "      <th>AbL</th>\n",
              "      <th>AbstractPlusTitle</th>\n",
              "      <th>PMID</th>\n",
              "      <th>PMCID</th>\n",
              "    </tr>\n",
              "  </thead>\n",
              "  <tbody>\n",
              "    <tr>\n",
              "      <th>0</th>\n",
              "      <td>\"Qigong/Tai Chi Easy for fatigue in breast can...</td>\n",
              "      <td>Contemp Clin Trials</td>\n",
              "      <td>Breast cancer survivors (BCSs) often report fa...</td>\n",
              "      <td>1</td>\n",
              "      <td>0</td>\n",
              "      <td>Breast cancer survivors (BCSs) often report fa...</td>\n",
              "      <td>27543065</td>\n",
              "      <td>NaN</td>\n",
              "    </tr>\n",
              "    <tr>\n",
              "      <th>1</th>\n",
              "      <td>\"Tai Chi Chih Compared With Cognitive Behavior...</td>\n",
              "      <td>J Clin Oncol</td>\n",
              "      <td>Purpose Cognitive behavioral therapy for insom...</td>\n",
              "      <td>1</td>\n",
              "      <td>1</td>\n",
              "      <td>Purpose Cognitive behavioral therapy for insom...</td>\n",
              "      <td>28489508</td>\n",
              "      <td>PMC5549450</td>\n",
              "    </tr>\n",
              "    <tr>\n",
              "      <th>2</th>\n",
              "      <td>\"Cognitive behavioral therapy vs. Tai Chi for ...</td>\n",
              "      <td>Sleep</td>\n",
              "      <td>To investigate the comparative efficacy of cog...</td>\n",
              "      <td>1</td>\n",
              "      <td>1</td>\n",
              "      <td>To investigate the comparative efficacy of cog...</td>\n",
              "      <td>25142571</td>\n",
              "      <td>PMC4153053</td>\n",
              "    </tr>\n",
              "    <tr>\n",
              "      <th>3</th>\n",
              "      <td>\"Tai chi/yoga reduces prenatal depression, anx...</td>\n",
              "      <td>Complement Ther Clin Pract</td>\n",
              "      <td>Ninety-two prenatally depressed pregnant women...</td>\n",
              "      <td>1</td>\n",
              "      <td>1</td>\n",
              "      <td>Ninety-two prenatally depressed pregnant women...</td>\n",
              "      <td>23337557</td>\n",
              "      <td>PMC3730281</td>\n",
              "    </tr>\n",
              "    <tr>\n",
              "      <th>4</th>\n",
              "      <td>\"Efficacy of rehabilitation with Tai Ji Quan i...</td>\n",
              "      <td>Complement Ther Clin Pract</td>\n",
              "      <td>Fibromyalgia Syndrome (FMS) is characterized b...</td>\n",
              "      <td>1</td>\n",
              "      <td>1</td>\n",
              "      <td>Fibromyalgia Syndrome (FMS) is characterized b...</td>\n",
              "      <td>27502810</td>\n",
              "      <td>NaN</td>\n",
              "    </tr>\n",
              "  </tbody>\n",
              "</table>\n",
              "</div>"
            ],
            "text/plain": [
              "                                               Title  ...       PMCID\n",
              "0  \"Qigong/Tai Chi Easy for fatigue in breast can...  ...         NaN\n",
              "1  \"Tai Chi Chih Compared With Cognitive Behavior...  ...  PMC5549450\n",
              "2  \"Cognitive behavioral therapy vs. Tai Chi for ...  ...  PMC4153053\n",
              "3  \"Tai chi/yoga reduces prenatal depression, anx...  ...  PMC3730281\n",
              "4  \"Efficacy of rehabilitation with Tai Ji Quan i...  ...         NaN\n",
              "\n",
              "[5 rows x 8 columns]"
            ]
          },
          "metadata": {
            "tags": []
          },
          "execution_count": 4
        }
      ]
    },
    {
      "cell_type": "code",
      "metadata": {
        "id": "wgCOiWWxj_e6"
      },
      "source": [
        "df['PMCID'] = df['PMCID'].astype(str)"
      ],
      "execution_count": null,
      "outputs": []
    },
    {
      "cell_type": "code",
      "metadata": {
        "id": "2OYNAeyQDgoD"
      },
      "source": [
        "df_sub = df.loc[(df['PMCID'] != 'nan') & (df['AbL'] == 1)]"
      ],
      "execution_count": null,
      "outputs": []
    },
    {
      "cell_type": "code",
      "metadata": {
        "colab": {
          "base_uri": "https://localhost:8080/",
          "height": 759
        },
        "id": "u8SbJJM-D4T2",
        "outputId": "6ffc3452-9f86-4ff7-a1eb-2ffb2da6860b"
      },
      "source": [
        "df_sub"
      ],
      "execution_count": null,
      "outputs": [
        {
          "output_type": "execute_result",
          "data": {
            "text/html": [
              "<div>\n",
              "<style scoped>\n",
              "    .dataframe tbody tr th:only-of-type {\n",
              "        vertical-align: middle;\n",
              "    }\n",
              "\n",
              "    .dataframe tbody tr th {\n",
              "        vertical-align: top;\n",
              "    }\n",
              "\n",
              "    .dataframe thead th {\n",
              "        text-align: right;\n",
              "    }\n",
              "</style>\n",
              "<table border=\"1\" class=\"dataframe\">\n",
              "  <thead>\n",
              "    <tr style=\"text-align: right;\">\n",
              "      <th></th>\n",
              "      <th>Title</th>\n",
              "      <th>JournalInfo</th>\n",
              "      <th>Abstract</th>\n",
              "      <th>TiL</th>\n",
              "      <th>AbL</th>\n",
              "      <th>AbstractPlusTitle</th>\n",
              "      <th>PMID</th>\n",
              "      <th>PMCID</th>\n",
              "    </tr>\n",
              "  </thead>\n",
              "  <tbody>\n",
              "    <tr>\n",
              "      <th>1</th>\n",
              "      <td>\"Tai Chi Chih Compared With Cognitive Behavior...</td>\n",
              "      <td>J Clin Oncol</td>\n",
              "      <td>Purpose Cognitive behavioral therapy for insom...</td>\n",
              "      <td>1</td>\n",
              "      <td>1</td>\n",
              "      <td>Purpose Cognitive behavioral therapy for insom...</td>\n",
              "      <td>28489508</td>\n",
              "      <td>PMC5549450</td>\n",
              "    </tr>\n",
              "    <tr>\n",
              "      <th>2</th>\n",
              "      <td>\"Cognitive behavioral therapy vs. Tai Chi for ...</td>\n",
              "      <td>Sleep</td>\n",
              "      <td>To investigate the comparative efficacy of cog...</td>\n",
              "      <td>1</td>\n",
              "      <td>1</td>\n",
              "      <td>To investigate the comparative efficacy of cog...</td>\n",
              "      <td>25142571</td>\n",
              "      <td>PMC4153053</td>\n",
              "    </tr>\n",
              "    <tr>\n",
              "      <th>3</th>\n",
              "      <td>\"Tai chi/yoga reduces prenatal depression, anx...</td>\n",
              "      <td>Complement Ther Clin Pract</td>\n",
              "      <td>Ninety-two prenatally depressed pregnant women...</td>\n",
              "      <td>1</td>\n",
              "      <td>1</td>\n",
              "      <td>Ninety-two prenatally depressed pregnant women...</td>\n",
              "      <td>23337557</td>\n",
              "      <td>PMC3730281</td>\n",
              "    </tr>\n",
              "    <tr>\n",
              "      <th>5</th>\n",
              "      <td>\"Randomized controlled trial of Qigong/Tai Chi...</td>\n",
              "      <td>Ann Behav Med</td>\n",
              "      <td>Many breast cancer survivors experience fatigu...</td>\n",
              "      <td>1</td>\n",
              "      <td>1</td>\n",
              "      <td>Many breast cancer survivors experience fatigu...</td>\n",
              "      <td>25124456</td>\n",
              "      <td>PMC4329282</td>\n",
              "    </tr>\n",
              "    <tr>\n",
              "      <th>13</th>\n",
              "      <td>\"Mindfulness meditation and improvement in sle...</td>\n",
              "      <td>JAMA Intern Med</td>\n",
              "      <td>Sleep disturbances are most prevalent among ol...</td>\n",
              "      <td>1</td>\n",
              "      <td>1</td>\n",
              "      <td>Sleep disturbances are most prevalent among ol...</td>\n",
              "      <td>25686304</td>\n",
              "      <td>PMC4407465</td>\n",
              "    </tr>\n",
              "    <tr>\n",
              "      <th>...</th>\n",
              "      <td>...</td>\n",
              "      <td>...</td>\n",
              "      <td>...</td>\n",
              "      <td>...</td>\n",
              "      <td>...</td>\n",
              "      <td>...</td>\n",
              "      <td>...</td>\n",
              "      <td>...</td>\n",
              "    </tr>\n",
              "    <tr>\n",
              "      <th>377</th>\n",
              "      <td>Sound therapy (using amplification devices and...</td>\n",
              "      <td>Cochrane Database Syst Rev</td>\n",
              "      <td>Tinnitus affects 10% to 15% of the adult popul...</td>\n",
              "      <td>1</td>\n",
              "      <td>1</td>\n",
              "      <td>Tinnitus affects 10% to 15% of the adult popul...</td>\n",
              "      <td>30589445</td>\n",
              "      <td>PMC6517157</td>\n",
              "    </tr>\n",
              "    <tr>\n",
              "      <th>378</th>\n",
              "      <td>Efficacy of \"Pinggan Formula\" in Controlling A...</td>\n",
              "      <td>Evid Based Complement Alternat Med</td>\n",
              "      <td>To explore a new treatment that can proceed fr...</td>\n",
              "      <td>1</td>\n",
              "      <td>1</td>\n",
              "      <td>To explore a new treatment that can proceed fr...</td>\n",
              "      <td>31827555</td>\n",
              "      <td>PMC6885174</td>\n",
              "    </tr>\n",
              "    <tr>\n",
              "      <th>380</th>\n",
              "      <td>A Multimodal Stress-Prevention Program Supplem...</td>\n",
              "      <td>Int J Environ Res Public Health</td>\n",
              "      <td>This study compared the effectiveness of a 12-...</td>\n",
              "      <td>1</td>\n",
              "      <td>1</td>\n",
              "      <td>This study compared the effectiveness of a 12-...</td>\n",
              "      <td>33321849</td>\n",
              "      <td>PMC7763316</td>\n",
              "    </tr>\n",
              "    <tr>\n",
              "      <th>381</th>\n",
              "      <td>A parallel randomized controlled trial examini...</td>\n",
              "      <td>PLoS One</td>\n",
              "      <td>This double-blind, two-arm parallel randomized...</td>\n",
              "      <td>1</td>\n",
              "      <td>1</td>\n",
              "      <td>This double-blind, two-arm parallel randomized...</td>\n",
              "      <td>30822311</td>\n",
              "      <td>PMC6396935</td>\n",
              "    </tr>\n",
              "    <tr>\n",
              "      <th>384</th>\n",
              "      <td>Effects of Manual Therapy on Fatigue, Pain, an...</td>\n",
              "      <td>Int J Environ Res Public Health</td>\n",
              "      <td>Fibromyalgia is a condition characterised by c...</td>\n",
              "      <td>1</td>\n",
              "      <td>1</td>\n",
              "      <td>Fibromyalgia is a condition characterised by c...</td>\n",
              "      <td>32604939</td>\n",
              "      <td>PMC7345776</td>\n",
              "    </tr>\n",
              "  </tbody>\n",
              "</table>\n",
              "<p>88 rows × 8 columns</p>\n",
              "</div>"
            ],
            "text/plain": [
              "                                                 Title  ...       PMCID\n",
              "1    \"Tai Chi Chih Compared With Cognitive Behavior...  ...  PMC5549450\n",
              "2    \"Cognitive behavioral therapy vs. Tai Chi for ...  ...  PMC4153053\n",
              "3    \"Tai chi/yoga reduces prenatal depression, anx...  ...  PMC3730281\n",
              "5    \"Randomized controlled trial of Qigong/Tai Chi...  ...  PMC4329282\n",
              "13   \"Mindfulness meditation and improvement in sle...  ...  PMC4407465\n",
              "..                                                 ...  ...         ...\n",
              "377  Sound therapy (using amplification devices and...  ...  PMC6517157\n",
              "378  Efficacy of \"Pinggan Formula\" in Controlling A...  ...  PMC6885174\n",
              "380  A Multimodal Stress-Prevention Program Supplem...  ...  PMC7763316\n",
              "381  A parallel randomized controlled trial examini...  ...  PMC6396935\n",
              "384  Effects of Manual Therapy on Fatigue, Pain, an...  ...  PMC7345776\n",
              "\n",
              "[88 rows x 8 columns]"
            ]
          },
          "metadata": {
            "tags": []
          },
          "execution_count": 7
        }
      ]
    },
    {
      "cell_type": "code",
      "metadata": {
        "colab": {
          "base_uri": "https://localhost:8080/"
        },
        "id": "8nKYgI9-EHzM",
        "outputId": "3392d1c4-0da2-46f1-d982-745355e2cda0"
      },
      "source": [
        "df_sub['FuL'] = 0"
      ],
      "execution_count": null,
      "outputs": [
        {
          "output_type": "stream",
          "text": [
            "/usr/local/lib/python3.7/dist-packages/ipykernel_launcher.py:1: SettingWithCopyWarning: \n",
            "A value is trying to be set on a copy of a slice from a DataFrame.\n",
            "Try using .loc[row_indexer,col_indexer] = value instead\n",
            "\n",
            "See the caveats in the documentation: https://pandas.pydata.org/pandas-docs/stable/user_guide/indexing.html#returning-a-view-versus-a-copy\n",
            "  \"\"\"Entry point for launching an IPython kernel.\n"
          ],
          "name": "stderr"
        }
      ]
    },
    {
      "cell_type": "markdown",
      "metadata": {
        "id": "T5gfU9S2sg3G"
      },
      "source": [
        "# Manually labled based on full-text, principals:\n",
        "1. abstract level (CAMs, standardized measures and outcome report:mean/sd-if original data provided, not change score； different type of study on RCT)\n",
        "2. ignore detailed, strick rules (30>=; PSQI/ISI; Baseline score...)"
      ]
    },
    {
      "cell_type": "code",
      "metadata": {
        "id": "0nGPMzOfE8p8"
      },
      "source": [
        "df_sub.at[3, 'FuL'] = 1\n",
        "df_sub.at[2, 'FuL'] = 1\n",
        "df_sub.at[1, 'FuL'] = 1"
      ],
      "execution_count": null,
      "outputs": []
    },
    {
      "cell_type": "code",
      "metadata": {
        "id": "OqudXiy4FRwJ"
      },
      "source": [
        "df_sub.at[5, 'FuL'] = 1"
      ],
      "execution_count": null,
      "outputs": []
    },
    {
      "cell_type": "code",
      "metadata": {
        "id": "itDvumq4HMh4"
      },
      "source": [
        "df_sub.at[21, 'FuL'] = 1"
      ],
      "execution_count": null,
      "outputs": []
    },
    {
      "cell_type": "code",
      "metadata": {
        "id": "kIiFWveDL10a"
      },
      "source": [
        "df_sub.at[24, 'FuL'] = 1"
      ],
      "execution_count": null,
      "outputs": []
    },
    {
      "cell_type": "code",
      "metadata": {
        "id": "bsOWkyx8L41W"
      },
      "source": [
        "df_sub.at[33, 'FuL'] = 1"
      ],
      "execution_count": null,
      "outputs": []
    },
    {
      "cell_type": "code",
      "metadata": {
        "id": "pDERSilulj0t"
      },
      "source": [
        "df_sub.at[34, 'FuL'] = 1"
      ],
      "execution_count": null,
      "outputs": []
    },
    {
      "cell_type": "code",
      "metadata": {
        "id": "f7XxAO-hlmg9"
      },
      "source": [
        "df_sub.at[36, 'FuL'] = 1"
      ],
      "execution_count": null,
      "outputs": []
    },
    {
      "cell_type": "code",
      "metadata": {
        "id": "_P1F393Nlna9"
      },
      "source": [
        "df_sub.at[37, 'FuL'] = 1"
      ],
      "execution_count": null,
      "outputs": []
    },
    {
      "cell_type": "code",
      "metadata": {
        "id": "vIzuEatVnUQE"
      },
      "source": [
        "df_sub.at[57, 'FuL'] = 1"
      ],
      "execution_count": null,
      "outputs": []
    },
    {
      "cell_type": "code",
      "metadata": {
        "id": "9DiHzwzrnUSp"
      },
      "source": [
        "df_sub.at[58, 'FuL'] = 1"
      ],
      "execution_count": null,
      "outputs": []
    },
    {
      "cell_type": "code",
      "metadata": {
        "id": "yhxHEjpsnUzs"
      },
      "source": [
        "df_sub.at[63, 'FuL'] = 1"
      ],
      "execution_count": null,
      "outputs": []
    },
    {
      "cell_type": "code",
      "metadata": {
        "id": "Ea2wY4khqPMc"
      },
      "source": [
        "df_sub.at[65, 'FuL'] = 1"
      ],
      "execution_count": null,
      "outputs": []
    },
    {
      "cell_type": "code",
      "metadata": {
        "id": "jIh5q8OzqPO8"
      },
      "source": [
        "df_sub.at[66, 'FuL'] = 1"
      ],
      "execution_count": null,
      "outputs": []
    },
    {
      "cell_type": "code",
      "metadata": {
        "id": "qYscCEdtqPRZ"
      },
      "source": [
        "df_sub.at[77, 'FuL'] = 1"
      ],
      "execution_count": null,
      "outputs": []
    },
    {
      "cell_type": "code",
      "metadata": {
        "id": "H90FKL67m-2I"
      },
      "source": [
        "df_sub.at[80, 'FuL'] = 1"
      ],
      "execution_count": null,
      "outputs": []
    },
    {
      "cell_type": "code",
      "metadata": {
        "id": "iM-PM5BEtoV7"
      },
      "source": [
        "df_sub.at[90, 'FuL'] = 1"
      ],
      "execution_count": null,
      "outputs": []
    },
    {
      "cell_type": "code",
      "metadata": {
        "id": "zyepDiejtoY8"
      },
      "source": [
        "df_sub.at[102, 'FuL'] = 1"
      ],
      "execution_count": null,
      "outputs": []
    },
    {
      "cell_type": "code",
      "metadata": {
        "id": "n2vraPT2uz4a"
      },
      "source": [
        "df_sub.at[107, 'FuL'] = 1"
      ],
      "execution_count": null,
      "outputs": []
    },
    {
      "cell_type": "code",
      "metadata": {
        "id": "k4mXPP7xuz-E"
      },
      "source": [
        "df_sub.at[109, 'FuL'] = 1"
      ],
      "execution_count": null,
      "outputs": []
    },
    {
      "cell_type": "code",
      "metadata": {
        "id": "-Gf29eBuu0Fb"
      },
      "source": [
        "df_sub.at[113, 'FuL'] = 1"
      ],
      "execution_count": null,
      "outputs": []
    },
    {
      "cell_type": "code",
      "metadata": {
        "id": "Px5W0irCLmsF"
      },
      "source": [
        "df_sub.at[119, 'FuL'] = 1"
      ],
      "execution_count": null,
      "outputs": []
    },
    {
      "cell_type": "code",
      "metadata": {
        "id": "Xzc9sx7CLmu7"
      },
      "source": [
        "df_sub.at[130, 'FuL'] = 1"
      ],
      "execution_count": null,
      "outputs": []
    },
    {
      "cell_type": "code",
      "metadata": {
        "id": "M0lVpQLrLmxN"
      },
      "source": [
        "df_sub.at[135, 'FuL'] = 1"
      ],
      "execution_count": null,
      "outputs": []
    },
    {
      "cell_type": "code",
      "metadata": {
        "id": "vvr0GMPBP6q-"
      },
      "source": [
        "df_sub.at[140, 'FuL'] = 1"
      ],
      "execution_count": null,
      "outputs": []
    },
    {
      "cell_type": "code",
      "metadata": {
        "id": "xeP_CUqPP6ty"
      },
      "source": [
        "df_sub.at[142, 'FuL'] = 1"
      ],
      "execution_count": null,
      "outputs": []
    },
    {
      "cell_type": "code",
      "metadata": {
        "id": "ivvmn0vgP60g"
      },
      "source": [
        "df_sub.at[144, 'FuL'] = 1"
      ],
      "execution_count": null,
      "outputs": []
    },
    {
      "cell_type": "code",
      "metadata": {
        "id": "I-TMZEkkSt45"
      },
      "source": [
        "df_sub.at[155, 'FuL'] = 1"
      ],
      "execution_count": null,
      "outputs": []
    },
    {
      "cell_type": "code",
      "metadata": {
        "id": "NKgI4niSUqRi"
      },
      "source": [
        "df_sub.at[171, 'FuL'] = 1"
      ],
      "execution_count": null,
      "outputs": []
    },
    {
      "cell_type": "code",
      "metadata": {
        "id": "pMwQAsR5UqUf"
      },
      "source": [
        "df_sub.at[204, 'FuL'] = 1"
      ],
      "execution_count": null,
      "outputs": []
    },
    {
      "cell_type": "code",
      "metadata": {
        "id": "6oUsONoUUqXa"
      },
      "source": [
        "df_sub.at[215, 'FuL'] = 1"
      ],
      "execution_count": null,
      "outputs": []
    },
    {
      "cell_type": "code",
      "metadata": {
        "id": "TA8S1OucywwO"
      },
      "source": [
        "df_sub.at[258, 'FuL'] = 1"
      ],
      "execution_count": null,
      "outputs": []
    },
    {
      "cell_type": "code",
      "metadata": {
        "id": "Q5iiTUcxywzG"
      },
      "source": [
        "df_sub.at[263, 'FuL'] = 1"
      ],
      "execution_count": null,
      "outputs": []
    },
    {
      "cell_type": "code",
      "metadata": {
        "id": "y-Qfn_hhyw24"
      },
      "source": [
        "df_sub.at[273, 'FuL'] = 1"
      ],
      "execution_count": null,
      "outputs": []
    },
    {
      "cell_type": "code",
      "metadata": {
        "id": "fR3T35blglU_"
      },
      "source": [
        "df_sub.at[279, 'FuL'] = 1"
      ],
      "execution_count": null,
      "outputs": []
    },
    {
      "cell_type": "code",
      "metadata": {
        "id": "iiK_YsIJglb2"
      },
      "source": [
        "df_sub.at[289, 'FuL'] = 1"
      ],
      "execution_count": null,
      "outputs": []
    },
    {
      "cell_type": "code",
      "metadata": {
        "id": "cvUF1F-zgl2P"
      },
      "source": [
        "df_sub.at[291, 'FuL'] = 1"
      ],
      "execution_count": null,
      "outputs": []
    },
    {
      "cell_type": "code",
      "metadata": {
        "id": "2xKxmnjWgl5K"
      },
      "source": [
        "df_sub.at[296, 'FuL'] = 1"
      ],
      "execution_count": null,
      "outputs": []
    },
    {
      "cell_type": "code",
      "metadata": {
        "id": "kuH2ggf6gl8k"
      },
      "source": [
        "df_sub.at[299, 'FuL'] = 1"
      ],
      "execution_count": null,
      "outputs": []
    },
    {
      "cell_type": "code",
      "metadata": {
        "id": "6iX5VmrRgl_w"
      },
      "source": [
        "df_sub.at[306, 'FuL'] = 1"
      ],
      "execution_count": null,
      "outputs": []
    },
    {
      "cell_type": "code",
      "metadata": {
        "id": "EnxY_xVxgmDE"
      },
      "source": [
        "df_sub.at[307, 'FuL'] = 1"
      ],
      "execution_count": null,
      "outputs": []
    },
    {
      "cell_type": "code",
      "metadata": {
        "id": "v9lhRiIegmK-"
      },
      "source": [
        "df_sub.at[312, 'FuL'] = 1"
      ],
      "execution_count": null,
      "outputs": []
    },
    {
      "cell_type": "code",
      "metadata": {
        "id": "P6enJIwkgmN1"
      },
      "source": [
        ""
      ],
      "execution_count": null,
      "outputs": []
    },
    {
      "cell_type": "code",
      "metadata": {
        "id": "i-7hFDAXoVJR"
      },
      "source": [
        ""
      ],
      "execution_count": null,
      "outputs": []
    },
    {
      "cell_type": "code",
      "metadata": {
        "id": "y1eXEp4yoVMD"
      },
      "source": [
        ""
      ],
      "execution_count": null,
      "outputs": []
    },
    {
      "cell_type": "code",
      "metadata": {
        "id": "kcsizvPkoVPe"
      },
      "source": [
        ""
      ],
      "execution_count": null,
      "outputs": []
    },
    {
      "cell_type": "code",
      "metadata": {
        "id": "7RRoD-qIoVSd"
      },
      "source": [
        ""
      ],
      "execution_count": null,
      "outputs": []
    },
    {
      "cell_type": "code",
      "metadata": {
        "id": "hSX4bpZPgmQx"
      },
      "source": [
        ""
      ],
      "execution_count": null,
      "outputs": []
    },
    {
      "cell_type": "code",
      "metadata": {
        "id": "-lMTFm_PUqZ9"
      },
      "source": [
        "df_sub.at[170,'PMCID'] = 'PMC3123409'"
      ],
      "execution_count": null,
      "outputs": []
    },
    {
      "cell_type": "code",
      "metadata": {
        "id": "ZAR_BwzuqTpG"
      },
      "source": [
        "df_sub.at[171,'PMCID'] = 'PMC7771358'"
      ],
      "execution_count": null,
      "outputs": []
    },
    {
      "cell_type": "code",
      "metadata": {
        "id": "IMsYzfcmr6s_"
      },
      "source": [
        "df_sub.at[174,'PMCID'] = 'PMC2999703'"
      ],
      "execution_count": null,
      "outputs": []
    },
    {
      "cell_type": "code",
      "metadata": {
        "id": "ZTAcbvVysDCC"
      },
      "source": [
        "df_sub.at[178,'PMCID'] = 'nan'"
      ],
      "execution_count": null,
      "outputs": []
    },
    {
      "cell_type": "code",
      "metadata": {
        "id": "jsYPv4Ujt6gk"
      },
      "source": [
        "df_sub.at[182,'PMCID'] = 'PMC3946917'"
      ],
      "execution_count": null,
      "outputs": []
    },
    {
      "cell_type": "code",
      "metadata": {
        "id": "ulNg_S2Guc6g"
      },
      "source": [
        ""
      ],
      "execution_count": null,
      "outputs": []
    },
    {
      "cell_type": "code",
      "metadata": {
        "id": "Pimpg8TbebHu"
      },
      "source": [
        ""
      ],
      "execution_count": null,
      "outputs": []
    },
    {
      "cell_type": "code",
      "metadata": {
        "id": "tFuOw_utebKu"
      },
      "source": [
        ""
      ],
      "execution_count": null,
      "outputs": []
    },
    {
      "cell_type": "code",
      "metadata": {
        "id": "5GfrA9uJebN8"
      },
      "source": [
        ""
      ],
      "execution_count": null,
      "outputs": []
    },
    {
      "cell_type": "code",
      "metadata": {
        "colab": {
          "base_uri": "https://localhost:8080/",
          "height": 776
        },
        "id": "oNasZ1BCF59Z",
        "outputId": "99d70806-7b12-43a6-8524-588f26c72e71"
      },
      "source": [
        "df_sub.head(88)"
      ],
      "execution_count": null,
      "outputs": [
        {
          "output_type": "execute_result",
          "data": {
            "text/html": [
              "<div>\n",
              "<style scoped>\n",
              "    .dataframe tbody tr th:only-of-type {\n",
              "        vertical-align: middle;\n",
              "    }\n",
              "\n",
              "    .dataframe tbody tr th {\n",
              "        vertical-align: top;\n",
              "    }\n",
              "\n",
              "    .dataframe thead th {\n",
              "        text-align: right;\n",
              "    }\n",
              "</style>\n",
              "<table border=\"1\" class=\"dataframe\">\n",
              "  <thead>\n",
              "    <tr style=\"text-align: right;\">\n",
              "      <th></th>\n",
              "      <th>Title</th>\n",
              "      <th>JournalInfo</th>\n",
              "      <th>Abstract</th>\n",
              "      <th>TiL</th>\n",
              "      <th>AbL</th>\n",
              "      <th>AbstractPlusTitle</th>\n",
              "      <th>PMID</th>\n",
              "      <th>PMCID</th>\n",
              "      <th>FuL</th>\n",
              "    </tr>\n",
              "  </thead>\n",
              "  <tbody>\n",
              "    <tr>\n",
              "      <th>1</th>\n",
              "      <td>\"Tai Chi Chih Compared With Cognitive Behavior...</td>\n",
              "      <td>J Clin Oncol</td>\n",
              "      <td>Purpose Cognitive behavioral therapy for insom...</td>\n",
              "      <td>1</td>\n",
              "      <td>1</td>\n",
              "      <td>Purpose Cognitive behavioral therapy for insom...</td>\n",
              "      <td>28489508</td>\n",
              "      <td>PMC5549450</td>\n",
              "      <td>1</td>\n",
              "    </tr>\n",
              "    <tr>\n",
              "      <th>2</th>\n",
              "      <td>\"Cognitive behavioral therapy vs. Tai Chi for ...</td>\n",
              "      <td>Sleep</td>\n",
              "      <td>To investigate the comparative efficacy of cog...</td>\n",
              "      <td>1</td>\n",
              "      <td>1</td>\n",
              "      <td>To investigate the comparative efficacy of cog...</td>\n",
              "      <td>25142571</td>\n",
              "      <td>PMC4153053</td>\n",
              "      <td>1</td>\n",
              "    </tr>\n",
              "    <tr>\n",
              "      <th>3</th>\n",
              "      <td>\"Tai chi/yoga reduces prenatal depression, anx...</td>\n",
              "      <td>Complement Ther Clin Pract</td>\n",
              "      <td>Ninety-two prenatally depressed pregnant women...</td>\n",
              "      <td>1</td>\n",
              "      <td>1</td>\n",
              "      <td>Ninety-two prenatally depressed pregnant women...</td>\n",
              "      <td>23337557</td>\n",
              "      <td>PMC3730281</td>\n",
              "      <td>1</td>\n",
              "    </tr>\n",
              "    <tr>\n",
              "      <th>5</th>\n",
              "      <td>\"Randomized controlled trial of Qigong/Tai Chi...</td>\n",
              "      <td>Ann Behav Med</td>\n",
              "      <td>Many breast cancer survivors experience fatigu...</td>\n",
              "      <td>1</td>\n",
              "      <td>1</td>\n",
              "      <td>Many breast cancer survivors experience fatigu...</td>\n",
              "      <td>25124456</td>\n",
              "      <td>PMC4329282</td>\n",
              "      <td>1</td>\n",
              "    </tr>\n",
              "    <tr>\n",
              "      <th>13</th>\n",
              "      <td>\"Mindfulness meditation and improvement in sle...</td>\n",
              "      <td>JAMA Intern Med</td>\n",
              "      <td>Sleep disturbances are most prevalent among ol...</td>\n",
              "      <td>1</td>\n",
              "      <td>1</td>\n",
              "      <td>Sleep disturbances are most prevalent among ol...</td>\n",
              "      <td>25686304</td>\n",
              "      <td>PMC4407465</td>\n",
              "      <td>0</td>\n",
              "    </tr>\n",
              "    <tr>\n",
              "      <th>...</th>\n",
              "      <td>...</td>\n",
              "      <td>...</td>\n",
              "      <td>...</td>\n",
              "      <td>...</td>\n",
              "      <td>...</td>\n",
              "      <td>...</td>\n",
              "      <td>...</td>\n",
              "      <td>...</td>\n",
              "      <td>...</td>\n",
              "    </tr>\n",
              "    <tr>\n",
              "      <th>377</th>\n",
              "      <td>Sound therapy (using amplification devices and...</td>\n",
              "      <td>Cochrane Database Syst Rev</td>\n",
              "      <td>Tinnitus affects 10% to 15% of the adult popul...</td>\n",
              "      <td>1</td>\n",
              "      <td>1</td>\n",
              "      <td>Tinnitus affects 10% to 15% of the adult popul...</td>\n",
              "      <td>30589445</td>\n",
              "      <td>PMC6517157</td>\n",
              "      <td>0</td>\n",
              "    </tr>\n",
              "    <tr>\n",
              "      <th>378</th>\n",
              "      <td>Efficacy of \"Pinggan Formula\" in Controlling A...</td>\n",
              "      <td>Evid Based Complement Alternat Med</td>\n",
              "      <td>To explore a new treatment that can proceed fr...</td>\n",
              "      <td>1</td>\n",
              "      <td>1</td>\n",
              "      <td>To explore a new treatment that can proceed fr...</td>\n",
              "      <td>31827555</td>\n",
              "      <td>PMC6885174</td>\n",
              "      <td>0</td>\n",
              "    </tr>\n",
              "    <tr>\n",
              "      <th>380</th>\n",
              "      <td>A Multimodal Stress-Prevention Program Supplem...</td>\n",
              "      <td>Int J Environ Res Public Health</td>\n",
              "      <td>This study compared the effectiveness of a 12-...</td>\n",
              "      <td>1</td>\n",
              "      <td>1</td>\n",
              "      <td>This study compared the effectiveness of a 12-...</td>\n",
              "      <td>33321849</td>\n",
              "      <td>PMC7763316</td>\n",
              "      <td>0</td>\n",
              "    </tr>\n",
              "    <tr>\n",
              "      <th>381</th>\n",
              "      <td>A parallel randomized controlled trial examini...</td>\n",
              "      <td>PLoS One</td>\n",
              "      <td>This double-blind, two-arm parallel randomized...</td>\n",
              "      <td>1</td>\n",
              "      <td>1</td>\n",
              "      <td>This double-blind, two-arm parallel randomized...</td>\n",
              "      <td>30822311</td>\n",
              "      <td>PMC6396935</td>\n",
              "      <td>0</td>\n",
              "    </tr>\n",
              "    <tr>\n",
              "      <th>384</th>\n",
              "      <td>Effects of Manual Therapy on Fatigue, Pain, an...</td>\n",
              "      <td>Int J Environ Res Public Health</td>\n",
              "      <td>Fibromyalgia is a condition characterised by c...</td>\n",
              "      <td>1</td>\n",
              "      <td>1</td>\n",
              "      <td>Fibromyalgia is a condition characterised by c...</td>\n",
              "      <td>32604939</td>\n",
              "      <td>PMC7345776</td>\n",
              "      <td>0</td>\n",
              "    </tr>\n",
              "  </tbody>\n",
              "</table>\n",
              "<p>88 rows × 9 columns</p>\n",
              "</div>"
            ],
            "text/plain": [
              "                                                 Title  ... FuL\n",
              "1    \"Tai Chi Chih Compared With Cognitive Behavior...  ...   1\n",
              "2    \"Cognitive behavioral therapy vs. Tai Chi for ...  ...   1\n",
              "3    \"Tai chi/yoga reduces prenatal depression, anx...  ...   1\n",
              "5    \"Randomized controlled trial of Qigong/Tai Chi...  ...   1\n",
              "13   \"Mindfulness meditation and improvement in sle...  ...   0\n",
              "..                                                 ...  ...  ..\n",
              "377  Sound therapy (using amplification devices and...  ...   0\n",
              "378  Efficacy of \"Pinggan Formula\" in Controlling A...  ...   0\n",
              "380  A Multimodal Stress-Prevention Program Supplem...  ...   0\n",
              "381  A parallel randomized controlled trial examini...  ...   0\n",
              "384  Effects of Manual Therapy on Fatigue, Pain, an...  ...   0\n",
              "\n",
              "[88 rows x 9 columns]"
            ]
          },
          "metadata": {
            "tags": []
          },
          "execution_count": 88
        }
      ]
    },
    {
      "cell_type": "code",
      "metadata": {
        "colab": {
          "base_uri": "https://localhost:8080/",
          "height": 35
        },
        "id": "osuwJ_9loyrF",
        "outputId": "51bc6d30-43e7-4eb7-b724-e457cff2e2e2"
      },
      "source": [
        "df_sub['Title'][193]"
      ],
      "execution_count": null,
      "outputs": [
        {
          "output_type": "execute_result",
          "data": {
            "application/vnd.google.colaboratory.intrinsic+json": {
              "type": "string"
            },
            "text/plain": [
              "'\"Effect of therapeutic care for treating fatigue in patients with breast cancer receiving chemotherapy.\"'"
            ]
          },
          "metadata": {
            "tags": []
          },
          "execution_count": 75
        }
      ]
    },
    {
      "cell_type": "code",
      "metadata": {
        "id": "LMHINMufvQ6s"
      },
      "source": [
        "df_sub.to_pickle ('save_path/df_fulltext88.pkl')"
      ],
      "execution_count": null,
      "outputs": []
    }
  ]
}