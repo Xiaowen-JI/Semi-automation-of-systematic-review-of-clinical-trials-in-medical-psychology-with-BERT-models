{
 "cells": [
  {
   "cell_type": "code",
   "execution_count": 1,
   "metadata": {},
   "outputs": [],
   "source": [
    "#pip install biopython"
   ]
  },
  {
   "cell_type": "code",
   "execution_count": 2,
   "metadata": {},
   "outputs": [],
   "source": [
    "import pandas as pd\n",
    "import json\n",
    "import re\n",
    "import numpy as np\n",
    "import pickle"
   ]
  },
  {
   "cell_type": "code",
   "execution_count": 3,
   "metadata": {},
   "outputs": [],
   "source": [
    "# Biopython entrez"
   ]
  },
  {
   "cell_type": "code",
   "execution_count": 4,
   "metadata": {},
   "outputs": [
    {
     "name": "stdout",
     "output_type": "stream",
     "text": [
      "['26880252', '28576734', '27543065', '28489508', '29222705', '25142571', '23337557', '27502810', '28380067', '25124456', '28427459', '26115880', '26362690', '27527892', '20860572', '28884877', '26424362', '25686304', '21934474', '24440643', '25843539', '27852282', '28431122', '22903446', '28899535', '22350253', '28899206', '25342100', '26361642', '27511921', '27451854', '29229613', '28806907', '26734485', '21629370', '29101843', '27775416', '24491199', '21676255', '26433466', '27467589', '26498238', '26132682', '26745049', '28286776', '25132206', '23286297', '27895522', '22623888', '24045673', '22621705', '26111942', '29458940', '28735173', '28153215', '25986296', '28110112', '22017318', '22832540', '28183071', '22943846', '22048261', '24577747', '23629959', '23782864', '26228466', '21246844', '22808932', '28686520', '29164609', '26844196', '25543421', '25873295', '25537522', '23982113', '22909345', '25271149', '22840618', '26537175', '22417316', '23338490', '29389474', '26802824', '26867802', '28811955', '27819804', '28045199', '27502759', '28400355', '21386714', '20728065', '27118981', '22471133', '27793197', '25697379', '28064385', '22909076', '26908336', '22525009', '27152528', '24183068', '28076182', '24398115', '29166771', '26847975', '24925094', '28406803', '27103548', '25198108', '28119755', '21345470', '26689303', '24029559', '26729330', '20882729', '26255514', '25636180', '24252173', '25146059', '21982157', '21481259', '25511549', '23663534', '22909385', '27723444', '30100318', '25875125', '26247911', '27977223', '28744938', '22342027', '22098540', '27189614', '21146930', '26840029', '28359309', '24121096', '27737714', '20467003', '31406777', '21294797', '20220611', '28342990', '27323443', '23311171', '26007331', '27023860', '27543343', '21989181', '23548052', '25873101', '22343481', '21414453', '21963235', '20555256', '23355182', '27349639', '22738908', '29231496', '28134483', '27261975', '23368724', '27884001', '28102437', '29085307', '24176784', '20688261', '22180393', '24586677', '24559816', '24919720', '27782861', '22290808', '23657969', '29110681', '22171201', '24374731', '22474497', '25457196', '24501780', '20193645', '25077452', '26062186', '26009534', '20473737', '26366179', '26673225', '21977863', '28557676', '27016217', '21982138', '22214181', '27843054', '21234327', '28331991', '26404039', '23181734', '23078984', '26521571', '23355825', '26211735', '24590636', '22963388', '25042302', '23374201', '21242821', '28818733', '28033320', '25660340', '23301466', '27054602', '25782717', '20453734', '27257445', '22972739', '24432676', '21647811', '21372745', '27720794', '23533465', '22249144', '26871248', '21243280', '24902735', '27453882', '24731890', '26656775', '24761167', '23341529', '22963271', '24290038', '21809733', '24375332', '20829648', '27875389', '29169701', '26244854', '27678169', '21733480', '26314215', '22895974', '28285255', '23067573', '24624165', '21354767', '24304626', '28816951', '24288564', '28595523', '21965126', '26354593', '24876768', '21468626', '24912736', '22097102', '20605536', '28151093', '21174129', '21196805', '24707770', '25484569', '25344737', '23186732', '20723998', '22895961', '24889207', '28054436', '26025368', '21879233', '23252474', '22098804', '26517583', '23213984', '28615007', '24333824', '22139540', '24113152', '22383279', '28436583', '28087891', '24743466', '22459648', '28096255', '21968279', '25139817', '23464643', '27995604', '25759004', '27339435', '26852189', '28205449', '28673741', '21151679', '25674924', '28820516', '28444695', '25782585', '23866906', '19890214', '20543266', '28735825', '29276014', '20855168', '22641322', '22078217', '20091554', '23110382', '27019255', '20201624']\n"
     ]
    }
   ],
   "source": [
    "from Bio import Entrez\n",
    "\n",
    "def search(query): # scraping\n",
    "    Entrez.email = 'xji1@dons.usfca.edu'\n",
    "    handle = Entrez.esearch(db='pubmed', \n",
    "                            sort='relevance',\n",
    "                            retmax='310',\n",
    "                            retmode='xml', \n",
    "                            term=query)\n",
    "    results = Entrez.read(handle)\n",
    "    return results\n",
    "\n",
    "def fetch_details(id_list):  \n",
    "    ids = ','.join(id_list)\n",
    "    Entrez.email = 'xji1@dons.usfca.edu'\n",
    "    handle = Entrez.efetch(db='pubmed',\n",
    "                           retmode='xml',\n",
    "                           id=ids)\n",
    "    results = Entrez.read(handle)\n",
    "    return results\n",
    "\n",
    "if __name__ == '__main__': # parsing \n",
    "    results = search(['randomized control* [abstract] AND (insomnia OR sleep) AND (depressi* OR anxiety) AND (Herb OR mind-body OR acup* OR music OR mindfulness OR meditation OR Tai ji OR tai chi OR qigong OR yoga OR hypnotherapy OR massage OR manipulation OR traditional Chinese Medicine OR homeopathy OR relaxation OR guided imagery) AND 2010:2017[Date - Publication]'])\n",
    "    id_list = results['IdList'] # a list of pubUIDs from fetching\n",
    "    papers = fetch_details(id_list)\n",
    "    #for i, paper in enumerate(papers['PubmedArticle']):\n",
    "        #print(\"%d) %s\" % (i+1, paper['MedlineCitation']['Article']))\n",
    "    print(id_list)"
   ]
  },
  {
   "cell_type": "code",
   "execution_count": 5,
   "metadata": {},
   "outputs": [
    {
     "data": {
      "text/plain": [
       "309"
      ]
     },
     "execution_count": 5,
     "metadata": {},
     "output_type": "execute_result"
    }
   ],
   "source": [
    "len(id_list)"
   ]
  },
  {
   "cell_type": "markdown",
   "metadata": {},
   "source": [
    "from Bio import Entrez\n",
    "Entrez.email = 'xji1@dons.usfca.edu'\n",
    "handle = Entrez.efetch(db=\"pubmed\", id=\"22459648\",\n",
    "                       rettype = 'medline', retmode=\"text\")\n",
    "print(handle.read())"
   ]
  },
  {
   "cell_type": "code",
   "execution_count": 6,
   "metadata": {},
   "outputs": [
    {
     "data": {
      "text/plain": [
       "308"
      ]
     },
     "execution_count": 6,
     "metadata": {},
     "output_type": "execute_result"
    }
   ],
   "source": [
    "CAMJournal=[]\n",
    "for i, paper in enumerate(papers['PubmedArticle']):\n",
    "    CAMJournal.append(paper['MedlineCitation']['Article']['Journal']['ISOAbbreviation'])\n",
    "CAMJournal\n",
    "len(CAMJournal)"
   ]
  },
  {
   "cell_type": "code",
   "execution_count": 7,
   "metadata": {},
   "outputs": [],
   "source": [
    "#CAMAb=[]\n",
    "#for i, paper in enumerate(papers['PubmedArticle']):\n",
    "    #try:\n",
    "        #CAMAb.append(paper['MedlineCitation']['Article']['Abstract']['AbstractText'])\n",
    "    #except KeyError:\n",
    "        #pass\n",
    "#len(CAMAb)"
   ]
  },
  {
   "cell_type": "code",
   "execution_count": 8,
   "metadata": {},
   "outputs": [
    {
     "data": {
      "text/plain": [
       "308"
      ]
     },
     "execution_count": 8,
     "metadata": {},
     "output_type": "execute_result"
    }
   ],
   "source": [
    "CAMAb=[]\n",
    "for i, paper in enumerate(papers['PubmedArticle']):\n",
    "    try:\n",
    "        if 'AbstractText' in paper['MedlineCitation']['Article']['Abstract']:\n",
    "            CAMAb.append(paper['MedlineCitation']['Article']['Abstract']['AbstractText'])\n",
    "        else:\n",
    "            CAMAb.append('NaN')\n",
    "            \n",
    "    except KeyError as e:\n",
    "        CAMAb.append('NaN')\n",
    "        \n",
    "CAMAb\n",
    "\n",
    "len(CAMAb)"
   ]
  },
  {
   "cell_type": "code",
   "execution_count": 9,
   "metadata": {
    "scrolled": true
   },
   "outputs": [
    {
     "data": {
      "text/plain": [
       "308"
      ]
     },
     "execution_count": 9,
     "metadata": {},
     "output_type": "execute_result"
    }
   ],
   "source": [
    "CAMtitles=[]\n",
    "for i, paper in enumerate(papers['PubmedArticle']):\n",
    "    CAMtitles.append(paper['MedlineCitation']['Article']['ArticleTitle'])\n",
    "CAMtitles\n",
    "len(CAMtitles)"
   ]
  },
  {
   "cell_type": "code",
   "execution_count": 10,
   "metadata": {},
   "outputs": [
    {
     "data": {
      "text/plain": [
       "308"
      ]
     },
     "execution_count": 10,
     "metadata": {},
     "output_type": "execute_result"
    }
   ],
   "source": [
    "combdata= list(zip(CAMtitles, CAMJournal)) \n",
    "df0 = pd.DataFrame(combdata,columns = ['Title', 'JournalInfo']) \n",
    "len(df0)"
   ]
  },
  {
   "cell_type": "code",
   "execution_count": 11,
   "metadata": {
    "scrolled": true
   },
   "outputs": [
    {
     "data": {
      "text/plain": [
       "308"
      ]
     },
     "execution_count": 11,
     "metadata": {},
     "output_type": "execute_result"
    }
   ],
   "source": [
    "combdata= list(zip(CAMtitles, CAMJournal, CAMAb)) \n",
    "df = pd.DataFrame(combdata,columns = ['Title', 'JournalInfo','Abstract']) \n",
    "len(df)"
   ]
  },
  {
   "cell_type": "code",
   "execution_count": 12,
   "metadata": {},
   "outputs": [
    {
     "data": {
      "text/plain": [
       "[StringElement('A growing number of cancer survivors suffer high levels of distress, depression and stress, as well as sleep disturbance, pain and fatigue. Two different mind-body interventions helpful for treating these problems are Mindfulness-Based Cancer Recovery (MBCR) and Tai Chi/Qigong (TCQ). However, while both interventions show efficacy compared to usual care, they have never been evaluated in the same study or directly compared. This study will be the first to incorporate innovative design features including patient choice while evaluating two interventions to treat distressed cancer survivors. It will also allow for secondary analyses of which program best targets specific symptoms in particular groups of survivors, based on preferences and baseline characteristics.', attributes={'Label': 'PURPOSE'}),\n",
       " StringElement('The design is a preference-based multi-site randomized comparative effectiveness trial. Participants (N=600) with a preference for either MBCR or TCQ will receive their preferred intervention; while those without a preference will be randomized into either intervention. Further, within the preference and non-preference groups, participants will be randomized into immediate intervention or wait-list control. Total mood disturbance on the Profile of mood states (POMS) post-intervention is the primary outcome. Other measures taken pre- and post-intervention and at 6-month follow-up include quality of life, psychological functioning, cancer-related symptoms and physical functioning. Exploratory analyses investigate biomarkers (cortisol, cytokines, blood pressure/Heart Rate Variability, telomere length, gene expression), which may uncover potentially important effects on key biological regulatory and antineoplastic functions. Health economic measures will determine potential savings to the health system.', attributes={'Label': 'METHODS AND SIGNIFICANCE'})]"
      ]
     },
     "execution_count": 12,
     "metadata": {},
     "output_type": "execute_result"
    }
   ],
   "source": [
    "df['Abstract'][1]"
   ]
  },
  {
   "cell_type": "code",
   "execution_count": 13,
   "metadata": {},
   "outputs": [],
   "source": [
    "df['Abstract'] = df.Abstract.apply(lambda x: ' '.join(x))"
   ]
  },
  {
   "cell_type": "code",
   "execution_count": 14,
   "metadata": {},
   "outputs": [],
   "source": [
    "def remove_brackets(x):\n",
    "    remove = '<>()[]{}\"'\n",
    "    p = re.compile(\"[\" + re.escape(remove) + \"]\")\n",
    "    return p.sub(\"\",x)"
   ]
  },
  {
   "cell_type": "code",
   "execution_count": 15,
   "metadata": {},
   "outputs": [
    {
     "data": {
      "text/plain": [
       "str"
      ]
     },
     "execution_count": 15,
     "metadata": {},
     "output_type": "execute_result"
    }
   ],
   "source": [
    "df['JournalInfo'] = df.JournalInfo.apply(lambda x: json.dumps(x))\n",
    "df['Title'] = df.Title.apply(lambda x: json.dumps(x))\n",
    "type(df.JournalInfo[0])\n",
    "type(df.Title[0])"
   ]
  },
  {
   "cell_type": "code",
   "execution_count": 16,
   "metadata": {},
   "outputs": [
    {
     "data": {
      "text/plain": [
       "str"
      ]
     },
     "execution_count": 16,
     "metadata": {},
     "output_type": "execute_result"
    }
   ],
   "source": [
    "df['JournalInfo'] = df.JournalInfo.apply(lambda x: remove_brackets(x))\n",
    "type(df.Abstract[0])"
   ]
  },
  {
   "cell_type": "code",
   "execution_count": 17,
   "metadata": {},
   "outputs": [],
   "source": [
    "#df['Title'] = df.Title.apply(lambda x: json.dumps(x))\n",
    "#type(df.Title[0])"
   ]
  },
  {
   "cell_type": "code",
   "execution_count": 18,
   "metadata": {},
   "outputs": [
    {
     "data": {
      "text/html": [
       "<div>\n",
       "<style scoped>\n",
       "    .dataframe tbody tr th:only-of-type {\n",
       "        vertical-align: middle;\n",
       "    }\n",
       "\n",
       "    .dataframe tbody tr th {\n",
       "        vertical-align: top;\n",
       "    }\n",
       "\n",
       "    .dataframe thead th {\n",
       "        text-align: right;\n",
       "    }\n",
       "</style>\n",
       "<table border=\"1\" class=\"dataframe\">\n",
       "  <thead>\n",
       "    <tr style=\"text-align: right;\">\n",
       "      <th></th>\n",
       "      <th>Title</th>\n",
       "      <th>JournalInfo</th>\n",
       "      <th>Abstract</th>\n",
       "    </tr>\n",
       "  </thead>\n",
       "  <tbody>\n",
       "    <tr>\n",
       "      <th>0</th>\n",
       "      <td>\"Effects of Acupuncture, Tuina, Tai Chi, Qigon...</td>\n",
       "      <td>J Pain Symptom Manage</td>\n",
       "      <td>Most cancer patients suffer from both the dise...</td>\n",
       "    </tr>\n",
       "    <tr>\n",
       "      <th>1</th>\n",
       "      <td>\"Protocol for the MATCH study (Mindfulness and...</td>\n",
       "      <td>Contemp Clin Trials</td>\n",
       "      <td>A growing number of cancer survivors suffer hi...</td>\n",
       "    </tr>\n",
       "    <tr>\n",
       "      <th>2</th>\n",
       "      <td>\"Qigong/Tai Chi Easy for fatigue in breast can...</td>\n",
       "      <td>Contemp Clin Trials</td>\n",
       "      <td>Breast cancer survivors (BCSs) often report fa...</td>\n",
       "    </tr>\n",
       "    <tr>\n",
       "      <th>3</th>\n",
       "      <td>\"Tai Chi Chih Compared With Cognitive Behavior...</td>\n",
       "      <td>J Clin Oncol</td>\n",
       "      <td>Purpose Cognitive behavioral therapy for insom...</td>\n",
       "    </tr>\n",
       "    <tr>\n",
       "      <th>4</th>\n",
       "      <td>\"Tai Chi and Qigong for cancer-related symptom...</td>\n",
       "      <td>J Cancer Surviv</td>\n",
       "      <td>This study aims to summarize and critically ev...</td>\n",
       "    </tr>\n",
       "    <tr>\n",
       "      <th>5</th>\n",
       "      <td>\"Cognitive behavioral therapy vs. Tai Chi for ...</td>\n",
       "      <td>Sleep</td>\n",
       "      <td>To investigate the comparative efficacy of cog...</td>\n",
       "    </tr>\n",
       "    <tr>\n",
       "      <th>6</th>\n",
       "      <td>\"Tai chi/yoga reduces prenatal depression, anx...</td>\n",
       "      <td>Complement Ther Clin Pract</td>\n",
       "      <td>Ninety-two prenatally depressed pregnant women...</td>\n",
       "    </tr>\n",
       "    <tr>\n",
       "      <th>7</th>\n",
       "      <td>\"Efficacy of rehabilitation with Tai Ji Quan i...</td>\n",
       "      <td>Complement Ther Clin Pract</td>\n",
       "      <td>Fibromyalgia Syndrome (FMS) is characterized b...</td>\n",
       "    </tr>\n",
       "    <tr>\n",
       "      <th>8</th>\n",
       "      <td>\"Does Tai Chi relieve fatigue? A systematic re...</td>\n",
       "      <td>PLoS One</td>\n",
       "      <td>Fatigue is not only a familiar symptom in our ...</td>\n",
       "    </tr>\n",
       "    <tr>\n",
       "      <th>9</th>\n",
       "      <td>\"Randomized controlled trial of Qigong/Tai Chi...</td>\n",
       "      <td>Ann Behav Med</td>\n",
       "      <td>Many breast cancer survivors experience fatigu...</td>\n",
       "    </tr>\n",
       "    <tr>\n",
       "      <th>10</th>\n",
       "      <td>\"Subjective perceived impact of Tai Chi traini...</td>\n",
       "      <td>BMC Complement Altern Med</td>\n",
       "      <td>Evidence from quantitative studies suggest tha...</td>\n",
       "    </tr>\n",
       "    <tr>\n",
       "      <th>11</th>\n",
       "      <td>\"Design and methods of the Gentle Cardiac Reha...</td>\n",
       "      <td>Contemp Clin Trials</td>\n",
       "      <td>Cardiac rehabilitation (CR) programs reduce ov...</td>\n",
       "    </tr>\n",
       "    <tr>\n",
       "      <th>12</th>\n",
       "      <td>\"Long-term Exercise After Pulmonary Rehabilita...</td>\n",
       "      <td>Contemp Clin Trials</td>\n",
       "      <td>Persons with chronic obstructive pulmonary dis...</td>\n",
       "    </tr>\n",
       "    <tr>\n",
       "      <th>13</th>\n",
       "      <td>\"Patient Engagement in Randomized Controlled T...</td>\n",
       "      <td>Rev Recent Clin Trials</td>\n",
       "      <td>Physicians encounter various symptom-based com...</td>\n",
       "    </tr>\n",
       "    <tr>\n",
       "      <th>14</th>\n",
       "      <td>\"Tai Chi exercise versus rehabilitation for th...</td>\n",
       "      <td>Psychogeriatrics</td>\n",
       "      <td>Cerebral vascular disorder (CVD) might result ...</td>\n",
       "    </tr>\n",
       "    <tr>\n",
       "      <th>15</th>\n",
       "      <td>\"Self-administered acupressure for insomnia di...</td>\n",
       "      <td>J Sleep Res</td>\n",
       "      <td>Self-administered acupressure has potential as...</td>\n",
       "    </tr>\n",
       "    <tr>\n",
       "      <th>16</th>\n",
       "      <td>\"Coping with Work-Related Stress through Guide...</td>\n",
       "      <td>J Music Ther</td>\n",
       "      <td>Long-term stress-related sick leave constitute...</td>\n",
       "    </tr>\n",
       "    <tr>\n",
       "      <th>17</th>\n",
       "      <td>\"Mindfulness meditation and improvement in sle...</td>\n",
       "      <td>JAMA Intern Med</td>\n",
       "      <td>Sleep disturbances are most prevalent among ol...</td>\n",
       "    </tr>\n",
       "    <tr>\n",
       "      <th>18</th>\n",
       "      <td>\"Mitigating cellular inflammation in older adu...</td>\n",
       "      <td>Am J Geriatr Psychiatry</td>\n",
       "      <td>To evaluate the effects of a behavioral interv...</td>\n",
       "    </tr>\n",
       "    <tr>\n",
       "      <th>19</th>\n",
       "      <td>\"Effect of Tai Chi on physical function, fall ...</td>\n",
       "      <td>Arch Phys Med Rehabil</td>\n",
       "      <td>To examine the effect of a 12-week Tai Chi (TC...</td>\n",
       "    </tr>\n",
       "  </tbody>\n",
       "</table>\n",
       "</div>"
      ],
      "text/plain": [
       "                                                Title  \\\n",
       "0   \"Effects of Acupuncture, Tuina, Tai Chi, Qigon...   \n",
       "1   \"Protocol for the MATCH study (Mindfulness and...   \n",
       "2   \"Qigong/Tai Chi Easy for fatigue in breast can...   \n",
       "3   \"Tai Chi Chih Compared With Cognitive Behavior...   \n",
       "4   \"Tai Chi and Qigong for cancer-related symptom...   \n",
       "5   \"Cognitive behavioral therapy vs. Tai Chi for ...   \n",
       "6   \"Tai chi/yoga reduces prenatal depression, anx...   \n",
       "7   \"Efficacy of rehabilitation with Tai Ji Quan i...   \n",
       "8   \"Does Tai Chi relieve fatigue? A systematic re...   \n",
       "9   \"Randomized controlled trial of Qigong/Tai Chi...   \n",
       "10  \"Subjective perceived impact of Tai Chi traini...   \n",
       "11  \"Design and methods of the Gentle Cardiac Reha...   \n",
       "12  \"Long-term Exercise After Pulmonary Rehabilita...   \n",
       "13  \"Patient Engagement in Randomized Controlled T...   \n",
       "14  \"Tai Chi exercise versus rehabilitation for th...   \n",
       "15  \"Self-administered acupressure for insomnia di...   \n",
       "16  \"Coping with Work-Related Stress through Guide...   \n",
       "17  \"Mindfulness meditation and improvement in sle...   \n",
       "18  \"Mitigating cellular inflammation in older adu...   \n",
       "19  \"Effect of Tai Chi on physical function, fall ...   \n",
       "\n",
       "                   JournalInfo  \\\n",
       "0        J Pain Symptom Manage   \n",
       "1          Contemp Clin Trials   \n",
       "2          Contemp Clin Trials   \n",
       "3                 J Clin Oncol   \n",
       "4              J Cancer Surviv   \n",
       "5                        Sleep   \n",
       "6   Complement Ther Clin Pract   \n",
       "7   Complement Ther Clin Pract   \n",
       "8                     PLoS One   \n",
       "9                Ann Behav Med   \n",
       "10   BMC Complement Altern Med   \n",
       "11         Contemp Clin Trials   \n",
       "12         Contemp Clin Trials   \n",
       "13      Rev Recent Clin Trials   \n",
       "14            Psychogeriatrics   \n",
       "15                 J Sleep Res   \n",
       "16                J Music Ther   \n",
       "17             JAMA Intern Med   \n",
       "18     Am J Geriatr Psychiatry   \n",
       "19       Arch Phys Med Rehabil   \n",
       "\n",
       "                                             Abstract  \n",
       "0   Most cancer patients suffer from both the dise...  \n",
       "1   A growing number of cancer survivors suffer hi...  \n",
       "2   Breast cancer survivors (BCSs) often report fa...  \n",
       "3   Purpose Cognitive behavioral therapy for insom...  \n",
       "4   This study aims to summarize and critically ev...  \n",
       "5   To investigate the comparative efficacy of cog...  \n",
       "6   Ninety-two prenatally depressed pregnant women...  \n",
       "7   Fibromyalgia Syndrome (FMS) is characterized b...  \n",
       "8   Fatigue is not only a familiar symptom in our ...  \n",
       "9   Many breast cancer survivors experience fatigu...  \n",
       "10  Evidence from quantitative studies suggest tha...  \n",
       "11  Cardiac rehabilitation (CR) programs reduce ov...  \n",
       "12  Persons with chronic obstructive pulmonary dis...  \n",
       "13  Physicians encounter various symptom-based com...  \n",
       "14  Cerebral vascular disorder (CVD) might result ...  \n",
       "15  Self-administered acupressure has potential as...  \n",
       "16  Long-term stress-related sick leave constitute...  \n",
       "17  Sleep disturbances are most prevalent among ol...  \n",
       "18  To evaluate the effects of a behavioral interv...  \n",
       "19  To examine the effect of a 12-week Tai Chi (TC...  "
      ]
     },
     "execution_count": 18,
     "metadata": {},
     "output_type": "execute_result"
    }
   ],
   "source": [
    "df.head(20)"
   ]
  },
  {
   "cell_type": "code",
   "execution_count": 19,
   "metadata": {},
   "outputs": [],
   "source": [
    "#df.head()"
   ]
  },
  {
   "cell_type": "code",
   "execution_count": 20,
   "metadata": {},
   "outputs": [],
   "source": [
    "# Write a new columne 'Til' : labelling based on title (lable papers titled with 'protocol','systematic review','meta-analysis' or 'guideline' as 0, else 1)"
   ]
  },
  {
   "cell_type": "code",
   "execution_count": 21,
   "metadata": {},
   "outputs": [
    {
     "data": {
      "text/html": [
       "<div>\n",
       "<style scoped>\n",
       "    .dataframe tbody tr th:only-of-type {\n",
       "        vertical-align: middle;\n",
       "    }\n",
       "\n",
       "    .dataframe tbody tr th {\n",
       "        vertical-align: top;\n",
       "    }\n",
       "\n",
       "    .dataframe thead th {\n",
       "        text-align: right;\n",
       "    }\n",
       "</style>\n",
       "<table border=\"1\" class=\"dataframe\">\n",
       "  <thead>\n",
       "    <tr style=\"text-align: right;\">\n",
       "      <th></th>\n",
       "      <th>Title</th>\n",
       "      <th>JournalInfo</th>\n",
       "      <th>Abstract</th>\n",
       "      <th>TiL</th>\n",
       "    </tr>\n",
       "  </thead>\n",
       "  <tbody>\n",
       "    <tr>\n",
       "      <th>0</th>\n",
       "      <td>\"Effects of Acupuncture, Tuina, Tai Chi, Qigon...</td>\n",
       "      <td>J Pain Symptom Manage</td>\n",
       "      <td>Most cancer patients suffer from both the dise...</td>\n",
       "      <td>0</td>\n",
       "    </tr>\n",
       "    <tr>\n",
       "      <th>1</th>\n",
       "      <td>\"Protocol for the MATCH study (Mindfulness and...</td>\n",
       "      <td>Contemp Clin Trials</td>\n",
       "      <td>A growing number of cancer survivors suffer hi...</td>\n",
       "      <td>0</td>\n",
       "    </tr>\n",
       "    <tr>\n",
       "      <th>2</th>\n",
       "      <td>\"Qigong/Tai Chi Easy for fatigue in breast can...</td>\n",
       "      <td>Contemp Clin Trials</td>\n",
       "      <td>Breast cancer survivors (BCSs) often report fa...</td>\n",
       "      <td>1</td>\n",
       "    </tr>\n",
       "    <tr>\n",
       "      <th>3</th>\n",
       "      <td>\"Tai Chi Chih Compared With Cognitive Behavior...</td>\n",
       "      <td>J Clin Oncol</td>\n",
       "      <td>Purpose Cognitive behavioral therapy for insom...</td>\n",
       "      <td>1</td>\n",
       "    </tr>\n",
       "    <tr>\n",
       "      <th>4</th>\n",
       "      <td>\"Tai Chi and Qigong for cancer-related symptom...</td>\n",
       "      <td>J Cancer Surviv</td>\n",
       "      <td>This study aims to summarize and critically ev...</td>\n",
       "      <td>0</td>\n",
       "    </tr>\n",
       "  </tbody>\n",
       "</table>\n",
       "</div>"
      ],
      "text/plain": [
       "                                               Title            JournalInfo  \\\n",
       "0  \"Effects of Acupuncture, Tuina, Tai Chi, Qigon...  J Pain Symptom Manage   \n",
       "1  \"Protocol for the MATCH study (Mindfulness and...    Contemp Clin Trials   \n",
       "2  \"Qigong/Tai Chi Easy for fatigue in breast can...    Contemp Clin Trials   \n",
       "3  \"Tai Chi Chih Compared With Cognitive Behavior...           J Clin Oncol   \n",
       "4  \"Tai Chi and Qigong for cancer-related symptom...        J Cancer Surviv   \n",
       "\n",
       "                                            Abstract  TiL  \n",
       "0  Most cancer patients suffer from both the dise...    0  \n",
       "1  A growing number of cancer survivors suffer hi...    0  \n",
       "2  Breast cancer survivors (BCSs) often report fa...    1  \n",
       "3  Purpose Cognitive behavioral therapy for insom...    1  \n",
       "4  This study aims to summarize and critically ev...    0  "
      ]
     },
     "execution_count": 21,
     "metadata": {},
     "output_type": "execute_result"
    }
   ],
   "source": [
    "df['TiL'] = np.where(df['Title'].str.lower().str.contains(\"meta-analysis|systematic review|protocol|guideline|review\"), 0, 1)\n",
    "df.head()"
   ]
  },
  {
   "cell_type": "code",
   "execution_count": 22,
   "metadata": {},
   "outputs": [
    {
     "data": {
      "text/plain": [
       "numpy.int32"
      ]
     },
     "execution_count": 22,
     "metadata": {},
     "output_type": "execute_result"
    }
   ],
   "source": [
    "type(df['TiL'][0])"
   ]
  },
  {
   "cell_type": "code",
   "execution_count": 23,
   "metadata": {},
   "outputs": [],
   "source": [
    "df.to_pickle('C:/Users/CAM1-308.pkl')\n",
    "#df.to_pickle('C:/Users/kirak/Documents/School/USF/HS651/CAM1.pkl')"
   ]
  },
  {
   "cell_type": "code",
   "execution_count": 24,
   "metadata": {},
   "outputs": [],
   "source": [
    "#df = pd.read_pickle('C:/Users/CAM1-1.pkl')\n",
    "#df = pd.read_pickle('C:/Users/kirak/Documents/School/USF/HS651/CAM1.pkl')"
   ]
  },
  {
   "cell_type": "code",
   "execution_count": 25,
   "metadata": {},
   "outputs": [
    {
     "name": "stdout",
     "output_type": "stream",
     "text": [
      "                                                 Title  \\\n",
      "278  \"Physical activity and exercise for chronic pa...   \n",
      "287   \"Exercise therapy for chronic fatigue syndrome.\"   \n",
      "288   \"Exercise therapy for chronic fatigue syndrome.\"   \n",
      "292   \"Exercise therapy for chronic fatigue syndrome.\"   \n",
      "294   \"Exercise therapy for chronic fatigue syndrome.\"   \n",
      "\n",
      "                    JournalInfo  \\\n",
      "278  Cochrane Database Syst Rev   \n",
      "287  Cochrane Database Syst Rev   \n",
      "288  Cochrane Database Syst Rev   \n",
      "292  Cochrane Database Syst Rev   \n",
      "294  Cochrane Database Syst Rev   \n",
      "\n",
      "                                              Abstract  TiL  \n",
      "278  Chronic pain is defined as pain lasting beyond...    0  \n",
      "287  Chronic fatigue syndrome (CFS) is characterise...    1  \n",
      "288  Chronic fatigue syndrome (CFS) is characterise...    1  \n",
      "292  Chronic fatigue syndrome (CFS) is characterise...    1  \n",
      "294  Chronic fatigue syndrome (CFS) is characterise...    1  \n"
     ]
    }
   ],
   "source": [
    "duplicateRow = df[df.duplicated(['Title'])]\n",
    "print(duplicateRow)"
   ]
  },
  {
   "cell_type": "code",
   "execution_count": 26,
   "metadata": {
    "collapsed": true
   },
   "outputs": [
    {
     "data": {
      "text/plain": [
       "\"Chronic pain is defined as pain lasting beyond normal tissue healing time, generally taken to be 12 weeks. It contributes to disability, anxiety, depression, sleep disturbances, poor quality of life, and healthcare costs. Chronic pain has a weighted mean prevalence in adults of 20%.For many years, the treatment choice for chronic pain included recommendations for rest and inactivity. However, exercise may have specific benefits in reducing the severity of chronic pain, as well as more general benefits associated with improved overall physical and mental health, and physical functioning.Physical activity and exercise programmes are increasingly being promoted and offered in various healthcare systems, and for a variety of chronic pain conditions. It is therefore important at this stage to establish the efficacy and safety of these programmes, and furthermore to address the critical factors that determine their success or failure. To provide an overview of Cochrane Reviews of adults with chronic pain to determine (1) the effectiveness of different physical activity and exercise interventions in reducing pain severity and its impact on function, quality of life, and healthcare use; and (2) the evidence for any adverse effects or harm associated with physical activity and exercise interventions. We searched theCochrane Database of Systematic Reviews (CDSR) on the Cochrane Library (CDSR 2016, Issue 1) for systematic reviews of randomised controlled trials (RCTs), after which we tracked any included reviews for updates, and tracked protocols in case of full review publication until an arbitrary cut-off date of 21 March 2016 (CDSR 2016, Issue 3). We assessed the methodological quality of the reviews using the AMSTAR tool, and also planned to analyse data for each painful condition based on quality of the evidence.We extracted data for (1) self-reported pain severity, (2) physical function (objectively or subjectively measured), (3) psychological function, (4) quality of life, (5) adherence to the prescribed intervention, (6) healthcare use/attendance, (7) adverse events, and (8) death.Due to the limited data available, we were unable to directly compare and analyse interventions, and have instead reported the evidence qualitatively. We included 21 reviews with 381 included studies and 37,143 participants. Of these, 264 studies (19,642 participants) examined exercise versus no exercise/minimal intervention in adults with chronic pain and were used in the qualitative analysis.Pain conditions included rheumatoid arthritis, osteoarthritis, fibromyalgia, low back pain, intermittent claudication, dysmenorrhoea, mechanical neck disorder, spinal cord injury, postpolio syndrome, and patellofemoral pain. None of the reviews assessed 'chronic pain' or 'chronic widespread pain' as a general term or specific condition. Interventions included aerobic, strength, flexibility, range of motion, and core or balance training programmes, as well as yoga, Pilates, and tai chi.Reviews were well performed and reported (based on AMSTAR), and included studies had acceptable risk of bias (with inadequate reporting of attrition and reporting biases). However the quality of evidence was low due to participant numbers (most included studies had fewer than 50 participants in total), length of intervention and follow-up (rarely assessed beyond three to six months). We pooled the results from relevant reviews where appropriate, though results should be interpreted with caution due to the low quality evidence. Pain severity: several reviews noted favourable results from exercise: only three reviews that reported pain severity found no statistically significant changes in usual or mean pain from any intervention. However, results were inconsistent across interventions and follow-up, as exercise did not consistently bring about a change (positive or negative) in self-reported pain scores at any single point. Physical function: was the most commonly reported outcome measure. Physical function was significantly improved as a result of the intervention in 14 reviews, though even these statistically significant results had only small-to-moderate effect sizes (only one review reported large effect sizes). Psychological function and quality of life: had variable results: results were either favourable to exercise (generally small and moderate effect size, with two reviews reporting significant, large effect sizes for quality of life), or showed no difference between groups. There were no negative effects. Adherence to the prescribed intervention: could not be assessed in any review. However, risk of withdrawal/dropout was slightly higher in the exercising group (82.8/1000 participants versus 81/1000 participants), though the group difference was non-significant. Healthcare use/attendance: was not reported in any review. Adverse events, potential harm, and death: only 25% of included studies (across 18 reviews) actively reported adverse events. Based on the available evidence, most adverse events were increased soreness or muscle pain, which reportedly subsided after a few weeks of the intervention. Only one review reported death separately to other adverse events: the intervention was protective against death (based on the available evidence), though did not reach statistical significance. The quality of the evidence examining physical activity and exercise for chronic pain is low. This is largely due to small sample sizes and potentially underpowered studies. A number of studies had adequately long interventions, but planned follow-up was limited to less than one year in all but six reviews.There were some favourable effects in reduction in pain severity and improved physical function, though these were mostly of small-to-moderate effect, and were not consistent across the reviews. There were variable effects for psychological function and quality of life.The available evidence suggests physical activity and exercise is an intervention with few adverse events that may improve pain severity and physical function, and consequent quality of life. However, further research is required and should focus on increasing participant numbers, including participants with a broader spectrum of pain severity, and lengthening both the intervention itself, and the follow-up period.\""
      ]
     },
     "execution_count": 26,
     "metadata": {},
     "output_type": "execute_result"
    }
   ],
   "source": [
    "df['Abstract'][278]"
   ]
  },
  {
   "cell_type": "code",
   "execution_count": 27,
   "metadata": {},
   "outputs": [
    {
     "data": {
      "text/plain": [
       "'\"Physical activity and exercise for chronic pain in adults: an overview of Cochrane Reviews.\"'"
      ]
     },
     "execution_count": 27,
     "metadata": {},
     "output_type": "execute_result"
    }
   ],
   "source": [
    "df['Title'][278]"
   ]
  },
  {
   "cell_type": "code",
   "execution_count": 28,
   "metadata": {},
   "outputs": [],
   "source": [
    "df1_1 = pd.read_pickle('C:/Users/CAM1-1.pkl')"
   ]
  },
  {
   "cell_type": "code",
   "execution_count": 61,
   "metadata": {},
   "outputs": [
    {
     "data": {
      "text/html": [
       "<div>\n",
       "<style scoped>\n",
       "    .dataframe tbody tr th:only-of-type {\n",
       "        vertical-align: middle;\n",
       "    }\n",
       "\n",
       "    .dataframe tbody tr th {\n",
       "        vertical-align: top;\n",
       "    }\n",
       "\n",
       "    .dataframe thead th {\n",
       "        text-align: right;\n",
       "    }\n",
       "</style>\n",
       "<table border=\"1\" class=\"dataframe\">\n",
       "  <thead>\n",
       "    <tr style=\"text-align: right;\">\n",
       "      <th></th>\n",
       "      <th>Title</th>\n",
       "      <th>JournalInfo</th>\n",
       "      <th>Abstract</th>\n",
       "      <th>TiL</th>\n",
       "    </tr>\n",
       "  </thead>\n",
       "  <tbody>\n",
       "    <tr>\n",
       "      <th>0</th>\n",
       "      <td>\"Effects of Acupuncture, Tuina, Tai Chi, Qigon...</td>\n",
       "      <td>J Pain Symptom Manage</td>\n",
       "      <td>Most cancer patients suffer from both the dise...</td>\n",
       "      <td>0</td>\n",
       "    </tr>\n",
       "    <tr>\n",
       "      <th>1</th>\n",
       "      <td>\"Protocol for the MATCH study (Mindfulness and...</td>\n",
       "      <td>Contemp Clin Trials</td>\n",
       "      <td>A growing number of cancer survivors suffer hi...</td>\n",
       "      <td>0</td>\n",
       "    </tr>\n",
       "    <tr>\n",
       "      <th>2</th>\n",
       "      <td>\"Qigong/Tai Chi Easy for fatigue in breast can...</td>\n",
       "      <td>Contemp Clin Trials</td>\n",
       "      <td>Breast cancer survivors (BCSs) often report fa...</td>\n",
       "      <td>1</td>\n",
       "    </tr>\n",
       "    <tr>\n",
       "      <th>3</th>\n",
       "      <td>\"Tai Chi and Qigong for cancer-related symptom...</td>\n",
       "      <td>J Cancer Surviv</td>\n",
       "      <td>This study aims to summarize and critically ev...</td>\n",
       "      <td>0</td>\n",
       "    </tr>\n",
       "    <tr>\n",
       "      <th>4</th>\n",
       "      <td>\"Tai Chi Chih Compared With Cognitive Behavior...</td>\n",
       "      <td>J Clin Oncol</td>\n",
       "      <td>Purpose Cognitive behavioral therapy for insom...</td>\n",
       "      <td>1</td>\n",
       "    </tr>\n",
       "  </tbody>\n",
       "</table>\n",
       "</div>"
      ],
      "text/plain": [
       "                                               Title            JournalInfo  \\\n",
       "0  \"Effects of Acupuncture, Tuina, Tai Chi, Qigon...  J Pain Symptom Manage   \n",
       "1  \"Protocol for the MATCH study (Mindfulness and...    Contemp Clin Trials   \n",
       "2  \"Qigong/Tai Chi Easy for fatigue in breast can...    Contemp Clin Trials   \n",
       "3  \"Tai Chi and Qigong for cancer-related symptom...        J Cancer Surviv   \n",
       "4  \"Tai Chi Chih Compared With Cognitive Behavior...           J Clin Oncol   \n",
       "\n",
       "                                            Abstract  TiL  \n",
       "0  Most cancer patients suffer from both the dise...    0  \n",
       "1  A growing number of cancer survivors suffer hi...    0  \n",
       "2  Breast cancer survivors (BCSs) often report fa...    1  \n",
       "3  This study aims to summarize and critically ev...    0  \n",
       "4  Purpose Cognitive behavioral therapy for insom...    1  "
      ]
     },
     "execution_count": 61,
     "metadata": {},
     "output_type": "execute_result"
    }
   ],
   "source": [
    "df1_1.head()"
   ]
  },
  {
   "cell_type": "code",
   "execution_count": 30,
   "metadata": {},
   "outputs": [
    {
     "data": {
      "text/plain": [
       "306"
      ]
     },
     "execution_count": 30,
     "metadata": {},
     "output_type": "execute_result"
    }
   ],
   "source": [
    "len(df1_1)"
   ]
  },
  {
   "cell_type": "code",
   "execution_count": 38,
   "metadata": {},
   "outputs": [
    {
     "data": {
      "text/plain": [
       "308"
      ]
     },
     "execution_count": 38,
     "metadata": {},
     "output_type": "execute_result"
    }
   ],
   "source": [
    "len(df)"
   ]
  },
  {
   "cell_type": "code",
   "execution_count": 42,
   "metadata": {},
   "outputs": [
    {
     "data": {
      "text/plain": [
       "97       3\n",
       "162      3\n",
       "6       79\n",
       "99      99\n",
       "55     101\n",
       "      ... \n",
       "288    976\n",
       "287    976\n",
       "292    976\n",
       "285    978\n",
       "294    978\n",
       "Name: Abstract, Length: 308, dtype: int64"
      ]
     },
     "execution_count": 42,
     "metadata": {},
     "output_type": "execute_result"
    }
   ],
   "source": [
    "df['Abstract'].str.split(\" \").str.len().sort_values()"
   ]
  },
  {
   "cell_type": "code",
   "execution_count": 54,
   "metadata": {},
   "outputs": [
    {
     "data": {
      "text/plain": [
       "'N a N'"
      ]
     },
     "execution_count": 54,
     "metadata": {},
     "output_type": "execute_result"
    }
   ],
   "source": [
    "df['Abstract'][97]"
   ]
  },
  {
   "cell_type": "code",
   "execution_count": 44,
   "metadata": {},
   "outputs": [
    {
     "data": {
      "text/plain": [
       "'N a N'"
      ]
     },
     "execution_count": 44,
     "metadata": {},
     "output_type": "execute_result"
    }
   ],
   "source": [
    "df['Abstract'][162]"
   ]
  },
  {
   "cell_type": "code",
   "execution_count": null,
   "metadata": {},
   "outputs": [],
   "source": []
  },
  {
   "cell_type": "code",
   "execution_count": null,
   "metadata": {},
   "outputs": [],
   "source": []
  },
  {
   "cell_type": "code",
   "execution_count": null,
   "metadata": {},
   "outputs": [],
   "source": []
  },
  {
   "cell_type": "code",
   "execution_count": null,
   "metadata": {},
   "outputs": [],
   "source": []
  },
  {
   "cell_type": "code",
   "execution_count": null,
   "metadata": {},
   "outputs": [],
   "source": []
  },
  {
   "cell_type": "code",
   "execution_count": 58,
   "metadata": {},
   "outputs": [],
   "source": [
    "df_Abs = df[df[\"TiL\"] == 1]"
   ]
  },
  {
   "cell_type": "code",
   "execution_count": 59,
   "metadata": {},
   "outputs": [
    {
     "data": {
      "text/html": [
       "<div>\n",
       "<style scoped>\n",
       "    .dataframe tbody tr th:only-of-type {\n",
       "        vertical-align: middle;\n",
       "    }\n",
       "\n",
       "    .dataframe tbody tr th {\n",
       "        vertical-align: top;\n",
       "    }\n",
       "\n",
       "    .dataframe thead th {\n",
       "        text-align: right;\n",
       "    }\n",
       "</style>\n",
       "<table border=\"1\" class=\"dataframe\">\n",
       "  <thead>\n",
       "    <tr style=\"text-align: right;\">\n",
       "      <th></th>\n",
       "      <th>Title</th>\n",
       "      <th>JournalInfo</th>\n",
       "      <th>Abstract</th>\n",
       "      <th>TiL</th>\n",
       "    </tr>\n",
       "  </thead>\n",
       "  <tbody>\n",
       "    <tr>\n",
       "      <th>2</th>\n",
       "      <td>\"Qigong/Tai Chi Easy for fatigue in breast can...</td>\n",
       "      <td>Contemp Clin Trials</td>\n",
       "      <td>Breast cancer survivors (BCSs) often report fa...</td>\n",
       "      <td>1</td>\n",
       "    </tr>\n",
       "    <tr>\n",
       "      <th>3</th>\n",
       "      <td>\"Tai Chi Chih Compared With Cognitive Behavior...</td>\n",
       "      <td>J Clin Oncol</td>\n",
       "      <td>Purpose Cognitive behavioral therapy for insom...</td>\n",
       "      <td>1</td>\n",
       "    </tr>\n",
       "    <tr>\n",
       "      <th>5</th>\n",
       "      <td>\"Cognitive behavioral therapy vs. Tai Chi for ...</td>\n",
       "      <td>Sleep</td>\n",
       "      <td>To investigate the comparative efficacy of cog...</td>\n",
       "      <td>1</td>\n",
       "    </tr>\n",
       "    <tr>\n",
       "      <th>6</th>\n",
       "      <td>\"Tai chi/yoga reduces prenatal depression, anx...</td>\n",
       "      <td>Complement Ther Clin Pract</td>\n",
       "      <td>Ninety-two prenatally depressed pregnant women...</td>\n",
       "      <td>1</td>\n",
       "    </tr>\n",
       "    <tr>\n",
       "      <th>7</th>\n",
       "      <td>\"Efficacy of rehabilitation with Tai Ji Quan i...</td>\n",
       "      <td>Complement Ther Clin Pract</td>\n",
       "      <td>Fibromyalgia Syndrome (FMS) is characterized b...</td>\n",
       "      <td>1</td>\n",
       "    </tr>\n",
       "  </tbody>\n",
       "</table>\n",
       "</div>"
      ],
      "text/plain": [
       "                                               Title  \\\n",
       "2  \"Qigong/Tai Chi Easy for fatigue in breast can...   \n",
       "3  \"Tai Chi Chih Compared With Cognitive Behavior...   \n",
       "5  \"Cognitive behavioral therapy vs. Tai Chi for ...   \n",
       "6  \"Tai chi/yoga reduces prenatal depression, anx...   \n",
       "7  \"Efficacy of rehabilitation with Tai Ji Quan i...   \n",
       "\n",
       "                  JournalInfo  \\\n",
       "2         Contemp Clin Trials   \n",
       "3                J Clin Oncol   \n",
       "5                       Sleep   \n",
       "6  Complement Ther Clin Pract   \n",
       "7  Complement Ther Clin Pract   \n",
       "\n",
       "                                            Abstract  TiL  \n",
       "2  Breast cancer survivors (BCSs) often report fa...    1  \n",
       "3  Purpose Cognitive behavioral therapy for insom...    1  \n",
       "5  To investigate the comparative efficacy of cog...    1  \n",
       "6  Ninety-two prenatally depressed pregnant women...    1  \n",
       "7  Fibromyalgia Syndrome (FMS) is characterized b...    1  "
      ]
     },
     "execution_count": 59,
     "metadata": {},
     "output_type": "execute_result"
    }
   ],
   "source": [
    "df_Abs.head()"
   ]
  },
  {
   "cell_type": "code",
   "execution_count": null,
   "metadata": {},
   "outputs": [],
   "source": []
  },
  {
   "cell_type": "code",
   "execution_count": 45,
   "metadata": {},
   "outputs": [],
   "source": [
    "#manully input value to new colunm 'AbL' (labelling based on abstract)"
   ]
  },
  {
   "cell_type": "code",
   "execution_count": 46,
   "metadata": {},
   "outputs": [
    {
     "name": "stderr",
     "output_type": "stream",
     "text": [
      "C:\\anocoda\\lib\\site-packages\\pandas\\core\\indexing.py:844: SettingWithCopyWarning: \n",
      "A value is trying to be set on a copy of a slice from a DataFrame.\n",
      "Try using .loc[row_indexer,col_indexer] = value instead\n",
      "\n",
      "See the caveats in the documentation: https://pandas.pydata.org/pandas-docs/stable/user_guide/indexing.html#returning-a-view-versus-a-copy\n",
      "  self.obj[key] = _infer_fill_value(value)\n",
      "C:\\anocoda\\lib\\site-packages\\pandas\\core\\indexing.py:965: SettingWithCopyWarning: \n",
      "A value is trying to be set on a copy of a slice from a DataFrame.\n",
      "Try using .loc[row_indexer,col_indexer] = value instead\n",
      "\n",
      "See the caveats in the documentation: https://pandas.pydata.org/pandas-docs/stable/user_guide/indexing.html#returning-a-view-versus-a-copy\n",
      "  self.obj[item] = s\n"
     ]
    }
   ],
   "source": [
    "df_Abs.loc[:,'AbL'] = 1"
   ]
  },
  {
   "cell_type": "code",
   "execution_count": 47,
   "metadata": {},
   "outputs": [],
   "source": [
    "df_Abs = df_Abs.reset_index(drop =  True)"
   ]
  },
  {
   "cell_type": "code",
   "execution_count": 48,
   "metadata": {},
   "outputs": [
    {
     "data": {
      "text/html": [
       "<div>\n",
       "<style scoped>\n",
       "    .dataframe tbody tr th:only-of-type {\n",
       "        vertical-align: middle;\n",
       "    }\n",
       "\n",
       "    .dataframe tbody tr th {\n",
       "        vertical-align: top;\n",
       "    }\n",
       "\n",
       "    .dataframe thead th {\n",
       "        text-align: right;\n",
       "    }\n",
       "</style>\n",
       "<table border=\"1\" class=\"dataframe\">\n",
       "  <thead>\n",
       "    <tr style=\"text-align: right;\">\n",
       "      <th></th>\n",
       "      <th>Title</th>\n",
       "      <th>JournalInfo</th>\n",
       "      <th>Abstract</th>\n",
       "      <th>TiL</th>\n",
       "      <th>AbL</th>\n",
       "    </tr>\n",
       "  </thead>\n",
       "  <tbody>\n",
       "    <tr>\n",
       "      <th>0</th>\n",
       "      <td>\"Qigong/Tai Chi Easy for fatigue in breast can...</td>\n",
       "      <td>Contemp Clin Trials</td>\n",
       "      <td>Breast cancer survivors (BCSs) often report fa...</td>\n",
       "      <td>1</td>\n",
       "      <td>1</td>\n",
       "    </tr>\n",
       "    <tr>\n",
       "      <th>1</th>\n",
       "      <td>\"Tai Chi Chih Compared With Cognitive Behavior...</td>\n",
       "      <td>J Clin Oncol</td>\n",
       "      <td>Purpose Cognitive behavioral therapy for insom...</td>\n",
       "      <td>1</td>\n",
       "      <td>1</td>\n",
       "    </tr>\n",
       "    <tr>\n",
       "      <th>2</th>\n",
       "      <td>\"Cognitive behavioral therapy vs. Tai Chi for ...</td>\n",
       "      <td>Sleep</td>\n",
       "      <td>To investigate the comparative efficacy of cog...</td>\n",
       "      <td>1</td>\n",
       "      <td>1</td>\n",
       "    </tr>\n",
       "    <tr>\n",
       "      <th>3</th>\n",
       "      <td>\"Tai chi/yoga reduces prenatal depression, anx...</td>\n",
       "      <td>Complement Ther Clin Pract</td>\n",
       "      <td>Ninety-two prenatally depressed pregnant women...</td>\n",
       "      <td>1</td>\n",
       "      <td>1</td>\n",
       "    </tr>\n",
       "    <tr>\n",
       "      <th>4</th>\n",
       "      <td>\"Efficacy of rehabilitation with Tai Ji Quan i...</td>\n",
       "      <td>Complement Ther Clin Pract</td>\n",
       "      <td>Fibromyalgia Syndrome (FMS) is characterized b...</td>\n",
       "      <td>1</td>\n",
       "      <td>1</td>\n",
       "    </tr>\n",
       "  </tbody>\n",
       "</table>\n",
       "</div>"
      ],
      "text/plain": [
       "                                               Title  \\\n",
       "0  \"Qigong/Tai Chi Easy for fatigue in breast can...   \n",
       "1  \"Tai Chi Chih Compared With Cognitive Behavior...   \n",
       "2  \"Cognitive behavioral therapy vs. Tai Chi for ...   \n",
       "3  \"Tai chi/yoga reduces prenatal depression, anx...   \n",
       "4  \"Efficacy of rehabilitation with Tai Ji Quan i...   \n",
       "\n",
       "                  JournalInfo  \\\n",
       "0         Contemp Clin Trials   \n",
       "1                J Clin Oncol   \n",
       "2                       Sleep   \n",
       "3  Complement Ther Clin Pract   \n",
       "4  Complement Ther Clin Pract   \n",
       "\n",
       "                                            Abstract  TiL  AbL  \n",
       "0  Breast cancer survivors (BCSs) often report fa...    1    1  \n",
       "1  Purpose Cognitive behavioral therapy for insom...    1    1  \n",
       "2  To investigate the comparative efficacy of cog...    1    1  \n",
       "3  Ninety-two prenatally depressed pregnant women...    1    1  \n",
       "4  Fibromyalgia Syndrome (FMS) is characterized b...    1    1  "
      ]
     },
     "execution_count": 48,
     "metadata": {},
     "output_type": "execute_result"
    }
   ],
   "source": [
    "df_Abs.head()"
   ]
  },
  {
   "cell_type": "code",
   "execution_count": 49,
   "metadata": {},
   "outputs": [
    {
     "data": {
      "text/plain": [
       "244"
      ]
     },
     "execution_count": 49,
     "metadata": {},
     "output_type": "execute_result"
    }
   ],
   "source": [
    "len(df_Abs)"
   ]
  },
  {
   "cell_type": "code",
   "execution_count": 51,
   "metadata": {
    "collapsed": true
   },
   "outputs": [
    {
     "data": {
      "text/plain": [
       "'Breast cancer survivors (BCSs) often report fatigue that persists for years following treatment. Despite a growing body of evidence for meditative movement practices to improve symptoms among BCSs, few studies have explored using Qigong/Tai Chi to reduce fatigue. Additionally, few have examined the biological mechanisms through which fatigue may be reduced using Qigong/Tai Chi. We will recruit 250 fatigued, post-menopausal women diagnosed with breast cancer (stage 0-III), between 6months and 5years past primary treatment and randomize to a standardized Qigong/Tai Chi Easy (QG/TCE) intervention, a \"sham\" Qigong group (movements without a focus on the breath and meditative state) (SQG), or an educational support (ES) group. The primary outcome (fatigue), secondary outcomes (anxiety, depression, sleep quality, cognitive function, physical activity), and a biomarker of HPA axis dysregulation (diurnal cortisol) will be assessed at baseline, post-intervention and 6months postintervention, and biomarkers of inflammation (IL1ra, IL6, TNFα and INFᵧ) at pre/post-intervention. We hypothesize that QG/TCE will reduce fatigue (and improve other symptoms associated with fatigue) in BCSs experiencing persistent cancer-related fatigue more than SQG and ES. Biomarkers will be examined for relationships to changes in fatigue. Findings from this study may reveal the effects of the unique mind-body aspects of QG/TCE on fatigue in BCSs with a complex design that separates the effects of low-intensity physical activity (SQG) and social support/attention (ES) from the primary intervention. Further, results will likely contribute greater understanding of the biological mechanisms of these practices related to improved symptoms among BCSs.'"
      ]
     },
     "execution_count": 51,
     "metadata": {},
     "output_type": "execute_result"
    }
   ],
   "source": [
    "#df_Abs['Abstract'][0]: protocol"
   ]
  },
  {
   "cell_type": "code",
   "execution_count": 52,
   "metadata": {},
   "outputs": [],
   "source": [
    "df_Abs.at[0,'AbL'] = 0"
   ]
  },
  {
   "cell_type": "code",
   "execution_count": 60,
   "metadata": {
    "collapsed": true
   },
   "outputs": [
    {
     "data": {
      "text/plain": [
       "'\"Design and methods of the Gentle Cardiac Rehabilitation Study--A behavioral study of tai chi exercise for patients not attending cardiac rehabilitation.\"'"
      ]
     },
     "execution_count": 60,
     "metadata": {},
     "output_type": "execute_result"
    }
   ],
   "source": [
    "#df_Abs['Abstract'][7]: design and method"
   ]
  },
  {
   "cell_type": "code",
   "execution_count": 61,
   "metadata": {},
   "outputs": [],
   "source": [
    "df_Abs.at[7,'AbL'] = 0"
   ]
  },
  {
   "cell_type": "code",
   "execution_count": 62,
   "metadata": {
    "collapsed": true
   },
   "outputs": [
    {
     "data": {
      "text/plain": [
       "'Persons with chronic obstructive pulmonary disease (COPD) have reduced exercise capacity and levels of physical activity. Supervised, facility-based pulmonary rehabilitation programs improve exercise capacity and reduce dyspnea, but novel long-term strategies are needed to maintain the benefits gained. Mind-body modalities such as Tai Chi which combine aerobic activity, coordination of breathing, and cognitive techniques that alleviate the physical inactivity, dyspnea, and anxiety and depression that are the hallmarks of COPD are promising strategies. We have designed a randomized controlled study to examine whether Tai Chi will maintain exercise capacity in persons with COPD who have recently completed a supervised pulmonary rehabilitation program, compared to standard care. The primary outcome is 6-min walk test distance at 6 months. Secondary outcomes include health-related quality of life, dyspnea, mood, occurrence of acute exacerbations, engagement in physical activity, exercise self-efficacy, and exercise adherence. Simultaneously, we are conducting a pilot study of group walking. We will enroll 90 persons who will be randomized to one of three arms in a 2:2:1 ratio: Tai Chi, standard care, or group-based walking. The Long-term Exercise After Pulmonary Rehabilitation (LEAP) study is a novel and clinically relevant trial. We will enroll a well-characterized cohort of persons with COPD and will comprehensively assess physiological and psychosocial outcomes. Results of this study will provide the evidence base for persons with COPD to engage in Tai Chi as a low-cost, long-term modality to sustain physical activity in persons who have completed a standard short-term pulmonary rehabilitation program. This trial is registered in Clinical Trials.gov, with the ID number of NCT01998724.'"
      ]
     },
     "execution_count": 62,
     "metadata": {},
     "output_type": "execute_result"
    }
   ],
   "source": [
    "#df_Abs['Abstract'][8]:plan"
   ]
  },
  {
   "cell_type": "code",
   "execution_count": 63,
   "metadata": {},
   "outputs": [],
   "source": [
    "df_Abs.at[8,'AbL'] = 0"
   ]
  },
  {
   "cell_type": "code",
   "execution_count": 64,
   "metadata": {
    "collapsed": true
   },
   "outputs": [
    {
     "data": {
      "text/plain": [
       "\"Physicians encounter various symptom-based complaints each day. While physicians strive to support patients with chronic illnesses, evidence indicates that patients who are actively involved in their health care have better health outcomes and sometimes lowers costs. This article is to analyze how patient engagement is described when complex interventions such as Tai Chi were delivered in Randomized Controlled clinical Trials (RCTs). It reviews the dynamic patient- physician relationship in chronic illness management and to illustrate the patient engagement process, using Tai Chi as an example intervention. RCTs are considered the gold standard in clinical research. This study is a qualitative analysis of RCTs using Tai Chi as an intervention. A systematic literature search was performed to identify quality randomized controlled clinical trials that investigated the effects of Tai Chi. Selected clinical trials were classified according to research design, intervention style, patient engagement, and outcomes. Patient engagement was classified based on levels of patient participation, compliance, and selfmanagement. The chronic health conditions included in this paper are Parkinson's disease, polyneuropathy, hypertension, stroke, chronic insomnia, chronic heart failure, fibromyalgia, osteoarthritis, central obesity, depression, deconditioning in the elderly, or being pre-clinically disabled. We found that patient engagement, as a concept, was not well defined in literature. It covers a wide range of related terms, such as patient involvement, participation, shared decision- making, patient activation, adherence, compliance, and self-management. Tai Chi, as a very complex practice system, is to balance all aspects of a patient's life; however, the level of patient engagement is difficult to describe using conventional clinical trial design. To accurately illustrate the effect of a complex intervention, novel research design must explore ways to measure patient engagement in the intervention in order to clarify its specific role on health.\""
      ]
     },
     "execution_count": 64,
     "metadata": {},
     "output_type": "execute_result"
    }
   ],
   "source": [
    "#df_Abs['Abstract'][9] : qualitative reivew of RCT"
   ]
  },
  {
   "cell_type": "code",
   "execution_count": 65,
   "metadata": {},
   "outputs": [],
   "source": [
    "df_Abs.at[9,'AbL'] = 0"
   ]
  },
  {
   "cell_type": "code",
   "execution_count": 75,
   "metadata": {
    "collapsed": true
   },
   "outputs": [
    {
     "data": {
      "text/plain": [
       "'The aim of this study was to test whether a cognitive behavioral and mindfulness-based group sleep intervention would improve sleep and anxiety on school nights in a sample of at-risk adolescents. We also examined whether benefits to sleep and anxiety would be mediated by improvements in sleep hygiene awareness and presleep hyperarousal. Secondary analysis of a randomized controlled trial conducted with 123 adolescent participants (female = 60%; mean age = 14.48) who had high levels of sleep problems and anxiety symptoms. Participants were randomized into a sleep improvement intervention (n = 63) or active control \"study skills\" intervention (n = 60). Preintervention and postintervention, participants completed the Pittsburgh Sleep Quality Index (PSQI), Spence Children\\'s Anxiety Scale (SCAS), Sleep Beliefs Scale (SBS), and Presleep Hyperarousal Scale (PSAS) and wore an actiwatch and completed a sleep diary for five school nights. The sleep intervention condition was associated with significantly greater improvements in actigraphy-measured sleep onset latency (SOLobj), sleep diary measured sleep efficiency (SEsubj), PSQI, SCAS, SBS, and PSAS, with medium to large effect sizes. Improvements in the PSQI and SCAS were specifically mediated by the measured improvements in the PSAS that resulted from the intervention. Improvements in SOLobj and SEsubj were not specifically related to improvements in any of the putative treatment mechanisms. This study provides evidence that presleep arousal but not sleep hygiene awareness is important for adolescents\\' perceived sleep quality and could be a target for new treatments of adolescent sleep problems.'"
      ]
     },
     "execution_count": 75,
     "metadata": {},
     "output_type": "execute_result"
    }
   ],
   "source": [
    "#df_Abs['Abstract'][17]: adolescent participants"
   ]
  },
  {
   "cell_type": "code",
   "execution_count": 76,
   "metadata": {},
   "outputs": [],
   "source": [
    "df_Abs.at[17,'AbL'] = 0"
   ]
  },
  {
   "cell_type": "code",
   "execution_count": 79,
   "metadata": {
    "collapsed": true
   },
   "outputs": [
    {
     "data": {
      "text/plain": [
       "'This secondary analysis examined changes in sleep quality associated with participation in a Mindfulness-Based Stress Reduction (MBSR) program among healthy older adults. Data were collected at baseline, 8-weeks post-treatment, and a 6-month follow-up from adults aged ≥ 65 ( N = 200), randomly assigned to MBSR or a waitlist control. Group differences were examined using mixed analysis of covariance with repeated measures on the total Pittsburgh Sleep Quality Index (PSQI) score. A small-sized, significant effect was found on overall sleep among MBSR participants with baseline PSQI scores > 5, indicative of a sleep disturbance, F(2, 80) = 4.32, p = .02, η<sub>p</sub><sup>2</sup> = .05. A medium-sized, significant effect was found for MBSR participants with baseline PSQI scores ≥ 10, F(2, 28) = 3.13, p = .04, η<sub>p</sub><sup>2</sup> = .10. These findings indicate that improved sleep quality for older adults who have higher levels of sleep disturbance may be associated with participation in MBSR.'"
      ]
     },
     "execution_count": 79,
     "metadata": {},
     "output_type": "execute_result"
    }
   ],
   "source": [
    "#df_Abs['Abstract'][20]:secondary analysis"
   ]
  },
  {
   "cell_type": "code",
   "execution_count": 80,
   "metadata": {},
   "outputs": [],
   "source": [
    "df_Abs.at[20,'AbL'] = 0"
   ]
  },
  {
   "cell_type": "code",
   "execution_count": 86,
   "metadata": {
    "collapsed": true
   },
   "outputs": [
    {
     "data": {
      "text/plain": [
       "'The aim of this study was to test whether a cognitive-behavioral and mindfulness-based group sleep intervention would improve behavior problems in at-risk adolescents, and whether these improvements were specifically related to improvements in sleep. Secondary analysis of a randomized controlled trial conducted with 123 adolescent participants (female\\xa0=\\xa060%; mean age\\xa0=\\xa014.48, range 12.04-16.31 years) who had high levels of sleep problems and anxiety symptoms. Participants were randomized into either a sleep improvement intervention (n\\xa0=\\xa063) or an active control \"study skills\" intervention (n\\xa0=\\xa060). Participants completed sleep and behavior problems questionnaires, wore an actiwatch and completed a sleep diary for five school nights, both before and after the intervention. Parallel multiple mediation models showed that postintervention improvements in social problems, attention problems, and aggressive behaviors were specifically mediated by moderate improvements in self-reported sleep quality on school nights, but were not mediated by moderate improvements in actigraphy-assessed sleep onset latency or sleep diary-measured sleep efficiency on school nights. This study provides evidence, using a methodologically rigorous design, that a cognitive-behavioral and mindfulness-based group sleep intervention improved behavior problems in at-risk adolescent by improving perceived sleep quality on school nights. These findings suggest that sleep interventions could be directed towards adolescents with behavior problems. This study was part of The SENSE Study (Sleep and Education: learning New Skills Early). URL: ACTRN12612001177842; http://www.anzctr.org.au/TrialSearch.aspx?searchTxt=ACTRN12612001177842&isBasic=True.'"
      ]
     },
     "execution_count": 86,
     "metadata": {},
     "output_type": "execute_result"
    }
   ],
   "source": [
    "#df_Abs['Abstract'][26]: adolescents participants"
   ]
  },
  {
   "cell_type": "code",
   "execution_count": 87,
   "metadata": {},
   "outputs": [],
   "source": [
    "df_Abs.at[26,'AbL'] = 0"
   ]
  },
  {
   "cell_type": "code",
   "execution_count": 88,
   "metadata": {
    "collapsed": true
   },
   "outputs": [
    {
     "data": {
      "text/plain": [
       "\"Sleep problems are a major risk factor for the emergence of mental health problems in adolescence. The aim of this study was to investigate the post intervention effects of a cognitive-behavioral/mindfulness-based group sleep intervention on sleep and mental health among at-risk adolescents. A randomized controlled trial (RCT) was conducted across High schools in Melbourne, Australia. One hundred forty-four adolescents (aged 12-17 years) with high levels of anxiety and sleeping difficulties, but without past or current depressive disorder, were randomized into either a sleep improvement intervention or an active control 'study skills' intervention. Both programs consisted of 7 90-min-long group sessions delivered over 7 weeks. One hundred twenty-three participants began the interventions (female = 60%; mean age = 14.48, SD = 0.95), with 60 in the sleep condition and 63 in the control condition. All participants were required to complete a battery of mood and sleep questionnaires, 7 days of wrist actigraphy (an objective measure of sleep), and sleep diary entry at pre- and-post intervention. The sleep intervention condition was associated with significantly greater improvements in subjective sleep (global sleep quality [with a medium effect size], sleep onset latency, daytime sleepiness [with small effect sizes]), objective sleep (sleep onset latency [with a medium effect size]), and anxiety (with a small effect size) compared with the control intervention condition. The SENSE study provides evidence that a multicomponent group sleep intervention that includes cognitive-behavioral and mindfulness-based therapies can reduce sleep initiation problems and related daytime dysfunction, along with concomitant anxiety symptoms, among at-risk adolescents. (PsycINFO Database Record\""
      ]
     },
     "execution_count": 88,
     "metadata": {},
     "output_type": "execute_result"
    }
   ],
   "source": [
    "#df_Abs['Abstract'][27]: adolescent"
   ]
  },
  {
   "cell_type": "code",
   "execution_count": 89,
   "metadata": {},
   "outputs": [],
   "source": [
    "df_Abs.at[27,'AbL'] = 0"
   ]
  },
  {
   "cell_type": "code",
   "execution_count": 92,
   "metadata": {
    "collapsed": true
   },
   "outputs": [
    {
     "data": {
      "text/plain": [
       "'To investigate the effects of group CBT for insomnia (CBT-I) on insomnia and depressive symptomatology in a comorbid sample through a randomised controlled trial with a 6 month follow-up. 64 participants were recruited through advertisements and randomised to receive CBT-I or an active control (relaxation training: RT) during four group sessions. Insomnia Severity Index and BDI-II were the primary outcome measures, assessed pre-treatment, post-treatment and at 6 month follow-up. Insomnia and depressive diagnoses, and functional impairment were assessed before and after treatment, whereas sleep diary data was gathered continuously from one week before treatment until after treatment. CBT-I was more efficient than RT in reducing insomnia severity and equally effective in reducing depressive symptoms, although CBT-I was associated with a higher proportion of remitted persons than RT, regarding both insomnia and depression diagnoses. Also, CBT-I was associated with less functional impairment, shorter sleep onset latency and wake after sleep onset but both treatments had equal improvements of sleep quality, early morning awakenings and total sleep time. Group CBT-I is an efficient form of insomnia-treatment for people with insomnia comorbid with depressive symptomatology. The mixed results regarding depression outcomes warrants replication and further studies into treatment mechanisms.'"
      ]
     },
     "execution_count": 92,
     "metadata": {},
     "output_type": "execute_result"
    }
   ],
   "source": [
    "#df_Abs['Abstract'][29]: CBT vs. relaxation active control"
   ]
  },
  {
   "cell_type": "code",
   "execution_count": 93,
   "metadata": {},
   "outputs": [],
   "source": [
    "df_Abs.at[29,'AbL'] = 0"
   ]
  },
  {
   "cell_type": "code",
   "execution_count": 94,
   "metadata": {
    "collapsed": true
   },
   "outputs": [
    {
     "data": {
      "text/plain": [
       "\"This study evaluated the efficacy of an intervention combining the Valencia model of waking hypnosis with cognitive-behavioral therapy (VMWH-CBT) in managing cancer-related pain, fatigue, and sleep problems in individuals with active cancer or who were post-treatment survivors. We hypothesized that four sessions of VMWH-CBT would result in greater improvement in participants' symptoms than four sessions of an education control intervention. Additionally, we examined the effects on several secondary outcome domains that are associated with increases in these symptoms (depression, pain interference, pain catastrophizing, and cancer treatment distress). The study design was a randomized controlled crossover clinical trial comparing the VMWH-CBT intervention with education control. Participants (N\\xa0=\\xa044) received four sessions of both treatments, in a counterbalanced order (n\\xa0=\\xa022 per order condition). Participants were 89% female (N\\xa0=\\xa039) with mean age of 61\\xa0years (SD\\xa0=\\xa012.2). They reported significantly greater improvement after receiving the active treatment relative to the control condition in all the outcome measures. Treatment gains were maintained at 3-month follow-up. This study supports the beneficial effects of the VMWH-CBT intervention relative to a control condition and that treatment gains remain stable. VMWH-CBT-trained clinicians should be accessible for managing symptoms both during and after cancer treatment, though the findings need to be replicated in larger samples of cancer survivors.\""
      ]
     },
     "execution_count": 94,
     "metadata": {},
     "output_type": "execute_result"
    }
   ],
   "source": [
    "#df_Abs['Abstract'][30]:waking hypnosis with cognitive-behavioral therapy (VMWH-CBT)"
   ]
  },
  {
   "cell_type": "code",
   "execution_count": 95,
   "metadata": {},
   "outputs": [],
   "source": [
    "df_Abs.at[30,'AbL'] = 0"
   ]
  },
  {
   "cell_type": "code",
   "execution_count": 96,
   "metadata": {
    "collapsed": true
   },
   "outputs": [
    {
     "data": {
      "text/plain": [
       "'To determine the patient characteristics that are associated with a response to noninvasive placebo acupuncture for insomnia. We performed a secondary analysis of three randomized, double-blind, placebo-controlled trials of acupuncture for primary insomnia and residual insomnia associated with major depression. A total of 86 participants were randomized to receive placebo acupuncture three times per week for three consecutive weeks. Outcome was assessed at 1-week posttreatment. Response was defined as an Insomnia Severity Index (ISI) score improved by eight points or more from baseline to 1-week posttreatment. Sociodemographic, clinical, and baseline characteristics including sleep diary-derived and actigraph-derived sleep parameters as predictors of placebo response were examined using univariate and multivariate logistic regression. The effect size of placebo acupuncture was estimated at 0.18 for total sleep time, 0.08 for sleep efficiency, and 0.92 for ISI score. Eighteen (20.9%) of the 86 participants were responders. Responders had a higher ISI score (p\\u2009=\\u20090.03), higher sleep diary-derived total sleep time (p\\u2009=\\u20090.02), less discrepancy between sleep diary-derived and actigraph-derived total sleep time (p\\u2009=\\u20090.03), and higher expectation toward acupuncture (p\\u2009=\\u20090.03) at baseline compared to nonresponders. Multivariate regression analysis found that only ISI score remained significant (odds ratio\\u2009=\\u20091.23, 95% confidence interval\\u2009=\\u20091.02-1.50, p\\u2009=\\u20090.03). Baseline sleep parameters and perceived effectiveness were shown to predict the placebo response of acupuncture for insomnia. Although the study was limited by a small sample size, our findings highlighted the potential implication of sleep duration and sleep-state misperception in the treatment of insomnia.'"
      ]
     },
     "execution_count": 96,
     "metadata": {},
     "output_type": "execute_result"
    }
   ],
   "source": [
    "#df_Abs['Abstract'][31]: secondary analysis of noninvasive placebo acupuncture for insomnia"
   ]
  },
  {
   "cell_type": "code",
   "execution_count": 97,
   "metadata": {},
   "outputs": [],
   "source": [
    "df_Abs.at[31,'AbL'] = 0"
   ]
  },
  {
   "cell_type": "code",
   "execution_count": 108,
   "metadata": {
    "collapsed": true
   },
   "outputs": [
    {
     "data": {
      "text/plain": [
       "'To conduct a secondary analysis of a randomized controlled trial (RCT) that aims to understand the mediating effects embedded in a mind-body-spirit intervention for sleep and mood disturbances. 126 adults with mild to moderate depression and subjective sleep disturbance, defined as Center for Epidemiologic Studies Depression Scale (CESD) scores from 10 to 34 and Pittsburgh Sleep Quality Index (PSQI) score\\xa0>\\xa05, participated in a waitlist-controlled RCT of an integrative mind-body-spirit intervention (I-BMS). Holistic well-being scale (HWS), a measure of the state of affliction and equanimity in mind, body and spirit, was included as a possible mediator. Data was collected at baseline and three-month follow-up. Mediation analyses were adopted to examine the pathways leading to sleep and mood improvements. After adjustments of baseline severities, changes in depressive symptoms partially mediated the effect of I-BMS on nighttime symptoms of insomnia (95% CI: 0.12-0.96), while exerting a full mediating effect on daytime symptoms of insomnia (95% CI: 0.14-0.64). The effect of I-BMS on mood was mediated by daytime symptoms of insomnia and spiritual orientation, but not by nighttime symptoms of insomnia (95% CI: 0.93-4.62). A bidirectional relationship was found between sleep disturbances and depressive symptoms following a mind-body-spirit intervention. The relationship between daytime symptoms and depressive symptoms was especially strong. Of the HWS variables, spiritual orientation was the only significant mediator of mood improvement following I-BMS. Our findings suggest that efforts to optimize the treatment of comorbid sleep disturbances and depression are needed, especially the treatment of daytime impairments along with sleep and mood disruptions.'"
      ]
     },
     "execution_count": 108,
     "metadata": {},
     "output_type": "execute_result"
    }
   ],
   "source": [
    "#df_Abs['Abstract'][42]:secondary analysis"
   ]
  },
  {
   "cell_type": "code",
   "execution_count": 109,
   "metadata": {},
   "outputs": [],
   "source": [
    "df_Abs.at[42,'AbL'] = 0"
   ]
  },
  {
   "cell_type": "code",
   "execution_count": 111,
   "metadata": {
    "collapsed": true
   },
   "outputs": [
    {
     "data": {
      "text/plain": [
       "'Posttraumatic stress disorder (PTSD) is associated with cognitive deficits in attention, executive control, and memory, although few studies have investigated the relevance of cognitive difficulties for treatment outcomes. We examined whether cognitive functioning and history of traumatic brain injury (TBI) were associated with response to cognitive-behavioral therapy (CBT) for PTSD-related sleep problems. In a randomized controlled trial of Imagery Rehearsal (IR) added to components of CBT for Insomnia (IR\\xa0+\\xa0cCBT-I) compared to cCBT-I alone for PTSD-related recurrent nightmares, 94 U.S. veterans completed a battery of cognitive tests. TBI was assessed via structured clinical interview. Mixed-effects models examined main effects of cognitive functioning and interactions with time on primary sleep and nightmare outcomes. Significant verbal immediate memory by time interactions were found for nightmare distress, nightmare frequency, and sleep quality, even after controlling for overall cognitive performance and depression. TBI exhibited main effects on outcomes but no interactions with time. Findings indicated that individuals with lower verbal memory performance were less likely to respond to treatment across two sleep interventions. Veterans with TBI displayed greater symptoms but no altered trajectories of treatment response. Together with prior literature, findings suggest that verbal memory functioning may be important to consider in PTSD treatment implementation.'"
      ]
     },
     "execution_count": 111,
     "metadata": {},
     "output_type": "execute_result"
    }
   ],
   "source": [
    "#df_Abs['Abstract'][44]: CBT plus IR"
   ]
  },
  {
   "cell_type": "code",
   "execution_count": 112,
   "metadata": {},
   "outputs": [],
   "source": [
    "df_Abs.at[44,'AbL'] = 0"
   ]
  },
  {
   "cell_type": "code",
   "execution_count": 114,
   "metadata": {
    "collapsed": true
   },
   "outputs": [
    {
     "data": {
      "text/plain": [
       "'Many antidepressant medications (ADM) are associated with disruptions in sleep continuity that can compromise medication adherence and impede successful treatment. The present study investigated whether mindfulness meditation (MM) training could improve self-reported and objectively measured polysomnographic (PSG) sleep profiles in depressed individuals who had achieved at least partial remission with ADM, but still had residual sleep complaints. Twenty-three ADM users with sleep complaints were randomized into an 8-week Mindfulness-Based Cognitive Therapy (MBCT) course or a waitlist control condition. Pre-post measurements included PSG sleep studies and subjectively reported sleep, residual depression symptoms. Compared to controls, the MBCT participants improved on both PSG and subjective measures of sleep. They showed a pattern of decreased wake time and increased sleep efficiency. Sleep depth, as measured by stage 1 and slow-wave sleep, did not change as a result of mindfulness training. MM is associated with increases in both objectively and subjectively measured sleep continuity in ADM users. MM training may serve as more desirable and cost-effective alternative to discontinuation or supplementation with hypnotics, and may contribute to a more sustainable recovery from depression.'"
      ]
     },
     "execution_count": 114,
     "metadata": {},
     "output_type": "execute_result"
    }
   ],
   "source": [
    "#df_Abs['Abstract'][46]:MBCT"
   ]
  },
  {
   "cell_type": "code",
   "execution_count": 115,
   "metadata": {},
   "outputs": [],
   "source": [
    "df_Abs.at[46,'AbL'] = 0"
   ]
  },
  {
   "cell_type": "code",
   "execution_count": 119,
   "metadata": {
    "collapsed": true
   },
   "outputs": [
    {
     "data": {
      "text/plain": [
       "'The objective of the study was to evaluate the effects of cognitive behavioral therapy [sleep-related behavior modification and progressive muscle relaxation on insomnia of maintenance hemodialysis (MHD) patients] on improving insomnia of MHD patients. 103 MHD patients complicated with insomnia were randomly assigned to treatment (n = 52) and control (n = 51) groups. The control group was treated with conventional hemodialysis, and the treatment group was additionally treated with cognitive behavioral therapy for 3 months (sleep-related behavior modification and progressive muscle relaxation). All cases were assessed by Symptom Checklist 90 (SCL-90) and Pittsburgh Sleep Quality Index (PSQI) before and 2, 4, 6, 8, 10, and 12 weeks after treatment. Fifty-one patients in the treatment group and 47 patients in the control group completed the experiments. After treatment, the total mean scores were (1.94 ± 0.50/2.29 ± 0.31); scores of somatization, depression, anxiety, hostility, and additional items were (1.87 ± 0.58/2.56 ± 0.26), (2.25 ± 0.80/2.79 ± 0.50), (1.79 ± 0.26/2.37 ± 0.34), (1.71 ± 0.46/2.25 ± 0.43), and (1.91 ± 0.67/2.26 ± 0.59) in SCL-90, respectively. The total scores for PSQI were (12.63 ± 2.27/16.40 ± 2.16); scores of subjective sleep quality, sleep latency, sleep duration, habitual sleep efficiency, sleep disturbance, hypnotics, and daytime dysfunction which were (1.98 ± 0.76/2.57 ± 0.58), (1.75 ± 0.59/2.60 ± 0.50), (2.10 ± 0.50/2.62 ± 0.53), (2.06 ± 0.47/2.57 ± 0.54), (2.04 ± 0.69/2.45 ± 0.72), (1.02 ± 0.79/1.51 ± 0.98), and (1.69 ± 0.55/2.09 ± 0.58), respectively, were significantly lower in the treatment group compared with the control group. However, there were no significant differences in the scores of factors of obsessive-compulsive (2.26 ± 0.62/2.32 ± 0.38), interpersonal sensitivity (2.23 ± 0.64/2.43 ± 0.47), phobic anxiety (1.98 ± 0.62/2.01 ± 0.67), paranoid ideation (1.55 ± 0.43/1.69 ± 0.39), and psychoticism (1.57 ± 0.46/1.66 ± 0.49). The conclusion is that sleep-related behavior modification in combination with progressive muscle relaxation effectively improved the mental state and sleep quality of MHD patients with insomnia.'"
      ]
     },
     "execution_count": 119,
     "metadata": {},
     "output_type": "execute_result"
    }
   ],
   "source": [
    "#df_Abs['Abstract'][50]:CBT+music relaxiation"
   ]
  },
  {
   "cell_type": "code",
   "execution_count": 120,
   "metadata": {},
   "outputs": [],
   "source": [
    "df_Abs.at[50,'AbL'] = 0"
   ]
  },
  {
   "cell_type": "code",
   "execution_count": 121,
   "metadata": {
    "collapsed": true
   },
   "outputs": [
    {
     "data": {
      "text/plain": [
       "'Sleep disturbances are a core and salient feature of posttraumatic stress disorder (PTSD). Pilot studies have indicated that combined cognitive-behavioral therapy for insomnia (CBT-I) and imagery rehearsal therapy (IRT) for nightmares improves sleep as well as PTSD symptoms. The present study randomized 40 combat veterans (mean age 37.7 years; 90% male and 60% African American) who served in Afghanistan and/or Iraq (Operation Enduring Freedom [OEF]/Operation Iraqi Freedom [OIF]) to 4 sessions of CBT-I with adjunctive IRT or a waitlist control group. Two thirds of participants had nightmares at least once per week and received the optional IRT module. At posttreatment, veterans who participated in CBT-I/IRT reported improved subjectively and objectively measured sleep, a reduction in PTSD symptom severity and PTSD-related nighttime symptoms, and a reduction in depression and distressed mood compared to the waitlist control group. The findings from this first controlled study with OEF/OIF veterans suggest that CBT-I combined with adjunctive IRT may hold promise for reducing both insomnia and PTSD symptoms. Given the fact that only half of the patients with nightmares fully implemented the brief IRT protocol, future studies should determine if this supplement adds differential efficacy to CBT-I alone.'"
      ]
     },
     "execution_count": 121,
     "metadata": {},
     "output_type": "execute_result"
    }
   ],
   "source": [
    "#df_Abs['Abstract'][51]:CBT-I with adjunctive IRT"
   ]
  },
  {
   "cell_type": "code",
   "execution_count": 122,
   "metadata": {},
   "outputs": [],
   "source": [
    "df_Abs.at[51,'AbL'] = 0"
   ]
  },
  {
   "cell_type": "code",
   "execution_count": 123,
   "metadata": {
    "collapsed": true
   },
   "outputs": [
    {
     "data": {
      "text/plain": [
       "\"Clinical studies have shown that biofeedback-assisted relaxation positively influences the treatment outcomes of sleep disturbance. However, there are only few studies reporting the timing of relaxation training initiation, and the relationships between the timing of initiation and the effectiveness of relaxation remain unclear. The aim of this study was to determine the optimal timing for initiating nurse-led biofeedback-assisted relaxation on hospitalized coronary heart disease patients with sleep disturbance. An experimental pretest and repeated posttest design was used to compare the effectiveness of nurse-led biofeedback-assisted relaxation. A total of 128 patients with coronary heart disease were randomly assigned to 1 of 4 groups: morning group, night group, morning-night group, or control group. Outcome measures included self-report of sleep-related indicators, the scores of the Pittsburgh Sleep Quality Index (PSQI) and the Zung's Self-rating Anxiety Scale (SAS), and the dosage of sleep medication used. A 2-way analysis of variance and a simple effect test were used to analyze the differences among the 4 groups. No significant differences could be detected at baseline. Compared with the control group, the nurse-led biofeedback-assisted relaxation yielded a greater benefit for patients in the 3 intervention groups. Group and time factors (pretest-protest) could explain the variation in the effectiveness of this program (main effect P < .01). There were statistical differences among the groups: patients in the night group (FSOL = 33.15, P < .001; FTST = 17.99, P < .001; FSE = 10.26, P = .002; FPSQI = 27.38, P < .001; FSAS = 54.39, P < .001, respectively) and in the morning-night group (FSOL = 33.62, P < .001; FTST = 34.13, P < .001; FSE = 24.04, P < .001; FPSQI = 31.26, P < .001; FSAS = 73.93, P < .001, respectively) had slightly shorter sleep latency, experienced fewer awakenings, reported higher sleep quality, and used significantly fewer sleep medications than the morning group did (F = 32.97, P < .001). The timing of the initiation of nurse-led biofeedback-assisted relaxation was 1 of the factors affecting the effectiveness of relaxation. Relaxation training either at night or in the morning-night combination could effectively enhance sleep quality and decrease the need for of sleep medications in hospitalized patients with sleep disturbance.\""
      ]
     },
     "execution_count": 123,
     "metadata": {},
     "output_type": "execute_result"
    }
   ],
   "source": [
    "#df_Abs['Abstract'][52]: RCT of biofeedback timing "
   ]
  },
  {
   "cell_type": "code",
   "execution_count": 124,
   "metadata": {},
   "outputs": [],
   "source": [
    "df_Abs.at[52,'AbL'] = 0"
   ]
  },
  {
   "cell_type": "code",
   "execution_count": 128,
   "metadata": {
    "collapsed": true
   },
   "outputs": [
    {
     "data": {
      "text/plain": [
       "\"The aim of this study was to test moderators of therapeutic improvement in an adolescent cognitive-behavioral and mindfulness-based group sleep intervention. Specifically, we examined whether the effects of the program on postintervention sleep outcomes were dependent on participant gender and/or measures of sleep duration, anxiety, depression, and self-efficacy prior to the interventions. Secondary analysis of a randomized controlled trial conducted with 123 adolescent participants (female\\xa0=\\xa059.34%; mean age\\xa0=\\xa014.48\\xa0years, range 12.04-16.31\\xa0years) who had elevated levels of sleep problems and anxiety symptoms. Participants were randomized into either a group sleep improvement intervention (n\\xa0=\\xa063) or group active control 'study skills' intervention (n\\xa0=\\xa060). The sleep intervention ('Sleep SENSE') was cognitive behavioral in approach, incorporating sleep education, sleep hygiene, stimulus control, and cognitive restructuring, but also had added anxiety-reducing, mindfulness, and motivational interviewing elements. Components of the active control intervention ('Study SENSE') included personal organization, persuasive writing, critical reading, referencing, memorization, and note taking. Participants completed the Pittsburgh Sleep Quality Index (PSQI), Spence Children's Anxiety Scale (SCAS), Center for Epidemiologic Studies Depression Scale (CES-D), and General Self-Efficacy Scale (GSE) and wore an actigraph and completed a sleep diary for five school nights prior to the interventions. Sleep assessments were repeated at postintervention. The trial is registered with the Australian New Zealand Clinical Trials Registry (ACTRN12612001177842; http://www.anzctr.org.au/TrialSearch.aspx?searchTxt=ACTRN12612001177842&isBasic=True). The results showed that compared with the active control intervention, the effect of the sleep intervention on self-reported sleep quality (PSQI global score) at postintervention was statistically significant among adolescents with relatively moderate to high SCAS, CES-D, and GSE prior to the intervention, but not among adolescents with relatively low SCAS, CES-D, and GSE prior to the intervention. The results were consistent across genders. However, the effects of the sleep intervention on actigraphy-measured sleep onset latency and sleep diary-measured sleep efficiency at postintervention were not dependent on actigraphy-measured total sleep time, SCAS, CES-D, or GSE prior to the intervention. This study provides evidence that some sleep benefits of adolescent cognitive-behavioral sleep interventions are greatest among those with higher levels of anxiety and depressive symptoms, suggesting that this may be an especially propitious group to whom intervention efforts could be targeted. Furthermore, adolescents with lower levels of self-efficacy may need further targeted support (e.g. additional motivational interviewing) to help them reach treatment goals.\""
      ]
     },
     "execution_count": 128,
     "metadata": {},
     "output_type": "execute_result"
    }
   ],
   "source": [
    "#df_Abs['Abstract'][56]: CBT+mindfulness and adolescent"
   ]
  },
  {
   "cell_type": "code",
   "execution_count": 129,
   "metadata": {},
   "outputs": [],
   "source": [
    "df_Abs.at[56,'AbL'] = 0"
   ]
  },
  {
   "cell_type": "code",
   "execution_count": 134,
   "metadata": {
    "collapsed": true
   },
   "outputs": [
    {
     "data": {
      "text/plain": [
       "\"Mild adverse events (AEs) are common with acupuncture, but the risk factors remain unclear. A prospective study using a standardised AE assessment and acupuncture protocol was undertaken to address the question. A 20-item AE report form investigated local and systemic AEs in 150 adults with insomnia randomised to receive traditional, minimal and non-invasive sham acupuncture. Sociodemographic, clinical and psychological variables at baseline and past history and perceived credibility of acupuncture were assessed. The incidence of any AEs per patient was 42.4% with traditional acupuncture, 40.7% with minimal acupuncture and 16.7% with non-invasive sham acupuncture. Traditional and minimal acupuncture were associated with a greater number of local AEs, while the presence of a chronic medical condition was predictive of fewer local and systemic AEs. Greater severity of insomnia, anxiety, depression, somatic symptoms and pain catastrophising thoughts were associated with lower risk, but most of the significant correlations disappeared after logistic regression. Divorce and widowhood were the only significant sociodemographic variables, while previous acupuncture treatment and perceived credibility of acupuncture were found to be unrelated. The risk of any AEs was higher in participants receiving traditional acupuncture (OR 4.26) and minimal acupuncture (OR 4.27) and in those without medical comorbidity (OR 3.39). The prevalence of AEs was higher than usual, probably due to the low threshold in our definition of AEs and the systematic collection from the patients' perspective. Baseline variables were largely unable to predict AEs associated with acupuncture. Further studies should explore the roles of practitioners, patients' anxiety during treatment and patient-practitioner interactions. NCT01707706.\""
      ]
     },
     "execution_count": 134,
     "metadata": {},
     "output_type": "execute_result"
    }
   ],
   "source": [
    "#df_Abs['Abstract'][61]:risk factor of acupuncture"
   ]
  },
  {
   "cell_type": "code",
   "execution_count": 135,
   "metadata": {},
   "outputs": [],
   "source": [
    "df_Abs.at[61,'AbL'] = 0"
   ]
  },
  {
   "cell_type": "code",
   "execution_count": 137,
   "metadata": {
    "collapsed": true
   },
   "outputs": [
    {
     "data": {
      "text/plain": [
       "'Sleep problems are a major risk factor for the emergence of depression in adolescence. The aim of this study was to test whether an intervention for improving sleep habits could prevent the emergence of depression, and improve well-being and cardiovascular indices amongst at-risk adolescents. A longitudinal randomised controlled trial (RCT) is being conducted across Victorian Secondary Schools in Melbourne, Australia. Adolescents (aged 12-17 years) were defined as at-risk for depression if they reported high levels of anxiety and sleep problems on in-school screening questionnaires and had no prior history of depression (assessed by clinical diagnostic interview). Eligible participants were randomised into either a sleep improvement intervention (based on cognitive behavioral and mindfulness principles) or an active control condition teaching study skills. Both programs consisted of seven 90 minute-long sessions over seven weeks. All participants were required to complete a battery of mood and sleep questionnaires, seven-days of actigraphy, and sleep diary entry at pre- and post-intervention. Participants also completed a cardiovascular assessment and two days of saliva collection at pre-intervention. Participants will repeat all assessments at two-year follow up (ongoing). This will be the first efficacy trial of a selective group-based sleep intervention for the prevention of depression in an adolescent community sample. If effective, the program could be disseminated in schools and greatly improve health outcomes for anxious adolescents. Australian New Zealand Clinical Trials Registry ACTRN12612001177842. Date of Registration: 06-Nov-2012.'"
      ]
     },
     "execution_count": 137,
     "metadata": {},
     "output_type": "execute_result"
    }
   ],
   "source": [
    "#df_Abs['Abstract'][63]: adolescents and CBT+mindfulness"
   ]
  },
  {
   "cell_type": "code",
   "execution_count": 138,
   "metadata": {},
   "outputs": [],
   "source": [
    "df_Abs.at[63,'AbL'] = 0"
   ]
  },
  {
   "cell_type": "code",
   "execution_count": 145,
   "metadata": {
    "collapsed": true
   },
   "outputs": [
    {
     "data": {
      "text/plain": [
       "\"This study is one of the first randomized controlled trials investigating cognitive behavioral therapy for insomnia (CBT-I) delivered by a fully automated mobile phone app. Such an app can potentially increase the accessibility of insomnia treatment for the 10% of people who have insomnia. The objective of our study was to investigate the efficacy of CBT-I delivered via the Sleepcare mobile phone app, compared with a waitlist control group, in a randomized controlled trial. We recruited participants in the Netherlands with relatively mild insomnia disorder. After answering an online pretest questionnaire, they were randomly assigned to the app (n=74) or the waitlist condition (n=77). The app packaged a sleep diary, a relaxation exercise, sleep restriction exercise, and sleep hygiene and education. The app was fully automated and adjusted itself to a participant's progress. Program duration was 6 to 7 weeks, after which participants received posttest measurements and a 3-month follow-up. The participants in the waitlist condition received the app after they completed the posttest questionnaire. The measurements consisted of questionnaires and 7-day online diaries. The questionnaires measured insomnia severity, dysfunctional beliefs about sleep, and anxiety and depression symptoms. The diary measured sleep variables such as sleep efficiency. We performed multilevel analyses to study the interaction effects between time and condition. The results showed significant interaction effects (P<.01) favoring the app condition on the primary outcome measures of insomnia severity (d=-0.66) and sleep efficiency (d=0.71). Overall, these improvements were also retained in a 3-month follow-up. This study demonstrated the efficacy of a fully automated mobile phone app in the treatment of relatively mild insomnia. The effects were in the range of what is found for Web-based treatment in general. This supports the applicability of such technical tools in the treatment of insomnia. Future work should examine the generalizability to a more diverse population. Furthermore, the separate components of such an app should be investigated. It remains to be seen how this app can best be integrated into the current health regimens. Netherlands Trial Register: NTR5560; http://www.trialregister.nl/trialreg/admin/rctview.asp?TC=5560 (Archived by WebCite at http://www.webcitation.org/6noLaUdJ4).\""
      ]
     },
     "execution_count": 145,
     "metadata": {},
     "output_type": "execute_result"
    }
   ],
   "source": [
    "#df_Abs['Abstract'][70]: CBT"
   ]
  },
  {
   "cell_type": "code",
   "execution_count": 147,
   "metadata": {},
   "outputs": [],
   "source": [
    "df_Abs.at[70,'AbL'] = 0"
   ]
  },
  {
   "cell_type": "code",
   "execution_count": 149,
   "metadata": {
    "collapsed": true
   },
   "outputs": [
    {
     "data": {
      "text/plain": [
       "'\"Yoga for improving health-related quality of life, mental health and cancer-related symptoms in women diagnosed with breast cancer.\"'"
      ]
     },
     "execution_count": 149,
     "metadata": {},
     "output_type": "execute_result"
    }
   ],
   "source": [
    "#df_Abs['Abstract'][71]: review"
   ]
  },
  {
   "cell_type": "code",
   "execution_count": 150,
   "metadata": {},
   "outputs": [],
   "source": [
    "df_Abs.at[71,'AbL'] = 0"
   ]
  },
  {
   "cell_type": "code",
   "execution_count": 154,
   "metadata": {
    "collapsed": true
   },
   "outputs": [
    {
     "data": {
      "text/plain": [
       "'This study aims at concluding the current evidence on the therapeutic effects of acupoints stimulation for cancer patients with anxiety and depression. Randomized controlled trials using acupoints stimulation for relieving anxiety and/or depression in cancer patients were searched, and 11 studies were finally included, of which eight trials compared acupoints stimulation with standard methods of treatment/care, and acupoints stimulation showed significantly better effects in improving depression than using standard methods of treatment/care. Four studies compared true acupoints stimulation with sham methods, and no significant differences can be found between groups for either depression or anxiety, although the pooled effects still favored true intervention. For the five studies that evaluated sleep quality, the results were conflicting, with three supporting the superiority of acupoints stimulation in improving sleep quality and two demonstrating no differences across groups. Acupoints stimulation seems to be an effective approach in relieving depression and anxiety in cancer patients, and placebo effects may partially contribute to the benefits. However, the evidence is not conclusive due to the limited number of included studies and the clinical heterogeneity identified among trials. More rigorous designed randomized, sham-controlled studies are necessary in future research. '"
      ]
     },
     "execution_count": 154,
     "metadata": {},
     "output_type": "execute_result"
    }
   ],
   "source": [
    "#df_Abs['Abstract'][75]: review"
   ]
  },
  {
   "cell_type": "code",
   "execution_count": 155,
   "metadata": {},
   "outputs": [],
   "source": [
    "df_Abs.at[75,'AbL'] = 0"
   ]
  },
  {
   "cell_type": "code",
   "execution_count": 156,
   "metadata": {
    "collapsed": true
   },
   "outputs": [
    {
     "data": {
      "text/plain": [
       "'To verify the anti-depression effect of acupuncture and moxibustion based on the medication with selective serotonin reuptake inhibitors (SSRIs). Eighty cases of depression were randomly divided into an acupuncture-moxibustion-medication group (25 cases), an acupuncture-medication group (25 cases) and a medication group (30 cases). SSRIs medication was administered in all of the three groups. Complementarily, in acupuncture-moxibustion-medication group, the needling technique of qi conduction in the Governor Vessel was applied to Baihui (GV 20), Fengfu (GV 16), Dazhui (GV 14), etc. Additionally, mild moxibustion was added at Dazhui (GV 14) and Baihui (GV 20). In acupuncture-medication group, acupuncture for qi conduction in the Governor Vessel was only adopted. Hamilton Depression Scale (HAMD) was used for the evaluation of the total score, the score of each factor before and after treatment separately, and the therapeutic effects were observed among 3 groups. Compared with medication group, the scores of the factors as retardation, sleep, and anxiety/somatization, as well as the total score were all apparently improved in the other two groups (P < 0.05, P < 0.01). Compared with acupuncture-medication group, the scores of sleep and cognition factors as well as the total score in HAMD were much improved in acupuncture-moxibustion-medication group (P < 0.05, P < 0.01). The remarkable effective rates were 100.0% (25/25), 84.0% (21/25) and 56.7% (17/30) in the three groups separately, in which, the result in acupuncture-moxibustion-medication group was superior to acupuncture-medication group (P < 0.05), and the results of these two groups were superior to medication group (both P < 0.01). Either acupunctrure or moxibustion has a definite anti-depression effect based on SSRIs medication, but the coordination of acupuncture and moxibustion achieves a superior efficacy as compared with simple acupuncture therapy.'"
      ]
     },
     "execution_count": 156,
     "metadata": {},
     "output_type": "execute_result"
    }
   ],
   "source": [
    "#df_Abs['Abstract'][76] in addition to anti-depression medicine"
   ]
  },
  {
   "cell_type": "code",
   "execution_count": 157,
   "metadata": {},
   "outputs": [],
   "source": [
    "df_Abs.at[76,'AbL'] = 0"
   ]
  },
  {
   "cell_type": "code",
   "execution_count": 158,
   "metadata": {
    "collapsed": true
   },
   "outputs": [
    {
     "data": {
      "text/plain": [
       "'Caregiving can be stressful, potentially creating physical and psychological strain. Substantial evidence has shown that family caregivers suffer from significant health problems arising from the demands of caregiving. Although there are programs supporting caregivers, there is little evidence regarding their effectiveness. Acupressure is an ancient Chinese healing method designed to restore the flow of Qi (vital energy) by applying external pressure to acupoints. A randomized, wait-list controlled trial was developed to evaluate the effectiveness of a self-administered acupressure intervention on caregiver stress (primary objective) and stress-related symptoms of fatigue, insomnia, depression, and health-related quality of life (secondary objectives) in Chinese caregivers of older family members. Two hundred Chinese participants, aged\\u2009≥\\u200921\\xa0years, who are the primary caregivers of an older family member and screen positive for caregiver stress and symptoms of fatigue/insomnia/depression will be recruited from a community setting in Hong Kong. Subjects will be randomized to receive either an immediate treatment condition (self-administered acupressure intervention) or a wait-list control condition. The self-administered acupressure intervention will include (i) an individual learning and practice session twice a week for 2\\xa0weeks, (ii) a home follow-up visit once a week for 2\\xa0weeks, and (iii) 15-min self-practice twice a day for 6\\xa0weeks. The wait-list control group will receive the same acupressure training after the intervention group has completed the intervention. We hypothesize that Chinese family caregivers in the intervention group will have lower levels of caregiver stress, fatigue, insomnia, depression, and higher health-related quality of life after completion of the intervention than participants in the wait-list control group. This study will provide evidence for the effectiveness of self-administered acupressure in reducing stress and improving symptoms of fatigue, insomnia, depression, and health-related quality of life in Chinese family caregivers. The findings will inform the design of interventions to relieve negative health effects of caregiving. Furthermore, the results can raise community awareness and serve as a basis for policymaking, planning, and allocation of resources regarding empowerment of family caregivers for self-care. Current Controlled Trials NCT02526446 . Registered August 10, 2015.'"
      ]
     },
     "execution_count": 158,
     "metadata": {},
     "output_type": "execute_result"
    }
   ],
   "source": [
    "#df_Abs['Abstract'][77]: protocol"
   ]
  },
  {
   "cell_type": "code",
   "execution_count": 159,
   "metadata": {},
   "outputs": [],
   "source": [
    "df_Abs.at[77,'AbL'] = 0"
   ]
  },
  {
   "cell_type": "code",
   "execution_count": 162,
   "metadata": {
    "collapsed": true
   },
   "outputs": [
    {
     "data": {
      "text/plain": [
       "'Yoga is a mind-body practice that encompasses a system of postures (asana), deep breathing (pranayama), and meditation. Over 36 million Americans practice yoga of which the majority are reproductive-aged women. Literature to support this practice is limited, albeit on the rise. A prenatal yoga practice has been shown to benefit women who suffer from anxiety, depression, stress, low back pain, and sleep disturbances. A small number of studies have been performed in high-risk pregnancies that also demonstrate an improvement in outcomes. The safety of performing yoga for the first time in pregnancy and fetal tolerance has been demonstrated. '"
      ]
     },
     "execution_count": 162,
     "metadata": {},
     "output_type": "execute_result"
    }
   ],
   "source": [
    "#df_Abs['Abstract'][80]: summarise"
   ]
  },
  {
   "cell_type": "code",
   "execution_count": 163,
   "metadata": {},
   "outputs": [],
   "source": [
    "df_Abs.at[80,'AbL'] = 0"
   ]
  },
  {
   "cell_type": "code",
   "execution_count": 164,
   "metadata": {
    "collapsed": true
   },
   "outputs": [
    {
     "data": {
      "text/plain": [
       "'This paper describes a randomized controlled single blind study testing the effects of a patient education intervention combined with positive therapeutic suggestions on anxiety for cataract surgery patients. 84 patients participated in the study. Physiological and behavioral indicators of anxiety were compared between a regularly treated control and an intervention group receiving an audio CD containing information, relaxation, and positive imagery. We found that the intervention group was calmer throughout the four measurement points of the study (p=.004; d=0.71) and they were more cooperative (p=.01; d=0.60) during the operation. The groups did not differ in sleep quality before the day of the operation, heart rate during the procedure, and subjective Well-being. Findings indicate that preoperative information combined with positive suggestions and anxiety management techniques might reduce patient anxiety in the perioperative period of cataract surgery, but further research is needed to investigate the benefits of such interventions and to uncover the underlying mechanisms. Patient education interventions providing additional anxiety management techniques are recommended for use prior to cataract surgery.'"
      ]
     },
     "execution_count": 164,
     "metadata": {},
     "output_type": "execute_result"
    }
   ],
   "source": [
    "#df_Abs['Abstract'][81] not CAM"
   ]
  },
  {
   "cell_type": "code",
   "execution_count": 165,
   "metadata": {},
   "outputs": [],
   "source": [
    "df_Abs.at[81,'AbL'] = 0"
   ]
  },
  {
   "cell_type": "code",
   "execution_count": 167,
   "metadata": {
    "collapsed": true
   },
   "outputs": [
    {
     "data": {
      "text/plain": [
       "'Bruxism is a parafunctional habit characterized by grinding and/or clenching of the teeth. It may happen while awake (awake bruxism) or while sleeping (sleep bruxism). In adults, the prevalence is 20% for the awake bruxism and 8% for the sleep bruxism. Peripheral, central, and psychosocial factors influence the disorder, which may predispose to pain in the masticatory muscles and neck, headache, decreased pain thresholds in the masticatory and cervical muscles, limitation mandibular range of motion, sleep disorders, stress, anxiety, depression, and overall impairment of oral health. The aim of this study is to compare two distinct physical therapy interventions with dental treatment in pain, mandibular range of motion, sleep quality, anxiety, stress, depression, and oral health in individuals with bruxism. Participants will be randomized into one of three groups: Group 1 (n=24) intervention will consist of massage and stretching exercises; Group 2 (n=24) will consist of relaxation and imagination therapies; and Group 3 (n=24) will receive dental treatment. The evaluations will be performed at baseline, immediately after treatment, and at 2-month follow-up. Pain intensity will be assessed using the visual analogical scale, while pain thresholds will be determined using dolorimetry. Mandibular range of motion will be assessed using digital pachymeter. Sleep quality will be assessed by the Pittsburgh Sleep Quality Index, anxiety by the State-Trait Anxiety Inventory, stress by the Perceived Stress Scale-10, depression by the Beck Depression Inventory, and oral health will be assessed using the Oral Health Impact Profile--14. Significance level will be determined at the 5% level. This project describes the randomization method that will be used to compare two physical therapy interventions with dental treatment in the management of pain, mandibular range of motion, sleep quality, anxiety, stress, depression, and oral health in individuals with bruxism. The study will support the practice of evidence-based physical therapy for individuals with bruxism. Data will be published after study is completed. ClinicalTrials.gov, NCT01778881.'"
      ]
     },
     "execution_count": 167,
     "metadata": {},
     "output_type": "execute_result"
    }
   ],
   "source": [
    "#df_Abs['Abstract'][83]: physical therapies"
   ]
  },
  {
   "cell_type": "code",
   "execution_count": 168,
   "metadata": {},
   "outputs": [],
   "source": [
    "df_Abs.at[83,'AbL'] = 0"
   ]
  },
  {
   "cell_type": "code",
   "execution_count": 169,
   "metadata": {
    "collapsed": true
   },
   "outputs": [
    {
     "data": {
      "text/plain": [
       "\"To capture any sleep quality changes associated with group psychotherapy. Physician-referred, chronically depressed patients (n\\u2009=\\u200925) were randomized to either eight group sessions of Mindfulness-based Cognitive Therapy (MBCT, n\\u2009=\\u20099) plus Treatment As Usual (TAU), or the Cognitive Behavioral Analysis System of Psychotherapy (CBASP, n\\u2009=\\u20098) plus TAU, or to TAU only (control group, n\\u2009=\\u20098). Participants recorded their sleep at home. The primary outcome variables were: stable and unstable sleep, which were assessed using cardiopulmonary coupling (CPC) analysis, and estimated total sleep and wake time (minutes). Cardiopulmonary coupling measures heart rate variability and the electrocardiogram's R-wave amplitude fluctuations associated with respiration. By post-treatment night 6, the CBASP group had more stable sleep (p=\\u20090.044) and less wake (p\\u2009=\\u20090.004) compared with TAU, and less wake vs MBCT (p\\u2009=\\u20090.039). The CBASP group psychotherapy treatment improved sleep quality compared with Treatment As Usual.\""
      ]
     },
     "execution_count": 169,
     "metadata": {},
     "output_type": "execute_result"
    }
   ],
   "source": [
    "#df_Abs['Abstract'][84]:MBCT"
   ]
  },
  {
   "cell_type": "code",
   "execution_count": 170,
   "metadata": {},
   "outputs": [],
   "source": [
    "df_Abs.at[83,'AbL'] = 0"
   ]
  },
  {
   "cell_type": "code",
   "execution_count": 171,
   "metadata": {
    "collapsed": true
   },
   "outputs": [
    {
     "data": {
      "text/plain": [
       "\"To capture any sleep quality changes associated with group psychotherapy. Physician-referred, chronically depressed patients (n\\u2009=\\u200925) were randomized to either eight group sessions of Mindfulness-based Cognitive Therapy (MBCT, n\\u2009=\\u20099) plus Treatment As Usual (TAU), or the Cognitive Behavioral Analysis System of Psychotherapy (CBASP, n\\u2009=\\u20098) plus TAU, or to TAU only (control group, n\\u2009=\\u20098). Participants recorded their sleep at home. The primary outcome variables were: stable and unstable sleep, which were assessed using cardiopulmonary coupling (CPC) analysis, and estimated total sleep and wake time (minutes). Cardiopulmonary coupling measures heart rate variability and the electrocardiogram's R-wave amplitude fluctuations associated with respiration. By post-treatment night 6, the CBASP group had more stable sleep (p=\\u20090.044) and less wake (p\\u2009=\\u20090.004) compared with TAU, and less wake vs MBCT (p\\u2009=\\u20090.039). The CBASP group psychotherapy treatment improved sleep quality compared with Treatment As Usual.\""
      ]
     },
     "execution_count": 171,
     "metadata": {},
     "output_type": "execute_result"
    }
   ],
   "source": [
    "#df_Abs['Abstract'][84]: MBCT"
   ]
  },
  {
   "cell_type": "code",
   "execution_count": 172,
   "metadata": {},
   "outputs": [],
   "source": [
    "df_Abs.at[84,'AbL'] = 0"
   ]
  },
  {
   "cell_type": "code",
   "execution_count": 173,
   "metadata": {
    "collapsed": true
   },
   "outputs": [
    {
     "data": {
      "text/plain": [
       "'Hot flushes and night sweats (vasomotor symptoms) are common menopausal symptoms, often causing distress, sleep deprivation and reduced quality of life. Although hormone replacement therapy is an effective treatment, there are concerns about serious adverse events. Non-hormonal pharmacological therapies are less effective and can also cause adverse effects. Complementary therapies, including acupuncture, are commonly used for menopausal vasomotor symptoms. While the evidence for the effectiveness of acupuncture in treating vasomotor symptoms is inconclusive, acupuncture has a low risk of adverse effects, and two small studies suggest it may be more effective than non-insertive sham acupuncture. Our objective is to assess the efficacy of needle acupuncture in improving hot flush severity and frequency in menopausal women. Our current study design is informed by methods tested in a pilot study. This is a stratified, parallel, randomised sham-controlled trial with equal allocation of participants to two trial groups. We are recruiting 360 menopausal women experiencing a minimum average of seven moderate hot flushes a day over a seven-day period and who meet diagnostic criteria for the Traditional Chinese Medicine diagnosis of Kidney Yin deficiency. Exclusion criteria include breast cancer, surgical menopause, and current hormone replacement therapy use. Eligible women are randomised to receive either true needle acupuncture or sham acupuncture with non-insertive (blunt) needles for ten treatments over eight weeks. Participants are blinded to treatment allocation. Interventions are provided by Chinese medicine acupuncturists who have received specific training on trial procedures. The primary outcome measure is hot flush score, assessed using the validated Hot Flush Diary. Secondary outcome measures include health-related quality of life, anxiety and depression symptoms, credibility of the sham treatment, expectancy and beliefs about acupuncture, and adverse events. Participants will be analysed in the groups in which they were randomised using an intention-to-treat analysis strategy. Results from this trial will significantly add to the current body of evidence on the role of acupuncture for vasomotor symptoms. If found to be effective and safe, acupuncture will be a valuable additional treatment option for women who experience menopausal vasomotor symptoms. Australian New Zealand Clinical Trials Registry ACTRN12611000393954 11/02/2009.'"
      ]
     },
     "execution_count": 173,
     "metadata": {},
     "output_type": "execute_result"
    }
   ],
   "source": [
    "#df_Abs['Abstract'][85]: Protocol"
   ]
  },
  {
   "cell_type": "code",
   "execution_count": 174,
   "metadata": {},
   "outputs": [],
   "source": [
    "df_Abs.at[85,'AbL'] = 0"
   ]
  },
  {
   "cell_type": "code",
   "execution_count": 176,
   "metadata": {
    "collapsed": true
   },
   "outputs": [
    {
     "data": {
      "text/plain": [
       "'Non-pharmacological interventions for depression may help patients manage their condition. Evidence from a recent large-scale trial (ACUDep) suggests that acupuncture and counselling can provide longer-term benefits for many patients with depression. This paper describes the strategies practitioners reported using to promote longer-term benefits for their patients. A qualitative sub-study of practitioners (acupuncturists and counsellors) embedded in a randomised controlled trial. Using topic guides, data was collected from telephone interviews and a focus group, altogether involving 19 counsellors and 17 acupuncturists. Data were audio recorded, transcribed verbatim and analysed using thematic content analysis. For longer-term impact, both acupuncturists and counsellors encouraged insight into root causes of depression on an individual basis and saw small incremental changes as precursors to sustained benefit. Acupuncturists stressed the importance of addressing concurrent physical symptoms, for example helping patients relax or sleep better in order to be more receptive to change, and highlighted the importance of Chinese medicine theory-based lifestyle change for lasting benefit. Counsellors more often highlighted the importance of the therapeutic relationship, emphasising the need for careful \"pacing\" such that the process and tools employed were tailored and timed for each individual, depending on the \"readiness\" to change. Our data is limited to acupuncture practitioners using the principles of traditional Chinese medicine, and counsellors using a humanistic, non-directive and person-centred approach. Long-term change appears to be an important focus within the practices of both acupuncturists and counsellors. To achieve this, practitioners stressed the need for an individualised approach with a focus on root causes.'"
      ]
     },
     "execution_count": 176,
     "metadata": {},
     "output_type": "execute_result"
    }
   ],
   "source": [
    "#df_Abs['Abstract'][87]: qulitative interview"
   ]
  },
  {
   "cell_type": "code",
   "execution_count": 177,
   "metadata": {},
   "outputs": [],
   "source": [
    "df_Abs.at[87,'AbL'] = 0"
   ]
  },
  {
   "cell_type": "code",
   "execution_count": 178,
   "metadata": {
    "collapsed": true
   },
   "outputs": [
    {
     "data": {
      "text/plain": [
       "'<i>Background</i>. Depression is frequently accompanied by sleep disturbances including insomnia. Insomnia may persist even after mood symptoms have been adequately treated. Acupuncture is considered to be beneficial to adjust the state of body and mind and restore the normal sleep-awake cycle. This trial is aimed at evaluating the efficacy and safety of electroacupuncture on treating insomnia in patients with depression. <i>Methods</i>. We describe a protocol for a randomized, single-blinded, sham controlled trial. Ninety eligible patients will be randomly assigned to one of 3 treatment groups: treatment group (acupuncture), control A group (superficial acupuncture at sham points), and control B group (sham acupuncture). All treatment will be given 3 times per week for 8 weeks. The primary outcome is the Pittsburgh Sleep Quality Index (PSQI). The secondary outcomes are sleep parameters recorded in the Actigraphy, Hamilton Rating Scale for Depression (HAMD), and Self-Rating Depression Scale (SDS). All adverse effects will be accessed by the Treatment Emergent Symptom Scale (TESS). Outcomes will be evaluated at baseline, 4 weeks after treatment, 8 weeks after treatment, and 4 weeks of follow-up. <i>Ethics</i>. This trial has been approved by the Ethics Committee of Shanghai Municipal Hospital of Traditional Chinese Medicine (2015SHL-KY-21) and is registered with ChiCTR-IIR-16008058.'"
      ]
     },
     "execution_count": 178,
     "metadata": {},
     "output_type": "execute_result"
    }
   ],
   "source": [
    "#df_Abs['Abstract'][88]:protocol"
   ]
  },
  {
   "cell_type": "code",
   "execution_count": 179,
   "metadata": {},
   "outputs": [],
   "source": [
    "df_Abs.at[88,'AbL'] = 0"
   ]
  },
  {
   "cell_type": "code",
   "execution_count": 180,
   "metadata": {
    "collapsed": true
   },
   "outputs": [
    {
     "data": {
      "text/plain": [
       "'Mindfulness-based stress reduction (MBSR) has been shown to improve mental health and reduce stress in a variety of adult populations. Here, we explore the effects of a school-based MBSR program for young urban males. In fall 2009, 7th and 8th graders at a small school for low-income urban boys were randomly assigned to 12-session programs of MBSR or health education (Healthy Topics-HT). Data were collected at baseline, post-program, and three-month follow-up on psychological functioning; sleep; and salivary cortisol, a physiologic measure of stress. Forty-one (22 MBSR and 19 HT) of the 42 eligible boys participated, of whom 95% were African American, with a mean age of 12.5 years. Following the programs, MBSR boys had less anxiety (p=0.01), less rumination (p=0.02), and showed a trend for less negative coping (p=0.06) than HT boys. Comparing baseline with post-program, cortisol levels increased during the academic terms for HT participants at a trend level (p=0.07) but remained constant for MBSR participants (p=0.33). In this study, MBSR participants showed less anxiety, improved coping, and a possible attenuation of cortisol response to academic stress, when compared with HT participants. These results suggest that MBSR improves psychological functioning among urban male youth.'"
      ]
     },
     "execution_count": 180,
     "metadata": {},
     "output_type": "execute_result"
    }
   ],
   "source": [
    "#df_Abs['Abstract'][89]: school boy; adolescent"
   ]
  },
  {
   "cell_type": "code",
   "execution_count": 181,
   "metadata": {},
   "outputs": [],
   "source": [
    "df_Abs.at[89,'AbL'] = 0"
   ]
  },
  {
   "cell_type": "code",
   "execution_count": 182,
   "metadata": {
    "collapsed": true
   },
   "outputs": [
    {
     "data": {
      "text/plain": [
       "'Despite the success of empirically supported treatments for posttraumatic stress disorder (PTSD), sleep impairment frequently remains refractory after treatment. This single-site, randomized controlled trial examined the effectiveness of sleep-directed hypnosis as a complement to an empirically supported psychotherapy for PTSD (cognitive processing therapy [CPT]). Participants completed either 3 weeks of hypnosis (n = 52) or a symptom monitoring control condition (n = 56) before beginning standard CPT. Multilevel modeling was used to investigate differential patterns of change to determine whether hypnosis resulted in improvements in sleep, PTSD, and depression. An intervening variable approach was then used to determine whether improvements in sleep achieved during hypnosis augmented change in PTSD and depression during CPT. After the initial phase of treatment (hypnosis or symptom monitoring), the hypnosis condition showed significantly greater improvement than the control condition in sleep and depression, but not PTSD. After CPT, both conditions demonstrated significant improvement in sleep and PTSD; however, the hypnosis condition demonstrated greater improvement in depressive symptoms. As sleep improved, there were corresponding improvements in PTSD and depression, with a stronger relationship between sleep and PTSD. Hypnosis was effective in improving sleep impairment, but those improvements did not augment gains in PTSD recovery during the trauma-focused intervention. (PsycINFO Database Record'"
      ]
     },
     "execution_count": 182,
     "metadata": {},
     "output_type": "execute_result"
    }
   ],
   "source": [
    "#df_Abs['Abstract'][90]: hypnosis plus CPT"
   ]
  },
  {
   "cell_type": "code",
   "execution_count": 183,
   "metadata": {},
   "outputs": [],
   "source": [
    "df_Abs.at[90,'AbL'] = 0"
   ]
  },
  {
   "cell_type": "code",
   "execution_count": 184,
   "metadata": {
    "collapsed": true
   },
   "outputs": [
    {
     "data": {
      "text/plain": [
       "'Mindfulness-based interventions, modified and shortened versions of meditation teachings, have proved to be effective in the improvement of quality of life in many clinical conditions, including chronic diseases. Preliminary results available in the literature and in clinical experience indicate a high potential for this treatment for the reduction of psychological suffering in people with chronic diseases. This randomized controlled trial will investigate the impact of a multiple sclerosis (MS) specific telemedicine meditation intervention on the quality of life of people with multiple sclerosis and their caregivers. This trial will recruit 120 patients, men and women, with a diagnosis of relapsing-remitting or secondary progressive MS and their caregivers to participate in a 2-month intervention. Patients will undergo assessments of quality of life, anxiety, depression, quality of sleep, mindfulness and fatigue levels conducted at baseline, at week 8 (conclusion of the intervention) and at week 27 (6 months follow-up). Caregivers will complete assessments conducted at the same time for the same areas, plus caregiver burden. The intervention condition will consist of 2 hours/week of online meditation in a group setting led by a trainer, plus 1 hour/week of individual exercises. The control condition will incorporate a psycho-education online program and will require the same contact time commitment as the intervention condition. Primary outcome measures will consist of assessments of quality of life, anxiety, and depression level. Assessments of mindfulness level, quality of sleep and fatigue level will be considered secondary outcome measures. This investigation will increase understanding of the role of meditation as part of a treatment plan for people with MS and their caregivers. Overall, this study design has the potential to lead to effective meditation intervention strategies for this population and improve their quality of life. Clinical Trials Register NCT02364505. https://clinicaltrials.gov/ct2/show/NCT02364505.'"
      ]
     },
     "execution_count": 184,
     "metadata": {},
     "output_type": "execute_result"
    }
   ],
   "source": [
    "#df_Abs['Abstract'][91]: protocol"
   ]
  },
  {
   "cell_type": "code",
   "execution_count": 185,
   "metadata": {},
   "outputs": [],
   "source": [
    "df_Abs.at[91,'AbL'] = 0"
   ]
  },
  {
   "cell_type": "code",
   "execution_count": 187,
   "metadata": {
    "collapsed": true
   },
   "outputs": [
    {
     "data": {
      "text/plain": [
       "\"Sleep problems are common and persistent during adolescence and can have negative effects on adolescents' mood. To date, studies that investigate the effects of sleep extension on adolescents' sleep and depressive symptoms are still lacking. This study aims to investigate the effects of gradual sleep extension combined with sleep hygiene advice in adolescents with chronic sleep reduction on objectively measured sleep, self-reported sleep problems and depressive symptoms. Fifty-five adolescents with chronic sleep reduction (mean age: 15.44\\xa0years; 85.5% females) were included in the study. Participants were randomly assigned to either a sleep extension group (gradual sleep extension by advancing bedtimes in the evening and receiving sleep hygiene advice) or to a control group (no instruction). Sleep was measured with actigraphy during three\\xa0weeks, the first week was the baseline week, and the last two\\xa0weeks were the experimental weeks during which sleep was extended. Other outcome variables were self-reported sleep problems (daytime sleepiness, symptoms of insomnia and circadian rhythm sleep disorder) and depressive symptoms, which were assessed before and after the experimental manipulation. During the third week of the experiment, adolescents in the sleep extension group had earlier bedtimes, earlier sleep onsets, spent more time in bed and slept longer than adolescents in the control group. Their chronic sleep reduction, insomnia symptoms and depressive symptoms diminished significantly. In addition, there was a trend of improved circadian rhythm sleep disorder symptoms and sleep quality. Gradual sleep extension combined with sleep hygiene advice seems to have beneficial effects on sleep, self-reported sleep problems and depressive symptoms of adolescents with chronic sleep reduction. Although we cannot distinguish between the effects of sleep extension and sleep hygiene advice, the results suggest that advancing bedtimes can extend sleep and improve depressive symptoms.\""
      ]
     },
     "execution_count": 187,
     "metadata": {},
     "output_type": "execute_result"
    }
   ],
   "source": [
    "#df_Abs['Abstract'][93]： adolescent"
   ]
  },
  {
   "cell_type": "code",
   "execution_count": 188,
   "metadata": {},
   "outputs": [],
   "source": [
    "df_Abs.at[93,'AbL'] = 0"
   ]
  },
  {
   "cell_type": "code",
   "execution_count": 190,
   "metadata": {
    "collapsed": true
   },
   "outputs": [
    {
     "data": {
      "text/plain": [
       "'It is reported that nursing is one of the most vulnerable jobs for developing depression. While they may not be clinically diagnosed as depressed, nurses often suffer from depression and anxiety symptoms, which can lead to a low level of patient care. However, there is no rigorous evidence base for determining an effective prevention strategy for these symptoms in nurses. After reviewing previous literature, we chose a strategy of treatment with omega-3 fatty acids and a mindfulness-based stress management program for this purpose. We aim to explore the effectiveness of these intervention options for junior nurses working in hospital wards in Japan. A factorial-design multi-center randomized trial is currently being conducted. A total of 120 nurses without a managerial position, who work for general hospitals and gave informed consent, have been randomly allocated to a stress management program or psychoeducation using a leaflet, and to omega-3 fatty acids or identical placebo pills. The stress management program has been developed according to mindfulness cognitive therapy and consists of four 30-minute individual sessions conducted using a detailed manual. These sessions are conducted by nurses with a managerial position. Participants allocated to the omega-3 fatty acid groups are provided with 1,200 mg/day of eicosapentaenoic acid and 600 mg/day of docosahexaenoic acid for 90 days. The primary outcome is the change in the total score of the Hospital Anxiety and Depression Scale (HADS), determined by a blinded rater via the telephone at week 26. Secondary outcomes include the change in HADS score at 13 and 52 weeks; presence of a major depressive episode; severity of depression, anxiety, insomnia, burnout, and presenteeism; utility scores and adverse events at 13, 26 and 52 weeks. An effective preventive intervention may not only lead to the maintenance of a healthy mental state in nurses, but also to better quality of care for inpatients. This paper outlines the background and methods of a randomized trial that evaluates the possible additive value of omega-3 fatty acids and a mindfulness-based stress management program for reducing depression in nurses. Clinicaltrials.gov: NCT02151162 (registered on 27 May 2014).'"
      ]
     },
     "execution_count": 190,
     "metadata": {},
     "output_type": "execute_result"
    }
   ],
   "source": [
    "#df_Abs['Abstract'][94]: protocol"
   ]
  },
  {
   "cell_type": "code",
   "execution_count": 191,
   "metadata": {},
   "outputs": [],
   "source": [
    "df_Abs.at[94,'AbL'] = 0"
   ]
  },
  {
   "cell_type": "code",
   "execution_count": 192,
   "metadata": {
    "collapsed": true
   },
   "outputs": [
    {
     "data": {
      "text/plain": [
       "\"Shiatsu, similar to acupressure, uses finger pressure, manipulations and stretches, along Traditional Chinese Medicine meridians. Shiatsu is popular in Europe, but lacks reviews on its evidence-base. Acupressure and Shiatsu clinical trials were identified using the MeSH term 'acupressure' in: EBM reviews; AMED; BNI; CINAHL; EMBASE; MEDLINE; PsycARTICLES; Science Direct; Blackwell Synergy; Ingenta Select; Wiley Interscience; Index to Theses and ZETOC. References of articles were checked. Inclusion criteria were Shiatsu or acupressure administered manually/bodily, published after January 1990. Two reviewers performed independent study selection and evaluation of study design and reporting, using standardised checklists (CONSORT, TREND, CASP and STRICTA). Searches identified 1714 publications. Final inclusions were 9 Shiatsu and 71 acupressure studies. A quarter were graded A (highest quality). Shiatsu studies comprised 1 RCT, three controlled non-randomised, one within-subjects, one observational and 3 uncontrolled studies investigating mental and physical health issues. Evidence was of insufficient quantity and quality. Acupressure studies included 2 meta-analyses, 6 systematic reviews and 39 RCTs. Strongest evidence was for pain (particularly dysmenorrhoea, lower back and labour), post-operative nausea and vomiting. Additionally quality evidence found improvements in sleep in institutionalised elderly. Variable/poor quality evidence existed for renal disease symptoms, dementia, stress, anxiety and respiratory conditions. Appraisal tools may be inappropriate for some study designs. Potential biases included focus on UK/USA databases, limited grey literature, and exclusion of qualitative and pre-1989 studies. Evidence is improving in quantity, quality and reporting, but more research is needed, particularly for Shiatsu, where evidence is poor. Acupressure may be beneficial for pain, nausea and vomiting and sleep.\""
      ]
     },
     "execution_count": 192,
     "metadata": {},
     "output_type": "execute_result"
    }
   ],
   "source": [
    "#df_Abs['Abstract'][95]：review"
   ]
  },
  {
   "cell_type": "code",
   "execution_count": 193,
   "metadata": {},
   "outputs": [],
   "source": [
    "df_Abs.at[95,'AbL'] = 0"
   ]
  },
  {
   "cell_type": "code",
   "execution_count": 195,
   "metadata": {
    "collapsed": true
   },
   "outputs": [
    {
     "data": {
      "text/plain": [
       "'Individuals living with cancer must learn to face not only the physical symptoms of their condition, but also the anxiety and uncertainty related to the progression of the disease, the anticipation of physical and emotional pain related to illness and treatment, the significant changes implied in living with cancer, as well as the fear of recurrence after remission. Mindfulness-based meditation constitutes a promising option to alleviate these manifestations. This article presents the rationale and protocol development for a research project aimed at evaluating the effects of a mindfulness-based meditation intervention on quality of life, sleep, and mood in adolescents with cancer compared to a control group. A prospective, longitudinal, experimental design involving three time points (baseline, post-intervention, and follow-up) and two groups (experimental and control) was developed for this project. Participants will be assigned randomly to either group. Eligible participants are adolescents aged 11 to 18 years with a diagnosis of cancer, with no specific selection/exclusion based on type, stage, or trajectory of cancer. A final sample size of 28 participants is targeted. Adolescents in the experimental group will be completing the mindfulness meditation intervention, taught by two trained therapists. The intervention will comprise of eight weekly sessions, lasting 90 min each. Once the follow-up assessment is completed by the experimental group, wait-list controls will be offered to complete the mindfulness-based program. Intra-group analyses will serve to evaluate the impact of the mindfulness-based meditation intervention on quality of life, sleep, and mood pre-post intervention, as well as follow-up. Analyses will also be used to carry out inter-group comparisons between the experimental group and the wait-list controls. Voluntary participation, risk of attrition, and the small sample size are potential limitations of this project. In spite of possible limitations, this project will be one among very few aimed at improving quality of life, sleep, and mood in adolescents living with cancer, will evaluate the potential benefits of such a practice on both psychological and physical health of youth with cancer, and help in creating mindfulness-based intervention programs, in order to provide the necessary psychological help to adolescents living with cancer.  NCT01783418.'"
      ]
     },
     "execution_count": 195,
     "metadata": {},
     "output_type": "execute_result"
    }
   ],
   "source": [
    "#df_Abs['Abstract'][97]:protocol"
   ]
  },
  {
   "cell_type": "code",
   "execution_count": 196,
   "metadata": {},
   "outputs": [],
   "source": [
    "df_Abs.at[97,'AbL'] = 0"
   ]
  },
  {
   "cell_type": "code",
   "execution_count": 197,
   "metadata": {
    "collapsed": true
   },
   "outputs": [
    {
     "data": {
      "text/plain": [
       "\"The goal was to review systematically the comparative effectiveness of yoga, compared with other exercise interventions, for older adults as shown on measures of health and physical functioning. This was a systematic review with both narrative synthesis and meta-analysis. Searches were conducted in MEDLINE®/PUBMED, PSYCINFO, CINAHL, Web of Science, and SCOPUS; bibliographies of selected articles; and one systematic review on the effects of yoga on cardiovascular disease. Original studies from 1950 to November 2010 were sought, evaluating the effects of yoga on older adults. The search was restricted to randomized controlled trials of yoga in subjects ≥age 60, and published in English. Data were extracted and evaluated regarding setting, population size and characteristics, intervention type and duration, comparison group, outcome assessment, data analysis, follow-up, key results, and the quality of each study according to specific predetermined criteria. The search yielded 18 eligible studies (N=649). The studies reported on older adults across a range of settings, intervention intensity, and outcome measures. The majority of the studies had<35 participants (range 9-77). Quantitative and qualitative synthesis of the studies suggested that the benefits of yoga may exceed those of conventional exercise interventions for self-rated health status, aerobic fitness, and strength. However, the effect sizes were modest, and the evidence was mixed for yoga's effect on depression, sleep, and bone-mineral density. Studies did not find an effect on cognition. Small studies with mixed methodological quality suggested that yoga may be superior to conventional physical-activity interventions in elderly people. The precision of the estimates remains low. Larger studies are necessary to define better the intersection of populations, settings, and interventions in which yoga is most beneficial.\""
      ]
     },
     "execution_count": 197,
     "metadata": {},
     "output_type": "execute_result"
    }
   ],
   "source": [
    "#df_Abs['Abstract'][98]:review"
   ]
  },
  {
   "cell_type": "code",
   "execution_count": 198,
   "metadata": {},
   "outputs": [],
   "source": [
    "df_Abs.at[98,'AbL'] = 0"
   ]
  },
  {
   "cell_type": "code",
   "execution_count": 199,
   "metadata": {
    "collapsed": true
   },
   "outputs": [
    {
     "data": {
      "text/plain": [
       "\"Fatigue is not only a core symptom of major depressive disorder (MDD), but also a common residual symptom. We determined the sociodemographic, clinical, and pharmacologic factors that were associated with fatigue in patients with remission or partial remission of MDD. Data was derived from a randomized controlled trial of acupuncture in 137 MDD patients with residual symptoms. Fatigue was measured by Multidimensional Fatigue Inventory (MFI-20). Self-report and clinician-rated scales were used to assess psychopathology. 17-item Hamilton Depression Rating Scale (HDRS17) score≤7 denoted MDD remission. Participants' average HDRS17 score was 10.5; 29.2% were in remission. The average MFI-20 score was 71.8; 83.2% had severe fatigue, defined as MFI-20 score≥60. Fifty-two of 137 participants (38%) were using sedating psychotropic medications. Antidepressant dosage ranged from 1-90mg fluoxetine equivalent and sedatives/hypnotics from 1-60mg diazepam equivalent. There were significant correlations between MFI-20 score and HDRS17 depression and anxiety subscores, Hospital Anxiety and Depression Scale (HADS) depression and anxiety subscores, and Pain Catastrophizing Scale score, but insomnia and daytime sleepiness, sociodemographics, current medical conditions, and psychotropic medication use were not significant correlates. Upon multiple regression, HADS and HDRS17 depression scores independently predicted MFI-20 score. In remission and partial remission subgroups, HADS depression score was an independent predictor. Participants were recruited from specialty psychiatric units; hence the findings may not be applicable in non-specialized settings. Fatigue was predicted by depression severity in remitted or partially remitted MDD. Psychotropic medication and higher dosage were not associated with greater fatigue.\""
      ]
     },
     "execution_count": 199,
     "metadata": {},
     "output_type": "execute_result"
    }
   ],
   "source": [
    "#df_Abs['Abstract'][99]: secondary analysis of RCT"
   ]
  },
  {
   "cell_type": "code",
   "execution_count": 200,
   "metadata": {},
   "outputs": [],
   "source": [
    "df_Abs.at[99,'AbL'] = 0"
   ]
  },
  {
   "cell_type": "code",
   "execution_count": 201,
   "metadata": {
    "collapsed": true
   },
   "outputs": [
    {
     "data": {
      "text/plain": [
       "'The aim of this study was to conduct a preliminary dismantling study of exposure, relaxation, and rescripting therapy (ERRT) for nightmares. Participants (N = 70) were randomized to 1 of 2 conditions: ERRT with nightmare exposure and rescripting (full protocol; EX) or ERRT without nightmare exposure and rescripting (NEX). Participants completed follow-ups at 1 week, 3 months, and 6 months posttreatment. Both conditions yielded statistically significant improvements with medium to large effect sizes on primary outcomes related to nightmares (i.e., nights with nightmares, nightmares per week, and nightmare severity). Both conditions also yielded statistically significant improvements on secondary outcomes with medium to large effect sizes on fear of sleep, sleep quality, insomnia severity, daytime sleepiness, posttraumatic stress disorder symptom severity, and depression severity. The conditions did not differ at any time point. Findings indicate that ERRT with and without nightmare exposure and rescripting can significantly alleviate nightmares and related distress. The addition of nightmare exposure and rescription did not contribute incrementally to outcomes in this sample. It is possible that the dose of exposure was not sufficient to result in group differences or that the treatment components included in both conditions (i.e., psychoeducation about trauma, nightmares, and sleep; sleep habit modification; and relaxation training) may adequately treat factors that maintain nightmares for some individuals. Theoretical implications of findings are discussed. The reduction of symptoms of other conditions following this brief intervention provides further evidence for the primary role of nightmares and sleep disturbances posttrauma. (PsycINFO Database Record'"
      ]
     },
     "execution_count": 201,
     "metadata": {},
     "output_type": "execute_result"
    }
   ],
   "source": [
    "#df_Abs['Abstract'][100]: not CAM"
   ]
  },
  {
   "cell_type": "code",
   "execution_count": 202,
   "metadata": {},
   "outputs": [],
   "source": [
    "df_Abs.at[100,'AbL'] = 0"
   ]
  },
  {
   "cell_type": "code",
   "execution_count": 203,
   "metadata": {
    "collapsed": true
   },
   "outputs": [
    {
     "data": {
      "text/plain": [
       "\"Sleep disturbances and depressive symptoms are associated closely with daytime dysfunctions, yet few studies have investigated their temporal relationship in a randomized controlled trial. We investigated the inter-relationships among sleep, depressive symptoms and daytime functioning following an integrative body-mind-spirit (I-BMS) intervention. One hundred and eighty-five participants (mean age 55.28\\xa0years, 75.1% female) with co-existing sleep and depressive symptoms were randomized to I-BMS or waiting-list. Daytime functioning variables included the daytime dysfunction items of the Pittsburg Sleep Quality Index (PSQI-day), Somatic Symptom Inventory, Hospital Anxiety Depression Scale and Short Form Health Survey collected at baseline, post-treatment and 3-month follow-up. Sleep and depressive symptoms were measured by the sleep items of the PSQI (PSQI-night) and Center for Epidemiological Studies Depression Scale (excluding the sleep item) (CESD-M). Regression and path analyses were used to understand the role of daytime functioning in sleep and depressive symptoms. We found significant group and time effects on almost all daytime variables and significant group\\xa0×\\xa0time interactions on PSQI-day and somatic symptoms. The adjusted regression model showed that CESD-M was associated with all daytime variables. However, PSQI-night was associated only with PSQI-day. Path analyses indicated that PSQI-day bridged PSQI-night and CESD-M in a two-way direction after the I-BMS intervention. The conclusion was that, following I-BMS intervention, improvement in daytime functioning was related predominantly to improvement in depressive symptoms. Night-time sleep related only to daytime dysfunction that was specific to sleep disturbances. Therefore, 'sleep-specific daytime impairment' could be regarded as a major link from night-time sleep to depressive symptoms. More studies are required to understand the concept of 'sleep-specific daytime impairment'.\""
      ]
     },
     "execution_count": 203,
     "metadata": {},
     "output_type": "execute_result"
    }
   ],
   "source": [
    "#df_Abs['Abstract'][101]: secondary analysis of RCT"
   ]
  },
  {
   "cell_type": "code",
   "execution_count": 204,
   "metadata": {},
   "outputs": [],
   "source": [
    "df_Abs.at[101,'AbL'] = 0"
   ]
  },
  {
   "cell_type": "code",
   "execution_count": 205,
   "metadata": {
    "collapsed": true
   },
   "outputs": [
    {
     "data": {
      "text/plain": [
       "'This study was conducted to evaluate the effectiveness of a cognitive behavioral self-help program (SHP) in combination with pharmacotherapy in patients with primary insomnia in general practice. Patients were recruited from 31 general practitioners (GPs) in the Hamburg area, who were randomly assigned to the two different study conditions. Eighty patients completed the study. They had suffered from insomnia for several years and showed a high impairment according to the Pittsburgh Sleep Quality Index. According to assignment of their GP the patients either received a progressively reduced 4-week pharmacotherapy or a combination of pharmacotherapy and a SHP consisting of six chapters on progressive muscle relaxation, cognitive relaxation, modified stimulus control, thought stopping, and cognitive restructuring. After study enrollment patients had short weekly consultations with their GPs during treatment to receive sleep medication and questionnaires. They completed questionnaires measuring general sleep quality and sleep-disruptive beliefs and also sleep diaries before treatment, during treatment, immediately following treatment, and at a 6-week and 6-month follow-up time point. For collection of changes in mood the Beck Depression Inventory was used. The whole sample showed reductions of sleep onset latency and time awake after sleep onset. Total sleep time increased and mood improved. Patients additionally working with the SHP showed significantly more improvements in sleep quality and negative sleep-related cognitions like ruminating and focusing on sleep. Treatment effects were significant at the end of therapy and remained stable at the six-week and six-month follow-up. This study supports the use of a cognitive-behavioral SHP on primary insomnia in the setting of a general practice and should be investigated in more detail. Also, regular appointments and the utilization of sleep logs seem to have a positive influence on sleep disorders.'"
      ]
     },
     "execution_count": 205,
     "metadata": {},
     "output_type": "execute_result"
    }
   ],
   "source": [
    "#df_Abs['Abstract'][102]: CBT plus catgut implantation"
   ]
  },
  {
   "cell_type": "code",
   "execution_count": 206,
   "metadata": {},
   "outputs": [],
   "source": [
    "df_Abs.at[102,'AbL'] = 0"
   ]
  },
  {
   "cell_type": "code",
   "execution_count": 210,
   "metadata": {
    "collapsed": true
   },
   "outputs": [
    {
     "data": {
      "text/plain": [
       "\"Malignant neoplasms of the lymphoid or myeloid cell lines including lymphoma, leukaemia and myeloma are referred to as haematological malignancies. Complementary and alternative treatment options such as meditation practice or yoga are becoming popular by treating all aspects of the disease including physical and psychological symptoms. However, there is still unclear evidence about meditation's effectiveness, and how its practice affects the lives of haematologically-diseased patients. This review aims to assess the benefits and harms of meditation practice as an additional treatment to standard care for adults with haematological malignancies. We searched the Cochrane Central Register of Controlled Trials (CENTRAL, Issue 8, 2015), MEDLINE (1950 to August 2015), databases of ongoing trials, the metaRegister of Controlled Trials (mRCT) (http://www.controlled-trials.com/mrct/), conference proceedings of annual meetings of: the American Society of Hematology; American Society of Clinical Oncology; European Hematology Association; European Congress for Integrative Medicine; and Global Advances in Health and Medicine (2010 to 2015). We included randomised controlled trials (RCTs) using meditation practice for adult patients with haematological malignancies. Two review authors independently extracted data from eligible studies and assessed the risk of bias according to predefined criteria. We evaluated quality of life and depression. The other outcomes of overall survival, anxiety, fatigue, quality of sleep and adverse events could not be evaluated, because they were not assessed in the included trial. We included only one small trial published as an abstract article. The included study investigated the effects of meditation practice on patients newly hospitalised with acute leukaemia. Ninety-one participants enrolled in the study, but only 42 participants remained in the trial throughout the six-month follow-up period and were eligible for analysis. There was no information provided about the average age and sex of the study population. We found a high risk for attrition bias and unclear risk for reporting bias, performance and detection bias because of missing data due to abstract publication only, thus we judged the overall risk of bias as high. According to the GRADE criteria, we judged the overall quality of the body of evidence for all predefined outcomes as 'very low', due to the extent of missing data on the study population, and the small sample size.As the abstract publication did not provide numbers and results except P values, we are not able to give more details.Meditation practice might be beneficial for the quality of life of haematologically-diseased patients, with higher scores for participants in the mediation arms compared to the participants in the usual care control group (low quality of evidence). Levels of depression decreased for those practising meditation in both the spiritually-framed meditation group and the secularly-focused meditation group in comparison to the usual care control group, whose levels of depression remained constant (low quality of evidence). The influence of meditation practice on overall survival, fatigue, anxiety, quality of sleep and adverse events remained unclear, as these outcomes were not evaluated in the included trial. To estimate the effects of meditation practice for patients suffering from haematological malignancies, more high quality randomised controlled trials are needed. At present there is not enough information available on the effects of meditation in haematologically-diseased patients to draw any conclusion.\""
      ]
     },
     "execution_count": 210,
     "metadata": {},
     "output_type": "execute_result"
    }
   ],
   "source": [
    "#df_Abs['Abstract'][106]: review"
   ]
  },
  {
   "cell_type": "code",
   "execution_count": 211,
   "metadata": {},
   "outputs": [],
   "source": [
    "df_Abs.at[106,'AbL'] = 0"
   ]
  },
  {
   "cell_type": "code",
   "execution_count": 212,
   "metadata": {
    "collapsed": true
   },
   "outputs": [
    {
     "data": {
      "text/plain": [
       "'Conventional approaches for benzodiazepine tapering have their limitations. Anecdotal studies have shown that acupuncture is a potential treatment for facilitating successful benzodiazepine tapering. As of today, there was no randomized controlled trial examining its efficacy and safety. The purpose of the study is to evaluate the efficacy of using electroacupuncture as an adjunct treatment to gradual tapering of benzodiazepine doses in complete benzodiazepine cessation in long-term benzodiazepine users. The study protocol of a randomized, assessor- and subject-blinded, controlled trial is presented. One hundred and forty-four patients with histories of using benzodiazepines in ≥50% of days for more than 3\\xa0months will be randomly assigned in a 1:1 ratio to receive either electroacupuncture or placebo electroacupuncture combined with gradual benzodiazepine tapering schedule. Both experimental and placebo treatments will be delivered twice per week for 4\\xa0weeks. Major assessments will be conducted at baseline, week 6 and week 16 post-randomization. Primary outcome is the cessation rate of benzodiazepine use. Secondary outcomes include the percentage change in the doses of benzodiazepine usage and the severity of withdrawal symptoms experienced based on the Benzodiazepine Withdrawal Symptom Questionnaire, insomnia as measured by the Insomnia Severity Index, and anxiety and depressive symptoms as evaluated by the Hospital Anxiety and Depression Scale. Adverse events will also be measured at each study visit. Results of this study will provide high quality evidence of the efficacy and safety of electroacupuncture as an adjunct treatment for benzodiazepine tapering in long-term users. ClinicalTrials.gov NCT02475538 .'"
      ]
     },
     "execution_count": 212,
     "metadata": {},
     "output_type": "execute_result"
    }
   ],
   "source": [
    "#df_Abs['Abstract'][107]: protocol "
   ]
  },
  {
   "cell_type": "code",
   "execution_count": 213,
   "metadata": {},
   "outputs": [],
   "source": [
    "df_Abs.at[107,'AbL'] = 0"
   ]
  },
  {
   "cell_type": "code",
   "execution_count": 214,
   "metadata": {
    "collapsed": true
   },
   "outputs": [
    {
     "data": {
      "text/plain": [
       "'Clinically significant psychological distress in pregnancy is common, with epidemiological research suggesting that between 15 and 25\\xa0% of pregnant women experience elevated symptoms of stress, anxiety, and depression. Untreated psychological distress in pregnancy is associated with poor obstetrical outcomes, changes in maternal physiology, elevated incidence of child physical and psychological disorders, and is predictive of maternal postpartum mood disorders. Despite the wide-ranging impact of antenatal psychological distress on mothers and their children, there is a gap in our knowledge about the most effective treatments that are available for psychological distress experienced in pregnancy. Additionally, no trials have focused on potential physiological changes that may occur as a result of receiving mindfulness training in pregnancy. The proposed trial will determine the effectiveness of an 8-week modified Mindfulness-based Cognitive Therapy (MBCT) intervention delivered during pregnancy. A randomized controlled trial (RCT) design with repeated measures will be used to evaluate the effectiveness of MBCT to treat psychological distress in pregnancy. A sample of 60 consenting pregnant women aged 18\\xa0years and above will be enrolled and randomized to the experimental (MBCT) or control (treatment as usual) condition. Primary (e.g., symptoms of stress, depression, and anxiety), secondary (cortisol, blood pressure (BP), heart rate variability (HRV), and sleep) and other outcome data (e.g., psychological diagnoses) will be collected via a combination of laboratory visits and at-home assessments from both groups at baseline (T<sub>1</sub>), immediately following the intervention (T<sub>2</sub>), and at 3\\xa0months postpartum (T<sub>3</sub>). Descriptive statistics will be used to describe sample characteristics. Data will be analyzed using an intention-to-treat approach. Hierarchical linear models will be used to test intervention effects on primary and secondary outcomes. The trial is expected to improve knowledge about evidence-based treatments for psychological distress experienced in pregnancy and to evaluate the potential impact of mindfulness-based interventions on maternal physiology. ClinicalTrials.gov: NCT02214732 , registered on 7 August 2014. Protocol Version 2.0., 5 September 2016.'"
      ]
     },
     "execution_count": 214,
     "metadata": {},
     "output_type": "execute_result"
    }
   ],
   "source": [
    "#df_Abs['Abstract'][108]: proposed trial"
   ]
  },
  {
   "cell_type": "code",
   "execution_count": 215,
   "metadata": {},
   "outputs": [],
   "source": [
    "df_Abs.at[108,'AbL'] = 0"
   ]
  },
  {
   "cell_type": "code",
   "execution_count": 222,
   "metadata": {
    "collapsed": true
   },
   "outputs": [
    {
     "data": {
      "text/plain": [
       "'This systematic review assessed clinical evidence for the use of acupuncture as an add-on treatment in patients with depression and schizophrenia and for its underlying working mechanisms. Four databases (Medline, Scopus, ERIC, and the Cochrane Library) were searched with a cutoff date of March 31, 2014. Systematic reviews and meta-analyses of acupuncture treatment for depression and schizophrenia were considered for inclusion. The scarcity of acupuncture research involving schizophrenia led to the inclusion of randomized controlled trials and case studies. The primary and secondary aims of this study were to evaluate the effects of acupuncture in treating patients with depression or schizophrenia and the possible working mechanisms underlying acupuncture through a systematic literature review. The overall clinical results on using acupuncture to treat depression are promising, but only limited evidence for its effectiveness in treating schizophrenia was found. Acupuncture improves the quality of life, particularly that of sleep, in psychiatric patients. Brain research has revealed that acupuncture has a modulating and normalizing effect on the limbic-paralimbic-neocortical network (LPNN), including the default mode network. Because the LPNN is related to sleep and emotions, this might explain the improved qualities of life and sleep after acupuncture. From the evidence found in this study, acupuncture seems to be an effective add-on treatment in patients with depression and, to a lesser degree, in patients with schizophrenia, but large well-designed studies are needed to confirm that evidence.'"
      ]
     },
     "execution_count": 222,
     "metadata": {},
     "output_type": "execute_result"
    }
   ],
   "source": [
    "#df_Abs['Abstract'][115]: review"
   ]
  },
  {
   "cell_type": "code",
   "execution_count": 223,
   "metadata": {},
   "outputs": [],
   "source": [
    "df_Abs.at[115,'AbL'] = 0"
   ]
  },
  {
   "cell_type": "code",
   "execution_count": 225,
   "metadata": {
    "collapsed": true
   },
   "outputs": [
    {
     "data": {
      "text/plain": [
       "\"Hot flashes are a highly prevalent problem associated with menopause and breast cancer treatments. The recent findings from the Women's Health Initiative have important implications for the significance of a non-hormonal, mind-body intervention for hot flashes in breast cancer survivors. Women who take hormone therapy long-term may have a 1.2 to 2.0 fold increased risk of developing breast cancer. In addition, it is now known that hormone therapy with estrogen and progestin is associated with increased risk of cardiovascular disease and stroke. Currently there are limited options to hormone replacement therapy as non-hormonal pharmacological agents are associated with only modest activity and many adverse side effects. Because of this there is a need for more alternative, non-hormonal therapies. Hypnosis is a mind-body intervention that has been shown to reduce self-reported hot flashes by up to 68% among breast cancer survivors, however, the use of hypnosis for hot flashes among post-menopausal women has not been adequately explored and the efficacy of hypnosis in reducing physiologically measured hot flashes has not yet been determined. A sample of 180 post-menopausal women will be randomly assigned to either a 5-session Hypnosis Intervention or 5-session structured-attention control with 12 week follow-up. The present study will compare hypnosis to a structured-attention control in reducing hot flashes (perceived and physiologically monitored) in post-menopausal women in a randomized clinical trial. Outcomes will be hot flashes (self-report daily diaries; physiological monitoring; Hot Flash Related Daily Interference Scale), anxiety (State-Trait Anxiety Inventory; Hospital Anxiety and Depression Scale (HADS); anxiety visual analog scale (VAS rating); depression (Center for Epidemiologic Studies Depression Scale), sexual functioning (Sexual Activity Questionnaire), sleep quality (Pittsburgh Sleep Quality Index) and cortisol. This study will be the first full scale test of hypnosis for hot flashes; one of the first studies to examine both perceived impact and physiologically measured impact of a mind-body intervention for hot flashes using state-of-the-art 24 hour ambulatory physiological monitoring; the first study to examine the effect of hypnosis for hot flashes on cortisol; and the first investigation of the role of cognitive expectancies in treatment of hot flashes in comparison to a Structured-Attention Control. This clinical trial has been registered with ClinicalTrials.gov, a service of the U.S. National Institutes of Health, ClinicalTrials.gov Identifier: NCT01293695.\""
      ]
     },
     "execution_count": 225,
     "metadata": {},
     "output_type": "execute_result"
    }
   ],
   "source": [
    "#df_Abs['Abstract'][117]:protocol"
   ]
  },
  {
   "cell_type": "code",
   "execution_count": 226,
   "metadata": {},
   "outputs": [],
   "source": [
    "df_Abs.at[117,'AbL'] = 0"
   ]
  },
  {
   "cell_type": "code",
   "execution_count": 227,
   "metadata": {
    "collapsed": true
   },
   "outputs": [
    {
     "data": {
      "text/plain": [
       "'Phantom limb pain is a prevalent condition that is difficult to manage, with a lack of robust evidence to support the use of many adjunctive treatments. Acupuncture can be effective in the management of many painful conditions but little is known about its effectiveness in treating phantom limb pain. The aim of this study is to explore the feasibility of conducting a randomized controlled trial comparing acupuncture and routine care in a group of lower limb amputees with phantom limb pain. An unstratified, pragmatic, randomized, two-armed, controlled trial of parallel design comparing acupuncture and usual care control will be conducted. A total of 20 participants will be randomly assigned to receive either usual care or usual care plus acupuncture. Acupuncture will include eight 1 hour treatments delivered pragmatically over 4 weeks by practitioners trained in traditional Chinese medicine. As outcome measures, the Numerical Pain Rating Scale, short-form McGill Pain Questionnaire 2, EQ-5D-5 L, Hospital Anxiety and Depression Scale, 10-Item Perceived Stress Scale, Insomnia Severity Index, and Patient Global Impression of Change will be completed at baseline, weekly for the duration of the study and at 1 month after completion of the study. After completion of the trial, participants will provide feedback though semi-structured interviews. Feasibility will be determined through the ability to recruit to the study, success of the randomization process, completion of acupuncture intervention, acceptability of random allocation and completion of outcome measures. Acceptability of the acupuncture intervention will be determined through semi-structured interviews with participants. The appropriateness of outcome measures for a future trial will be addressed through completion rates of questionnaires and participant feedback. Data generated on effect size will be used for future sample size calculations and will inform the development of an appropriate and feasible protocol for use in a definitive multicentre randomized controlled trial. ClinicalTrials.gov: NCT02126436.'"
      ]
     },
     "execution_count": 227,
     "metadata": {},
     "output_type": "execute_result"
    }
   ],
   "source": [
    "#df_Abs['Abstract'][118]:protocol"
   ]
  },
  {
   "cell_type": "code",
   "execution_count": 228,
   "metadata": {},
   "outputs": [],
   "source": [
    "df_Abs.at[118,'AbL'] = 0"
   ]
  },
  {
   "cell_type": "code",
   "execution_count": 232,
   "metadata": {
    "collapsed": true
   },
   "outputs": [
    {
     "data": {
      "text/plain": [
       "'There is increasing recognition of mindfulness and mindfulness training as a way to decrease stress and increase psychological functioning. The aim of this study was to examine the perceived effects and experiences of mindfulness stress-reduction training as described by patients with cancer participating in a mindfulness-based stress-reduction training program. The study is based on analysis of data collected in semistructured interviews of the participants (n = 18) after the completion of a mindfulness-meditation training program. The intervention consisted of an 8-week mindfulness-training course. Most participants expressed a number of perceived positive effects of participating in the mindfulness program including increased calm, enhanced sleep quality, more energy, less physical pain, and increased well-being. However, a few participants experienced no effect. Both negative and positive views of the specific meditation and yoga exercises included in the program were expressed. Components that were described as of particular importance, regarding the experience of participating in the program, were the nonjudgmental and accepting approach guiding the program and the instructors, the influence of the group process and sharing experiences with patients with similar experiences, and the emphasis on increased awareness of the present moment. This study gives support for the use of mindfulness programs in reducing stress-related complaints among some patients with a cancer diagnosis. The positive experiences of mindfulness training reported by patients with cancer call for further studies examining the possibilities and requirements for implementation of mindfulness programs in clinical practice.'"
      ]
     },
     "execution_count": 232,
     "metadata": {},
     "output_type": "execute_result"
    }
   ],
   "source": [
    "#df_Abs['Abstract'][122]: qualitative interview"
   ]
  },
  {
   "cell_type": "code",
   "execution_count": 233,
   "metadata": {},
   "outputs": [],
   "source": [
    "df_Abs.at[122,'AbL'] = 0"
   ]
  },
  {
   "cell_type": "code",
   "execution_count": 234,
   "metadata": {
    "collapsed": true
   },
   "outputs": [
    {
     "data": {
      "text/plain": [
       "'People living with chronic kidney disease (CKD) experience a range of symptoms and often have complex comorbidities. Many pharmacological interventions for people with CKD have known risks of adverse events. Acupuncture is widely used for symptom management in patients with chronic diseases and in other palliative care settings. However, the safety and efficacy of acupuncture for people with CKD remains largely unknown. We aimed to evaluate the benefits and harms of acupuncture, electro-acupuncture, acupressure, moxibustion and other acupuncture-related interventions (alone or combined with other acupuncture-related interventions) for symptoms of CKD. In particular, we planned to compare acupuncture and related interventions with conventional medicine, active non-pharmacological interventions, and routine care for symptoms of CKD. We searched the Cochrane Kidney and Transplant Specialised Register up to 28 January 2016 through contact with the Information Specialist using search terms relevant to this review. We also searched Korean medical databases (including Korean Studies Information, DBPIA, Korea Institute of Science and Technology Information, Research Information Centre for Health Database, KoreaMed, the National Assembly Library) and Chinese databases (including the China Academic Journal). We included randomised controlled trials (RCTs) and quasi-RCTs that investigated the effects of acupuncture and related point-stimulation interventions with or without needle penetration that involved six sessions or more in adults with CKD stage 3 to 5, regardless of the language and type of publication. We excluded studies that used herbal medicine or co-interventions administered unequally among the study groups. Two authors independently extracted data and assessed risk of bias. We calculated the mean difference (MD) or standardised mean difference (SMD) with 95% confidence intervals (CI) for continuous outcomes and risk ratio (RR) for dichotomous outcomes. Primary outcomes were changes in pain and depression, and occurrence of serious of adverse events. We included 24 studies that involved a total of 1787 participants. Studies reported on various types of acupuncture and related interventions including manual acupuncture and acupressure, ear acupressure, transcutaneous electrical acupuncture point stimulation, far-infrared radiation on acupuncture points and indirect moxibustion. CKD stages included pre-dialysis stage 3 or 4 and end-stage kidney disease on either haemodialysis or peritoneal dialysis.None of the included studies assessed pain outcomes, nor formally addressed occurrence of serious adverse events, although three studies reported three participant deaths and three hospitalisations as reasons for attrition. Three studies reported minor acupuncture-related harms; the remainder did not report if those events occurred.All studies were assessed at high or unclear risk of bias in terms of allocation concealment. Seventeen studies reported outcomes measured for only two months.There was very low quality of evidence that compared with routine care, manual acupressure reduced scores of the Beck Depression Inventory score (scale from 0 to 63) (3 studies, 128 participants: MD -4.29, 95% CI -7.48 to -1.11, I(2) = 0%), the revised Piper Fatigue Scale (scale from 0 to 10) (3 studies, 128 participants: MD -1.19, 95% CI -1.77 to -0.60, I(2) = 0%), and the Pittsburgh Sleep Quality Index (scale from 0 to 21) (4 studies, 180 participants: MD -2.46, 95% CI -4.23 to -0.69, I(2) = 50%).We were unable to perform further meta-analyses because of the paucity of data and problems with clinical heterogeneity, such as different interventions, comparisons and timing of outcome measurements. There was very low quality of evidence of the short-term effects of manual acupressure as an adjuvant intervention for fatigue, depression, sleep disturbance and uraemic pruritus in patients undergoing regular haemodialysis. The paucity of evidence indicates that there is little evidence of the effects of other types of acupuncture for other outcomes, including pain, in patients with other stages of CKD. Overall high or unclear risk of bias distorts the validity of the reported benefit of acupuncture and makes the estimated effects uncertain. The incomplete reporting of acupuncture-related harm does not permit us to assess the safety of acupuncture and related interventions. Future studies should investigate the effects and safety of acupuncture for pain and other common symptoms in patients with CKD and those undergoing dialysis.'"
      ]
     },
     "execution_count": 234,
     "metadata": {},
     "output_type": "execute_result"
    }
   ],
   "source": [
    "#df_Abs['Abstract'][123]: review"
   ]
  },
  {
   "cell_type": "code",
   "execution_count": 235,
   "metadata": {},
   "outputs": [],
   "source": [
    "df_Abs.at[123,'AbL'] = 0"
   ]
  },
  {
   "cell_type": "code",
   "execution_count": 237,
   "metadata": {
    "collapsed": true
   },
   "outputs": [
    {
     "data": {
      "text/plain": [
       "\"Interest in the application of yoga for health benefits in western medicine is growing rapidly, with a significant rise in publications. The purpose of this systematic review is to determine whether the inclusion of yoga therapy to the treatment of breast cancer can improve the patient's physical and psychosocial quality of life (QoL). A search of peer reviewed journal articles published between January 2009 and July 2014 was conducted. Studies were included if they had more than 15 study participants, included interventions such as mindfulness-based stress reduction (MBSR) or yoga therapy with or without comparison groups and had stated physical or psychological outcomes. Screening identified 38 appropriate articles. The most reported psychosocial benefits of yoga therapy were anxiety, emotional and social functioning, stress, depression and global QoL. The most reported physical benefits of yoga therapy were improved salivary cortisol readings, sleep quality and lymphocyte apoptosis. Benefits in these areas were linked strongly with the yoga interventions, in addition to significant improvement in overall QoL. The evidence supports the use of yoga therapy to improve the physical and psychosocial QoL for breast cancer patients with a range of benefits relevant to radiation therapy. Future studies are recommended to confirm these benefits. Evidence-based recommendations for implementation of a yoga therapy programme have been derived and included within this review. Long-term follow-up is necessary with these programmes to assess the efficacy of the yoga intervention in terms of sustainability and patient outcomes.\""
      ]
     },
     "execution_count": 237,
     "metadata": {},
     "output_type": "execute_result"
    }
   ],
   "source": [
    "#df_Abs['Abstract'][125]: systematic review"
   ]
  },
  {
   "cell_type": "code",
   "execution_count": 238,
   "metadata": {},
   "outputs": [],
   "source": [
    "df_Abs.at[125,'AbL'] = 0"
   ]
  },
  {
   "cell_type": "code",
   "execution_count": 239,
   "metadata": {
    "collapsed": true
   },
   "outputs": [
    {
     "data": {
      "text/plain": [
       "'Nightmares are a common and serious problem in psychotherapeutic practice, although they are seldom considered as independent mental disorders. There are some promising approaches to the treatment of nightmares, notably Imagery Rehearsal Therapy, a cognitive-restructuring treatment. The core of this approach is the modification of the nightmare script and repeated imagination of the new script. However, most evaluation surveys have been conducted only with trauma patients, and thus far there is no standardized manual in the German language. 69 participants were examined using self-rating questionnaires. Participants belonged to three groups: 22 primarily nightmare sufferers, 21 patients with major depression and nightmares, 26 with PTSD and nightmares. 12 of the PTSD patients were randomly assigned to a control condition. Primary outcome measures were nightmare frequency and anxiety during nightmares. Overall, nightmare frequency and the anxiety they caused decreased following the treatment. Nightmare frequency and anxiety during the nightmares were highest in the PTSD group initially. Nightmare frequency decreased in all groups. Anxiety scores decreased least in PTSD patients, in depressive patients and primarily nightmare sufferers anxiety scores decreased during intervention. In primarily nightmare sufferers anxiety remained low up to the catamnesis period as well. Thus, those who suffered primarily from nightmares showed the strongest benefit from the nightmare treatment.'"
      ]
     },
     "execution_count": 239,
     "metadata": {},
     "output_type": "execute_result"
    }
   ],
   "source": [
    "#df_Abs['Abstract'][126]: not CAM"
   ]
  },
  {
   "cell_type": "code",
   "execution_count": 240,
   "metadata": {},
   "outputs": [],
   "source": [
    "df_Abs.at[126,'AbL'] = 0"
   ]
  },
  {
   "cell_type": "code",
   "execution_count": 241,
   "metadata": {
    "collapsed": true
   },
   "outputs": [
    {
     "data": {
      "text/plain": [
       "\"To quantify the effects of mindfulness-based therapy (MBT) on physical health, psychological health and quality of life (QOL) in patients with breast cancer. Studies were identified through a systematic search of six electronic databases. Randomized control trials (RCTs) examining the effects of MBT, versus a control group receiving no intervention on physical health, psychological health and QOL in breast cancer patients were included. Two authors independently assessed the methodological quality of included studies using a quality-scoring instrument developed by Jadad et al. and extracted relevant information according to a predesigned extraction form. Data was analysed using the Cochrane Collaboration's Revman5.1. Finally, seven studies involving 951 patients were included. While limited in power, the results of meta-analysis indicated a positive effect of MBT in reducing anxiety [SMD -0.31, 95% CI -0.46 to -0.16, P<0.0001], depression[SMD -1.13, 95% CI -1.85 to -0.41, P=0.002], fear of recurrence[SMD -0.71, 95% CI -1.05 to -0.38, P<0.0001], and fatigue[SMD -0.88, 95% CI -1.71 to -0.05, P=0.04] associated with breast cancer, and improving emotional well-being [SMD 0.39, 95% CI 0.19-0.58, P=0.0001], physical function[SMD 0.42, 95% CI 0.19-0.65, P=0.0004], and physical health [SMD 0.31, 95% CI 0.08-0.54, P=0.009] in these patients. Although the effects on stress, spirituality, pain and sleep were in the expected direction, they were not statistically significant (P>0.05). Moreover, there is limited evidence from a narrative synthesis that MBT can improve QOL of breast cancer patients. The present data indicate that MBT is a promising adjunctive therapy for patients with breast cancer. Due to some methodological flaws in the literature, further well-designed RCTs with large sample sizes are needed to confirm these preliminary estimates of effectiveness.\""
      ]
     },
     "execution_count": 241,
     "metadata": {},
     "output_type": "execute_result"
    }
   ],
   "source": [
    "#df_Abs['Abstract'][127]: systematic review"
   ]
  },
  {
   "cell_type": "code",
   "execution_count": 242,
   "metadata": {},
   "outputs": [],
   "source": [
    "df_Abs.at[127,'AbL'] = 0"
   ]
  },
  {
   "cell_type": "code",
   "execution_count": 245,
   "metadata": {
    "collapsed": true
   },
   "outputs": [
    {
     "data": {
      "text/plain": [
       "'SYR 2013 Accepted Poster abstracts: 1. Benefits of Yoga as a Wellness Practice in a Veterans Affairs (VA) Health Care Setting: If You Build It, Will They Come? 2. Yoga-based Psychotherapy Group With Urban Youth Exposed to Trauma. 3. Embodied Health: The Effects of a Mind�Body Course for Medical Students. 4. Interoceptive Awareness and Vegetable Intake After a Yoga and Stress Management Intervention. 5. Yoga Reduces Performance Anxiety in Adolescent Musicians. 6. Designing and Implementing a Therapeutic Yoga Program for Older Women With Knee Osteoarthritis. 7. Yoga and Life Skills Eating Disorder Prevention Among 5th Grade Females: A Controlled Trial. 8. A Randomized, Controlled Trial Comparing the Impact of Yoga and Physical Education on the Emotional and Behavioral Functioning of Middle School Children. 9. Feasibility of a Multisite, Community based Randomized Study of Yoga and Wellness Education for Women With Breast Cancer Undergoing Chemotherapy. 10. A Delphi Study for the Development of Protocol Guidelines for Yoga Interventions in Mental Health. 11. Impact Investigation of Breathwalk Daily Practice: Canada�India Collaborative Study. 12. Yoga Improves Distress, Fatigue, and Insomnia in Older Veteran Cancer Survivors: Results of a Pilot Study. 13. Assessment of Kundalini Mantra and Meditation as an Adjunctive Treatment With Mental Health Consumers. 14. Kundalini Yoga Therapy Versus Cognitive Behavior Therapy for Generalized Anxiety Disorder and Co-Occurring Mood Disorder. 15. Baseline Differences in Women Versus Men Initiating Yoga Programs to Aid Smoking Cessation: Quitting in Balance Versus QuitStrong. 16. Pranayam Practice: Impact on Focus and Everyday Life of Work and Relationships. 17. Participation in a Tailored Yoga Program is Associated With Improved Physical Health in Persons With Arthritis. 18. Effects of Yoga on Blood Pressure: Systematic Review and Meta-analysis. 19. A Quasi-experimental Trial of a Yoga based Intervention to Reduce Stress and Promote Health and Well-being Among Middle School Educators. 20. A Systematic Review of Yoga-based Interventions for Objective and Subjective Balance Measures. 21. Disparities in Yoga Use: A Multivariate Analysis of 2007 National Health Interview Survey Data. 22. Implementing Yoga Therapy Adapted for Older Veterans Who Are Cancer Survivors. 23. Randomized, Controlled Trial of Yoga for Women With Major Depressive Disorder: Decreased Ruminations as Potential Mechanism for Effects on Depression? 24. Yoga Beyond the Metropolis: A Yoga Telehealth Program for Veterans. 25. Yoga Practice Frequency, Relationship Maintenance Behaviors, and the Potential Mediating Role of Relationally Interdependent Cognition. 26. Effects of Medical Yoga in Quality of Life, Blood Pressure, and Heart Rate in Patients With Paroxysmal Atrial Fibrillation. 27. Yoga During School May Promote Emotion Regulation Capacity in Adolescents: A Group Randomized, Controlled Study. 28. Integrated Yoga Therapy in a Single Session as a Stress Management Technique in Comparison With Other Techniques. 29. Effects of a Classroom-based Yoga Intervention on Stress and Attention in Second and Third Grade Students. 30. Improving Memory, Attention, and Executive Function in Older Adults with Yoga Therapy. 31. Reasons for Starting and Continuing Yoga. 32. Yoga and Stress Management May Buffer Against Sexual Risk-Taking Behavior Increases in College Freshmen. 33. Whole-systems Ayurveda and Yoga Therapy for Obesity: Outcomes of a Pilot Study. 34. Women�s Phenomenological Experiences of Exercise, Breathing, and the Body During Yoga for Smoking Cessation Treatment. 35. Mindfulness as a Tool for Trauma Recovery: Examination of a Gender-responsive Trauma-informed Integrative Mindfulness Program for Female Inmates. 36. Yoga After Stroke Leads to Multiple Physical Improvements. 37. Tele-Yoga in Patients With Chronic Obstructive Pulmonary Disease and Heart Failure: A Mixed-methods Study of Feasibility, Acceptability, and Safety. 38. Effects of an Ashtanga Yoga-based Health and Wellness Curriculum on Physical and Emotional Well-being, Engagement Toward School, and Academic Performance of K-6 Students. 39. Yoga as a Facilitator for Participation Following an 8-week Yoga for Individuals With Chronic Stroke. 40. Standardization of Design and Reporting of Yoga Interventions for Musculoskeletal Conditions: A Delphi Approach. 41. Creating S.P.A.C.E. Through Yoga: Africa Yoga Project Teachers Promote Personal Transformation, Peaceful Communities, and Purpose-filled Service. '"
      ]
     },
     "execution_count": 245,
     "metadata": {},
     "output_type": "execute_result"
    }
   ],
   "source": [
    "#df_Abs['Abstract'][130]: 'SYR 2013 Accepted Poster abstracts (title list)"
   ]
  },
  {
   "cell_type": "code",
   "execution_count": 246,
   "metadata": {},
   "outputs": [],
   "source": [
    "df_Abs.at[130,'AbL'] = 0"
   ]
  },
  {
   "cell_type": "code",
   "execution_count": 249,
   "metadata": {
    "collapsed": true
   },
   "outputs": [
    {
     "data": {
      "text/plain": [
       "'Although some studies evaluated the effectiveness of massage therapy for fibromyalgia (FM), the role of massage therapy in the management of FM remained controversial. The purpose of this systematic review is to evaluate the evidence of massage therapy for patients with FM. Electronic databases (up to June 2013) were searched to identify relevant studies. The main outcome measures were pain, anxiety, depression, and sleep disturbance. Two reviewers independently abstracted data and appraised risk of bias. The risk of bias of eligible studies was assessed based on Cochrane tools. Standardised mean difference (SMD) and 95% confidence intervals (CI) were calculated by more conservative random-effects model. And heterogeneity was assessed based on the I(2) statistic. Nine randomized controlled trials involving 404 patients met the inclusion criteria. The meta-analyses showed that massage therapy with duration ≥ 5 weeks significantly improved pain (SMD, 0.62; 95% CI 0.05 to 1.20; p = 0.03), anxiety (SMD, 0.44; 95% CI 0.09 to 0.78; p = 0.01), and depression (SMD, 0.49; 95% CI 0.15 to 0.84; p = 0.005) in patients with FM, but not on sleep disturbance (SMD, 0.19; 95% CI -0.38 to 0.75; p = 0.52). Massage therapy with duration ≥ 5 weeks had beneficial immediate effects on improving pain, anxiety, and depression in patients with FM. Massage therapy should be one of the viable complementary and alternative treatments for FM. However, given fewer eligible studies in subgroup meta-analyses and no evidence on follow-up effects, large-scale randomized controlled trials with long follow-up are warrant to confirm the current findings.'"
      ]
     },
     "execution_count": 249,
     "metadata": {},
     "output_type": "execute_result"
    }
   ],
   "source": [
    "#df_Abs['Abstract'][133]: review"
   ]
  },
  {
   "cell_type": "code",
   "execution_count": 250,
   "metadata": {},
   "outputs": [],
   "source": [
    "df_Abs.at[133,'AbL'] = 0"
   ]
  },
  {
   "cell_type": "code",
   "execution_count": 252,
   "metadata": {
    "collapsed": true
   },
   "outputs": [
    {
     "data": {
      "text/plain": [
       "'Post amputation, the complication of phantom limb pain (PLP) is prevalent and difficult to manage. This study aimed to determine whether it was feasible and acceptable to undertake a definitive multicentred randomised controlled trial assessing the effectiveness of acupuncture for treating lower limb amputees with PLP. A mixed-methods embedded design, including a randomised controlled trial and semistructured interviews, was undertaken. A total of 15 participants with PLP were randomly assigned to receive either eight pragmatic Traditional Chinese Medicine acupuncture treatments and usual care or usual care alone over 4\\xa0weeks. Outcome measures were completed at baseline, weekly throughout the study and at 1\\xa0month post completion of the study and included: a numerical pain-rating scale, the Short-Form McGill Pain Questionnaire 2, the EQ-5D-5\\xa0L, the Hospital Anxiety and Depression Scale, the Perceived Stress Scale 10-item, the Insomnia Severity Index, and the Patient Global Impression of Change. Post completion of the trial, participants in the acupuncture group were interviewed about their experience. Feasibility-specific data were also collected. Of 24 amputees meeting the study inclusion criteria, 15 agreed to participate (recruitment rate 62.50\\xa0%). Qualitatively, acupuncture was perceived to be beneficial and effective. Quantitatively, acupuncture demonstrated clinically meaningful change in average pain intensity (raw change\\u2009=\\u20092.69) and worst pain intensity (raw change\\u2009=\\u20094.00). Feasibility-specific data identified that before undertaking a definitive trial, recruitment, practitioner adherence to the acupuncture protocol, completion of outcome measures at 1\\xa0month follow-up and blinding should be addressed. Appropriate outcome measures were identified for use in a definitive trial. Data were generated for future sample size calculations (effect size 0.64). Allowing for a 20\\xa0% dropout rate, a sample size of 85 participants per group would be needed in a future definitive trial. A future definitive trial may be possible if the areas identified in this study are addressed. As acupuncture may be effective at treating PLP, and as this feasibility study suggests that a definitive trial may be possible, a multicentred trial with adequate sample size and blinding is now needed. ClinicalTrials.gov Identifier: NCT02126436 , registered on 4 September 2014.'"
      ]
     },
     "execution_count": 252,
     "metadata": {},
     "output_type": "execute_result"
    }
   ],
   "source": [
    "#df_Abs['Abstract'][135]"
   ]
  },
  {
   "cell_type": "code",
   "execution_count": 253,
   "metadata": {},
   "outputs": [],
   "source": [
    "df_Abs.at[135,'AbL'] = 0"
   ]
  },
  {
   "cell_type": "code",
   "execution_count": 254,
   "metadata": {
    "collapsed": true
   },
   "outputs": [
    {
     "data": {
      "text/plain": [
       "'This study aims to examine the effectiveness of a self-management multimodal comprehensive coping strategy program (CCSP) on quality of life (QOL) among breast cancer patients 1 year after treatment. Patients (n = 110) with stage II, III, or IV breast cancer scheduled to receive high dose chemotherapy and autologous hematopoietic stem cell transplantation were randomized to either CCSP treatment or control group. The CCSP intervention was taught 2 week before hospital admission with reinforcement at specified times during treatment and 3 months after discharge. The CCSP components included educational information, cognitive restructuring, coping skills enhancement, and relaxation with guided imagery. Instruments administered at baseline included the following: Quality of Life Index-Cancer Version (QOLI-CV), State-Trait Anxiety Inventory, Beck Depression Inventory, and Coping Strategies Questionnaire. At 1-year follow-up, patients (n = 73) completed and returned the follow-up QOLI-CV. Patients were mainly ≥ 40 years of age, married, Caucasian, and diagnosed with advanced breast cancer. A model measuring effectiveness of CCSP on QOL (total and subscale) at 1-year follow-up showed that the CCSP group (n = 38) had significant improvement in overall QOL (p < 0.01), health and functioning (p < 0.05), and socioeconomic (p < 0.05) and psychological/spiritual well-being (p < 0.01) compared with the control group (n = 35). The CCSP patients frequently used the CCSP to manage psychological (51%) and sleep problems (60%). The CCSP improved QOL for patients at 1-year follow-up. Patients overwhelmingly reported that CCSP was beneficial. The CCSP as an effective coping intervention has potential as a self-management program for breast cancer survivors.'"
      ]
     },
     "execution_count": 254,
     "metadata": {},
     "output_type": "execute_result"
    }
   ],
   "source": [
    "#df_Abs['Abstract'][136]: CBt and relaxiation"
   ]
  },
  {
   "cell_type": "code",
   "execution_count": 257,
   "metadata": {},
   "outputs": [],
   "source": [
    "df_Abs.at[136,'AbL'] = 0"
   ]
  },
  {
   "cell_type": "code",
   "execution_count": 259,
   "metadata": {
    "collapsed": true
   },
   "outputs": [
    {
     "data": {
      "text/plain": [
       "\"Sleep disturbances are often referred to as a hallmark and as core symptoms of post-traumatic stress disorder (PTSD). Untreated sleep disturbances can contribute to the maintenance and exacerbation of PTSD symptoms, which may diminish treatment response and constitute a risk factor for poor treatment outcome. Controlled trials on treatment of sleep disturbances in refugees suffering from PTSD are scarce. The present study aims to examine sleep-enhancing treatment in refugees with PTSD. We aim to assess if add-on treatment with mianserin and/or Imagery Rehearsal Therapy (IRT) to treatment as usual (TAU) for PTSD improves sleep disturbances. We will study the relation between sleep disturbances, PTSD symptoms, psychosocial functioning and quality of life. The study is a randomised controlled superiority trial with a 2\\u2009×\\u20092 factorial design. The study will include 230 trauma-affected refugees. The patients are randomised into four groups. All four groups receive TAU - an interdisciplinary treatment approach covering a period of 6-8 months with pharmacological treatment, physiotherapy, psychoeducation and manual-based cognitive behavioural therapy within a framework of weekly sessions with a physician, physiotherapist or psychologist. One group receives solely TAU, serving as a control group, while the three remaining groups are active-treatment groups receiving add-on treatment with either mianserin, IRT or a combination of both. Treatment outcome is evaluated using self-administered rating scales, observer ratings and actigraph measurements at baseline, during treatment and post treatment. The primary outcome is subjective sleep quality using the Pittsburgh Sleep Quality Index. Secondary outcome measures are objective sleep length, nightmares, PTSD severity, symptoms of depression and anxiety, pain, quality of life and psychosocial functioning. This trial will be the first randomised controlled trial to examine sleep-enhancing treatment in trauma-affected refugees, as well as the first trial to investigate the effect of IRT and mianserin in this population. Therefore, this trial may optimise treatment recommendations for sleep disturbances in trauma-affected refugees. Based on our findings, we expect to discuss the effect of treatment, focussing on sleep disturbances. Furthermore, the results will provide new information regarding the association between sleep disturbances, PTSD symptoms, psychosocial functioning and quality of life in trauma-affected refugees. EudraCT registration under the name 'Treatment of sleep disturbances in trauma-affected refugees - a randomised controlled trial', registration number: 2015-004153-40 , registered on 13 November 2015. ClinicalTrials.gov, ID: NCT02761161. Registered on 27 April 2016.\""
      ]
     },
     "execution_count": 259,
     "metadata": {},
     "output_type": "execute_result"
    }
   ],
   "source": [
    "#df_Abs['Abstract'][138]: not CAM"
   ]
  },
  {
   "cell_type": "code",
   "execution_count": 261,
   "metadata": {},
   "outputs": [],
   "source": [
    "df_Abs.at[138,'AbL'] = 0"
   ]
  },
  {
   "cell_type": "code",
   "execution_count": 263,
   "metadata": {
    "collapsed": true
   },
   "outputs": [
    {
     "data": {
      "text/plain": [
       "'Evidence supports the use of cognitive behavioral therapies for nightmares in trauma-exposed individuals. This randomized clinical trial replicated a study of exposure, relaxation, and rescripting therapy(ERRT) and extended prior research by including broad measures of mental health difficulties, self-reported physical health problems, and quality of life. Additionally, physiological correlates of treatment-related change assessed from a script-driven imagery paradigm were examined. Forty-seven individuals were randomized to treatment or waitlist control. The treatment group demonstrated improvements relative to the control group at the one-week post-treatment assessment. At the 6-month follow-up assessment, significant improvements were found for frequency and severity of nightmares, posttraumatic stress disorder symptoms, depression, sleep quality and quantity, physical health symptoms, anger, dissociation, and tension reduction behaviors. Participants also reported improved quality of life. Treatment-related decreases in heart rate to nightmare imagery were correlated with improvements in sleep quality and quantity; treatment-related decreases in skin conductance to nightmare imagery were correlated with improvements in nightmare severity, posttraumatic stress disorder symptom severity, sleep quality, and fear of sleep; and treatment-related decreases in corrugator activity to nightmare imagery were correlated with improved physical health. Findings provide additional support for the use of ERRT in treating nightmares and related difficulties and improving sleep.'"
      ]
     },
     "execution_count": 263,
     "metadata": {},
     "output_type": "execute_result"
    }
   ],
   "source": [
    "#df_Abs['Abstract'][140]: not CAM"
   ]
  },
  {
   "cell_type": "code",
   "execution_count": 264,
   "metadata": {},
   "outputs": [],
   "source": [
    "df_Abs.at[140,'AbL'] = 0"
   ]
  },
  {
   "cell_type": "code",
   "execution_count": 265,
   "metadata": {
    "collapsed": true
   },
   "outputs": [
    {
     "data": {
      "text/plain": [
       "'The systematic review aimed to evaluate the effectiveness of massage in fibromyalgia. An electronic search was conducted at MEDLINE, SCiELO, EMBASE, ISI, PEDro, SPORTDiscus, CINAHL, Cochrane CENTRAL and LILACS (Jan 1990-May 2013). Ten randomized and non-randomized controlled trials investigating the effects of massage alone on symptoms and health-related quality of life of adult patients with fibromyalgia were included. Two reviewers independently screened records, examined full-text reports for compliance with the eligibility criteria, and extracted data. Meta-analysis (pooled from 145 participants) shows that myofascial release had large, positive effects on pain and medium effects on anxiety and depression at the end of treatment, in contrast with placebo; effects on pain and depression were maintained in the medium and short term, respectively. Narrative analysis suggests that: myofascial release also improves fatigue, stiffness and quality of life; connective tissue massage improves depression and quality of life; manual lymphatic drainage is superior to connective tissue massage regarding stiffness, depression and quality of life; Shiatsu improves pain, pressure pain threshold, fatigue, sleep and quality of life; and Swedish massage does not improve outcomes. There is moderate evidence that myofascial release is beneficial for fibromyalgia symptoms. Limited evidence supports the application of connective tissue massage and Shiatsu. Manual lymphatic drainage may be superior to connective tissue massage, and Swedish massage may have no effects. Overall, most styles of massage therapy consistently improved the quality of life of fibromyalgia patients. '"
      ]
     },
     "execution_count": 265,
     "metadata": {},
     "output_type": "execute_result"
    }
   ],
   "source": [
    "#df_Abs['Abstract'][141]: systematic review"
   ]
  },
  {
   "cell_type": "code",
   "execution_count": 266,
   "metadata": {},
   "outputs": [],
   "source": [
    "df_Abs.at[141,'AbL'] = 0"
   ]
  },
  {
   "cell_type": "code",
   "execution_count": 267,
   "metadata": {
    "collapsed": true
   },
   "outputs": [
    {
     "data": {
      "text/plain": [
       "'This study evaluates the efficacy of agomelatine, the first antidepressant to be an agonist at MT(1)/MT(2) receptors and an antagonist at 5-HT(2C) receptors, versus sertraline with regard to the amplitude of the circadian rest-activity cycle and depressive and anxiety symptoms in patients with major depressive disorder (MDD). Outpatients with DSM-IV-TR-defined MDD received either agomelatine 25 to 50 mg (n = 154) or sertraline 50 to 100 mg (n = 159) during a 6-week, randomized, double-blind treatment period. The study was conducted from 2005 to 2006. The main outcome measure was the relative amplitude of the individual rest-activity cycles, expressed as change from baseline to week 6 and collected from continuous records using wrist actigraphy and sleep logs. Secondary outcome measures were sleep efficiency and sleep latency, both derived from actigraphy, and efficacy on depression symptoms (17-Item Hamilton Depression Rating Scale total score and Clinical Global Impressions scale scores) and anxiety symptoms (Hamilton Anxiety Rating Scale total score and subscores). A significant difference in favor of agomelatine compared to sertraline on the relative amplitude of the circadian rest-activity cycle was observed at the end of the first week (P = .01). In parallel, a significant improvement of sleep latency (P <.001) and sleep efficiency (P <.001) from week 1 to week 6 was observed with agomelatine as compared to sertraline. Over the 6-week treatment period, depressive symptoms improved significantly more with agomelatine than with sertraline (P <.05), as did anxiety symptoms (P <.05). The favorable effect of agomelatine on the relative amplitude of the circadian rest-activity/sleep-wake cycle in depressed patients at week 1 reflects early improvement in sleep and daytime functioning. Higher efficacy results were observed with agomelatine as compared to sertraline on both depressive and anxiety symptoms over the 6-week treatment period, together with a good tolerability profile. These findings indicate that agomelatine offers promising benefits for MDD patients. www.isrctn.org: ISRCTN49376288.'"
      ]
     },
     "execution_count": 267,
     "metadata": {},
     "output_type": "execute_result"
    }
   ],
   "source": [
    "#df_Abs['Abstract'][142]: anti-depressant, not CAM "
   ]
  },
  {
   "cell_type": "code",
   "execution_count": 268,
   "metadata": {},
   "outputs": [],
   "source": [
    "df_Abs.at[142,'AbL'] = 0"
   ]
  },
  {
   "cell_type": "code",
   "execution_count": 271,
   "metadata": {
    "collapsed": true
   },
   "outputs": [
    {
     "data": {
      "text/plain": [
       "'Chronic pain and its associated distress and disability are common reasons for seeking medical help. Patients with chronic pain use primary healthcare services five times more than the rest of the population. Mindfulness has become an increasingly popular self-management technique. To assess the effectiveness of mindfulness-based interventions for patients with chronic pain. Systematic review and meta-analysis including randomised controlled trials of mindfulness-based interventions for chronic pain. There was no restriction to study site or setting. The databases MEDLINE(®), Embase, AMED, CINAHL, PsycINFO, and Index to Theses were searched. Titles, abstracts, and full texts were screened iteratively against inclusion criteria of: randomised controlled trials of mindfulness-based intervention; patients with non-malignant chronic pain; and economic, clinical, or humanistic outcome reported. Included studies were assessed with the Yates Quality Rating Scale. Meta-analysis was conducted. Eleven studies were included. Chronic pain conditions included: fibromyalgia, rheumatoid arthritis, chronic musculoskeletal pain, failed back surgery syndrome, and mixed aetiology. Papers were of mixed methodological quality. Main outcomes reported were pain intensity, depression, physical functioning, quality of life, pain acceptance, and mindfulness. Economic outcomes were rarely reported. Meta-analysis effect sizes for clinical outcomes ranged from 0.12 (95% confidence interval [CI] = -0.05 to 0.30) (depression) to 1.32 (95% CI = -1.19 to 3.82) (sleep quality), and for humanistic outcomes 0.03 (95% CI = -0.66 to 0.72) (mindfulness) to 1.58 (95% CI = -0.57 to 3.74) (pain acceptance). Studies with active, compared with inactive, control groups showed smaller effects. There is limited evidence for effectiveness of mindfulness-based interventions for patients with chronic pain. Better-quality studies are required.'"
      ]
     },
     "execution_count": 271,
     "metadata": {},
     "output_type": "execute_result"
    }
   ],
   "source": [
    "#df_Abs['Abstract'][145] : review"
   ]
  },
  {
   "cell_type": "code",
   "execution_count": 272,
   "metadata": {},
   "outputs": [],
   "source": [
    "df_Abs.at[145,'AbL'] = 0"
   ]
  },
  {
   "cell_type": "code",
   "execution_count": 275,
   "metadata": {
    "collapsed": true
   },
   "outputs": [
    {
     "data": {
      "text/plain": [
       "'Attitudes about hypnosis are associated with hypnotic responsiveness. However, little is known about how hypnosis attitudes change with treatment and if those changes are associated with better outcomes. This study examined whether an intervention based on the Valencia Model of Waking Hypnosis combined with Cognitive-Behavioral Therapy changed attitudes about hypnosis in a sample of patients with a history of cancer. The results indicated that the intervention improved attitudes toward hypnosis, relative to a control intervention, and the improvements remained stable at 3-month follow-up. Analyses also showed that changes in some attitudes were associated with treatment-related improvements. The findings are consistent with the idea that attitudes about hypnosis play a role in hypnosis treatment outcome, supporting the importance of addressing such beliefs at the onset of and throughout treatment.'"
      ]
     },
     "execution_count": 275,
     "metadata": {},
     "output_type": "execute_result"
    }
   ],
   "source": [
    "#df_Abs['Abstract'][148] : hypnosis combine CBT"
   ]
  },
  {
   "cell_type": "code",
   "execution_count": 276,
   "metadata": {},
   "outputs": [],
   "source": [
    "df_Abs.at[148,'AbL'] = 0"
   ]
  },
  {
   "cell_type": "code",
   "execution_count": 11,
   "metadata": {
    "collapsed": true
   },
   "outputs": [
    {
     "data": {
      "text/plain": [
       "'Research has shown that those with insomnia focus primarily on their sleep as a cause of daytime fatigue rather than the multitude of other possible causes of fatigue. This can create sleep-related anxiety and further perpetuate the sleep disturbance. In order to lessen the increased focus on sleep, the present study investigated whether people could learn to consider other attributions for fatigue via an information-based manipulation. Undergraduate students (N = 88) were randomized to two information groups: They either received information about common factors that could explain daytime fatigue (the fatigue information condition) or received generic sleep-related information (the control condition). Each group was tested pre- and post-intervention. Fatigue information participants were significantly more likely to consider non-sleep-related attributions for fatigue at post-intervention, relative to control participants. These results demonstrate that attributions for fatigue may be amenable to change via an information-based intervention; thus, this research explores a preliminary step toward investigating refinements to insomnia treatments.'"
      ]
     },
     "execution_count": 11,
     "metadata": {},
     "output_type": "execute_result"
    }
   ],
   "source": [
    "#df_Abs['Abstract'][151]: not CAM"
   ]
  },
  {
   "cell_type": "code",
   "execution_count": 85,
   "metadata": {},
   "outputs": [],
   "source": [
    "df_Abs.at[151,'AbL'] = 0"
   ]
  },
  {
   "cell_type": "code",
   "execution_count": 86,
   "metadata": {},
   "outputs": [],
   "source": [
    "#df_Abs['Abstract'][152]: meta-analysis"
   ]
  },
  {
   "cell_type": "code",
   "execution_count": 87,
   "metadata": {},
   "outputs": [],
   "source": [
    "df_Abs.at[152,'AbL'] = 0"
   ]
  },
  {
   "cell_type": "code",
   "execution_count": 88,
   "metadata": {},
   "outputs": [],
   "source": [
    "#df_Abs['Abstract'][154]: CBT + relaxation"
   ]
  },
  {
   "cell_type": "code",
   "execution_count": 89,
   "metadata": {},
   "outputs": [],
   "source": [
    "df_Abs.at[154,'AbL'] = 0"
   ]
  },
  {
   "cell_type": "code",
   "execution_count": 90,
   "metadata": {},
   "outputs": [],
   "source": [
    "#df_Abs['Abstract'][155]: participant of children"
   ]
  },
  {
   "cell_type": "code",
   "execution_count": 91,
   "metadata": {},
   "outputs": [],
   "source": [
    "df_Abs.at[155,'AbL'] = 0"
   ]
  },
  {
   "cell_type": "code",
   "execution_count": 92,
   "metadata": {},
   "outputs": [],
   "source": [
    "#df_Abs['Abstract'][156]: systematic review"
   ]
  },
  {
   "cell_type": "code",
   "execution_count": 93,
   "metadata": {},
   "outputs": [],
   "source": [
    "df_Abs.at[156,'AbL'] = 0"
   ]
  },
  {
   "cell_type": "code",
   "execution_count": 94,
   "metadata": {},
   "outputs": [],
   "source": [
    "#df_Abs['Abstract'][157]:systematic review"
   ]
  },
  {
   "cell_type": "code",
   "execution_count": 95,
   "metadata": {},
   "outputs": [],
   "source": [
    "df_Abs.at[157,'AbL'] = 0"
   ]
  },
  {
   "cell_type": "code",
   "execution_count": 96,
   "metadata": {},
   "outputs": [],
   "source": [
    "#df_Abs['Abstract'][158]: protocol"
   ]
  },
  {
   "cell_type": "code",
   "execution_count": 97,
   "metadata": {},
   "outputs": [],
   "source": [
    "df_Abs.at[158,'AbL'] = 0"
   ]
  },
  {
   "cell_type": "code",
   "execution_count": 98,
   "metadata": {},
   "outputs": [],
   "source": [
    "#df_Abs['Abstract'][161]: not RCT"
   ]
  },
  {
   "cell_type": "code",
   "execution_count": 99,
   "metadata": {},
   "outputs": [],
   "source": [
    "df_Abs.at[161,'AbL'] = 0"
   ]
  },
  {
   "cell_type": "code",
   "execution_count": 100,
   "metadata": {},
   "outputs": [],
   "source": [
    "#df_Abs['Abstract'][164]: acupuncture combined with seroxat"
   ]
  },
  {
   "cell_type": "code",
   "execution_count": 101,
   "metadata": {},
   "outputs": [],
   "source": [
    "df_Abs.at[164,'AbL'] = 0"
   ]
  },
  {
   "cell_type": "code",
   "execution_count": 102,
   "metadata": {},
   "outputs": [],
   "source": [
    "#df_Abs['Abstract'][165]: not RCT"
   ]
  },
  {
   "cell_type": "code",
   "execution_count": 103,
   "metadata": {},
   "outputs": [],
   "source": [
    "df_Abs.at[165,'AbL'] = 0"
   ]
  },
  {
   "cell_type": "code",
   "execution_count": 104,
   "metadata": {},
   "outputs": [],
   "source": [
    "#df_Abs['Abstract'][166]: pilot for pharmacotherapy RCT"
   ]
  },
  {
   "cell_type": "code",
   "execution_count": 105,
   "metadata": {},
   "outputs": [],
   "source": [
    "df_Abs.at[166,'AbL'] = 0"
   ]
  },
  {
   "cell_type": "code",
   "execution_count": 106,
   "metadata": {},
   "outputs": [],
   "source": [
    "#df_Abs['Abstract'][167]:adolescents"
   ]
  },
  {
   "cell_type": "code",
   "execution_count": 107,
   "metadata": {},
   "outputs": [],
   "source": [
    "df_Abs.at[167,'AbL'] = 0"
   ]
  },
  {
   "cell_type": "code",
   "execution_count": 108,
   "metadata": {},
   "outputs": [],
   "source": [
    "#df_Abs['Abstract'][169]: systematic review"
   ]
  },
  {
   "cell_type": "code",
   "execution_count": 109,
   "metadata": {},
   "outputs": [],
   "source": [
    "df_Abs.at[169,'AbL'] = 0"
   ]
  },
  {
   "cell_type": "code",
   "execution_count": 110,
   "metadata": {},
   "outputs": [],
   "source": [
    "#df_Abs['Abstract'][170]: SSRI plus acupuncture"
   ]
  },
  {
   "cell_type": "code",
   "execution_count": 111,
   "metadata": {},
   "outputs": [],
   "source": [
    "df_Abs.at[170,'AbL'] = 0"
   ]
  },
  {
   "cell_type": "code",
   "execution_count": 112,
   "metadata": {},
   "outputs": [],
   "source": [
    "#df_Abs['Abstract'][171]: adolescent"
   ]
  },
  {
   "cell_type": "code",
   "execution_count": 113,
   "metadata": {},
   "outputs": [],
   "source": [
    "df_Abs.at[171,'AbL'] = 0"
   ]
  },
  {
   "cell_type": "code",
   "execution_count": 114,
   "metadata": {},
   "outputs": [],
   "source": [
    "#df_Abs['Abstract'][175]: summary"
   ]
  },
  {
   "cell_type": "code",
   "execution_count": 115,
   "metadata": {},
   "outputs": [],
   "source": [
    "df_Abs.at[175,'AbL'] = 0"
   ]
  },
  {
   "cell_type": "code",
   "execution_count": 116,
   "metadata": {},
   "outputs": [],
   "source": [
    "#df_Abs['Abstract'][176]: protocol"
   ]
  },
  {
   "cell_type": "code",
   "execution_count": 117,
   "metadata": {},
   "outputs": [],
   "source": [
    "df_Abs.at[176,'AbL'] = 0"
   ]
  },
  {
   "cell_type": "code",
   "execution_count": 118,
   "metadata": {},
   "outputs": [],
   "source": [
    "#df_Abs['Abstract'][178]:colicky infants"
   ]
  },
  {
   "cell_type": "code",
   "execution_count": 119,
   "metadata": {},
   "outputs": [],
   "source": [
    "df_Abs.at[178,'AbL'] = 0"
   ]
  },
  {
   "cell_type": "code",
   "execution_count": 120,
   "metadata": {},
   "outputs": [],
   "source": [
    "#df_Abs['Abstract'][181]:secondary analysis of adherence and satisfaction of RCT"
   ]
  },
  {
   "cell_type": "code",
   "execution_count": 121,
   "metadata": {},
   "outputs": [],
   "source": [
    "df_Abs.at[181,'AbL'] = 0"
   ]
  },
  {
   "cell_type": "code",
   "execution_count": 122,
   "metadata": {},
   "outputs": [],
   "source": [
    "#df_Abs['Abstract'][182]: review"
   ]
  },
  {
   "cell_type": "code",
   "execution_count": 123,
   "metadata": {},
   "outputs": [],
   "source": [
    "df_Abs.at[182,'AbL'] = 0"
   ]
  },
  {
   "cell_type": "code",
   "execution_count": 124,
   "metadata": {},
   "outputs": [],
   "source": [
    "#df_Abs['Abstract'][184]: infants"
   ]
  },
  {
   "cell_type": "code",
   "execution_count": 125,
   "metadata": {},
   "outputs": [],
   "source": [
    "df_Abs.at[184,'AbL'] = 0"
   ]
  },
  {
   "cell_type": "code",
   "execution_count": 126,
   "metadata": {},
   "outputs": [],
   "source": [
    "#df_Abs['Abstract'][186]: not CAMs"
   ]
  },
  {
   "cell_type": "code",
   "execution_count": 127,
   "metadata": {},
   "outputs": [],
   "source": [
    "df_Abs.at[186,'AbL'] = 0"
   ]
  },
  {
   "cell_type": "code",
   "execution_count": 128,
   "metadata": {},
   "outputs": [],
   "source": [
    "#df_Abs['Abstract'][187]:review"
   ]
  },
  {
   "cell_type": "code",
   "execution_count": 129,
   "metadata": {},
   "outputs": [],
   "source": [
    "df_Abs.at[187,'AbL'] = 0"
   ]
  },
  {
   "cell_type": "code",
   "execution_count": 82,
   "metadata": {
    "collapsed": true
   },
   "outputs": [
    {
     "data": {
      "text/plain": [
       "\"Generalized anxiety disorder (GAD) is common in older adults; however, access to treatment may be limited, particularly in rural areas. To examine the effects of telephone-delivered cognitive behavioral therapy (CBT) compared with telephone-delivered nondirective supportive therapy (NST) in rural older adults with GAD. Randomized clinical trial in the participants' homes of 141 adults aged 60 years and older with a principal or coprincipal diagnosis of GAD who were recruited between January 27, 2011, and October 22, 2013. Telephone-delivered CBT consisted of as many as 11 sessions (9 were required) focused on recognition of anxiety symptoms, relaxation, cognitive restructuring, the use of coping statements, problem solving, worry control, behavioral activation, exposure therapy, and relapse prevention, with optional chapters on sleep and pain. Telephone-delivered NST consisted of 10 sessions focused on providing a supportive atmosphere in which participants could share and discuss their feelings and did not provide any direct suggestions for coping. Primary outcomes included interviewer-rated anxiety severity (Hamilton Anxiety Rating Scale) and self-reported worry severity (Penn State Worry Questionnaire-Abbreviated) measured at baseline, 2 months' follow-up, and 4 months' follow-up. Mood-specific secondary outcomes included self-reported GAD symptoms (GAD Scale 7 Item) measured at baseline and 4 months' follow-up and depressive symptoms (Beck Depression Inventory) measured at baseline, 2 months' follow-up, and 4 months' follow-up. Among the 141 participants, 70 were randomized to receive CBT and 71 to receive NST. At 4 months' follow-up, there was a significantly greater decline in worry severity among participants in the telephone-delivered CBT group (difference in improvement, -4.07; 95% CI, -6.26 to -1.87; P\\u2009=\\u2009.004) but no significant differences in general anxiety symptoms (difference in improvement, -1.52; 95% CI, -4.07 to 1.03; P\\u2009=\\u2009.24). At 4 months' follow-up, there was a significantly greater decline in GAD symptoms (difference in improvement, -2.36; 95% CI, -4.00 to -0.72; P\\u2009=\\u2009.005) and depressive symptoms (difference in improvement, -3.23; 95% CI, -5.97 to -0.50; P\\u2009=\\u2009.02) among participants in the telephone-delivered CBT group. In this trial, telephone-delivered CBT was superior to telephone-delivered NST in reducing worry, GAD symptoms, and depressive symptoms in older adults with GAD. clinicaltrials.gov Identifier: NCT01259596.\""
      ]
     },
     "execution_count": 82,
     "metadata": {},
     "output_type": "execute_result"
    }
   ],
   "source": [
    "#df_Abs['Abstract'][188]: CBT vs. NST"
   ]
  },
  {
   "cell_type": "code",
   "execution_count": 131,
   "metadata": {},
   "outputs": [],
   "source": [
    "df_Abs.at[188,'AbL'] = 0"
   ]
  },
  {
   "cell_type": "code",
   "execution_count": 132,
   "metadata": {
    "collapsed": true
   },
   "outputs": [
    {
     "data": {
      "text/plain": [
       "'To systematically review placebo-controlled randomized trials of homeopathy for psychiatric conditions. Eligible studies were identified using the following databases from database inception to April 2010: PubMed, CINAHL, PsycINFO, Hom-Inform, Cochrane CENTRAL, National Center for Complementary and Alternative Medicine grantee publications database, and ClinicalTrials.gov. Gray literature was also searched using Google, Google Scholar, the European Committee for Homeopathy, inquiries with homeopathic experts and manufacturers, and the bibliographic lists of included published studies and reviews. Search terms were as follows: (homeopath* or homoeopath*) and (placebo or sham) and (anxiety or panic or phobia or post-traumatic stress or PTSD or obsessive-compulsive disorder or fear or depress* or dysthym* or attention deficit hyperactivity or premenstrual syndrome or premenstrual disorder or premenstrual dysphoric disorder or traumatic brain injury or fibromyalgia or chronic fatigue syndrome or myalgic encephalitis or insomnia or sleep disturbance). Searches included only English-language literature that reported randomized controlled trials in humans. Trials were included if they met 7 criteria and were assessed for possible bias using the Scottish Intercollegiate Guidelines Network (SIGN) 50 guidelines. Overall assessments were made using the Grading of Recommendations Assessment, Development and Evaluation procedure. Identified studies were grouped into anxiety or stress, sleep or circadian rhythm complaints, premenstrual problems, attention-deficit/hyperactivity disorder, mild traumatic brain injury, and functional somatic syndromes. Twenty-five eligible studies were identified from an initial pool of 1,431. Study quality according to SIGN 50 criteria varied, with 6 assessed as good, 9 as fair, and 10 as poor. Outcome was unrelated to SIGN quality. Effect size could be calculated in 16 studies, and number needed to treat, in 10 studies. Efficacy was found for the functional somatic syndromes group (fibromyalgia and chronic fatigue syndrome), but not for anxiety or stress. For other disorders, homeopathy produced mixed effects. No placebo-controlled studies of depression were identified. Meaningful safety data were lacking in the reports, but the superficial findings suggested good tolerability of homeopathy. A funnel plot in 13 studies did not support publication bias (χ(2)(1) = 1.923, P = .166). The database on studies of homeopathy and placebo in psychiatry is very limited, but results do not preclude the possibility of some benefit.'"
      ]
     },
     "execution_count": 132,
     "metadata": {},
     "output_type": "execute_result"
    }
   ],
   "source": [
    "#df_Abs['Abstract'][189]: systematic review"
   ]
  },
  {
   "cell_type": "code",
   "execution_count": 133,
   "metadata": {},
   "outputs": [],
   "source": [
    "df_Abs.at[189,'AbL'] = 0"
   ]
  },
  {
   "cell_type": "code",
   "execution_count": 134,
   "metadata": {
    "collapsed": true
   },
   "outputs": [
    {
     "data": {
      "text/plain": [
       "\"The objective of this clinical trial was to determine if an intervention of listening to nursery songs with integrated heartbeat sounds resulted in changes in anxiety levels in infants and children younger than 4 years in an emergent setting. This is a randomized single-blinded controlled trial. The study included 62 children younger than 4 years who were deemed by the emergency physician to need a computed tomographic (CT) scan. The experimental group (Exp) (n=30) listened to recorded children's songs with integrated heartbeat sounds (Baby Go To Sleep compact disc) before and during the head CT. The controls (Con) (n=32) had no music. Two scales to measure agitation were completed by a trained research associate: (1) a 10-cm visual analog scale (VAS) and (2) the Modified Ramsay Sedation Scale (MRSS). The research associate wore headphones blocking out all music. The research associate recorded agitation levels preintervention and postintervention on the 2 scales, whether there was successful completion of the head CT without pharmacologic intervention, and the frequency of medication use. Mann-Whitney U, t test, and logistic regression were used for analysis, and P<.05 was considered significant. There were no differences between groups in the age, sex, initial vital signs, diagnostic category, ethnicity, insurance status, rate of completion of head CT, rate of medication use, hospital admissions, or initial VAS or MRSS score. There was improvement on the VAS score in 53% of the Exp group subjects and 25% of the Con group subjects. The VAS score in the Exp group improved by 1.6 cm, whereas the Con group worsened by 0.8 cm after the intervention (difference=2.4 cm, P=.03). There were no significant changes in MRSS scores. Accounting for age, sex, and admission status, the adjusted odds of having an improved sedation score were 3.2 (1.0-9.7) in the Exp group. Measured on a VAS, there was a significant decrease in agitation in children undergoing a head CT when children's songs with integrated heartbeat sounds were played before and during the procedure.\""
      ]
     },
     "execution_count": 134,
     "metadata": {},
     "output_type": "execute_result"
    }
   ],
   "source": [
    "#df_Abs['Abstract'][190]: infants and children"
   ]
  },
  {
   "cell_type": "code",
   "execution_count": 135,
   "metadata": {},
   "outputs": [],
   "source": [
    "df_Abs.at[190,'AbL'] = 0"
   ]
  },
  {
   "cell_type": "code",
   "execution_count": 136,
   "metadata": {
    "collapsed": true
   },
   "outputs": [
    {
     "data": {
      "text/plain": [
       "'Few studies have examined relationships between circadian rhythms and unipolar major depressive disorder. Further, no study to date has examined circadian markers as predictors of response to depression treatment. In the present study, we examined associations between circadian timing and its alignment with sleep and depression severity in 30 adults with major depressive disorder who completed a randomized controlled trial of two weeks of time in bed (TIB) restriction administered adjunctive to fluoxetine, with a focus on sex differences. Thirty adults with major depressive disorder received 8 weeks of fluoxetine 20-40 mgs and were randomized to 8h TIB or 6h TIB for the first 2 weeks. Participants in the 6h TIB condition were further randomized to a delayed bedtime or advanced risetime group. Circadian measures included dim light melatonin onset (DLMO) and the difference between DLMO and midsleep point (i.e., phase angle difference). Depression was assessed using the Hamilton Rating Scale for Depression. For females, a phase delay after 2 weeks of fluoxetine and the experimental TIB manipulation was associated with a poorer response to fluoxetine, and depression severity was negatively correlated with phase angle difference, whereas males showed a positive correlation between depression severity and phase angle difference.'"
      ]
     },
     "execution_count": 136,
     "metadata": {},
     "output_type": "execute_result"
    }
   ],
   "source": [
    "#df_Abs['Abstract'][191]: not RCT"
   ]
  },
  {
   "cell_type": "code",
   "execution_count": 137,
   "metadata": {},
   "outputs": [],
   "source": [
    "df_Abs.at[191,'AbL'] = 0"
   ]
  },
  {
   "cell_type": "code",
   "execution_count": 138,
   "metadata": {
    "collapsed": true
   },
   "outputs": [
    {
     "data": {
      "text/plain": [
       "\" Co-morbid symptoms (for example, chronic pain, depression, anxiety, and fatigue) are particularly common in military fighters returning from the current conflicts, who have experienced physical and/or psychological trauma. These overlapping conditions cut across the boundaries of mind, brain and body, resulting in a common symptomatic and functional spectrum of physical, cognitive, psychological and behavioral effects referred to as the 'Trauma Spectrum Response' (TSR). While acupuncture has been shown to treat some of these components effectively, the current literature is often difficult to interpret, inconsistent or of variable quality. Thus, to gauge comprehensively the effectiveness of acupuncture across TSR components, a systematic review of reviews was conducted using the Samueli Institute's Rapid Evidence Assessment of the Literature (REAL©) methodology. PubMed/MEDLINE, the Cochrane Database of Systematic Reviews, EMBASE, CINAHL, and PsycInfo were searched from inception to September 2011 for systematic reviews/meta-analyses. Quality assessment was rigorously performed using the Scottish Intercollegiate Guidelines Network (SIGN 50) checklist and the Grading of Recommendations, Assessment, Development and Evaluation (GRADE) methodology. Adherence to the Standards for Reporting Interventions in Clinical Trials in Acupuncture (STRICTA) criteria was also assessed. Of the 1,480 citations identified by our searches, 52 systematic reviews/meta-analyses, all high quality except for one, met inclusion criteria for each TSR component except post-traumatic stress disorder (PTSD) and sexual function. The majority of reviews addressed most STRICTA components, but did not describe safety. Based on the results of our review, acupuncture appears to be effective for treating headaches and, although more research is needed, seems to be a promising treatment option for anxiety, sleep disturbances, depression and chronic pain. It does not, however, demonstrate any substantial treatment benefit for substance abuse. Because there were no reviews on PTSD or sexual function that met our pre-defined inclusion criteria, we cannot comment on acupuncture's effectiveness in treating these conditions. More quality data are also needed to determine whether acupuncture is appropriate for treating fatigue or cognitive difficulties. Further, while acupuncture has been shown to be generally safe, safety was not described in the majority of studies, making it difficult to provide any strong recommendations. Future research should address safety reporting in detail in order to increase our confidence in acupuncture's efficacy across the identified TSR components.\""
      ]
     },
     "execution_count": 138,
     "metadata": {},
     "output_type": "execute_result"
    }
   ],
   "source": [
    "#df_Abs['Abstract'][192]: systematic review"
   ]
  },
  {
   "cell_type": "code",
   "execution_count": 139,
   "metadata": {},
   "outputs": [],
   "source": [
    "df_Abs.at[192,'AbL'] = 0"
   ]
  },
  {
   "cell_type": "code",
   "execution_count": 140,
   "metadata": {
    "collapsed": true
   },
   "outputs": [
    {
     "data": {
      "text/plain": [
       "\"Major depressive disorder (MDD) is the most common disorder in our community. Hypericum perforatumm, is a herb with a long application history in treating depression. A controlled study to evaluate the effects of this herbal medicine in Iran did not exist. This study aimed to assess the effect of Hypericum perforatom (perforan), in combination with tricyclic antidepressants in MDD treatment. The present study was a placebo-controlled double blind randomized clinical trial including 40 patients with major depressive disorder who referred to Psychiatric Clinic and Golestan Hospital in 2011. Patients were randomly distributed in 4 blocks with 10 patients in each. 5 out of 10 patients took medicine (group I) and the others received placebo (group II). After six weeks, both groups indicated some improvement, there was also a significant degree of recovery in the perforan group (P = 0.04). The results of the current study suggested that combinations of St. John's Wort and tricyclic antidepressants compared to tricyclic antidepressants alone had significant effect on mild to moderate depression improvement. According to the numerous side effects of antidepressants, their continuous use was not well tolerated. There is a strong global tendency to use herbal medicines. Hypericum perforatom (St. John's Wort) is one of the best types of unapproved MDD treatments. Also, the most common reason to discontinue antidepressant treatments is their sexual side effects. None of the patients in the two groups had complained about sexual side effects which was consistent with other studies and it was an advantage of using this herbal medicine. Perforan group had improved in quality of sleep and the increase of energy. This improvement had not been reported in previous studies. Sleep problems are common complications of specific serotonin reuptake inhibitors (SSRIs).\""
      ]
     },
     "execution_count": 140,
     "metadata": {},
     "output_type": "execute_result"
    }
   ],
   "source": [
    "#df_Abs['Abstract'][193]:combinations of St. John's Wort and tricyclic antidepressants "
   ]
  },
  {
   "cell_type": "code",
   "execution_count": 141,
   "metadata": {},
   "outputs": [],
   "source": [
    "df_Abs.at[193,'AbL'] = 0"
   ]
  },
  {
   "cell_type": "code",
   "execution_count": 144,
   "metadata": {
    "collapsed": true
   },
   "outputs": [
    {
     "data": {
      "text/plain": [
       "'Objectives. The fibromyalgia syndrome (FMS) is a chronic condition with only few evidence-based complementary and alternative therapies available. This paper presents a systematic review and meta-analysis of the effectiveness of Qigong for fibromyalgia syndrome. Methods. The PubMed/MEDLINE, Cochrane Library, Embase, PsycINFO, and Cambase databases were screened in December 2012 to identify randomized controlled trials comparing Qigong to control interventions. Major outcome measures were pain and quality of life; and secondary outcomes included sleep quality, fatigue, depression, and safety. Standardized mean differences (SMD) and 95% confidence intervals were calculated. Results. Seven trials were located with a total of 395\\u2009FMS patients. Analyses revealed low quality evidence for short-term improvement of pain, quality of life, and sleep quality and very low quality evidence for improvement of fatigue after Qigong for FMS, when compared to usual care. No evidence was found for superiority of Qigong compared to active treatments. No serious adverse events were reported. Discussion. This systematic review found that Qigong may be a useful approach for FMS patients. According to the quality of evidence, only a weak recommendation for Qigong can be made at this point. Further high quality RCTs are required for the conclusive judgment of its long-term effects. '"
      ]
     },
     "execution_count": 144,
     "metadata": {},
     "output_type": "execute_result"
    }
   ],
   "source": [
    "#df_Abs['Abstract'][196]: review"
   ]
  },
  {
   "cell_type": "code",
   "execution_count": 145,
   "metadata": {},
   "outputs": [],
   "source": [
    "df_Abs.at[196,'AbL'] = 0"
   ]
  },
  {
   "cell_type": "code",
   "execution_count": 146,
   "metadata": {
    "collapsed": true
   },
   "outputs": [
    {
     "data": {
      "text/plain": [
       "\"Environmental (little outdoor light; low indoor lighting) and age-related physiological factors (reduced light transmission through the ocular lens, reduced mobility) contribute to a light-deprived environment for older people living in care homes. This study investigates the effect of increasing indoor light levels with blue-enriched white lighting on objective (rest-activity rhythms, performance) and self-reported (mood, sleep, alertness) measures in older people. Eighty residents (69 female), aged 86 ± 8 yrs (mean ± SD), participated (MMSE 19 ± 6). Overhead fluorescent lighting was installed in communal rooms (n=20) of seven care homes. Four weeks of blue-enriched white lighting (17000 K ≅ 900 lux) were compared with four weeks of control white lighting (4000 K ≅ 200 lux), separated by three weeks wash-out. Participants completed validated mood and sleep questionnaires, psychomotor vigilance task (PVT) and wore activity and light monitors (AWL). Rest-activity rhythms were assessed by cosinor, non-parametric circadian rhythm (NPCRA) and actigraphic sleep analysis. Blue-enriched (17000 K) light increased wake time and activity during sleep decreasing actual sleep time, sleep percentage and sleep efficiency (p < 0.05) (actigraphic sleep). Compared to 4000 K lighting, blue-enriched 17000 K lighting significantly (p < 0.05) advanced the timing of participants' rest-activity rhythm (cosinor), increased daytime and night-time activity (NPCRA), reduced subjective anxiety (HADA) and sleep quality (PSQI). There was no difference between the two light conditions in daytime alertness and performance (PVT). Blue-enriched lighting produced some positive (increased daytime activity, reduced anxiety) and negative (increased night-time activity, reduced sleep efficiency and quality) effects in older people.\""
      ]
     },
     "execution_count": 146,
     "metadata": {},
     "output_type": "execute_result"
    }
   ],
   "source": [
    "#df_Abs['Abstract'][197]: light therapy"
   ]
  },
  {
   "cell_type": "code",
   "execution_count": 149,
   "metadata": {},
   "outputs": [],
   "source": [
    "df_Abs.at[197,'AbL'] = 0"
   ]
  },
  {
   "cell_type": "code",
   "execution_count": 148,
   "metadata": {
    "collapsed": true
   },
   "outputs": [
    {
     "data": {
      "text/plain": [
       "'The music-with-movement intervention is particularly suitable for people with dementia because their gross motor ability is preserved until the later stage of dementia. This study examines the effect of music-with-movement on reducing anxiety, sleep disturbances, and improving the wellbeing of people with dementia. This paper reports the first stage of the study - developing the intervention protocol that staff can use to teach family caregivers. A registered music therapist developed a music-with-movement protocol and taught staff of two social service centers over five weekly 1.5 h sessions, with center-in-charges (social workers and occupational therapists) and our research team joining these sessions to provide comments from their professional perspective. Each discipline had different expectations about the content; therefore, numerous meetings and discussions were held to bridge these differences and fine-tune the protocol. Few healthcare professionals doubt the merits of interdisciplinary collaboration at all levels of health promotion. In practice, interdisciplinary collaboration is complex and requires commitment. Openness and persistence is required from all stakeholders to achieve a successful intervention for consumers. '"
      ]
     },
     "execution_count": 148,
     "metadata": {},
     "output_type": "execute_result"
    }
   ],
   "source": [
    "#df_Abs['Abstract'][198]: protocol"
   ]
  },
  {
   "cell_type": "code",
   "execution_count": 150,
   "metadata": {},
   "outputs": [],
   "source": [
    "df_Abs.at[198,'AbL'] = 0"
   ]
  },
  {
   "cell_type": "code",
   "execution_count": 151,
   "metadata": {
    "collapsed": true
   },
   "outputs": [
    {
     "data": {
      "text/plain": [
       "'The objective of this review was to summarize evidence for the effectiveness of music therapy (MT) and to assess the quality of systematic reviews (SRs) based on randomized controlled trials (RCTs). An SR of SRs based on RCTs. Studies were eligible if they were RCTs. Studies included were those with at least one treatment group in which MT was applied. We searched the following databases from 1995 to October 1, 2012: MEDLINE via PubMed, CINAHL (Cumulative Index of Nursing and Allied Health Literature), Web of Science, Global Health Library, and Ichushi-Web. We also searched all Cochrane Database and Campbell Systematic Reviews up to October 1, 2012. Based on the International Classification of Diseases, 10th revision, we identified a disease targeted for each article. Twenty-one studies met all inclusion criteria. This study included 16 Cochrane reviews. As a whole, the quality of the articles was very good. Eight studies were about \"Mental and behavioural disorders (F00-99)\"; there were two studies on \"Diseases of the nervous system (G00-99)\" and \"Diseases of the respiratory system (J00-99)\"; and there was one study each for \"Endocrine, nutritional and metabolic diseases (E00-90)\", \"Diseases of the circulatory system (I00-99)\", and \"Pregnancy, childbirth and the puerperium (O60)\". MT treatment improved the following: global and social functioning in schizophrenia and/or serious mental disorders, gait and related activities in Parkinson\\'s disease, depressive symptoms, and sleep quality. THIS COMPREHENSIVE SUMMARY OF SRS DEMONSTRATED THAT MT TREATMENT IMPROVED THE FOLLOWING: global and social functioning in schizophrenia and/or serious mental disorders, gait and related activities in Parkinson\\'s disease, depressive symptoms, and sleep quality. MT may have the potential for improving other diseases, but there is not enough evidence at present. Most importantly, no specific adverse effect or harmful phenomenon occurred in any of the studies, and MT was well tolerated by almost all patients.'"
      ]
     },
     "execution_count": 151,
     "metadata": {},
     "output_type": "execute_result"
    }
   ],
   "source": [
    "#df_Abs['Abstract'][199]: review"
   ]
  },
  {
   "cell_type": "code",
   "execution_count": 152,
   "metadata": {},
   "outputs": [],
   "source": [
    "df_Abs.at[199,'AbL'] = 0"
   ]
  },
  {
   "cell_type": "code",
   "execution_count": 154,
   "metadata": {
    "collapsed": true
   },
   "outputs": [
    {
     "data": {
      "text/plain": [
       "'Acupuncture has become a popular complementary treatment in oncology, particularly as patients seek non-pharmacological alternatives to provide symptom control. A considerable body of evidence suggests that acupuncture modulates neurological processes to bring about its effects. This basic research is supported by an increasing number of positive clinical studies of varying quality. Lower quality studies have hampered the widespread acceptability of acupuncture, with some deeming the inter-personal skills of the practitioner to be more powerful than the needle or its equivalent. More recent randomised control trials (RCTs) have sought to settle this controversy, with mixed results. The literature was searched to identify, where possible, RCTs involving acupuncture and various common cancer symptoms. A potential role for acupuncture was found in the following cancer symptoms: pain, nausea and vomiting, xerostomia, hot flushes, fatigue, anxiety, depression and insomnia. Acupuncture is safe with minimal side-effects, and is clinically effective for the management of these symptoms. Continuing research using validated methodology is essential. In the interim, health professionals should be open to explore the use of acupuncture with their cancer patients.'"
      ]
     },
     "execution_count": 154,
     "metadata": {},
     "output_type": "execute_result"
    }
   ],
   "source": [
    "#df_Abs['Abstract'][201]: review"
   ]
  },
  {
   "cell_type": "code",
   "execution_count": 157,
   "metadata": {},
   "outputs": [],
   "source": [
    "df_Abs.at[201,'AbL'] = 0"
   ]
  },
  {
   "cell_type": "code",
   "execution_count": 155,
   "metadata": {
    "collapsed": true
   },
   "outputs": [
    {
     "data": {
      "text/plain": [
       "'Acupuncture has been suggested as a treatment for posttraumatic stress disorder (PTSD), yet its clinical effects are unclear. This review aims to estimate effects of acupuncture on PTSD symptoms, depressive symptoms, anxiety symptoms, and sleep quality for adults with PTSD. We searched 10 databases in January 2016 to identify eligible randomized controlled trials (RCTs). We performed random effects meta-analyses and examined quality of the body of evidence (QoE) using the GRADE approach to rate confidence in meta-analytic effect estimates. Seven RCTs with 709 participants met inclusion criteria. We identified very low QoE indicating significant differences favoring acupuncture (versus any comparator) at post-intervention on PTSD symptoms (standardized mean difference [SMD]\\xa0=\\xa0-0.80, 95% confidence interval [CI] [-1.59, -0.01], 6 RCTs), and low QoE at longer follow-up on PTSD (SMD\\xa0=\\xa0-0.46, 95% CI [-0.85, -0.06], 4 RCTs) and depressive symptoms (SMD\\xa0=\\xa0-0.56; 95% CI [-0.88, -0.23], 4 RCTs). No significant differences were observed between acupuncture and comparators at post-intervention for depressive symptoms (SMD\\xa0=\\xa0-0.58, 95% CI [-1.18, 0.01], 6 RCTs, very low QoE), anxiety symptoms (SMD\\xa0=\\xa0-0.82, 95% CI [-2.16, 0.53], 4 RCTs, very low QoE), and sleep quality (SMD\\xa0=\\xa0-0.46, 95% CI [-3.95, 3.03], 2 RCTs, low QoE). Safety data (7 RCTs) suggest little risk of serious adverse events, though some participants experienced minor/moderate pain, superficial bleeding, and hematoma at needle insertion sites. To increase confidence in findings, sufficiently powered replication trials are needed that measure all relevant clinical outcomes and dedicate study resources to minimizing participant attrition.'"
      ]
     },
     "execution_count": 155,
     "metadata": {},
     "output_type": "execute_result"
    }
   ],
   "source": [
    "#df_Abs['Abstract'][202]: review"
   ]
  },
  {
   "cell_type": "code",
   "execution_count": null,
   "metadata": {},
   "outputs": [],
   "source": [
    "df_Abs.at[202,'AbL'] = 0"
   ]
  },
  {
   "cell_type": "code",
   "execution_count": 158,
   "metadata": {
    "collapsed": true
   },
   "outputs": [
    {
     "data": {
      "text/plain": [
       "\"This study's purpose was twofold: (1) to establish adherence rates to a behavioral therapy (BT) sleep intervention and (2) to identify psychological and physical symptom predictors of adherence to the intervention in women undergoing breast cancer chemotherapy. A randomized controlled trial began 48 h before the first of four chemotherapy treatments. Women with stages I-IIIA breast cancer (n = 113) received a BT sleep intervention composed of stimulus control, modified sleep restriction (MSR), relaxation therapy (RT), and sleep hygiene counseling components. A BT plan was developed by a research nurse and each participant, reinforced on day 8, and repeated for chemotherapy cycles 2, 3, and 4. Adherence to the BT plan was measured daily; total adherence score was computed at each chemotherapy cycle by combining adherence estimates of all BT plan components. Psychological and physical symptoms over the past 7 days were measured 2 days prior to and 7 days after each chemotherapy treatment. Total adherence rates to the BT plan were 51-52% at all four treatments but adherence varied by component. Sleep disturbance, pain, and anxiety significantly decreased whereas depression significantly increased across chemotherapy. Structural equation modeling revealed a good model fit with decreasing sleep disturbances (0.409) and increasing depression (-0.711) contributing to lower total adherence rates. Increasing depression predicted lower MSR adherence (-0.203) and decreasing sleep disturbances predicted lower RT adherence (1.220). Sleep disturbance and depression significantly impacted adherence rates during chemotherapy. Results warrant attention when promoting adherence to BT sleep interventions during chemotherapy treatment.\""
      ]
     },
     "execution_count": 158,
     "metadata": {},
     "output_type": "execute_result"
    }
   ],
   "source": [
    "#df_Abs['Abstract'][203]: not CAM"
   ]
  },
  {
   "cell_type": "code",
   "execution_count": 159,
   "metadata": {},
   "outputs": [],
   "source": [
    "df_Abs.at[203,'AbL'] = 0"
   ]
  },
  {
   "cell_type": "code",
   "execution_count": 160,
   "metadata": {
    "collapsed": true
   },
   "outputs": [
    {
     "data": {
      "text/plain": [
       "'Depressive disorders are among the more common mental illnesses around the world, about 1- 3% of prepubertal children and 6% of postpubertal children and adolescents are affected. They markedly impair psychosocial development and are associated with higher rate of morbidity and mortality throughout life. Many physicians are unsure about which treatment approaches are effective and how the treatment should be planned. A systematic literature search was carried out in electronic databases and study registries and as a manual search. More than 450 studies (mostly randomized controlled trials = RCTs) were identified and summarized in evidence tables. The ensuing recommendations were agreed upon in a consensus conference. The review summarizes the evidence of complementary treatment methods. The evidence for complementary treatment methods (art and music therapy, sleep deprivation, exercise, electroconvulsive therapy, massage, transcranial magnetic stimulation, relaxation, bibliotherapy, computer based therapy, light therapy, omega-3 treatment) is low or there is no evidence due to missing studies or studies of poor quality. For some methods, i. e. light therapy, relaxation and stress reduction and sleep deprivation there is limited indication for effectiveness without sufficient evidence for a practical guidance. There is an urgent need for adequately informative comparative studies on treatment of depression in children and adolescents considering also complementary methods.'"
      ]
     },
     "execution_count": 160,
     "metadata": {},
     "output_type": "execute_result"
    }
   ],
   "source": [
    "#df_Abs['Abstract'][204]: systematic review"
   ]
  },
  {
   "cell_type": "code",
   "execution_count": 161,
   "metadata": {},
   "outputs": [],
   "source": [
    "df_Abs.at[204,'AbL'] = 0"
   ]
  },
  {
   "cell_type": "code",
   "execution_count": 162,
   "metadata": {
    "collapsed": true
   },
   "outputs": [
    {
     "data": {
      "text/plain": [
       "\"People living with quadriplegia are at risk for social isolation and depression. Research with other marginalized groups has indicated that music therapy can have a positive effect on mood and social interaction. To gather descriptions of participants' experience of 2 types of group music therapy - therapeutic singing or music appreciation and relaxation - and to determine commonalities and differences between participants' experience of these 2 methods. We interviewed 20 people with quadriplegia about their experience of participating in 12 weeks of therapeutic singing (n = 10) or music appreciation and relaxation (n = 10). These methods of group music therapy were the interventions tested in a previously reported randomized controlled trial. The interview data were subjected to an inductive thematic analysis. Six main themes were generated from the interview data. Four of these were shared themes and indicated that both types of group music therapy had a positive effect on mood/mental state and physical state, encouraged social engagement, and reconnected participants with their music identity or relationship with music. In addition, the participants who participated in the singing groups found singing to be challenging and confronting, but experienced a general increase in motivation. Group music therapy was experienced as an enjoyable and accessible activity that reconnected participants with their own music. Participants frequently described positive shifts in mood and energy levels, and social interaction was stimulated both within and beyond the music therapy groups.\""
      ]
     },
     "execution_count": 162,
     "metadata": {},
     "output_type": "execute_result"
    }
   ],
   "source": [
    "#df_Abs['Abstract'][205]: interview"
   ]
  },
  {
   "cell_type": "code",
   "execution_count": 163,
   "metadata": {},
   "outputs": [],
   "source": [
    "df_Abs.at[205,'AbL'] = 0"
   ]
  },
  {
   "cell_type": "code",
   "execution_count": 165,
   "metadata": {
    "collapsed": true
   },
   "outputs": [
    {
     "data": {
      "text/plain": [
       "\"This study presents a meta-analysis of the effectiveness of psychological treatments for chronic nightmares using imaginal confrontation with nightmare contents (ICNC) or imagery rescripting and rehearsal (IRR). Pre-post effect sizes (Hedges' g) were calculated for the outcome measures of nightmare frequency, nights per week with nightmares, sleep quality, depression, anxiety, and PTSD severity. Fixed-effects and random-effects models were applied. High effect sizes were found for nightmare frequency (g=1.04), nights per week with nightmares (g=0.99), and PTSD severity (g=0.92). Most of the effect sizes for the secondary outcomes were moderate. One objective was to clarify whether ICNC or IRR is more important for nightmare reduction. The results indicate that a higher duration of time for ICNC is associated with greater improvements: The minutes of applied ICNC moderate the effect sizes for nightmare frequency at follow-up 2 and for nights per week with nightmares at post and follow-up 1. The percentage of applied ICNC moderates the effect sizes for nightmare frequency and nights per week with nightmares at follow-up 1. Thus, dismantling studies are necessary to draw conclusions regarding whether ICNC or IRR is the most effective in the psychological treatment of chronic nightmares.\""
      ]
     },
     "execution_count": 165,
     "metadata": {},
     "output_type": "execute_result"
    }
   ],
   "source": [
    "#df_Abs['Abstract'][207]: meta-analysis"
   ]
  },
  {
   "cell_type": "code",
   "execution_count": 166,
   "metadata": {},
   "outputs": [],
   "source": [
    "df_Abs.at[207,'AbL'] = 0"
   ]
  },
  {
   "cell_type": "code",
   "execution_count": 167,
   "metadata": {
    "collapsed": true
   },
   "outputs": [
    {
     "data": {
      "text/plain": [
       "\"This study assessed whether elevated severities of maternal depression and disturbed maternal sleep would be associated with maternal perceptions of higher Negative Affectivity of her infant. Sixty-nine mothers participated in this study. The study was part of a larger randomized controlled study testing the efficacy of acupuncture as a treatment for depression during pregnancy. The present study focused on data collected at 6 months postpartum in a naturalistic follow-up design, using the Hamilton Rating Scale for Depression (HRSD), maternal sleep diaries (completed daily for 1 week), and the Infant Behavior Questionnaire-Revised (IBQ-R). Regression analyses revealed that (a) maternal depression severity was a significant predictor of the IBQ-R Distress and Falling Reactivity scales and (b) poor maternal sleep was a significant predictor of the IBQ-R Sadness scale. Our findings support previous findings of significant links between maternal emotional distress and perceived Negative Affectivity of her infant's temperament and provide a novel insight linking maternal poor sleep with perceived sadness of the infant.\""
      ]
     },
     "execution_count": 167,
     "metadata": {},
     "output_type": "execute_result"
    }
   ],
   "source": [
    "#df_Abs['Abstract'][208]: secondary of RCT"
   ]
  },
  {
   "cell_type": "code",
   "execution_count": 169,
   "metadata": {},
   "outputs": [],
   "source": [
    "df_Abs.at[208,'AbL'] = 0"
   ]
  },
  {
   "cell_type": "code",
   "execution_count": 170,
   "metadata": {
    "collapsed": true
   },
   "outputs": [
    {
     "data": {
      "text/plain": [
       "\"The relationship between inadequate sleep and mood has been well-established in adults and is supported primarily by correlational data in younger populations. Given that adolescents often experience shortened sleep on school nights, we sought to better understand the effect of experimentally induced chronic sleep restriction on adolescents' mood and mood regulation. Fifty healthy adolescents, ages 14-17, completed a 3-week sleep manipulation protocol involving a baseline week, followed by a sleep restriction (SR) condition (6.5 hr in bed per night for five nights) and healthy sleep duration (HS) condition (10 hr in bed per night for five nights). The study used a randomized, counterbalanced, crossover experimental design. Participants' sleep was monitored at home via self-report and actigraphy. At the end of each condition, participants and their parents completed questionnaires of mood and mood regulation. To assess for expectancy effects, we also analyzed parent and teen ratings of hyperactivity/impulsivity, which prior research suggests is not sensitive to SR in adolescents. Wilcoxon Signed Rank tests compared questionnaire outcomes across the two conditions. Participants averaged 2.5 more hours of sleep per night during HS relative to SR. Compared with HS, adolescents rated themselves as significantly more tense/anxious, angry/hostile, confused, and fatigued, and as less vigorous (p = .001-.01) during SR. Parents and adolescents also reported greater oppositionality/irritability and poorer emotional regulation during SR compared with HS (p < .05). There were no cross-condition differences in depression or hyperactivity/impulsivity (p > .05). Findings complement prior correlational study results to show that after only a few days of shortened sleep, at a level of severity that is experienced regularly by millions of adolescents on school nights, adolescents have worsened mood and decreased ability to regulate negative emotions.\""
      ]
     },
     "execution_count": 170,
     "metadata": {},
     "output_type": "execute_result"
    }
   ],
   "source": [
    "#df_Abs['Abstract'][209]: adolsecent; sleep manipulation"
   ]
  },
  {
   "cell_type": "code",
   "execution_count": 171,
   "metadata": {},
   "outputs": [],
   "source": [
    "df_Abs.at[209,'AbL'] = 0"
   ]
  },
  {
   "cell_type": "code",
   "execution_count": 175,
   "metadata": {
    "collapsed": true
   },
   "outputs": [
    {
     "data": {
      "text/plain": [
       "'This study presents the results of a secondary analysis of data collected during a trial of reflexology that aimed to improve health-related quality of life (HRQOL) among women with advanced breast cancer in treatment. A comparison of HRQOL (functioning, symptoms, spirituality) of those with (n = 298) and without (n = 87) distant metastasis is presented. Following the intake interview, 385 women were randomised to reflexology, lay foot manipulation or conventional care control, and were interviewed again at weeks 5 and 11. Those with distant metastasis were older, had fewer comorbid conditions, and a smaller proportion were employed. Longitudinal analysis of HRQOL at intake, 5 and 11 weeks revealed that those with distant metastasis had lower functioning and more pain; however, no differences were found on fatigue, nausea, shortness of breath, sleep quality, anxiety, depressive symptoms or spirituality. Despite advanced disease, 56% of all women in this study were below the clinical screening cut-off for depressive symptoms. These findings may indicate that patients with advanced breast cancer have adapted emotionally and spiritually; however, the management of physical symptoms remains a priority.'"
      ]
     },
     "execution_count": 175,
     "metadata": {},
     "output_type": "execute_result"
    }
   ],
   "source": [
    "#df_Abs['Abstract'][213]: secondary analysis"
   ]
  },
  {
   "cell_type": "code",
   "execution_count": 180,
   "metadata": {
    "collapsed": true
   },
   "outputs": [
    {
     "data": {
      "text/plain": [
       "0"
      ]
     },
     "execution_count": 180,
     "metadata": {},
     "output_type": "execute_result"
    }
   ],
   "source": [
    "df_Abs.at[213,'AbL'] = 0"
   ]
  },
  {
   "cell_type": "code",
   "execution_count": 177,
   "metadata": {
    "collapsed": true
   },
   "outputs": [
    {
     "data": {
      "text/plain": [
       "'Although treatment research for NES remains limited, several options are available for patients whose symptoms require clinical attention. Pharmacotherapy has received the most empirical support of the proposed treatments. Controlled trials are needed to confirm the initial results from pilot studies with CBT, behavioral therapy, and phototherapy, and an extended controlled trial of progressive muscle relaxation would be useful. In their comprehensive review of the field, Striegel-Moore and colleagues have questioned the clinical utility of NES as a diagnostic entity and stress the very limited nature of treatment studies to date. Research in this field has to provide a systematic examination of the approaches described here, as well as others yet to be identified. This pursuit seems warranted given that persons suffering with the cluster of symptoms identified as NES are approaching health care providers for relief and are often frustrated by the lack of recognition of this syndrome. Future studies should test a wider variety of medications that would target serotonin or the circadian timing of eating. Additionally, trials comparing and combining medication treatments and CBT (or progressive muscle relaxation alone) would also be useful in addressing which treatment should be used as a first line treatment. With NES being considered for inclusion as a Feeding and Eating Condition Not Elsewhere Classified (FEC-NEC) in the Diagnostic and Statistical Manual of Mental Disorders, Fifth Edition, it is likely that more clinical attention and studies will address these important issues in the coming years.'"
      ]
     },
     "execution_count": 177,
     "metadata": {},
     "output_type": "execute_result"
    }
   ],
   "source": [
    "#df_Abs['Abstract'][214]: summary"
   ]
  },
  {
   "cell_type": "code",
   "execution_count": 179,
   "metadata": {},
   "outputs": [],
   "source": [
    "df_Abs.at[214,'AbL'] = 0"
   ]
  },
  {
   "cell_type": "code",
   "execution_count": 181,
   "metadata": {
    "collapsed": true
   },
   "outputs": [
    {
     "data": {
      "text/plain": [
       "'To describe self-reported menopausal symptom priorities and their association with demographics and other symptoms among participants in an intervention trial for vasomotor symptoms (VMS). Cross-sectional study embedded in the MsFLASH 02 trial, a three-by-two factorial design of yoga vs. exercise vs. usual activity and omega-3-fatty acid vs. placebo. At baseline, women (n\\u2009=\\u2009354) completed hot flush diaries, a card sort task to prioritize symptoms they would most like to alleviate, and standardized questionnaires. The most common symptom priorities were: VMS (n\\u2009=\\u2009322), sleep (n\\u2009=\\u2009191), concentration (n\\u2009=\\u2009140), and fatigue (n\\u2009=\\u2009116). In multivariate models, women who chose VMS as their top priority symptom (n\\u2009=\\u2009210) reported significantly greater VMS severity (p\\u2009=\\u20090.004) and never smoking (p\\u2009=\\u20090.012), and women who chose sleep as their top priority symptom (n\\u2009=\\u2009100) were more educated (p\\u2009≤\\u20090.001) and had worse sleep quality (p\\u2009<\\u20090.001). ROC curves identified sleep scale scores that were highly predictive of ranking sleep as a top priority symptom. Among women entering an intervention trial for VMS and with relatively low prevalence of depression and anxiety, VMS was the priority symptom for treatment. A card sort may be a valid tool for quickly assessing symptom priorities in clinical practice and research.'"
      ]
     },
     "execution_count": 181,
     "metadata": {},
     "output_type": "execute_result"
    }
   ],
   "source": [
    "#df_Abs['Abstract'][215]: secondary of RCT"
   ]
  },
  {
   "cell_type": "code",
   "execution_count": 182,
   "metadata": {},
   "outputs": [],
   "source": [
    "df_Abs.at[215,'AbL'] = 0"
   ]
  },
  {
   "cell_type": "code",
   "execution_count": 185,
   "metadata": {
    "collapsed": true
   },
   "outputs": [
    {
     "data": {
      "text/plain": [
       "'Seventy percentage of perimenopausal and early postmenopausal women will experience menopause symptoms. Primary menopause symptoms in Western countries included hot flashes, insomnia, somatic pain, depression, and fatigue. Hot flashes were most commonly treated. Menopausal hormone replacement therapy (HRT) continues to have a clinical role in the management of vasomotor symptoms, but since 2002 there has been a marked global decline in its use due to concerns about the risks and benefits of HRT; consequently many women with menopause symptoms are now seeking alternatives including acupuncture. Acupuncture has a long tradition of use for the treatment of different menopause symptoms. Its effectiveness has been studied for natural menopause or chemical and surgery induced menopause. Here we provide an update on recent advances in the field for clinicians. The recent systematic reviews on acupuncture in menopausal symptoms suggest that acupuncture is an effective and valuable option for women suffering from menopause. However, the science of acupuncture therapies is still inadequate to sufficiently support the benefits of acupuncture therapies. Finally, we discuss our points of view on clinical trials of acupuncture for menopause symptoms.'"
      ]
     },
     "execution_count": 185,
     "metadata": {},
     "output_type": "execute_result"
    }
   ],
   "source": [
    "#df_Abs['Abstract'][219]:summary"
   ]
  },
  {
   "cell_type": "code",
   "execution_count": 191,
   "metadata": {
    "collapsed": true
   },
   "outputs": [
    {
     "data": {
      "text/plain": [
       "0"
      ]
     },
     "execution_count": 191,
     "metadata": {},
     "output_type": "execute_result"
    }
   ],
   "source": [
    "df_Abs.at[219,'AbL'] = 0"
   ]
  },
  {
   "cell_type": "code",
   "execution_count": 189,
   "metadata": {
    "collapsed": true
   },
   "outputs": [
    {
     "data": {
      "text/plain": [
       "\"Chronic pain is defined as pain lasting beyond normal tissue healing time, generally taken to be 12 weeks. It contributes to disability, anxiety, depression, sleep disturbances, poor quality of life, and healthcare costs. Chronic pain has a weighted mean prevalence in adults of 20%.For many years, the treatment choice for chronic pain included recommendations for rest and inactivity. However, exercise may have specific benefits in reducing the severity of chronic pain, as well as more general benefits associated with improved overall physical and mental health, and physical functioning.Physical activity and exercise programmes are increasingly being promoted and offered in various healthcare systems, and for a variety of chronic pain conditions. It is therefore important at this stage to establish the efficacy and safety of these programmes, and furthermore to address the critical factors that determine their success or failure. To provide an overview of Cochrane Reviews of adults with chronic pain to determine (1) the effectiveness of different physical activity and exercise interventions in reducing pain severity and its impact on function, quality of life, and healthcare use; and (2) the evidence for any adverse effects or harm associated with physical activity and exercise interventions. We searched theCochrane Database of Systematic Reviews (CDSR) on the Cochrane Library (CDSR 2016, Issue 1) for systematic reviews of randomised controlled trials (RCTs), after which we tracked any included reviews for updates, and tracked protocols in case of full review publication until an arbitrary cut-off date of 21 March 2016 (CDSR 2016, Issue 3). We assessed the methodological quality of the reviews using the AMSTAR tool, and also planned to analyse data for each painful condition based on quality of the evidence.We extracted data for (1) self-reported pain severity, (2) physical function (objectively or subjectively measured), (3) psychological function, (4) quality of life, (5) adherence to the prescribed intervention, (6) healthcare use/attendance, (7) adverse events, and (8) death.Due to the limited data available, we were unable to directly compare and analyse interventions, and have instead reported the evidence qualitatively. We included 21 reviews with 381 included studies and 37,143 participants. Of these, 264 studies (19,642 participants) examined exercise versus no exercise/minimal intervention in adults with chronic pain and were used in the qualitative analysis.Pain conditions included rheumatoid arthritis, osteoarthritis, fibromyalgia, low back pain, intermittent claudication, dysmenorrhoea, mechanical neck disorder, spinal cord injury, postpolio syndrome, and patellofemoral pain. None of the reviews assessed 'chronic pain' or 'chronic widespread pain' as a general term or specific condition. Interventions included aerobic, strength, flexibility, range of motion, and core or balance training programmes, as well as yoga, Pilates, and tai chi.Reviews were well performed and reported (based on AMSTAR), and included studies had acceptable risk of bias (with inadequate reporting of attrition and reporting biases). However the quality of evidence was low due to participant numbers (most included studies had fewer than 50 participants in total), length of intervention and follow-up (rarely assessed beyond three to six months). We pooled the results from relevant reviews where appropriate, though results should be interpreted with caution due to the low quality evidence. Pain severity: several reviews noted favourable results from exercise: only three reviews that reported pain severity found no statistically significant changes in usual or mean pain from any intervention. However, results were inconsistent across interventions and follow-up, as exercise did not consistently bring about a change (positive or negative) in self-reported pain scores at any single point. Physical function: was the most commonly reported outcome measure. Physical function was significantly improved as a result of the intervention in 14 reviews, though even these statistically significant results had only small-to-moderate effect sizes (only one review reported large effect sizes). Psychological function and quality of life: had variable results: results were either favourable to exercise (generally small and moderate effect size, with two reviews reporting significant, large effect sizes for quality of life), or showed no difference between groups. There were no negative effects. Adherence to the prescribed intervention: could not be assessed in any review. However, risk of withdrawal/dropout was slightly higher in the exercising group (82.8/1000 participants versus 81/1000 participants), though the group difference was non-significant. Healthcare use/attendance: was not reported in any review. Adverse events, potential harm, and death: only 25% of included studies (across 18 reviews) actively reported adverse events. Based on the available evidence, most adverse events were increased soreness or muscle pain, which reportedly subsided after a few weeks of the intervention. Only one review reported death separately to other adverse events: the intervention was protective against death (based on the available evidence), though did not reach statistical significance. The quality of the evidence examining physical activity and exercise for chronic pain is low. This is largely due to small sample sizes and potentially underpowered studies. A number of studies had adequately long interventions, but planned follow-up was limited to less than one year in all but six reviews.There were some favourable effects in reduction in pain severity and improved physical function, though these were mostly of small-to-moderate effect, and were not consistent across the reviews. There were variable effects for psychological function and quality of life.The available evidence suggests physical activity and exercise is an intervention with few adverse events that may improve pain severity and physical function, and consequent quality of life. However, further research is required and should focus on increasing participant numbers, including participants with a broader spectrum of pain severity, and lengthening both the intervention itself, and the follow-up period.\""
      ]
     },
     "execution_count": 189,
     "metadata": {},
     "output_type": "execute_result"
    }
   ],
   "source": [
    "#df_Abs['Abstract'][222]: review"
   ]
  },
  {
   "cell_type": "code",
   "execution_count": 192,
   "metadata": {},
   "outputs": [],
   "source": [
    "df_Abs.at[222,'AbL'] = 0"
   ]
  },
  {
   "cell_type": "code",
   "execution_count": 194,
   "metadata": {
    "collapsed": true
   },
   "outputs": [
    {
     "data": {
      "text/plain": [
       "\"Chronic pain is defined as pain lasting beyond normal tissue healing time, generally taken to be 12 weeks. It contributes to disability, anxiety, depression, sleep disturbances, poor quality of life, and healthcare costs. Chronic pain has a weighted mean prevalence in adults of 20%.For many years, the treatment choice for chronic pain included recommendations for rest and inactivity. However, exercise may have specific benefits in reducing the severity of chronic pain, as well as more general benefits associated with improved overall physical and mental health, and physical functioning.Physical activity and exercise programmes are increasingly being promoted and offered in various healthcare systems, and for a variety of chronic pain conditions. It is therefore important at this stage to establish the efficacy and safety of these programmes, and furthermore to address the critical factors that determine their success or failure. To provide an overview of Cochrane Reviews of adults with chronic pain to determine (1) the effectiveness of different physical activity and exercise interventions in reducing pain severity and its impact on function, quality of life, and healthcare use; and (2) the evidence for any adverse effects or harm associated with physical activity and exercise interventions. We searched theCochrane Database of Systematic Reviews (CDSR) on the Cochrane Library (CDSR 2016, Issue 1) for systematic reviews of randomised controlled trials (RCTs), after which we tracked any included reviews for updates, and tracked protocols in case of full review publication until an arbitrary cut-off date of 21 March 2016 (CDSR 2016, Issue 3). We assessed the methodological quality of the reviews using the AMSTAR tool, and also planned to analyse data for each painful condition based on quality of the evidence.We extracted data for (1) self-reported pain severity, (2) physical function (objectively or subjectively measured), (3) psychological function, (4) quality of life, (5) adherence to the prescribed intervention, (6) healthcare use/attendance, (7) adverse events, and (8) death.Due to the limited data available, we were unable to directly compare and analyse interventions, and have instead reported the evidence qualitatively. We included 21 reviews with 381 included studies and 37,143 participants. Of these, 264 studies (19,642 participants) examined exercise versus no exercise/minimal intervention in adults with chronic pain and were used in the qualitative analysis.Pain conditions included rheumatoid arthritis, osteoarthritis, fibromyalgia, low back pain, intermittent claudication, dysmenorrhoea, mechanical neck disorder, spinal cord injury, postpolio syndrome, and patellofemoral pain. None of the reviews assessed 'chronic pain' or 'chronic widespread pain' as a general term or specific condition. Interventions included aerobic, strength, flexibility, range of motion, and core or balance training programmes, as well as yoga, Pilates, and tai chi.Reviews were well performed and reported (based on AMSTAR), and included studies had acceptable risk of bias (with inadequate reporting of attrition and reporting biases). However the quality of evidence was low due to participant numbers (most included studies had fewer than 50 participants in total), length of intervention and follow-up (rarely assessed beyond three to six months). We pooled the results from relevant reviews where appropriate, though results should be interpreted with caution due to the low quality evidence. Pain severity: several reviews noted favourable results from exercise: only three reviews that reported pain severity found no statistically significant changes in usual or mean pain from any intervention. However, results were inconsistent across interventions and follow-up, as exercise did not consistently bring about a change (positive or negative) in self-reported pain scores at any single point. Physical function: was the most commonly reported outcome measure. Physical function was significantly improved as a result of the intervention in 14 reviews, though even these statistically significant results had only small-to-moderate effect sizes (only one review reported large effect sizes). Psychological function and quality of life: had variable results: results were either favourable to exercise (generally small and moderate effect size, with two reviews reporting significant, large effect sizes for quality of life), or showed no difference between groups. There were no negative effects. Adherence to the prescribed intervention: could not be assessed in any review. However, risk of withdrawal/dropout was slightly higher in the exercising group (82.8/1000 participants versus 81/1000 participants), though the group difference was non-significant. Healthcare use/attendance: was not reported in any review. Adverse events, potential harm, and death: only 25% of included studies (across 18 reviews) actively reported adverse events. Based on the available evidence, most adverse events were increased soreness or muscle pain, which reportedly subsided after a few weeks of the intervention. Only one review reported death separately to other adverse events: the intervention was protective against death (based on the available evidence), though did not reach statistical significance. The quality of the evidence examining physical activity and exercise for chronic pain is low. This is largely due to small sample sizes and potentially underpowered studies. A number of studies had adequately long interventions, but planned follow-up was limited to less than one year in all but six reviews.There were some favourable effects in reduction in pain severity and improved physical function, though these were mostly of small-to-moderate effect, and were not consistent across the reviews. There were variable effects for psychological function and quality of life.The available evidence suggests physical activity and exercise is an intervention with few adverse events that may improve pain severity and physical function, and consequent quality of life. However, further research is required and should focus on increasing participant numbers, including participants with a broader spectrum of pain severity, and lengthening both the intervention itself, and the follow-up period.\""
      ]
     },
     "execution_count": 194,
     "metadata": {},
     "output_type": "execute_result"
    }
   ],
   "source": [
    "#df_Abs['Abstract'][223]:duplicate with [222]"
   ]
  },
  {
   "cell_type": "code",
   "execution_count": 196,
   "metadata": {},
   "outputs": [],
   "source": [
    "df_Abs.at[223,'AbL'] = 0"
   ]
  },
  {
   "cell_type": "code",
   "execution_count": 199,
   "metadata": {
    "collapsed": true
   },
   "outputs": [
    {
     "data": {
      "text/plain": [
       "'Sleep deprivation is associated with an elevated risk of various diseases and leads to a poor quality of life and negative socioeconomic consequences. Sleep inducers such as drugs and herbal medicines may often lead to dependence and other side effects. L-Theanine (γ-glutamylethylamide), an amino acid naturally found abundant in tea leaves, has anxiolytic effects via the induction of α brain waves without additive and other side effects associated with conventional sleep inducers. Anxiolysis is required for the initiation of high-quality sleep. In this study, we review the mechanism(s), safety, and efficacy of L-theanine. Collectively, sleep studies based on an actigraph, the obstructive sleep apnea (OSA) sleep inventory questionnaire, wakeup after sleep onset (WASO) and automatic nervous system (ANS) assessment, sympathetic and parasympathetic nerve activities, and a pediatric sleep questionnaire (PSQ) suggest that the administration of 200 mg of L-theanine before bed may support improved sleep quality not by sedation but through anxiolysis. Because L-theanine does not induce daytime drowsiness, it may be useful at any time of the day. The no observable adverse effect level (NOAEL) for the oral administration of L-theanine was determined to be above 2000 mg/kg bw/day. KEY TEACHING POINTS: Sleep deprivation-associated morbidity is an increasing public health concern posing a substantial socioeconomic burden. Chronic sleep disorders may seriously affect quality of life and may be etiological factors in a number of chronic diseases such as depression, obesity, diabetes, and cardiovascular diseases. Most sleep inducers are sedatives and are often associated with addiction and other side effects. L-Theanine promotes relaxation without drowsiness. Unlike conventional sleep inducers, L-theanine is not a sedative but promotes good quality of sleep through anxiolysis. This review suggests that L-theanine is a safe natural sleep aid.'"
      ]
     },
     "execution_count": 199,
     "metadata": {},
     "output_type": "execute_result"
    }
   ],
   "source": [
    "#df_Abs['Abstract'][226]: review"
   ]
  },
  {
   "cell_type": "code",
   "execution_count": 200,
   "metadata": {},
   "outputs": [],
   "source": [
    "df_Abs.at[226,'AbL'] = 0"
   ]
  },
  {
   "cell_type": "code",
   "execution_count": 201,
   "metadata": {
    "collapsed": true
   },
   "outputs": [
    {
     "data": {
      "text/plain": [
       "\"Chronic fatigue syndrome (CFS) is characterised by persistent, medically unexplained fatigue, as well as symptoms such as musculoskeletal pain, sleep disturbance, headaches and impaired concentration and short-term memory. CFS presents as a common, debilitating and serious health problem. Treatment may include physical interventions, such as exercise therapy, which was last reviewed in 2004. The objective of this review was to determine the effects of exercise therapy (ET) for patients with CFS as compared with any other intervention or control.• Exercise therapy versus 'passive control' (e.g. treatment as usual, waiting-list control, relaxation, flexibility).• Exercise therapy versus other active treatment (e.g. cognitive-behavioural therapy (CBT), cognitive treatment, supportive therapy, pacing, pharmacological therapy such as antidepressants).• Exercise therapy in combination with other specified treatment strategies versus other specified treatment strategies (e.g. exercise combined with pharmacological treatment vs pharmacological treatment alone). We searched The Cochrane Collaboration Depression, Anxiety and Neurosis Controlled Trials Register (CCDANCTR), the Cochrane Central Register of Controlled Trials (CENTRAL) and SPORTDiscus up to May 2014 using a comprehensive list of free-text terms for CFS and exercise. We located unpublished or ongoing trials through the World Health Organization (WHO) International Clinical Trials Registry Platform (to May 2014). We screened reference lists of retrieved articles and contacted experts in the field for additional studies Randomised controlled trials involving adults with a primary diagnosis of CFS who were able to participate in exercise therapy. Studies had to compare exercise therapy with passive control, psychological therapies, adaptive pacing therapy or pharmacological therapy. Two review authors independently performed study selection, risk of bias assessments and data extraction. We combined continuous measures of outcomes using mean differences (MDs) and standardised mean differences (SMDs). We combined serious adverse reactions and drop-outs using risk ratios (RRs). We calculated an overall effect size with 95% confidence intervals (CIs) for each outcome. We have included eight randomised controlled studies and have reported data from 1518 participants in this review. Three studies diagnosed individuals with CFS using the 1994 criteria of the Centers for Disease Control and Prevention (CDC); five used the Oxford criteria. Exercise therapy lasted from 12 to 26 weeks. Seven studies used variations of aerobic exercise therapy such as walking, swimming, cycling or dancing provided at mixed levels in terms of intensity of the aerobic exercise from very low to quite rigorous, whilst one study used anaerobic exercise. Control groups consisted of passive control (eight studies; e.g. treatment as usual, relaxation, flexibility) or CBT (two studies), cognitive therapy (one study), supportive listening (one study), pacing (one study), pharmacological treatment (one study) and combination treatment (one study). Risk of bias varied across studies, but within each study, little variation was found in the risk of bias across our primary and secondary outcome measures.Investigators compared exercise therapy with 'passive' control in eight trials, which enrolled 971 participants. Seven studies consistently showed a reduction in fatigue following exercise therapy at end of treatment, even though the fatigue scales used different scoring systems: an 11-item scale with a scoring system of 0 to 11 points (MD -6.06, 95% CI -6.95 to -5.17; one study, 148 participants; low-quality evidence); the same 11-item scale with a scoring system of 0 to 33 points (MD -2.82, 95% CI -4.07 to -1.57; three studies, 540 participants; moderate-quality evidence); and a 14-item scale with a scoring system of 0 to 42 points (MD -6.80, 95% CI -10.31 to -3.28; three studies, 152 participants; moderate-quality evidence). Serious adverse reactions were rare in both groups (RR 0.99, 95% CI 0.14 to 6.97; one study, 319 participants; moderate-quality evidence), but sparse data made it impossible for review authors to draw conclusions. Study authors reported a positive effect of exercise therapy at end of treatment with respect to sleep (MD -1.49, 95% CI -2.95 to -0.02; two studies, 323 participants), physical functioning (MD 13.10, 95% CI 1.98 to 24.22; five studies, 725 participants) and self-perceived changes in overall health (RR 1.83, 95% CI 1.39 to 2.40; four studies, 489 participants). It was not possible for review authors to draw conclusions regarding the remaining outcomes.Investigators compared exercise therapy with CBT in two trials (351 participants). One trial (298 participants) reported little or no difference in fatigue at end of treatment between the two groups using an 11-item scale with a scoring system of 0 to 33 points (MD 0.20, 95% CI -1.49 to 1.89). Both studies measured differences in fatigue at follow-up, but neither found differences between the two groups using an 11-item fatigue scale with a scoring system of 0 to 33 points (MD 0.30, 95% CI -1.45 to 2.05) and a nine-item Fatigue Severity Scale with a scoring system of 1 to 7 points (MD 0.40, 95% CI -0.34 to 1.14). Serious adverse reactions were rare in both groups (RR 0.67, 95% CI 0.11 to 3.96). We observed little or no difference in physical functioning, depression, anxiety and sleep, and we were not able to draw any conclusions with regard to pain, self-perceived changes in overall health, use of health service resources and drop-out rate.With regard to other comparisons, one study (320 participants) suggested a general benefit of exercise over adaptive pacing, and another study (183 participants) a benefit of exercise over supportive listening. The available evidence was too sparse to draw conclusions about the effect of pharmaceutical interventions. Patients with CFS may generally benefit and feel less fatigued following exercise therapy, and no evidence suggests that exercise therapy may worsen outcomes. A positive effect with respect to sleep, physical function and self-perceived general health has been observed, but no conclusions for the outcomes of pain, quality of life, anxiety, depression, drop-out rate and health service resources were possible. The effectiveness of exercise therapy seems greater than that of pacing but similar to that of CBT. Randomised trials with low risk of bias are needed to investigate the type, duration and intensity of the most beneficial exercise intervention.\""
      ]
     },
     "execution_count": 201,
     "metadata": {},
     "output_type": "execute_result"
    }
   ],
   "source": [
    "#df_Abs['Abstract'][227]: review"
   ]
  },
  {
   "cell_type": "code",
   "execution_count": 202,
   "metadata": {},
   "outputs": [],
   "source": [
    "df_Abs.at[227,'AbL'] = 0"
   ]
  },
  {
   "cell_type": "code",
   "execution_count": 204,
   "metadata": {
    "collapsed": true
   },
   "outputs": [
    {
     "data": {
      "text/plain": [
       "\"Chronic fatigue syndrome (CFS) is characterised by persistent, medically unexplained fatigue, as well as symptoms such as musculoskeletal pain, sleep disturbance, headaches and impaired concentration and short-term memory. CFS presents as a common, debilitating and serious health problem. Treatment may include physical interventions, such as exercise therapy, which was last reviewed in 2004. The objective of this review was to determine the effects of exercise therapy (ET) for patients with CFS as compared with any other intervention or control.• Exercise therapy versus 'passive control' (e.g. treatment as usual, waiting-list control, relaxation, flexibility).• Exercise therapy versus other active treatment (e.g. cognitive-behavioural therapy (CBT), cognitive treatment, supportive therapy, pacing, pharmacological therapy such as antidepressants).• Exercise therapy in combination with other specified treatment strategies versus other specified treatment strategies (e.g. exercise combined with pharmacological treatment vs pharmacological treatment alone). We searched The Cochrane Collaboration Depression, Anxiety and Neurosis Controlled Trials Register (CCDANCTR), the Cochrane Central Register of Controlled Trials (CENTRAL) and SPORTDiscus up to May 2014 using a comprehensive list of free-text terms for CFS and exercise. We located unpublished or ongoing trials through the World Health Organization (WHO) International Clinical Trials Registry Platform (to May 2014). We screened reference lists of retrieved articles and contacted experts in the field for additional studies Randomised controlled trials involving adults with a primary diagnosis of CFS who were able to participate in exercise therapy. Studies had to compare exercise therapy with passive control, psychological therapies, adaptive pacing therapy or pharmacological therapy. Two review authors independently performed study selection, risk of bias assessments and data extraction. We combined continuous measures of outcomes using mean differences (MDs) and standardised mean differences (SMDs). We combined serious adverse reactions and drop-outs using risk ratios (RRs). We calculated an overall effect size with 95% confidence intervals (CIs) for each outcome. We have included eight randomised controlled studies and have reported data from 1518 participants in this review. Three studies diagnosed individuals with CFS using the 1994 criteria of the Centers for Disease Control and Prevention (CDC); five used the Oxford criteria. Exercise therapy lasted from 12 to 26 weeks. Seven studies used variations of aerobic exercise therapy such as walking, swimming, cycling or dancing provided at mixed levels in terms of intensity of the aerobic exercise from very low to quite rigorous, whilst one study used anaerobic exercise. Control groups consisted of passive control (eight studies; e.g. treatment as usual, relaxation, flexibility) or CBT (two studies), cognitive therapy (one study), supportive listening (one study), pacing (one study), pharmacological treatment (one study) and combination treatment (one study). Risk of bias varied across studies, but within each study, little variation was found in the risk of bias across our primary and secondary outcome measures.Investigators compared exercise therapy with 'passive' control in eight trials, which enrolled 971 participants. Seven studies consistently showed a reduction in fatigue following exercise therapy at end of treatment, even though the fatigue scales used different scoring systems: an 11-item scale with a scoring system of 0 to 11 points (MD -6.06, 95% CI -6.95 to -5.17; one study, 148 participants; low-quality evidence); the same 11-item scale with a scoring system of 0 to 33 points (MD -2.82, 95% CI -4.07 to -1.57; three studies, 540 participants; moderate-quality evidence); and a 14-item scale with a scoring system of 0 to 42 points (MD -6.80, 95% CI -10.31 to -3.28; three studies, 152 participants; moderate-quality evidence). Serious adverse reactions were rare in both groups (RR 0.99, 95% CI 0.14 to 6.97; one study, 319 participants; moderate-quality evidence), but sparse data made it impossible for review authors to draw conclusions. Study authors reported a positive effect of exercise therapy at end of treatment with respect to sleep (MD -1.49, 95% CI -2.95 to -0.02; two studies, 323 participants), physical functioning (MD 13.10, 95% CI 1.98 to 24.22; five studies, 725 participants) and self-perceived changes in overall health (RR 1.83, 95% CI 1.39 to 2.40; four studies, 489 participants). It was not possible for review authors to draw conclusions regarding the remaining outcomes.Investigators compared exercise therapy with CBT in two trials (351 participants). One trial (298 participants) reported little or no difference in fatigue at end of treatment between the two groups using an 11-item scale with a scoring system of 0 to 33 points (MD 0.20, 95% CI -1.49 to 1.89). Both studies measured differences in fatigue at follow-up, but neither found differences between the two groups using an 11-item fatigue scale with a scoring system of 0 to 33 points (MD 0.30, 95% CI -1.45 to 2.05) and a nine-item Fatigue Severity Scale with a scoring system of 1 to 7 points (MD 0.40, 95% CI -0.34 to 1.14). Serious adverse reactions were rare in both groups (RR 0.67, 95% CI 0.11 to 3.96). We observed little or no difference in physical functioning, depression, anxiety and sleep, and we were not able to draw any conclusions with regard to pain, self-perceived changes in overall health, use of health service resources and drop-out rate.With regard to other comparisons, one study (320 participants) suggested a general benefit of exercise over adaptive pacing, and another study (183 participants) a benefit of exercise over supportive listening. The available evidence was too sparse to draw conclusions about the effect of pharmaceutical interventions. Patients with CFS may generally benefit and feel less fatigued following exercise therapy, and no evidence suggests that exercise therapy may worsen outcomes. A positive effect with respect to sleep, physical function and self-perceived general health has been observed, but no conclusions for the outcomes of pain, quality of life, anxiety, depression, drop-out rate and health service resources were possible. The effectiveness of exercise therapy seems greater than that of pacing but similar to that of CBT. Randomised trials with low risk of bias are needed to investigate the type, duration and intensity of the most beneficial exercise intervention.\""
      ]
     },
     "execution_count": 204,
     "metadata": {},
     "output_type": "execute_result"
    }
   ],
   "source": [
    "#df_Abs['Abstract'][228]: duplicate with [227]"
   ]
  },
  {
   "cell_type": "code",
   "execution_count": 205,
   "metadata": {},
   "outputs": [],
   "source": [
    "df_Abs.at[228,'AbL'] = 0"
   ]
  },
  {
   "cell_type": "code",
   "execution_count": 206,
   "metadata": {
    "collapsed": true
   },
   "outputs": [
    {
     "data": {
      "text/plain": [
       "'Women with breast cancer frequently report distressing symptoms during and after treatment that can significantly erode quality of life (QOL). Symptom burden among women with breast cancer is of complex etiology and is likely influenced by disease, treatment, and environmental factors as well as individual genetic differences. The purpose of the present study was to examine the relationships between genetic polymorphisms within Neurotrophic tyrosine kinase receptor 1 (NTRK1), Neurotrophic tyrosine kinase receptor 2 (NTRK2), and catechol-O-methyltransferase ( COMT) and patient symptom burden of QOL, pain, fatigue, anxiety, depression, and sleep disturbance before, during, and after treatment for breast cancer in a subset of participants ( N = 51) in a randomized clinical trial of a novel symptom-management modality for women with breast cancer undergoing chemotherapy. Patients were recruited at the time of initial breast cancer diagnosis and completed all survey measures at the time of recruitment, after the initiation of treatment (surgery and/or chemotherapy), and then following treatment conclusion. Multiple linear regression analyses revealed significant associations between NTRK2 and COMT single nucleotide polymorphism (SNP) genotype and symptom burden. Two COMT variants were associated with the specific symptoms of anxiety and QOL measures prior to the initiation of chemotherapy as well as pain interference and severity during and after treatment. Genotype at the NTRK2 SNP rs1212171 was associated with both sleep disturbance and fatigue. These findings, while exploratory, indicate that the genotypes of NTRK2 and COMT may contribute to relative risk for symptom burden during and shortly after the period of chemotherapy in women with early stage breast cancer.'"
      ]
     },
     "execution_count": 206,
     "metadata": {},
     "output_type": "execute_result"
    }
   ],
   "source": [
    "#df_Abs['Abstract'][229]: not CAM RCT"
   ]
  },
  {
   "cell_type": "code",
   "execution_count": 208,
   "metadata": {},
   "outputs": [],
   "source": [
    "df_Abs.at[229,'AbL'] = 0"
   ]
  },
  {
   "cell_type": "code",
   "execution_count": 209,
   "metadata": {
    "collapsed": true
   },
   "outputs": [
    {
     "data": {
      "text/plain": [
       "'To examine the long-term effects of telephone-delivered cognitive-behavioral therapy (CBT-T) compared with nondirective supportive therapy (NST-T) in rural older adults with generalized anxiety disorder (GAD). 141 adults aged 60 years and older with a principal/co-principal diagnosis of GAD were randomized to either CBT-T or NST-T. CBT-T consisted of up to 11 sessions (9 were required) focused on recognition of anxiety symptoms, relaxation, cognitive restructuring and use of coping statements, problem-solving, worry control, behavioral activation, exposure therapy, and relapse prevention, with optional chapters on sleep and pain. NST-T consisted of 10 sessions focused on providing a supportive atmosphere in which participants could share and discuss their feelings and did not provide any direct suggestions. Primary outcomes included interviewer-rated anxiety severity and self-report worry severity measured at 9 months and 15 months after randomization. Mood-specific secondary outcomes included self-report GAD symptoms and depressive symptoms. At 15 months, after adjustment for multiple testing, there was a significantly greater decline in general anxiety symptoms (difference in improvement: 3.31; 95% CI: 0.45-6.17; t\\u2009=\\u20092.29; df\\u2009=\\u2009136; p\\u2009=\\u20090.024) and worry (difference in improvement: 3.13; 95% CI: 0.59-5.68; t\\u2009=\\u20092.43; df\\u2009=\\u2009136; p\\u2009=\\u20090.016) among participants in CBT-T compared with those in the NST-T group. There were no significant differences between the conditions in terms of depressive symptoms (difference in improvement: 2.88; 95% CI: 0.17-5.60; t\\u2009=\\u20092.10; df\\u2009=\\u2009136; p\\u2009=\\u20090.0376) and GAD symptoms (difference in improvement: 1.65; 95% CI: -0.20 to 3.50; t\\u2009=\\u20091.76; df\\u2009=\\u2009136; p\\u2009=\\u20090.080). CBT-T is superior to NST-T in reducing worry and anxiety symptoms 1 year after completing treatment.'"
      ]
     },
     "execution_count": 209,
     "metadata": {},
     "output_type": "execute_result"
    }
   ],
   "source": [
    "#df_Abs['Abstract'][230]: CBT-T vs. NST-T"
   ]
  },
  {
   "cell_type": "code",
   "execution_count": null,
   "metadata": {},
   "outputs": [],
   "source": [
    "df_Abs.at[230,'AbL'] = 0"
   ]
  },
  {
   "cell_type": "code",
   "execution_count": 210,
   "metadata": {
    "collapsed": true
   },
   "outputs": [
    {
     "data": {
      "text/plain": [
       "'The aim of this study was to examine the quality of life of breast cancer patients medicated with estrogen antagonists, 2 years after having acupuncture treatment for hot flashes. Our sample was taken from women who had recently participated in a randomized controlled trial investigating the effects of acupuncture on hot flashes, a side effect of estrogen-antagonist treatment. Forty-one women from the true acupuncture treatment group and 41 women from the control group (sham acupuncture), who had 2 years previously received a course of 15 acupuncture treatments over a period of 10 weeks, were asked to answer an open question. The question, \"Would you like to share your thoughts and experiences related to your breast cancer diagnosis, treatments or anything else?\" was by being open, broad, and nonspecific, intended to stimulate subjective information, which was not included in the original, or future quantitative studies. Qualitative data were analyzed using systematic text condensation. Most women were troubled by two or more side effects due to anti-estrogen medication, negatively affecting their life quality. Symptoms included hot flashes, sleep problems, muscle and joint pain, arm edema, fatigue, weight gain, depression, and lack of sexual desire. Women previously treated with sham acupuncture complained that hot flashes were still problematic, whilst those previously treated with traditional Chinese acupuncture found them less of a problem and generally had a more positive outlook on life. These results compare favorably with the findings from our original study that measured quantitatively health related quality of life. Side effects due to anti-estrogen treatment seriously affect the quality of life of breast cancer operated patients. Patients who had previously been treated with traditional Chinese acupuncture complained less of hot flashes, and had a more positive outlook on life, than women who had previously been treated with sham acupuncture.'"
      ]
     },
     "execution_count": 210,
     "metadata": {},
     "output_type": "execute_result"
    }
   ],
   "source": [
    "#df_Abs['Abstract'][231]: secondary, qualitative analysis"
   ]
  },
  {
   "cell_type": "code",
   "execution_count": 212,
   "metadata": {},
   "outputs": [],
   "source": [
    "df_Abs.at[231,'AbL'] = 0"
   ]
  },
  {
   "cell_type": "code",
   "execution_count": 213,
   "metadata": {
    "collapsed": true
   },
   "outputs": [
    {
     "data": {
      "text/plain": [
       "\"Chronic fatigue syndrome (CFS) is characterised by persistent, medically unexplained fatigue, as well as symptoms such as musculoskeletal pain, sleep disturbance, headaches and impaired concentration and short-term memory. CFS presents as a common, debilitating and serious health problem. Treatment may include physical interventions, such as exercise therapy, which was last reviewed in 2004. The objective of this review was to determine the effects of exercise therapy (ET) for patients with CFS as compared with any other intervention or control.• Exercise therapy versus 'passive control' (e.g. treatment as usual, waiting-list control, relaxation, flexibility).• Exercise therapy versus other active treatment (e.g. cognitive-behavioural therapy (CBT), cognitive treatment, supportive therapy, pacing, pharmacological therapy such as antidepressants).• Exercise therapy in combination with other specified treatment strategies versus other specified treatment strategies (e.g. exercise combined with pharmacological treatment vs pharmacological treatment alone). We searched The Cochrane Collaboration Depression, Anxiety and Neurosis Controlled Trials Register (CCDANCTR), the Cochrane Central Register of Controlled Trials (CENTRAL) and SPORTDiscus up to May 2014 using a comprehensive list of free-text terms for CFS and exercise. We located unpublished or ongoing trials through the World Health Organization (WHO) International Clinical Trials Registry Platform (to May 2014). We screened reference lists of retrieved articles and contacted experts in the field for additional studies Randomised controlled trials involving adults with a primary diagnosis of CFS who were able to participate in exercise therapy. Studies had to compare exercise therapy with passive control, psychological therapies, adaptive pacing therapy or pharmacological therapy. Two review authors independently performed study selection, risk of bias assessments and data extraction. We combined continuous measures of outcomes using mean differences (MDs) and standardised mean differences (SMDs). We combined serious adverse reactions and drop-outs using risk ratios (RRs). We calculated an overall effect size with 95% confidence intervals (CIs) for each outcome. We have included eight randomised controlled studies and have reported data from 1518 participants in this review. Three studies diagnosed individuals with CFS using the 1994 criteria of the Centers for Disease Control and Prevention (CDC); five used the Oxford criteria. Exercise therapy lasted from 12 to 26 weeks. Seven studies used variations of aerobic exercise therapy such as walking, swimming, cycling or dancing provided at mixed levels in terms of intensity of the aerobic exercise from very low to quite rigorous, whilst one study used anaerobic exercise. Control groups consisted of passive control (eight studies; e.g. treatment as usual, relaxation, flexibility) or CBT (two studies), cognitive therapy (one study), supportive listening (one study), pacing (one study), pharmacological treatment (one study) and combination treatment (one study). Risk of bias varied across studies, but within each study, little variation was found in the risk of bias across our primary and secondary outcome measures.Investigators compared exercise therapy with 'passive' control in eight trials, which enrolled 971 participants. Seven studies consistently showed a reduction in fatigue following exercise therapy at end of treatment, even though the fatigue scales used different scoring systems: an 11-item scale with a scoring system of 0 to 11 points (MD -6.06, 95% CI -6.95 to -5.17; one study, 148 participants; low-quality evidence); the same 11-item scale with a scoring system of 0 to 33 points (MD -2.82, 95% CI -4.07 to -1.57; three studies, 540 participants; moderate-quality evidence); and a 14-item scale with a scoring system of 0 to 42 points (MD -6.80, 95% CI -10.31 to -3.28; three studies, 152 participants; moderate-quality evidence). Serious adverse reactions were rare in both groups (RR 0.99, 95% CI 0.14 to 6.97; one study, 319 participants; moderate-quality evidence), but sparse data made it impossible for review authors to draw conclusions. Study authors reported a positive effect of exercise therapy at end of treatment with respect to sleep (MD -1.49, 95% CI -2.95 to -0.02; two studies, 323 participants), physical functioning (MD 13.10, 95% CI 1.98 to 24.22; five studies, 725 participants) and self-perceived changes in overall health (RR 1.83, 95% CI 1.39 to 2.40; four studies, 489 participants). It was not possible for review authors to draw conclusions regarding the remaining outcomes.Investigators compared exercise therapy with CBT in two trials (351 participants). One trial (298 participants) reported little or no difference in fatigue at end of treatment between the two groups using an 11-item scale with a scoring system of 0 to 33 points (MD 0.20, 95% CI -1.49 to 1.89). Both studies measured differences in fatigue at follow-up, but neither found differences between the two groups using an 11-item fatigue scale with a scoring system of 0 to 33 points (MD 0.30, 95% CI -1.45 to 2.05) and a nine-item Fatigue Severity Scale with a scoring system of 1 to 7 points (MD 0.40, 95% CI -0.34 to 1.14). Serious adverse reactions were rare in both groups (RR 0.67, 95% CI 0.11 to 3.96). We observed little or no difference in physical functioning, depression, anxiety and sleep, and we were not able to draw any conclusions with regard to pain, self-perceived changes in overall health, use of health service resources and drop-out rate.With regard to other comparisons, one study (320 participants) suggested a general benefit of exercise over adaptive pacing, and another study (183 participants) a benefit of exercise over supportive listening. The available evidence was too sparse to draw conclusions about the effect of pharmaceutical interventions. Patients with CFS may generally benefit and feel less fatigued following exercise therapy, and no evidence suggests that exercise therapy may worsen outcomes. A positive effect with respect to sleep, physical function and self-perceived general health has been observed, but no conclusions for the outcomes of pain, quality of life, anxiety, depression, drop-out rate and health service resources were possible. The effectiveness of exercise therapy seems greater than that of pacing but similar to that of CBT. Randomised trials with low risk of bias are needed to investigate the type, duration and intensity of the most beneficial exercise intervention.\""
      ]
     },
     "execution_count": 213,
     "metadata": {},
     "output_type": "execute_result"
    }
   ],
   "source": [
    "#df_Abs['Abstract'][232]:duplicate with [227]"
   ]
  },
  {
   "cell_type": "code",
   "execution_count": 215,
   "metadata": {},
   "outputs": [],
   "source": [
    "df_Abs.at[232,'AbL'] = 0"
   ]
  },
  {
   "cell_type": "code",
   "execution_count": 217,
   "metadata": {
    "collapsed": true
   },
   "outputs": [
    {
     "data": {
      "text/plain": [
       "\"Chronic fatigue syndrome (CFS) is characterised by persistent, medically unexplained fatigue, as well as symptoms such as musculoskeletal pain, sleep disturbance, headaches and impaired concentration and short-term memory. CFS presents as a common, debilitating and serious health problem. Treatment may include physical interventions, such as exercise therapy, which was last reviewed in 2004. The objective of this review was to determine the effects of exercise therapy (ET) for patients with CFS as compared with any other intervention or control.• Exercise therapy versus 'passive control' (e.g. treatment as usual, waiting-list control, relaxation, flexibility).• Exercise therapy versus other active treatment (e.g. cognitive-behavioural therapy (CBT), cognitive treatment, supportive therapy, pacing, pharmacological therapy such as antidepressants).• Exercise therapy in combination with other specified treatment strategies versus other specified treatment strategies (e.g. exercise combined with pharmacological treatment vs pharmacological treatment alone). We searched The Cochrane Collaboration Depression, Anxiety and Neurosis Controlled Trials Register (CCDANCTR), the Cochrane Central Register of Controlled Trials (CENTRAL) and SPORTDiscus up to May 2014 using a comprehensive list of free-text terms for CFS and exercise. We located unpublished or ongoing trials through the World Health Organization (WHO) International Clinical Trials Registry Platform (to May 2014). We screened reference lists of retrieved articles and contacted experts in the field for additional studies SELECTION CRITERIA: Randomised controlled trials involving adults with a primary diagnosis of CFS who were able to participate in exercise therapy. Studies had to compare exercise therapy with passive control, psychological therapies, adaptive pacing therapy or pharmacological therapy. Two review authors independently performed study selection, risk of bias assessments and data extraction. We combined continuous measures of outcomes using mean differences (MDs) and standardised mean differences (SMDs). We combined serious adverse reactions and drop-outs using risk ratios (RRs). We calculated an overall effect size with 95% confidence intervals (CIs) for each outcome. We have included eight randomised controlled studies and have reported data from 1518 participants in this review. Three studies diagnosed individuals with CFS using the 1994 criteria of the Centers for Disease Control and Prevention (CDC); five used the Oxford criteria. Exercise therapy lasted from 12 to 26 weeks. Seven studies used variations of aerobic exercise therapy such as walking, swimming, cycling or dancing provided at mixed levels in terms of intensity of the aerobic exercise from very low to quite rigorous, whilst one study used anaerobic exercise. Control groups consisted of passive control (eight studies; e.g. treatment as usual, relaxation, flexibility) or CBT (two studies), cognitive therapy (one study), supportive listening (one study), pacing (one study), pharmacological treatment (one study) and combination treatment (one study). Risk of bias varied across studies, but within each study, little variation was found in the risk of bias across our primary and secondary outcome measures.Investigators compared exercise therapy with 'passive' control in eight trials, which enrolled 971 participants. Seven studies consistently showed a reduction in fatigue following exercise therapy at end of treatment, even though the fatigue scales used different scoring systems: an 11-item scale with a scoring system of 0 to 11 points (MD -6.06, 95% CI -6.95 to -5.17; one study, 148 participants; low-quality evidence); the same 11-item scale with a scoring system of 0 to 33 points (MD -2.82, 95% CI -4.07 to -1.57; three studies, 540 participants; moderate-quality evidence); and a 14-item scale with a scoring system of 0 to 42 points (MD -6.80, 95% CI -10.31 to -3.28; three studies, 152 participants; moderate-quality evidence). Serious adverse reactions were rare in both groups (RR 0.99, 95% CI 0.14 to 6.97; one study, 319 participants; moderate-quality evidence), but sparse data made it impossible for review authors to draw conclusions. Study authors reported a positive effect of exercise therapy at end of treatment with respect to sleep (MD -1.49, 95% CI -2.95 to -0.02; two studies, 323 participants), physical functioning (MD 13.10, 95% CI 1.98 to 24.22; five studies, 725 participants) and self-perceived changes in overall health (RR 1.83, 95% CI 1.39 to 2.40; four studies, 489 participants). It was not possible for review authors to draw conclusions regarding the remaining outcomes.Investigators compared exercise therapy with CBT in two trials (351 participants). One trial (298 participants) reported little or no difference in fatigue at end of treatment between the two groups using an 11-item scale with a scoring system of 0 to 33 points (MD 0.20, 95% CI -1.49 to 1.89). Both studies measured differences in fatigue at follow-up, but neither found differences between the two groups using an 11-item fatigue scale with a scoring system of 0 to 33 points (MD 0.30, 95% CI -1.45 to 2.05) and a nine-item Fatigue Severity Scale with a scoring system of 1 to 7 points (MD 0.40, 95% CI -0.34 to 1.14). Serious adverse reactions were rare in both groups (RR 0.67, 95% CI 0.11 to 3.96). We observed little or no difference in physical functioning, depression, anxiety and sleep, and we were not able to draw any conclusions with regard to pain, self-perceived changes in overall health, use of health service resources and drop-out rate.With regard to other comparisons, one study (320 participants) suggested a general benefit of exercise over adaptive pacing, and another study (183 participants) a benefit of exercise over supportive listening. The available evidence was too sparse to draw conclusions about the effect of pharmaceutical interventions. Patients with CFS may generally benefit and feel less fatigued following exercise therapy, and no evidence suggests that exercise therapy may worsen outcomes. A positive effect with respect to sleep, physical function and self-perceived general health has been observed, but no conclusions for the outcomes of pain, quality of life, anxiety, depression, drop-out rate and health service resources were possible. The effectiveness of exercise therapy seems greater than that of pacing but similar to that of CBT. Randomised trials with low risk of bias are needed to investigate the type, duration and intensity of the most beneficial exercise intervention.\""
      ]
     },
     "execution_count": 217,
     "metadata": {},
     "output_type": "execute_result"
    }
   ],
   "source": [
    "#df_Abs['Abstract'][234]:duplicate with [227]"
   ]
  },
  {
   "cell_type": "code",
   "execution_count": 219,
   "metadata": {},
   "outputs": [],
   "source": [
    "df_Abs.at[234,'AbL'] = 0"
   ]
  },
  {
   "cell_type": "code",
   "execution_count": 221,
   "metadata": {
    "collapsed": true
   },
   "outputs": [
    {
     "data": {
      "text/plain": [
       "'The purpose of this study is to conduct a basic analysis of the effectiveness and safety of electroacupuncture in the treatment of painful diabetic neuropathy (PDN) as compared to placebo and usual care and to evaluate the feasibility of large-scale clinical research. This study is a protocol for a three-armed, randomized, patient-assessor-blinded (to the type of treatment), controlled pilot trial. Forty-five participants with a ≥ six month history of PDN and a mean weekly pain score of ≥ 4 on the 11-point Pain Intensity Numerical Rating Scale (PI-NRS) will be assigned to the electroacupuncture group (n = 15), sham group (n = 15) or usual care group (n = 15). The participants assigned to the electroacupuncture group will receive electroacupuncture (remaining for 30 minutes with a mixed current of 2 Hz/120 Hz and 80% of the bearable intensity) at 12 standard acupuncture points (bilateral ST36, GB39, SP9, SP6, LR3 and GB41) twice per week for eight weeks (a total of 16 sessions) as well as the usual care. The participants in the sham group will receive sham electroacupuncture (no electrical current will be passed to the needle, but the light will be seen, and the sound of the pulse generator will be heard by the participants) at non-acupuncture points as well as the usual care. The participants in the usual care group will not receive electroacupuncture treatment during the study period and will receive only the usual care. The follow-up will be in the 5th, 9th and 17th weeks after random allocation. The PI-NRS score assessed at the ninth week will be the primary outcome measurement used in this study. The Short-Form McGill Pain Questionnaire (SF-MPQ), a sleep disturbance score (11-point Likert scale), the Short-Form 36v2 Health Survey (SF-36), the Beck Depression Inventory (BDI) and the Patient Global Impression of Change (PGIC) will be used as outcome variables to evaluate the effectiveness of the acupuncture. Safety will be assessed at every visit. The result of this trial will provide a basis for the effectiveness and safety of electroacupuncture for PDN. Clinical Research information Service. Unique identifier: KCT0000466.'"
      ]
     },
     "execution_count": 221,
     "metadata": {},
     "output_type": "execute_result"
    }
   ],
   "source": [
    "#df_Abs['Abstract'][236] : protocol"
   ]
  },
  {
   "cell_type": "code",
   "execution_count": 222,
   "metadata": {},
   "outputs": [],
   "source": [
    "df_Abs.at[236,'AbL'] = 0"
   ]
  },
  {
   "cell_type": "code",
   "execution_count": 223,
   "metadata": {
    "collapsed": true
   },
   "outputs": [
    {
     "data": {
      "text/plain": [
       "'The present paper reviews recent studies on the clinical presentation of generalized anxiety disorder (GAD) and the current level of evidence for treatment with medications and psychotherapy. An apprehensive state of mind, regardless of the quality of stimuli, is at the core of GAD, causing a pervasive cognitive dysfunction that is separate from that seen in depression and obsessive compulsive disorder. When treatments reduce anxiety-related symptoms and insomnia, patients report a restoration of social functioning, probably as a consequence of improved decision-making, cooperative skills, and risk assessment. Late-onset GAD symptoms in the elderly may be caused or aggravated by cerebrovascular events, loneliness, bereavement, substance use, and the prospect of death. Insomnia in GAD may be primary or caused by common medications. Practice guidelines fail to capture the needs of the entire range of patients with GAD as they build on patients without comorbidity who have been selected for phase III trials. They are also biased to reduce cost. The past 10 years have seen a range of safe and effective treatments for GAD. Late-onset GAD presents a new challenge to researchers and practitioners. The current state of knowledge about GAD does not justify radical revisions of the diagnostic criteria in the ongoing revisions of the Diagnostic and Statistical Manual of Mental Disorders-IV and the International Statistical Classification of Diseases-10 nosologies.'"
      ]
     },
     "execution_count": 223,
     "metadata": {},
     "output_type": "execute_result"
    }
   ],
   "source": [
    "#df_Abs['Abstract'][237]: review"
   ]
  },
  {
   "cell_type": "code",
   "execution_count": 225,
   "metadata": {},
   "outputs": [],
   "source": [
    "df_Abs.at[237,'AbL'] = 0"
   ]
  },
  {
   "cell_type": "code",
   "execution_count": 226,
   "metadata": {
    "collapsed": true
   },
   "outputs": [
    {
     "data": {
      "text/plain": [
       "'This systematic review of randomized controlled trials aimed to examine the effectiveness of dry needling in the treatment of myofascial trigger points and to explore the impact of specific aspects of the technique on its effectiveness. Relevant studies published between 2000 and 2015 were identified by searching PubMed, Scopus, The Cochrane Library and Physiotherapy Evidence Database. Studies identified by electronic searches were screened against a set of pre-defined inclusion criteria. Fifteen studies were included in this systematic review. The main outcomes that were measured were pain, range of motion, disability, depression and quality of life. The results suggest that dry needling is effective in the short term for pain relief, increase range of motion and improve quality of life when compared to no intervention/sham/placebo. There is insufficient evidence on its effect on disability, analgesic medication intake and sleep quality. Despite some evidence for a positive effect in the short term, further randomized clinical trials of high methodological quality, using standardized procedures for the application of dry needling are needed.'"
      ]
     },
     "execution_count": 226,
     "metadata": {},
     "output_type": "execute_result"
    }
   ],
   "source": [
    "#df_Abs['Abstract'][238]: systematic review"
   ]
  },
  {
   "cell_type": "code",
   "execution_count": 227,
   "metadata": {},
   "outputs": [],
   "source": [
    "df_Abs.at[238,'AbL'] = 0"
   ]
  },
  {
   "cell_type": "code",
   "execution_count": 228,
   "metadata": {
    "collapsed": true
   },
   "outputs": [
    {
     "data": {
      "text/plain": [
       "'Potential benefits and risks of early (≤30 days from stroke onset) selective serotonin reuptake inhibitors (SSRIs) treatment for neurologic functional recovery after stroke are not fully understood. We searched PubMed, Embase, and the Cochrane Library to identify randomized controlled trials that assessed SSRI medications during the initial ictus after stroke versus placebo. Primary outcome was decrease in National Institutes of Health Stroke Scale (NIHSS) score. Secondary outcomes included the improvement of Barthel index, functional independence (modified Rankin Scale score 0-2 at the end of follow-up), the incidence of depression, and adverse events including diarrhea, insomnia, hepatic enzyme disorders, seizure, and intracranial hemorrhage. We used fixed effects models or random effects models to estimate weighted mean differences (WMDs) and relative risks (RRs) with 95% confidence intervals (CIs) according to heterogeneity. Eight trials were included, with 1549 patients. Compared with placebo, decrease in NIHSS was greater in SSRI-treated patients (WMD, 0.82; 95% CI, 0.31-1.33; P\\u2009=\\u2009.002). Trial sequential analysis showed that the cumulative z curve crossed the trial sequential monitoring boundary for benefit, establishing sufficient and conclusive evidence. Early SSRI treatment also promoted Barthel index (WMD, 5.32; 95% CI, 1.65-8.99; P\\u2009=\\u2009.005) and functional independence (RR, 2.54; 95% CI, 1.82-3.55; P\\u2009<\\u2009.0001). There was no difference in the incidence of depression and adverse events between groups. No evidence of publication bias was detected. The early SSRIs treatment reduces the defective neurologic function in patients undergoing rehabilitation after stroke.'"
      ]
     },
     "execution_count": 228,
     "metadata": {},
     "output_type": "execute_result"
    }
   ],
   "source": [
    "#df_Abs['Abstract'][239]: review"
   ]
  },
  {
   "cell_type": "code",
   "execution_count": 229,
   "metadata": {},
   "outputs": [],
   "source": [
    "df_Abs.at[239,'AbL'] = 0"
   ]
  },
  {
   "cell_type": "code",
   "execution_count": 230,
   "metadata": {
    "collapsed": true
   },
   "outputs": [
    {
     "data": {
      "text/plain": [
       "'Chronic pain is a common condition among older adults. While cognitive behaviour therapy (CBT) has been tested in numerous studies on adults and children there are fewer studies on older persons. The objective of this study was to investigate the effects of a six-session CBT group treatment for older persons with chronic pain. As a secondary aim we investigated whether treatment credibility was associated with outcome. We included 21 persons (mean age = 72.0 years) who were randomly allocated to either a waitlist condition or treatment consisting of applied relaxation, with the addition of problem solving, assertiveness, communication strategies, sleep management, and relapse prevention. Few statistically significant effects were found on measures of pain, mood, anxiety, and quality of life; however, a significant treatment effect with a between group effect size of d = 1.0 was observed with respect to perceived ability to function despite the discomfort of pain. The study provides some preliminary support for the use of group-based CBT with a focus on applied relaxation for older adults with chronic pain.'"
      ]
     },
     "execution_count": 230,
     "metadata": {},
     "output_type": "execute_result"
    }
   ],
   "source": [
    "#df_Abs['Abstract'][240]: CBT"
   ]
  },
  {
   "cell_type": "code",
   "execution_count": 231,
   "metadata": {},
   "outputs": [],
   "source": [
    "df_Abs.at[240,'AbL'] = 0"
   ]
  },
  {
   "cell_type": "code",
   "execution_count": 232,
   "metadata": {
    "collapsed": true
   },
   "outputs": [
    {
     "data": {
      "text/plain": [
       "'As the number of people with diabetes is increasing rapidly worldwide, a more thorough understanding of the psychosocial aspects of living with this condition has become an important health care priority. While our knowledge has grown substantially over the past two decades with respect to the physical, emotional and social difficulties that people with diabetes may encounter, many important issues remain to be elucidated. Under the umbrella of the Diabetes MILES (Management and Impact for Long-term Empowerment and Success) Study International Collaborative, Diabetes MILES--The Netherlands aims to examine how Dutch adults with diabetes manage their condition and how it affects their lives. Topics of special interest in Diabetes MILES--The Netherlands include subtypes of depression, Type D personality, mindfulness, sleep and sexual functioning. Diabetes MILES--The Netherlands was designed as a national online observational study among adults with diabetes. In addition to a main set of self-report measures, the survey consisted of five complementary modules to which participants were allocated randomly. From September to October 2011, a total of 3,960 individuals with diabetes (40% type 1, 53% type 2) completed the battery of questionnaires covering a broad range of topics, including general health, self-management, emotional well-being and contact with health care providers. People with self-reported type 1 diabetes (specifically those on insulin pump therapy) were over-represented, as were those using insulin among respondents with self-reported type 2 diabetes. People from ethnic minorities were under-represented. The sex distribution was fairly equal in the total sample, participants spanned a broad age range (19-90 years), and diabetes duration ranged from recent diagnosis to living with the condition for over fifty years. The Diabetes MILES Study enables detailed investigation of the psychosocial aspects of living with diabetes and an opportunity to put these findings in an international context. With several papers planned resulting from a pooled Australian-Dutch dataset and data collections planned in other countries, the Diabetes MILES Study International Collaborative will contribute substantially to identifying potentially unmet needs of those living with diabetes and to inform clinical research and care across the globe.'"
      ]
     },
     "execution_count": 232,
     "metadata": {},
     "output_type": "execute_result"
    }
   ],
   "source": [
    "#df_Abs['Abstract'][241]: not RCT"
   ]
  },
  {
   "cell_type": "code",
   "execution_count": 234,
   "metadata": {},
   "outputs": [],
   "source": [
    "df_Abs.at[241,'AbL'] = 0"
   ]
  },
  {
   "cell_type": "code",
   "execution_count": 235,
   "metadata": {
    "collapsed": true
   },
   "outputs": [
    {
     "data": {
      "text/plain": [
       "'Moderate exercise training during the pregnancy benefits both the pregnant woman and the fetus. The research papers consulted have linked physical activity with the reduction of the number of cesareans, instrumental delivery and with a more physiological delivery. It also prevents excessive weight gain in women and decreases the risk of gestational diabetes and high blood pressure. The aim of this research is to know if an exercise program of moderate character with Water Study Exercise Pregnant (SWEP) method, performed in an aquatic environment, contributes to have more favorable results in the perinatal period, both for women and baby. The design is a randomized clinical trial. The sample will consist of 364 pregnant women, with a total universe of 6,579 births occurred in Granada (Spain) during 2014. The sample was divided into two groups, intervention group and control group. The activity will be carried out in the water sporting facilities of the Faculty of Sports Science of the University of Granada, which have two pools suitable for our purposes: a 25-meter polyvalent pool and a 12.5-meter pool for training. The exercise program designed specifically for the project called SWEP is performed from 20 to 37 weeks of gestation (SG), and it consists of three weekly sessions, with duration of 60 minutes each. Sessions will include three phases: warm-up phase, the main phase in which the exercise is divided into an aerobic phase and strength training and endurance training phase and a final phase of stretching and relaxation. The variables that will be studied are: a) Maternal: weight, BMI, blood pressure, O’Sullivan test, postpartum depression, level of self-rated health, sleep quality and perceived exertion during physical activity; b) fetal: weight, Apgar scores, head circumference and GA (Gestational age); c) peripartum: time dilation, expulsion and delivery, type of delivery, episiotomy, type of feed received by the RN and time of exclusive breastfeeding; and d) descriptive: age, occupation, education level, type of exercise done before and OF (obstetric formula). With aquatic moderate physical activity during pregnancy (method SWEP), we intended to improve the variables above.'"
      ]
     },
     "execution_count": 235,
     "metadata": {},
     "output_type": "execute_result"
    }
   ],
   "source": [
    "#df_Abs['Abstract'][242]: not CAM"
   ]
  },
  {
   "cell_type": "code",
   "execution_count": 236,
   "metadata": {},
   "outputs": [],
   "source": [
    "df_Abs.at[242,'AbL'] = 0"
   ]
  },
  {
   "cell_type": "code",
   "execution_count": 237,
   "metadata": {
    "collapsed": true
   },
   "outputs": [
    {
     "data": {
      "text/plain": [
       "\"This study evaluated the efficacy of a comprehensive stress management program in reducing perceived stress among women who reported moderate-to-high stress levels. A total of 562 highly motivated females, aged 25-45, with moderate to high stress levels, were enrolled in a 14-week study. Participants were randomized into one of three groups: Group 1 included Internet-based coaching focusing on behavior modification, daily use of proprietary olfactive-based personal care products, and periodic feedback reports; Group 2 consisted of only online coaching; and Group 3 had no active stress management program. Participants in the three groups filled out validated psychometric assessments at baseline and throughout the study period. Several outcomes including Perceived Stress Scale (PSS), Profile of Mood States (POMS), St Mary's Hospital Sleep Questionnaire (SMS), the Trier Inventory of Chronic Stress (TICS), Spielberger State-Trait Anxiety Inventory (STAI), Short-Form-36 (SF-36) and the Work Productivity and Activity Impairment (WPAI), were measured periodically to assess changes in subject-perceived stress, stress-related comorbidities, and sleep quality and to evaluate overall program efficacy. Ethical approval of protocols was conducted by the Allendale Investigational Review Board (AIRB). Voluntary informed consent was obtained from each subject. At the end of the 14-week study period, subjects in Group 1 had statistically significant improvement in the PSS score vs. Group 3 (p < 0.01). There were statistically significant improvements in other efficacy outcomes such as POMS total mood disturbance, TICS work overload and social responsibility subscales, STAI and in the number of night awakenings, assessed by the SMS questionnaire (p < 0.05). Self-reported program efficacy was also significantly higher for Group 1 (p < 0.001). Despite study limitations, including reduction of stress in Group 3, this study demonstrates that this comprehensive stress management program is effective in reducing stress among women with moderate to high stress levels.\""
      ]
     },
     "execution_count": 237,
     "metadata": {},
     "output_type": "execute_result"
    }
   ],
   "source": [
    "#df_Abs['Abstract'][243]: not CAM"
   ]
  },
  {
   "cell_type": "code",
   "execution_count": 238,
   "metadata": {},
   "outputs": [],
   "source": [
    "df_Abs.at[243,'AbL'] = 0"
   ]
  },
  {
   "cell_type": "code",
   "execution_count": null,
   "metadata": {},
   "outputs": [],
   "source": []
  },
  {
   "cell_type": "code",
   "execution_count": null,
   "metadata": {},
   "outputs": [],
   "source": []
  },
  {
   "cell_type": "code",
   "execution_count": null,
   "metadata": {},
   "outputs": [],
   "source": []
  },
  {
   "cell_type": "code",
   "execution_count": 240,
   "metadata": {},
   "outputs": [],
   "source": [
    "df_Abs.to_pickle('C:/Users/CAM2-1.pkl')\n",
    "#df_Abs.to_pickle('C:/Users/kirak/Documents/School/USF/HS651/CAM2.pkl')"
   ]
  },
  {
   "cell_type": "code",
   "execution_count": 241,
   "metadata": {},
   "outputs": [],
   "source": [
    "df_Abs = pd.read_pickle('C:/Users/CAM2-1.pkl')"
   ]
  },
  {
   "cell_type": "code",
   "execution_count": 242,
   "metadata": {},
   "outputs": [
    {
     "data": {
      "text/html": [
       "<div>\n",
       "<style scoped>\n",
       "    .dataframe tbody tr th:only-of-type {\n",
       "        vertical-align: middle;\n",
       "    }\n",
       "\n",
       "    .dataframe tbody tr th {\n",
       "        vertical-align: top;\n",
       "    }\n",
       "\n",
       "    .dataframe thead th {\n",
       "        text-align: right;\n",
       "    }\n",
       "</style>\n",
       "<table border=\"1\" class=\"dataframe\">\n",
       "  <thead>\n",
       "    <tr style=\"text-align: right;\">\n",
       "      <th></th>\n",
       "      <th>Title</th>\n",
       "      <th>JournalInfo</th>\n",
       "      <th>Abstract</th>\n",
       "      <th>TiL</th>\n",
       "      <th>AbL</th>\n",
       "    </tr>\n",
       "  </thead>\n",
       "  <tbody>\n",
       "    <tr>\n",
       "      <th>0</th>\n",
       "      <td>\"Qigong/Tai Chi Easy for fatigue in breast can...</td>\n",
       "      <td>Contemp Clin Trials</td>\n",
       "      <td>Breast cancer survivors (BCSs) often report fa...</td>\n",
       "      <td>1</td>\n",
       "      <td>0</td>\n",
       "    </tr>\n",
       "    <tr>\n",
       "      <th>1</th>\n",
       "      <td>\"Tai Chi Chih Compared With Cognitive Behavior...</td>\n",
       "      <td>J Clin Oncol</td>\n",
       "      <td>Purpose Cognitive behavioral therapy for insom...</td>\n",
       "      <td>1</td>\n",
       "      <td>1</td>\n",
       "    </tr>\n",
       "    <tr>\n",
       "      <th>2</th>\n",
       "      <td>\"Cognitive behavioral therapy vs. Tai Chi for ...</td>\n",
       "      <td>Sleep</td>\n",
       "      <td>To investigate the comparative efficacy of cog...</td>\n",
       "      <td>1</td>\n",
       "      <td>1</td>\n",
       "    </tr>\n",
       "    <tr>\n",
       "      <th>3</th>\n",
       "      <td>\"Tai chi/yoga reduces prenatal depression, anx...</td>\n",
       "      <td>Complement Ther Clin Pract</td>\n",
       "      <td>Ninety-two prenatally depressed pregnant women...</td>\n",
       "      <td>1</td>\n",
       "      <td>1</td>\n",
       "    </tr>\n",
       "    <tr>\n",
       "      <th>4</th>\n",
       "      <td>\"Efficacy of rehabilitation with Tai Ji Quan i...</td>\n",
       "      <td>Complement Ther Clin Pract</td>\n",
       "      <td>Fibromyalgia Syndrome (FMS) is characterized b...</td>\n",
       "      <td>1</td>\n",
       "      <td>1</td>\n",
       "    </tr>\n",
       "    <tr>\n",
       "      <th>5</th>\n",
       "      <td>\"Randomized controlled trial of Qigong/Tai Chi...</td>\n",
       "      <td>Ann Behav Med</td>\n",
       "      <td>Many breast cancer survivors experience fatigu...</td>\n",
       "      <td>1</td>\n",
       "      <td>1</td>\n",
       "    </tr>\n",
       "    <tr>\n",
       "      <th>6</th>\n",
       "      <td>\"Subjective perceived impact of Tai Chi traini...</td>\n",
       "      <td>BMC Complement Altern Med</td>\n",
       "      <td>Evidence from quantitative studies suggest tha...</td>\n",
       "      <td>1</td>\n",
       "      <td>1</td>\n",
       "    </tr>\n",
       "    <tr>\n",
       "      <th>7</th>\n",
       "      <td>\"Design and methods of the Gentle Cardiac Reha...</td>\n",
       "      <td>Contemp Clin Trials</td>\n",
       "      <td>Cardiac rehabilitation (CR) programs reduce ov...</td>\n",
       "      <td>1</td>\n",
       "      <td>0</td>\n",
       "    </tr>\n",
       "    <tr>\n",
       "      <th>8</th>\n",
       "      <td>\"Long-term Exercise After Pulmonary Rehabilita...</td>\n",
       "      <td>Contemp Clin Trials</td>\n",
       "      <td>Persons with chronic obstructive pulmonary dis...</td>\n",
       "      <td>1</td>\n",
       "      <td>0</td>\n",
       "    </tr>\n",
       "    <tr>\n",
       "      <th>9</th>\n",
       "      <td>\"Patient Engagement in Randomized Controlled T...</td>\n",
       "      <td>Rev Recent Clin Trials</td>\n",
       "      <td>Physicians encounter various symptom-based com...</td>\n",
       "      <td>1</td>\n",
       "      <td>0</td>\n",
       "    </tr>\n",
       "  </tbody>\n",
       "</table>\n",
       "</div>"
      ],
      "text/plain": [
       "                                               Title  \\\n",
       "0  \"Qigong/Tai Chi Easy for fatigue in breast can...   \n",
       "1  \"Tai Chi Chih Compared With Cognitive Behavior...   \n",
       "2  \"Cognitive behavioral therapy vs. Tai Chi for ...   \n",
       "3  \"Tai chi/yoga reduces prenatal depression, anx...   \n",
       "4  \"Efficacy of rehabilitation with Tai Ji Quan i...   \n",
       "5  \"Randomized controlled trial of Qigong/Tai Chi...   \n",
       "6  \"Subjective perceived impact of Tai Chi traini...   \n",
       "7  \"Design and methods of the Gentle Cardiac Reha...   \n",
       "8  \"Long-term Exercise After Pulmonary Rehabilita...   \n",
       "9  \"Patient Engagement in Randomized Controlled T...   \n",
       "\n",
       "                  JournalInfo  \\\n",
       "0         Contemp Clin Trials   \n",
       "1                J Clin Oncol   \n",
       "2                       Sleep   \n",
       "3  Complement Ther Clin Pract   \n",
       "4  Complement Ther Clin Pract   \n",
       "5               Ann Behav Med   \n",
       "6   BMC Complement Altern Med   \n",
       "7         Contemp Clin Trials   \n",
       "8         Contemp Clin Trials   \n",
       "9      Rev Recent Clin Trials   \n",
       "\n",
       "                                            Abstract  TiL  AbL  \n",
       "0  Breast cancer survivors (BCSs) often report fa...    1    0  \n",
       "1  Purpose Cognitive behavioral therapy for insom...    1    1  \n",
       "2  To investigate the comparative efficacy of cog...    1    1  \n",
       "3  Ninety-two prenatally depressed pregnant women...    1    1  \n",
       "4  Fibromyalgia Syndrome (FMS) is characterized b...    1    1  \n",
       "5  Many breast cancer survivors experience fatigu...    1    1  \n",
       "6  Evidence from quantitative studies suggest tha...    1    1  \n",
       "7  Cardiac rehabilitation (CR) programs reduce ov...    1    0  \n",
       "8  Persons with chronic obstructive pulmonary dis...    1    0  \n",
       "9  Physicians encounter various symptom-based com...    1    0  "
      ]
     },
     "execution_count": 242,
     "metadata": {},
     "output_type": "execute_result"
    }
   ],
   "source": [
    "df_Abs.head(10)"
   ]
  },
  {
   "cell_type": "code",
   "execution_count": 244,
   "metadata": {},
   "outputs": [
    {
     "data": {
      "text/plain": [
       "0    126\n",
       "1    118\n",
       "Name: AbL, dtype: int64"
      ]
     },
     "execution_count": 244,
     "metadata": {},
     "output_type": "execute_result"
    }
   ],
   "source": [
    "df_Abs.AbL.value_counts()"
   ]
  },
  {
   "cell_type": "code",
   "execution_count": 247,
   "metadata": {},
   "outputs": [],
   "source": [
    "del df_Abs['Title']"
   ]
  },
  {
   "cell_type": "code",
   "execution_count": 248,
   "metadata": {},
   "outputs": [],
   "source": [
    "del df_Abs['JournalInfo']"
   ]
  },
  {
   "cell_type": "code",
   "execution_count": 249,
   "metadata": {},
   "outputs": [],
   "source": [
    "del df_Abs['TiL']"
   ]
  },
  {
   "cell_type": "code",
   "execution_count": 250,
   "metadata": {},
   "outputs": [
    {
     "data": {
      "text/html": [
       "<div>\n",
       "<style scoped>\n",
       "    .dataframe tbody tr th:only-of-type {\n",
       "        vertical-align: middle;\n",
       "    }\n",
       "\n",
       "    .dataframe tbody tr th {\n",
       "        vertical-align: top;\n",
       "    }\n",
       "\n",
       "    .dataframe thead th {\n",
       "        text-align: right;\n",
       "    }\n",
       "</style>\n",
       "<table border=\"1\" class=\"dataframe\">\n",
       "  <thead>\n",
       "    <tr style=\"text-align: right;\">\n",
       "      <th></th>\n",
       "      <th>Abstract</th>\n",
       "      <th>AbL</th>\n",
       "    </tr>\n",
       "  </thead>\n",
       "  <tbody>\n",
       "    <tr>\n",
       "      <th>0</th>\n",
       "      <td>Breast cancer survivors (BCSs) often report fa...</td>\n",
       "      <td>0</td>\n",
       "    </tr>\n",
       "    <tr>\n",
       "      <th>1</th>\n",
       "      <td>Purpose Cognitive behavioral therapy for insom...</td>\n",
       "      <td>1</td>\n",
       "    </tr>\n",
       "    <tr>\n",
       "      <th>2</th>\n",
       "      <td>To investigate the comparative efficacy of cog...</td>\n",
       "      <td>1</td>\n",
       "    </tr>\n",
       "    <tr>\n",
       "      <th>3</th>\n",
       "      <td>Ninety-two prenatally depressed pregnant women...</td>\n",
       "      <td>1</td>\n",
       "    </tr>\n",
       "    <tr>\n",
       "      <th>4</th>\n",
       "      <td>Fibromyalgia Syndrome (FMS) is characterized b...</td>\n",
       "      <td>1</td>\n",
       "    </tr>\n",
       "  </tbody>\n",
       "</table>\n",
       "</div>"
      ],
      "text/plain": [
       "                                            Abstract  AbL\n",
       "0  Breast cancer survivors (BCSs) often report fa...    0\n",
       "1  Purpose Cognitive behavioral therapy for insom...    1\n",
       "2  To investigate the comparative efficacy of cog...    1\n",
       "3  Ninety-two prenatally depressed pregnant women...    1\n",
       "4  Fibromyalgia Syndrome (FMS) is characterized b...    1"
      ]
     },
     "execution_count": 250,
     "metadata": {},
     "output_type": "execute_result"
    }
   ],
   "source": [
    "df_Abs.head()"
   ]
  },
  {
   "cell_type": "code",
   "execution_count": 251,
   "metadata": {},
   "outputs": [],
   "source": [
    "df_Abs.to_pickle('C:/Users/CAM2-1-1.pkl')"
   ]
  },
  {
   "cell_type": "code",
   "execution_count": 245,
   "metadata": {},
   "outputs": [],
   "source": [
    "#df_Abs1 = pd.read_pickle('C:/Users/CAM2.pkl')"
   ]
  },
  {
   "cell_type": "code",
   "execution_count": 55,
   "metadata": {},
   "outputs": [],
   "source": [
    "#df_Abs1.head()"
   ]
  },
  {
   "cell_type": "code",
   "execution_count": 56,
   "metadata": {},
   "outputs": [],
   "source": [
    "#df_Abs1.AbL.value_counts()"
   ]
  },
  {
   "cell_type": "markdown",
   "metadata": {},
   "source": [
    "# Concatenate pkl CAM2 and CAM2-1-1"
   ]
  },
  {
   "cell_type": "code",
   "execution_count": 9,
   "metadata": {},
   "outputs": [],
   "source": [
    "import pandas as pd"
   ]
  },
  {
   "cell_type": "code",
   "execution_count": 10,
   "metadata": {},
   "outputs": [
    {
     "data": {
      "text/html": [
       "<div>\n",
       "<style scoped>\n",
       "    .dataframe tbody tr th:only-of-type {\n",
       "        vertical-align: middle;\n",
       "    }\n",
       "\n",
       "    .dataframe tbody tr th {\n",
       "        vertical-align: top;\n",
       "    }\n",
       "\n",
       "    .dataframe thead th {\n",
       "        text-align: right;\n",
       "    }\n",
       "</style>\n",
       "<table border=\"1\" class=\"dataframe\">\n",
       "  <thead>\n",
       "    <tr style=\"text-align: right;\">\n",
       "      <th></th>\n",
       "      <th>Abstract</th>\n",
       "      <th>AbL</th>\n",
       "    </tr>\n",
       "  </thead>\n",
       "  <tbody>\n",
       "    <tr>\n",
       "      <th>0</th>\n",
       "      <td>Breast cancer survivors (BCSs) often report fa...</td>\n",
       "      <td>0</td>\n",
       "    </tr>\n",
       "    <tr>\n",
       "      <th>1</th>\n",
       "      <td>Purpose Cognitive behavioral therapy for insom...</td>\n",
       "      <td>1</td>\n",
       "    </tr>\n",
       "    <tr>\n",
       "      <th>2</th>\n",
       "      <td>To investigate the comparative efficacy of cog...</td>\n",
       "      <td>1</td>\n",
       "    </tr>\n",
       "    <tr>\n",
       "      <th>3</th>\n",
       "      <td>Ninety-two prenatally depressed pregnant women...</td>\n",
       "      <td>1</td>\n",
       "    </tr>\n",
       "    <tr>\n",
       "      <th>4</th>\n",
       "      <td>Fibromyalgia Syndrome (FMS) is characterized b...</td>\n",
       "      <td>1</td>\n",
       "    </tr>\n",
       "    <tr>\n",
       "      <th>...</th>\n",
       "      <td>...</td>\n",
       "      <td>...</td>\n",
       "    </tr>\n",
       "    <tr>\n",
       "      <th>239</th>\n",
       "      <td>Potential benefits and risks of early (≤30 day...</td>\n",
       "      <td>0</td>\n",
       "    </tr>\n",
       "    <tr>\n",
       "      <th>240</th>\n",
       "      <td>Chronic pain is a common condition among older...</td>\n",
       "      <td>0</td>\n",
       "    </tr>\n",
       "    <tr>\n",
       "      <th>241</th>\n",
       "      <td>As the number of people with diabetes is incre...</td>\n",
       "      <td>0</td>\n",
       "    </tr>\n",
       "    <tr>\n",
       "      <th>242</th>\n",
       "      <td>Moderate exercise training during the pregnanc...</td>\n",
       "      <td>0</td>\n",
       "    </tr>\n",
       "    <tr>\n",
       "      <th>243</th>\n",
       "      <td>This study evaluated the efficacy of a compreh...</td>\n",
       "      <td>0</td>\n",
       "    </tr>\n",
       "  </tbody>\n",
       "</table>\n",
       "<p>244 rows × 2 columns</p>\n",
       "</div>"
      ],
      "text/plain": [
       "                                              Abstract  AbL\n",
       "0    Breast cancer survivors (BCSs) often report fa...    0\n",
       "1    Purpose Cognitive behavioral therapy for insom...    1\n",
       "2    To investigate the comparative efficacy of cog...    1\n",
       "3    Ninety-two prenatally depressed pregnant women...    1\n",
       "4    Fibromyalgia Syndrome (FMS) is characterized b...    1\n",
       "..                                                 ...  ...\n",
       "239  Potential benefits and risks of early (≤30 day...    0\n",
       "240  Chronic pain is a common condition among older...    0\n",
       "241  As the number of people with diabetes is incre...    0\n",
       "242  Moderate exercise training during the pregnanc...    0\n",
       "243  This study evaluated the efficacy of a compreh...    0\n",
       "\n",
       "[244 rows x 2 columns]"
      ]
     },
     "execution_count": 10,
     "metadata": {},
     "output_type": "execute_result"
    }
   ],
   "source": [
    "df_Abs_Cam2 = pd.read_pickle('C:/Users/CAM2-1-1.pkl')\n",
    "df_Abs_Cam2"
   ]
  },
  {
   "cell_type": "code",
   "execution_count": 11,
   "metadata": {},
   "outputs": [
    {
     "data": {
      "text/html": [
       "<div>\n",
       "<style scoped>\n",
       "    .dataframe tbody tr th:only-of-type {\n",
       "        vertical-align: middle;\n",
       "    }\n",
       "\n",
       "    .dataframe tbody tr th {\n",
       "        vertical-align: top;\n",
       "    }\n",
       "\n",
       "    .dataframe thead th {\n",
       "        text-align: right;\n",
       "    }\n",
       "</style>\n",
       "<table border=\"1\" class=\"dataframe\">\n",
       "  <thead>\n",
       "    <tr style=\"text-align: right;\">\n",
       "      <th></th>\n",
       "      <th>Abstract</th>\n",
       "      <th>AbL</th>\n",
       "    </tr>\n",
       "  </thead>\n",
       "  <tbody>\n",
       "    <tr>\n",
       "      <th>0</th>\n",
       "      <td>and Purpose: There were studies showing the po...</td>\n",
       "      <td>1</td>\n",
       "    </tr>\n",
       "    <tr>\n",
       "      <th>1</th>\n",
       "      <td>Tai Chi, a kind of physical exercise, may act ...</td>\n",
       "      <td>1</td>\n",
       "    </tr>\n",
       "    <tr>\n",
       "      <th>2</th>\n",
       "      <td>To determine the effectiveness of tai chi inte...</td>\n",
       "      <td>1</td>\n",
       "    </tr>\n",
       "    <tr>\n",
       "      <th>3</th>\n",
       "      <td>This study aimed to investigate the effects of...</td>\n",
       "      <td>1</td>\n",
       "    </tr>\n",
       "    <tr>\n",
       "      <th>4</th>\n",
       "      <td>Cancer treatment can be a great source of anxi...</td>\n",
       "      <td>1</td>\n",
       "    </tr>\n",
       "    <tr>\n",
       "      <th>...</th>\n",
       "      <td>...</td>\n",
       "      <td>...</td>\n",
       "    </tr>\n",
       "    <tr>\n",
       "      <th>145</th>\n",
       "      <td>Fibromyalgia is a condition characterised by c...</td>\n",
       "      <td>1</td>\n",
       "    </tr>\n",
       "    <tr>\n",
       "      <th>146</th>\n",
       "      <td>Mild cognitive impairment (MCI) is cognitive d...</td>\n",
       "      <td>0</td>\n",
       "    </tr>\n",
       "    <tr>\n",
       "      <th>147</th>\n",
       "      <td>There is no sufficient evidence on the effecti...</td>\n",
       "      <td>0</td>\n",
       "    </tr>\n",
       "    <tr>\n",
       "      <th>148</th>\n",
       "      <td>Many of the currently available treatments for...</td>\n",
       "      <td>0</td>\n",
       "    </tr>\n",
       "    <tr>\n",
       "      <th>149</th>\n",
       "      <td>Chronic fatigue (CF) is unexplained fatigue la...</td>\n",
       "      <td>1</td>\n",
       "    </tr>\n",
       "  </tbody>\n",
       "</table>\n",
       "<p>150 rows × 2 columns</p>\n",
       "</div>"
      ],
      "text/plain": [
       "                                              Abstract  AbL\n",
       "0    and Purpose: There were studies showing the po...    1\n",
       "1    Tai Chi, a kind of physical exercise, may act ...    1\n",
       "2    To determine the effectiveness of tai chi inte...    1\n",
       "3    This study aimed to investigate the effects of...    1\n",
       "4    Cancer treatment can be a great source of anxi...    1\n",
       "..                                                 ...  ...\n",
       "145  Fibromyalgia is a condition characterised by c...    1\n",
       "146  Mild cognitive impairment (MCI) is cognitive d...    0\n",
       "147  There is no sufficient evidence on the effecti...    0\n",
       "148  Many of the currently available treatments for...    0\n",
       "149  Chronic fatigue (CF) is unexplained fatigue la...    1\n",
       "\n",
       "[150 rows x 2 columns]"
      ]
     },
     "execution_count": 11,
     "metadata": {},
     "output_type": "execute_result"
    }
   ],
   "source": [
    "df_Abs_Cam21 = pd.read_pickle('C:/Users/CAM2.pkl')\n",
    "df_Abs_Cam21"
   ]
  },
  {
   "cell_type": "code",
   "execution_count": 5,
   "metadata": {},
   "outputs": [
    {
     "data": {
      "text/html": [
       "<div>\n",
       "<style scoped>\n",
       "    .dataframe tbody tr th:only-of-type {\n",
       "        vertical-align: middle;\n",
       "    }\n",
       "\n",
       "    .dataframe tbody tr th {\n",
       "        vertical-align: top;\n",
       "    }\n",
       "\n",
       "    .dataframe thead th {\n",
       "        text-align: right;\n",
       "    }\n",
       "</style>\n",
       "<table border=\"1\" class=\"dataframe\">\n",
       "  <thead>\n",
       "    <tr style=\"text-align: right;\">\n",
       "      <th></th>\n",
       "      <th>Abstract</th>\n",
       "      <th>AbL</th>\n",
       "    </tr>\n",
       "  </thead>\n",
       "  <tbody>\n",
       "    <tr>\n",
       "      <th>0</th>\n",
       "      <td>Breast cancer survivors (BCSs) often report fa...</td>\n",
       "      <td>0</td>\n",
       "    </tr>\n",
       "    <tr>\n",
       "      <th>1</th>\n",
       "      <td>Purpose Cognitive behavioral therapy for insom...</td>\n",
       "      <td>1</td>\n",
       "    </tr>\n",
       "    <tr>\n",
       "      <th>2</th>\n",
       "      <td>To investigate the comparative efficacy of cog...</td>\n",
       "      <td>1</td>\n",
       "    </tr>\n",
       "    <tr>\n",
       "      <th>3</th>\n",
       "      <td>Ninety-two prenatally depressed pregnant women...</td>\n",
       "      <td>1</td>\n",
       "    </tr>\n",
       "    <tr>\n",
       "      <th>4</th>\n",
       "      <td>Fibromyalgia Syndrome (FMS) is characterized b...</td>\n",
       "      <td>1</td>\n",
       "    </tr>\n",
       "  </tbody>\n",
       "</table>\n",
       "</div>"
      ],
      "text/plain": [
       "                                            Abstract  AbL\n",
       "0  Breast cancer survivors (BCSs) often report fa...    0\n",
       "1  Purpose Cognitive behavioral therapy for insom...    1\n",
       "2  To investigate the comparative efficacy of cog...    1\n",
       "3  Ninety-two prenatally depressed pregnant women...    1\n",
       "4  Fibromyalgia Syndrome (FMS) is characterized b...    1"
      ]
     },
     "execution_count": 5,
     "metadata": {},
     "output_type": "execute_result"
    }
   ],
   "source": [
    "dfstocomb = [df_Abs_Cam2,df_Abs_Cam21]\n",
    "combinedDFs = pd.concat(dfstocomb,axis=0)\n",
    "combinedDFs.head()"
   ]
  },
  {
   "cell_type": "code",
   "execution_count": 6,
   "metadata": {},
   "outputs": [
    {
     "data": {
      "text/plain": [
       "Abstract    False\n",
       "AbL         False\n",
       "dtype: bool"
      ]
     },
     "execution_count": 6,
     "metadata": {},
     "output_type": "execute_result"
    }
   ],
   "source": [
    "combinedDFs.isna().any()"
   ]
  },
  {
   "cell_type": "code",
   "execution_count": 8,
   "metadata": {},
   "outputs": [],
   "source": [
    "combinedDFs.to_pickle('C:/users/Combined_df.pkl')"
   ]
  },
  {
   "cell_type": "code",
   "execution_count": null,
   "metadata": {},
   "outputs": [],
   "source": []
  },
  {
   "cell_type": "markdown",
   "metadata": {},
   "source": [
    "# Split"
   ]
  },
  {
   "cell_type": "code",
   "execution_count": 61,
   "metadata": {},
   "outputs": [],
   "source": [
    "df_valid = combinedDFs.sample(frac = 0.2, random_state = 42)"
   ]
  },
  {
   "cell_type": "code",
   "execution_count": 63,
   "metadata": {},
   "outputs": [],
   "source": [
    "df_valid.to_pickle('C:/users/Combined_valid.pkl')\n",
    "#df_valid.to_pickle('C:/Users/kirak/Documents/School/USF/HS651/CAM2_valid.pkl')"
   ]
  },
  {
   "cell_type": "code",
   "execution_count": 64,
   "metadata": {},
   "outputs": [],
   "source": [
    "df_train = combinedDFs.drop(df_valid.index)"
   ]
  },
  {
   "cell_type": "code",
   "execution_count": 65,
   "metadata": {},
   "outputs": [],
   "source": [
    "df_train.to_pickle('C:/users/Combined_train.pkl')\n",
    "#df_train.to_pickle('C:/Users/kirak/Documents/School/USF/HS651/CAM2_train.pkl')"
   ]
  },
  {
   "cell_type": "code",
   "execution_count": 66,
   "metadata": {},
   "outputs": [
    {
     "data": {
      "text/plain": [
       "1    148\n",
       "0    123\n",
       "Name: AbL, dtype: int64"
      ]
     },
     "execution_count": 66,
     "metadata": {},
     "output_type": "execute_result"
    }
   ],
   "source": [
    "df_train.AbL.value_counts()"
   ]
  },
  {
   "cell_type": "code",
   "execution_count": null,
   "metadata": {},
   "outputs": [],
   "source": []
  }
 ],
 "metadata": {
  "kernelspec": {
   "display_name": "Python 3",
   "language": "python",
   "name": "python3"
  },
  "language_info": {
   "codemirror_mode": {
    "name": "ipython",
    "version": 3
   },
   "file_extension": ".py",
   "mimetype": "text/x-python",
   "name": "python",
   "nbconvert_exporter": "python",
   "pygments_lexer": "ipython3",
   "version": "3.7.6"
  }
 },
 "nbformat": 4,
 "nbformat_minor": 2
}
