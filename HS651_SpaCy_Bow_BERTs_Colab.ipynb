{
  "nbformat": 4,
  "nbformat_minor": 0,
  "metadata": {
    "kernelspec": {
      "display_name": "Python 3",
      "language": "python",
      "name": "python3"
    },
    "language_info": {
      "codemirror_mode": {
        "name": "ipython",
        "version": 3
      },
      "file_extension": ".py",
      "mimetype": "text/x-python",
      "name": "python",
      "nbconvert_exporter": "python",
      "pygments_lexer": "ipython3",
      "version": "3.7.6"
    },
    "colab": {
      "name": "HS651_SpaCy_Bow_BERTs.ipynb",
      "provenance": []
    },
    "accelerator": "GPU",
    "widgets": {
      "application/vnd.jupyter.widget-state+json": {
        "9c5c5d7ed09a478197e354b1d3b2f4ee": {
          "model_module": "@jupyter-widgets/controls",
          "model_name": "HBoxModel",
          "state": {
            "_view_name": "HBoxView",
            "_dom_classes": [],
            "_model_name": "HBoxModel",
            "_view_module": "@jupyter-widgets/controls",
            "_model_module_version": "1.5.0",
            "_view_count": null,
            "_view_module_version": "1.5.0",
            "box_style": "",
            "layout": "IPY_MODEL_f91f4cb5daf049899e7b857fa98b4184",
            "_model_module": "@jupyter-widgets/controls",
            "children": [
              "IPY_MODEL_86836db4392a4d2b83ce5e933ec499e6",
              "IPY_MODEL_a6b7c577aea740cb8f493e514ec0c683"
            ]
          }
        },
        "f91f4cb5daf049899e7b857fa98b4184": {
          "model_module": "@jupyter-widgets/base",
          "model_name": "LayoutModel",
          "state": {
            "_view_name": "LayoutView",
            "grid_template_rows": null,
            "right": null,
            "justify_content": null,
            "_view_module": "@jupyter-widgets/base",
            "overflow": null,
            "_model_module_version": "1.2.0",
            "_view_count": null,
            "flex_flow": null,
            "width": null,
            "min_width": null,
            "border": null,
            "align_items": null,
            "bottom": null,
            "_model_module": "@jupyter-widgets/base",
            "top": null,
            "grid_column": null,
            "overflow_y": null,
            "overflow_x": null,
            "grid_auto_flow": null,
            "grid_area": null,
            "grid_template_columns": null,
            "flex": null,
            "_model_name": "LayoutModel",
            "justify_items": null,
            "grid_row": null,
            "max_height": null,
            "align_content": null,
            "visibility": null,
            "align_self": null,
            "height": null,
            "min_height": null,
            "padding": null,
            "grid_auto_rows": null,
            "grid_gap": null,
            "max_width": null,
            "order": null,
            "_view_module_version": "1.2.0",
            "grid_template_areas": null,
            "object_position": null,
            "object_fit": null,
            "grid_auto_columns": null,
            "margin": null,
            "display": null,
            "left": null
          }
        },
        "86836db4392a4d2b83ce5e933ec499e6": {
          "model_module": "@jupyter-widgets/controls",
          "model_name": "FloatProgressModel",
          "state": {
            "_view_name": "ProgressView",
            "style": "IPY_MODEL_7275905099f14c2496770f9948937385",
            "_dom_classes": [],
            "description": "Downloading: 100%",
            "_model_name": "FloatProgressModel",
            "bar_style": "success",
            "max": 442,
            "_view_module": "@jupyter-widgets/controls",
            "_model_module_version": "1.5.0",
            "value": 442,
            "_view_count": null,
            "_view_module_version": "1.5.0",
            "orientation": "horizontal",
            "min": 0,
            "description_tooltip": null,
            "_model_module": "@jupyter-widgets/controls",
            "layout": "IPY_MODEL_91b91ce62702485e8684745efb1c9fec"
          }
        },
        "a6b7c577aea740cb8f493e514ec0c683": {
          "model_module": "@jupyter-widgets/controls",
          "model_name": "HTMLModel",
          "state": {
            "_view_name": "HTMLView",
            "style": "IPY_MODEL_ecac11571db94a228969edf426a48654",
            "_dom_classes": [],
            "description": "",
            "_model_name": "HTMLModel",
            "placeholder": "​",
            "_view_module": "@jupyter-widgets/controls",
            "_model_module_version": "1.5.0",
            "value": " 442/442 [00:01&lt;00:00, 267B/s]",
            "_view_count": null,
            "_view_module_version": "1.5.0",
            "description_tooltip": null,
            "_model_module": "@jupyter-widgets/controls",
            "layout": "IPY_MODEL_93ad9fe4f19a43b79eee36c508b19b3b"
          }
        },
        "7275905099f14c2496770f9948937385": {
          "model_module": "@jupyter-widgets/controls",
          "model_name": "ProgressStyleModel",
          "state": {
            "_view_name": "StyleView",
            "_model_name": "ProgressStyleModel",
            "description_width": "initial",
            "_view_module": "@jupyter-widgets/base",
            "_model_module_version": "1.5.0",
            "_view_count": null,
            "_view_module_version": "1.2.0",
            "bar_color": null,
            "_model_module": "@jupyter-widgets/controls"
          }
        },
        "91b91ce62702485e8684745efb1c9fec": {
          "model_module": "@jupyter-widgets/base",
          "model_name": "LayoutModel",
          "state": {
            "_view_name": "LayoutView",
            "grid_template_rows": null,
            "right": null,
            "justify_content": null,
            "_view_module": "@jupyter-widgets/base",
            "overflow": null,
            "_model_module_version": "1.2.0",
            "_view_count": null,
            "flex_flow": null,
            "width": null,
            "min_width": null,
            "border": null,
            "align_items": null,
            "bottom": null,
            "_model_module": "@jupyter-widgets/base",
            "top": null,
            "grid_column": null,
            "overflow_y": null,
            "overflow_x": null,
            "grid_auto_flow": null,
            "grid_area": null,
            "grid_template_columns": null,
            "flex": null,
            "_model_name": "LayoutModel",
            "justify_items": null,
            "grid_row": null,
            "max_height": null,
            "align_content": null,
            "visibility": null,
            "align_self": null,
            "height": null,
            "min_height": null,
            "padding": null,
            "grid_auto_rows": null,
            "grid_gap": null,
            "max_width": null,
            "order": null,
            "_view_module_version": "1.2.0",
            "grid_template_areas": null,
            "object_position": null,
            "object_fit": null,
            "grid_auto_columns": null,
            "margin": null,
            "display": null,
            "left": null
          }
        },
        "ecac11571db94a228969edf426a48654": {
          "model_module": "@jupyter-widgets/controls",
          "model_name": "DescriptionStyleModel",
          "state": {
            "_view_name": "StyleView",
            "_model_name": "DescriptionStyleModel",
            "description_width": "",
            "_view_module": "@jupyter-widgets/base",
            "_model_module_version": "1.5.0",
            "_view_count": null,
            "_view_module_version": "1.2.0",
            "_model_module": "@jupyter-widgets/controls"
          }
        },
        "93ad9fe4f19a43b79eee36c508b19b3b": {
          "model_module": "@jupyter-widgets/base",
          "model_name": "LayoutModel",
          "state": {
            "_view_name": "LayoutView",
            "grid_template_rows": null,
            "right": null,
            "justify_content": null,
            "_view_module": "@jupyter-widgets/base",
            "overflow": null,
            "_model_module_version": "1.2.0",
            "_view_count": null,
            "flex_flow": null,
            "width": null,
            "min_width": null,
            "border": null,
            "align_items": null,
            "bottom": null,
            "_model_module": "@jupyter-widgets/base",
            "top": null,
            "grid_column": null,
            "overflow_y": null,
            "overflow_x": null,
            "grid_auto_flow": null,
            "grid_area": null,
            "grid_template_columns": null,
            "flex": null,
            "_model_name": "LayoutModel",
            "justify_items": null,
            "grid_row": null,
            "max_height": null,
            "align_content": null,
            "visibility": null,
            "align_self": null,
            "height": null,
            "min_height": null,
            "padding": null,
            "grid_auto_rows": null,
            "grid_gap": null,
            "max_width": null,
            "order": null,
            "_view_module_version": "1.2.0",
            "grid_template_areas": null,
            "object_position": null,
            "object_fit": null,
            "grid_auto_columns": null,
            "margin": null,
            "display": null,
            "left": null
          }
        },
        "a65610eabed84806b29a3d2e074bf97b": {
          "model_module": "@jupyter-widgets/controls",
          "model_name": "HBoxModel",
          "state": {
            "_view_name": "HBoxView",
            "_dom_classes": [],
            "_model_name": "HBoxModel",
            "_view_module": "@jupyter-widgets/controls",
            "_model_module_version": "1.5.0",
            "_view_count": null,
            "_view_module_version": "1.5.0",
            "box_style": "",
            "layout": "IPY_MODEL_93fbb68c4b6342719b3b95c5b1866f5c",
            "_model_module": "@jupyter-widgets/controls",
            "children": [
              "IPY_MODEL_f24c93f2d5a64a5c967b742c1f7f22b1",
              "IPY_MODEL_5718e66998ce4f1c9361de16c0def6e1"
            ]
          }
        },
        "93fbb68c4b6342719b3b95c5b1866f5c": {
          "model_module": "@jupyter-widgets/base",
          "model_name": "LayoutModel",
          "state": {
            "_view_name": "LayoutView",
            "grid_template_rows": null,
            "right": null,
            "justify_content": null,
            "_view_module": "@jupyter-widgets/base",
            "overflow": null,
            "_model_module_version": "1.2.0",
            "_view_count": null,
            "flex_flow": null,
            "width": null,
            "min_width": null,
            "border": null,
            "align_items": null,
            "bottom": null,
            "_model_module": "@jupyter-widgets/base",
            "top": null,
            "grid_column": null,
            "overflow_y": null,
            "overflow_x": null,
            "grid_auto_flow": null,
            "grid_area": null,
            "grid_template_columns": null,
            "flex": null,
            "_model_name": "LayoutModel",
            "justify_items": null,
            "grid_row": null,
            "max_height": null,
            "align_content": null,
            "visibility": null,
            "align_self": null,
            "height": null,
            "min_height": null,
            "padding": null,
            "grid_auto_rows": null,
            "grid_gap": null,
            "max_width": null,
            "order": null,
            "_view_module_version": "1.2.0",
            "grid_template_areas": null,
            "object_position": null,
            "object_fit": null,
            "grid_auto_columns": null,
            "margin": null,
            "display": null,
            "left": null
          }
        },
        "f24c93f2d5a64a5c967b742c1f7f22b1": {
          "model_module": "@jupyter-widgets/controls",
          "model_name": "FloatProgressModel",
          "state": {
            "_view_name": "ProgressView",
            "style": "IPY_MODEL_974b6b8c1d5845fda99d3b6bee1164b1",
            "_dom_classes": [],
            "description": "Downloading: 100%",
            "_model_name": "FloatProgressModel",
            "bar_style": "success",
            "max": 231508,
            "_view_module": "@jupyter-widgets/controls",
            "_model_module_version": "1.5.0",
            "value": 231508,
            "_view_count": null,
            "_view_module_version": "1.5.0",
            "orientation": "horizontal",
            "min": 0,
            "description_tooltip": null,
            "_model_module": "@jupyter-widgets/controls",
            "layout": "IPY_MODEL_9ea94991e79240468e597aa9d10a35f1"
          }
        },
        "5718e66998ce4f1c9361de16c0def6e1": {
          "model_module": "@jupyter-widgets/controls",
          "model_name": "HTMLModel",
          "state": {
            "_view_name": "HTMLView",
            "style": "IPY_MODEL_4520780171634ce0ab352b584f05bac5",
            "_dom_classes": [],
            "description": "",
            "_model_name": "HTMLModel",
            "placeholder": "​",
            "_view_module": "@jupyter-widgets/controls",
            "_model_module_version": "1.5.0",
            "value": " 232k/232k [00:00&lt;00:00, 333kB/s]",
            "_view_count": null,
            "_view_module_version": "1.5.0",
            "description_tooltip": null,
            "_model_module": "@jupyter-widgets/controls",
            "layout": "IPY_MODEL_836244e1900544a89dad17c9febe047a"
          }
        },
        "974b6b8c1d5845fda99d3b6bee1164b1": {
          "model_module": "@jupyter-widgets/controls",
          "model_name": "ProgressStyleModel",
          "state": {
            "_view_name": "StyleView",
            "_model_name": "ProgressStyleModel",
            "description_width": "initial",
            "_view_module": "@jupyter-widgets/base",
            "_model_module_version": "1.5.0",
            "_view_count": null,
            "_view_module_version": "1.2.0",
            "bar_color": null,
            "_model_module": "@jupyter-widgets/controls"
          }
        },
        "9ea94991e79240468e597aa9d10a35f1": {
          "model_module": "@jupyter-widgets/base",
          "model_name": "LayoutModel",
          "state": {
            "_view_name": "LayoutView",
            "grid_template_rows": null,
            "right": null,
            "justify_content": null,
            "_view_module": "@jupyter-widgets/base",
            "overflow": null,
            "_model_module_version": "1.2.0",
            "_view_count": null,
            "flex_flow": null,
            "width": null,
            "min_width": null,
            "border": null,
            "align_items": null,
            "bottom": null,
            "_model_module": "@jupyter-widgets/base",
            "top": null,
            "grid_column": null,
            "overflow_y": null,
            "overflow_x": null,
            "grid_auto_flow": null,
            "grid_area": null,
            "grid_template_columns": null,
            "flex": null,
            "_model_name": "LayoutModel",
            "justify_items": null,
            "grid_row": null,
            "max_height": null,
            "align_content": null,
            "visibility": null,
            "align_self": null,
            "height": null,
            "min_height": null,
            "padding": null,
            "grid_auto_rows": null,
            "grid_gap": null,
            "max_width": null,
            "order": null,
            "_view_module_version": "1.2.0",
            "grid_template_areas": null,
            "object_position": null,
            "object_fit": null,
            "grid_auto_columns": null,
            "margin": null,
            "display": null,
            "left": null
          }
        },
        "4520780171634ce0ab352b584f05bac5": {
          "model_module": "@jupyter-widgets/controls",
          "model_name": "DescriptionStyleModel",
          "state": {
            "_view_name": "StyleView",
            "_model_name": "DescriptionStyleModel",
            "description_width": "",
            "_view_module": "@jupyter-widgets/base",
            "_model_module_version": "1.5.0",
            "_view_count": null,
            "_view_module_version": "1.2.0",
            "_model_module": "@jupyter-widgets/controls"
          }
        },
        "836244e1900544a89dad17c9febe047a": {
          "model_module": "@jupyter-widgets/base",
          "model_name": "LayoutModel",
          "state": {
            "_view_name": "LayoutView",
            "grid_template_rows": null,
            "right": null,
            "justify_content": null,
            "_view_module": "@jupyter-widgets/base",
            "overflow": null,
            "_model_module_version": "1.2.0",
            "_view_count": null,
            "flex_flow": null,
            "width": null,
            "min_width": null,
            "border": null,
            "align_items": null,
            "bottom": null,
            "_model_module": "@jupyter-widgets/base",
            "top": null,
            "grid_column": null,
            "overflow_y": null,
            "overflow_x": null,
            "grid_auto_flow": null,
            "grid_area": null,
            "grid_template_columns": null,
            "flex": null,
            "_model_name": "LayoutModel",
            "justify_items": null,
            "grid_row": null,
            "max_height": null,
            "align_content": null,
            "visibility": null,
            "align_self": null,
            "height": null,
            "min_height": null,
            "padding": null,
            "grid_auto_rows": null,
            "grid_gap": null,
            "max_width": null,
            "order": null,
            "_view_module_version": "1.2.0",
            "grid_template_areas": null,
            "object_position": null,
            "object_fit": null,
            "grid_auto_columns": null,
            "margin": null,
            "display": null,
            "left": null
          }
        },
        "e1bedba4fa504416afaf16fd6432f160": {
          "model_module": "@jupyter-widgets/controls",
          "model_name": "HBoxModel",
          "state": {
            "_view_name": "HBoxView",
            "_dom_classes": [],
            "_model_name": "HBoxModel",
            "_view_module": "@jupyter-widgets/controls",
            "_model_module_version": "1.5.0",
            "_view_count": null,
            "_view_module_version": "1.5.0",
            "box_style": "",
            "layout": "IPY_MODEL_4a6ac220cf774da39412a7ca57eb6e5a",
            "_model_module": "@jupyter-widgets/controls",
            "children": [
              "IPY_MODEL_de79d655826341758726c9a985e1b3d7",
              "IPY_MODEL_d04f2e030cfa4b12b257c48a4624f065"
            ]
          }
        },
        "4a6ac220cf774da39412a7ca57eb6e5a": {
          "model_module": "@jupyter-widgets/base",
          "model_name": "LayoutModel",
          "state": {
            "_view_name": "LayoutView",
            "grid_template_rows": null,
            "right": null,
            "justify_content": null,
            "_view_module": "@jupyter-widgets/base",
            "overflow": null,
            "_model_module_version": "1.2.0",
            "_view_count": null,
            "flex_flow": null,
            "width": null,
            "min_width": null,
            "border": null,
            "align_items": null,
            "bottom": null,
            "_model_module": "@jupyter-widgets/base",
            "top": null,
            "grid_column": null,
            "overflow_y": null,
            "overflow_x": null,
            "grid_auto_flow": null,
            "grid_area": null,
            "grid_template_columns": null,
            "flex": null,
            "_model_name": "LayoutModel",
            "justify_items": null,
            "grid_row": null,
            "max_height": null,
            "align_content": null,
            "visibility": null,
            "align_self": null,
            "height": null,
            "min_height": null,
            "padding": null,
            "grid_auto_rows": null,
            "grid_gap": null,
            "max_width": null,
            "order": null,
            "_view_module_version": "1.2.0",
            "grid_template_areas": null,
            "object_position": null,
            "object_fit": null,
            "grid_auto_columns": null,
            "margin": null,
            "display": null,
            "left": null
          }
        },
        "de79d655826341758726c9a985e1b3d7": {
          "model_module": "@jupyter-widgets/controls",
          "model_name": "FloatProgressModel",
          "state": {
            "_view_name": "ProgressView",
            "style": "IPY_MODEL_4a28d272534a4415aa235638f1615b2a",
            "_dom_classes": [],
            "description": "Downloading: 100%",
            "_model_name": "FloatProgressModel",
            "bar_style": "success",
            "max": 466062,
            "_view_module": "@jupyter-widgets/controls",
            "_model_module_version": "1.5.0",
            "value": 466062,
            "_view_count": null,
            "_view_module_version": "1.5.0",
            "orientation": "horizontal",
            "min": 0,
            "description_tooltip": null,
            "_model_module": "@jupyter-widgets/controls",
            "layout": "IPY_MODEL_d342cd2f3e97475b9f98531ad8d95f3a"
          }
        },
        "d04f2e030cfa4b12b257c48a4624f065": {
          "model_module": "@jupyter-widgets/controls",
          "model_name": "HTMLModel",
          "state": {
            "_view_name": "HTMLView",
            "style": "IPY_MODEL_5e4c7f9d59f34118bab5bdc1339caef6",
            "_dom_classes": [],
            "description": "",
            "_model_name": "HTMLModel",
            "placeholder": "​",
            "_view_module": "@jupyter-widgets/controls",
            "_model_module_version": "1.5.0",
            "value": " 466k/466k [00:00&lt;00:00, 931kB/s]",
            "_view_count": null,
            "_view_module_version": "1.5.0",
            "description_tooltip": null,
            "_model_module": "@jupyter-widgets/controls",
            "layout": "IPY_MODEL_6f517ca5c3eb4ae6beaf921bdee01e57"
          }
        },
        "4a28d272534a4415aa235638f1615b2a": {
          "model_module": "@jupyter-widgets/controls",
          "model_name": "ProgressStyleModel",
          "state": {
            "_view_name": "StyleView",
            "_model_name": "ProgressStyleModel",
            "description_width": "initial",
            "_view_module": "@jupyter-widgets/base",
            "_model_module_version": "1.5.0",
            "_view_count": null,
            "_view_module_version": "1.2.0",
            "bar_color": null,
            "_model_module": "@jupyter-widgets/controls"
          }
        },
        "d342cd2f3e97475b9f98531ad8d95f3a": {
          "model_module": "@jupyter-widgets/base",
          "model_name": "LayoutModel",
          "state": {
            "_view_name": "LayoutView",
            "grid_template_rows": null,
            "right": null,
            "justify_content": null,
            "_view_module": "@jupyter-widgets/base",
            "overflow": null,
            "_model_module_version": "1.2.0",
            "_view_count": null,
            "flex_flow": null,
            "width": null,
            "min_width": null,
            "border": null,
            "align_items": null,
            "bottom": null,
            "_model_module": "@jupyter-widgets/base",
            "top": null,
            "grid_column": null,
            "overflow_y": null,
            "overflow_x": null,
            "grid_auto_flow": null,
            "grid_area": null,
            "grid_template_columns": null,
            "flex": null,
            "_model_name": "LayoutModel",
            "justify_items": null,
            "grid_row": null,
            "max_height": null,
            "align_content": null,
            "visibility": null,
            "align_self": null,
            "height": null,
            "min_height": null,
            "padding": null,
            "grid_auto_rows": null,
            "grid_gap": null,
            "max_width": null,
            "order": null,
            "_view_module_version": "1.2.0",
            "grid_template_areas": null,
            "object_position": null,
            "object_fit": null,
            "grid_auto_columns": null,
            "margin": null,
            "display": null,
            "left": null
          }
        },
        "5e4c7f9d59f34118bab5bdc1339caef6": {
          "model_module": "@jupyter-widgets/controls",
          "model_name": "DescriptionStyleModel",
          "state": {
            "_view_name": "StyleView",
            "_model_name": "DescriptionStyleModel",
            "description_width": "",
            "_view_module": "@jupyter-widgets/base",
            "_model_module_version": "1.5.0",
            "_view_count": null,
            "_view_module_version": "1.2.0",
            "_model_module": "@jupyter-widgets/controls"
          }
        },
        "6f517ca5c3eb4ae6beaf921bdee01e57": {
          "model_module": "@jupyter-widgets/base",
          "model_name": "LayoutModel",
          "state": {
            "_view_name": "LayoutView",
            "grid_template_rows": null,
            "right": null,
            "justify_content": null,
            "_view_module": "@jupyter-widgets/base",
            "overflow": null,
            "_model_module_version": "1.2.0",
            "_view_count": null,
            "flex_flow": null,
            "width": null,
            "min_width": null,
            "border": null,
            "align_items": null,
            "bottom": null,
            "_model_module": "@jupyter-widgets/base",
            "top": null,
            "grid_column": null,
            "overflow_y": null,
            "overflow_x": null,
            "grid_auto_flow": null,
            "grid_area": null,
            "grid_template_columns": null,
            "flex": null,
            "_model_name": "LayoutModel",
            "justify_items": null,
            "grid_row": null,
            "max_height": null,
            "align_content": null,
            "visibility": null,
            "align_self": null,
            "height": null,
            "min_height": null,
            "padding": null,
            "grid_auto_rows": null,
            "grid_gap": null,
            "max_width": null,
            "order": null,
            "_view_module_version": "1.2.0",
            "grid_template_areas": null,
            "object_position": null,
            "object_fit": null,
            "grid_auto_columns": null,
            "margin": null,
            "display": null,
            "left": null
          }
        },
        "6a0d890c46424090a9e8c35f02d3b7ff": {
          "model_module": "@jupyter-widgets/controls",
          "model_name": "HBoxModel",
          "state": {
            "_view_name": "HBoxView",
            "_dom_classes": [],
            "_model_name": "HBoxModel",
            "_view_module": "@jupyter-widgets/controls",
            "_model_module_version": "1.5.0",
            "_view_count": null,
            "_view_module_version": "1.5.0",
            "box_style": "",
            "layout": "IPY_MODEL_b8ed21e10ed34b1d8977f8b928b37980",
            "_model_module": "@jupyter-widgets/controls",
            "children": [
              "IPY_MODEL_9a4f5695b00d4260bc260e5472774b37",
              "IPY_MODEL_ab5072012f764cd381e04da66799d882"
            ]
          }
        },
        "b8ed21e10ed34b1d8977f8b928b37980": {
          "model_module": "@jupyter-widgets/base",
          "model_name": "LayoutModel",
          "state": {
            "_view_name": "LayoutView",
            "grid_template_rows": null,
            "right": null,
            "justify_content": null,
            "_view_module": "@jupyter-widgets/base",
            "overflow": null,
            "_model_module_version": "1.2.0",
            "_view_count": null,
            "flex_flow": null,
            "width": null,
            "min_width": null,
            "border": null,
            "align_items": null,
            "bottom": null,
            "_model_module": "@jupyter-widgets/base",
            "top": null,
            "grid_column": null,
            "overflow_y": null,
            "overflow_x": null,
            "grid_auto_flow": null,
            "grid_area": null,
            "grid_template_columns": null,
            "flex": null,
            "_model_name": "LayoutModel",
            "justify_items": null,
            "grid_row": null,
            "max_height": null,
            "align_content": null,
            "visibility": null,
            "align_self": null,
            "height": null,
            "min_height": null,
            "padding": null,
            "grid_auto_rows": null,
            "grid_gap": null,
            "max_width": null,
            "order": null,
            "_view_module_version": "1.2.0",
            "grid_template_areas": null,
            "object_position": null,
            "object_fit": null,
            "grid_auto_columns": null,
            "margin": null,
            "display": null,
            "left": null
          }
        },
        "9a4f5695b00d4260bc260e5472774b37": {
          "model_module": "@jupyter-widgets/controls",
          "model_name": "FloatProgressModel",
          "state": {
            "_view_name": "ProgressView",
            "style": "IPY_MODEL_d53fcf0500674c2c88855cc441ca89fc",
            "_dom_classes": [],
            "description": "Downloading: 100%",
            "_model_name": "FloatProgressModel",
            "bar_style": "success",
            "max": 363423424,
            "_view_module": "@jupyter-widgets/controls",
            "_model_module_version": "1.5.0",
            "value": 363423424,
            "_view_count": null,
            "_view_module_version": "1.5.0",
            "orientation": "horizontal",
            "min": 0,
            "description_tooltip": null,
            "_model_module": "@jupyter-widgets/controls",
            "layout": "IPY_MODEL_32cb94fe45f54de69a939e9cfca54189"
          }
        },
        "ab5072012f764cd381e04da66799d882": {
          "model_module": "@jupyter-widgets/controls",
          "model_name": "HTMLModel",
          "state": {
            "_view_name": "HTMLView",
            "style": "IPY_MODEL_64de03ec9b474f9a9835b24ccedffdcd",
            "_dom_classes": [],
            "description": "",
            "_model_name": "HTMLModel",
            "placeholder": "​",
            "_view_module": "@jupyter-widgets/controls",
            "_model_module_version": "1.5.0",
            "value": " 363M/363M [00:05&lt;00:00, 72.2MB/s]",
            "_view_count": null,
            "_view_module_version": "1.5.0",
            "description_tooltip": null,
            "_model_module": "@jupyter-widgets/controls",
            "layout": "IPY_MODEL_f2ae97ca2ec4402cad8fd98bd9021e97"
          }
        },
        "d53fcf0500674c2c88855cc441ca89fc": {
          "model_module": "@jupyter-widgets/controls",
          "model_name": "ProgressStyleModel",
          "state": {
            "_view_name": "StyleView",
            "_model_name": "ProgressStyleModel",
            "description_width": "initial",
            "_view_module": "@jupyter-widgets/base",
            "_model_module_version": "1.5.0",
            "_view_count": null,
            "_view_module_version": "1.2.0",
            "bar_color": null,
            "_model_module": "@jupyter-widgets/controls"
          }
        },
        "32cb94fe45f54de69a939e9cfca54189": {
          "model_module": "@jupyter-widgets/base",
          "model_name": "LayoutModel",
          "state": {
            "_view_name": "LayoutView",
            "grid_template_rows": null,
            "right": null,
            "justify_content": null,
            "_view_module": "@jupyter-widgets/base",
            "overflow": null,
            "_model_module_version": "1.2.0",
            "_view_count": null,
            "flex_flow": null,
            "width": null,
            "min_width": null,
            "border": null,
            "align_items": null,
            "bottom": null,
            "_model_module": "@jupyter-widgets/base",
            "top": null,
            "grid_column": null,
            "overflow_y": null,
            "overflow_x": null,
            "grid_auto_flow": null,
            "grid_area": null,
            "grid_template_columns": null,
            "flex": null,
            "_model_name": "LayoutModel",
            "justify_items": null,
            "grid_row": null,
            "max_height": null,
            "align_content": null,
            "visibility": null,
            "align_self": null,
            "height": null,
            "min_height": null,
            "padding": null,
            "grid_auto_rows": null,
            "grid_gap": null,
            "max_width": null,
            "order": null,
            "_view_module_version": "1.2.0",
            "grid_template_areas": null,
            "object_position": null,
            "object_fit": null,
            "grid_auto_columns": null,
            "margin": null,
            "display": null,
            "left": null
          }
        },
        "64de03ec9b474f9a9835b24ccedffdcd": {
          "model_module": "@jupyter-widgets/controls",
          "model_name": "DescriptionStyleModel",
          "state": {
            "_view_name": "StyleView",
            "_model_name": "DescriptionStyleModel",
            "description_width": "",
            "_view_module": "@jupyter-widgets/base",
            "_model_module_version": "1.5.0",
            "_view_count": null,
            "_view_module_version": "1.2.0",
            "_model_module": "@jupyter-widgets/controls"
          }
        },
        "f2ae97ca2ec4402cad8fd98bd9021e97": {
          "model_module": "@jupyter-widgets/base",
          "model_name": "LayoutModel",
          "state": {
            "_view_name": "LayoutView",
            "grid_template_rows": null,
            "right": null,
            "justify_content": null,
            "_view_module": "@jupyter-widgets/base",
            "overflow": null,
            "_model_module_version": "1.2.0",
            "_view_count": null,
            "flex_flow": null,
            "width": null,
            "min_width": null,
            "border": null,
            "align_items": null,
            "bottom": null,
            "_model_module": "@jupyter-widgets/base",
            "top": null,
            "grid_column": null,
            "overflow_y": null,
            "overflow_x": null,
            "grid_auto_flow": null,
            "grid_area": null,
            "grid_template_columns": null,
            "flex": null,
            "_model_name": "LayoutModel",
            "justify_items": null,
            "grid_row": null,
            "max_height": null,
            "align_content": null,
            "visibility": null,
            "align_self": null,
            "height": null,
            "min_height": null,
            "padding": null,
            "grid_auto_rows": null,
            "grid_gap": null,
            "max_width": null,
            "order": null,
            "_view_module_version": "1.2.0",
            "grid_template_areas": null,
            "object_position": null,
            "object_fit": null,
            "grid_auto_columns": null,
            "margin": null,
            "display": null,
            "left": null
          }
        }
      }
    }
  },
  "cells": [
    {
      "cell_type": "code",
      "metadata": {
        "id": "PuvCawy2VbRy"
      },
      "source": [
        "import pandas as pd\n",
        "import re\n",
        "import pickle\n",
        "import spacy\n",
        "import numpy as np\n",
        "from spacy.lang.en import English"
      ],
      "execution_count": 7,
      "outputs": []
    },
    {
      "cell_type": "code",
      "metadata": {
        "id": "HZ5_SJksVbR8"
      },
      "source": [
        "# Abstract-text-cleaning:leave numbers!\n",
        "# remove special characters and stop words (delete word indicate tense; creat a new stopword list)\n",
        "#(note: tense can help with the classification; protocol : future tense ; compeleted RCT: past tense)\n",
        "#tokenlization and lemma"
      ],
      "execution_count": null,
      "outputs": []
    },
    {
      "cell_type": "code",
      "metadata": {
        "id": "jpoYT6Z4VbR9"
      },
      "source": [
        "spacy_stopwords = spacy.lang.en.stop_words.STOP_WORDS"
      ],
      "execution_count": null,
      "outputs": []
    },
    {
      "cell_type": "code",
      "metadata": {
        "id": "sSYRNkkbVbR-"
      },
      "source": [
        "nlp = spacy.load('en')"
      ],
      "execution_count": null,
      "outputs": []
    },
    {
      "cell_type": "code",
      "metadata": {
        "id": "YZDVpIa2VbR-"
      },
      "source": [
        "nlp.Defaults.stop_words -= {\"will\",\"had\",\"was\",\"were\",\"did\"}"
      ],
      "execution_count": null,
      "outputs": []
    },
    {
      "cell_type": "code",
      "metadata": {
        "id": "cHSpWFYUVbSA"
      },
      "source": [
        "new_stopwords = spacy_stopwords"
      ],
      "execution_count": null,
      "outputs": []
    },
    {
      "cell_type": "code",
      "metadata": {
        "id": "-jAJhwCiVbSC"
      },
      "source": [
        "def preprocess_text(df):\n",
        "    df.Abstract = df.Abstract.fillna(' ')\n",
        "    df.Abstract = df.Abstract.str.replace('\\n',' ')\n",
        "    df.Abstract = df.Abstract.str.replace('\\r',' ')\n",
        "    return df"
      ],
      "execution_count": null,
      "outputs": []
    },
    {
      "cell_type": "code",
      "metadata": {
        "id": "Zs8SjeeRVbSD"
      },
      "source": [
        "# Correction after checking wrong predictions"
      ],
      "execution_count": null,
      "outputs": []
    },
    {
      "cell_type": "code",
      "metadata": {
        "id": "HfW7Whf-VbSE"
      },
      "source": [
        "#df_comb['AbL'][6] = 0"
      ],
      "execution_count": null,
      "outputs": []
    },
    {
      "cell_type": "code",
      "metadata": {
        "collapsed": true,
        "id": "PhmxuZByVbSE",
        "outputId": "1cdd65d7-86b7-43f6-a3fe-59bf574b7dd8"
      },
      "source": [
        "#df_comb['AbL'][382] = 0"
      ],
      "execution_count": null,
      "outputs": [
        {
          "output_type": "stream",
          "text": [
            "C:\\anocoda\\lib\\site-packages\\ipykernel_launcher.py:1: SettingWithCopyWarning: \n",
            "A value is trying to be set on a copy of a slice from a DataFrame\n",
            "\n",
            "See the caveats in the documentation: https://pandas.pydata.org/pandas-docs/stable/user_guide/indexing.html#returning-a-view-versus-a-copy\n",
            "  \"\"\"Entry point for launching an IPython kernel.\n"
          ],
          "name": "stderr"
        }
      ]
    },
    {
      "cell_type": "code",
      "metadata": {
        "collapsed": true,
        "id": "bwAHZnf1VbSG",
        "outputId": "16eb5500-53a2-401d-f976-64173d7b1059"
      },
      "source": [
        "#df_comb['AbL'][357] = 0"
      ],
      "execution_count": null,
      "outputs": [
        {
          "output_type": "stream",
          "text": [
            "C:\\anocoda\\lib\\site-packages\\ipykernel_launcher.py:1: SettingWithCopyWarning: \n",
            "A value is trying to be set on a copy of a slice from a DataFrame\n",
            "\n",
            "See the caveats in the documentation: https://pandas.pydata.org/pandas-docs/stable/user_guide/indexing.html#returning-a-view-versus-a-copy\n",
            "  \"\"\"Entry point for launching an IPython kernel.\n"
          ],
          "name": "stderr"
        }
      ]
    },
    {
      "cell_type": "code",
      "metadata": {
        "id": "daPeHqxGVbSG"
      },
      "source": [
        "# renew df_comb"
      ],
      "execution_count": null,
      "outputs": []
    },
    {
      "cell_type": "code",
      "metadata": {
        "id": "KYFS-axLVbSH"
      },
      "source": [
        "df_comb.to_pickle('C:/Users/Combined_df.pkl')"
      ],
      "execution_count": null,
      "outputs": []
    },
    {
      "cell_type": "code",
      "metadata": {
        "id": "A7mV3c8dVbSH"
      },
      "source": [
        "df_comb = pd.read_pickle('C:/Users/Combined_df.pkl')\n",
        "#df_comb = df_comb.reset_index(drop =  True)"
      ],
      "execution_count": null,
      "outputs": []
    },
    {
      "cell_type": "code",
      "metadata": {
        "id": "GHqqpuF5VbSI",
        "outputId": "bc19a872-aeec-49b1-ee0e-3349c042a0f4"
      },
      "source": [
        "#df_comb['AbL'][369]"
      ],
      "execution_count": null,
      "outputs": [
        {
          "output_type": "execute_result",
          "data": {
            "text/plain": [
              "1"
            ]
          },
          "metadata": {
            "tags": []
          },
          "execution_count": 13
        }
      ]
    },
    {
      "cell_type": "code",
      "metadata": {
        "id": "XvtiJNFgVbSI",
        "outputId": "98e85951-f812-412b-afea-03225f4f2db9"
      },
      "source": [
        "preprocess_text(df_comb)"
      ],
      "execution_count": null,
      "outputs": [
        {
          "output_type": "execute_result",
          "data": {
            "text/html": [
              "<div>\n",
              "<style scoped>\n",
              "    .dataframe tbody tr th:only-of-type {\n",
              "        vertical-align: middle;\n",
              "    }\n",
              "\n",
              "    .dataframe tbody tr th {\n",
              "        vertical-align: top;\n",
              "    }\n",
              "\n",
              "    .dataframe thead th {\n",
              "        text-align: right;\n",
              "    }\n",
              "</style>\n",
              "<table border=\"1\" class=\"dataframe\">\n",
              "  <thead>\n",
              "    <tr style=\"text-align: right;\">\n",
              "      <th></th>\n",
              "      <th>Abstract</th>\n",
              "      <th>AbL</th>\n",
              "    </tr>\n",
              "  </thead>\n",
              "  <tbody>\n",
              "    <tr>\n",
              "      <th>0</th>\n",
              "      <td>Breast cancer survivors (BCSs) often report fa...</td>\n",
              "      <td>0</td>\n",
              "    </tr>\n",
              "    <tr>\n",
              "      <th>1</th>\n",
              "      <td>Purpose Cognitive behavioral therapy for insom...</td>\n",
              "      <td>1</td>\n",
              "    </tr>\n",
              "    <tr>\n",
              "      <th>2</th>\n",
              "      <td>To investigate the comparative efficacy of cog...</td>\n",
              "      <td>1</td>\n",
              "    </tr>\n",
              "    <tr>\n",
              "      <th>3</th>\n",
              "      <td>Ninety-two prenatally depressed pregnant women...</td>\n",
              "      <td>1</td>\n",
              "    </tr>\n",
              "    <tr>\n",
              "      <th>4</th>\n",
              "      <td>Fibromyalgia Syndrome (FMS) is characterized b...</td>\n",
              "      <td>1</td>\n",
              "    </tr>\n",
              "    <tr>\n",
              "      <th>...</th>\n",
              "      <td>...</td>\n",
              "      <td>...</td>\n",
              "    </tr>\n",
              "    <tr>\n",
              "      <th>389</th>\n",
              "      <td>Fibromyalgia is a condition characterised by c...</td>\n",
              "      <td>1</td>\n",
              "    </tr>\n",
              "    <tr>\n",
              "      <th>390</th>\n",
              "      <td>Mild cognitive impairment (MCI) is cognitive d...</td>\n",
              "      <td>0</td>\n",
              "    </tr>\n",
              "    <tr>\n",
              "      <th>391</th>\n",
              "      <td>There is no sufficient evidence on the effecti...</td>\n",
              "      <td>0</td>\n",
              "    </tr>\n",
              "    <tr>\n",
              "      <th>392</th>\n",
              "      <td>Many of the currently available treatments for...</td>\n",
              "      <td>0</td>\n",
              "    </tr>\n",
              "    <tr>\n",
              "      <th>393</th>\n",
              "      <td>Chronic fatigue (CF) is unexplained fatigue la...</td>\n",
              "      <td>1</td>\n",
              "    </tr>\n",
              "  </tbody>\n",
              "</table>\n",
              "<p>394 rows × 2 columns</p>\n",
              "</div>"
            ],
            "text/plain": [
              "                                              Abstract  AbL\n",
              "0    Breast cancer survivors (BCSs) often report fa...    0\n",
              "1    Purpose Cognitive behavioral therapy for insom...    1\n",
              "2    To investigate the comparative efficacy of cog...    1\n",
              "3    Ninety-two prenatally depressed pregnant women...    1\n",
              "4    Fibromyalgia Syndrome (FMS) is characterized b...    1\n",
              "..                                                 ...  ...\n",
              "389  Fibromyalgia is a condition characterised by c...    1\n",
              "390  Mild cognitive impairment (MCI) is cognitive d...    0\n",
              "391  There is no sufficient evidence on the effecti...    0\n",
              "392  Many of the currently available treatments for...    0\n",
              "393  Chronic fatigue (CF) is unexplained fatigue la...    1\n",
              "\n",
              "[394 rows x 2 columns]"
            ]
          },
          "metadata": {
            "tags": []
          },
          "execution_count": 20
        }
      ]
    },
    {
      "cell_type": "code",
      "metadata": {
        "id": "hXihc6auVbSJ"
      },
      "source": [
        "def clean_text(x):\n",
        "  #x=re.sub(r\"\\'ll\",\" will \",x) ----  In academic paper, people tend not to use contraction\n",
        "  #x=re.sub('[^a-zA-Z0-9]', ' ',x).lower()\n",
        "  x = re.sub('[^a-zA-Z]', ' ',x).lower()\n",
        "  x = x.split()\n",
        "  new_list = []\n",
        "  for word in x:\n",
        "    if word not in new_stopwords: \n",
        "      new_list.append(word)\n",
        "  return \" \".join(new_list)"
      ],
      "execution_count": null,
      "outputs": []
    },
    {
      "cell_type": "code",
      "metadata": {
        "id": "_WovmbsIVbSJ"
      },
      "source": [
        "df_comb['Abstract'] = df_comb.Abstract.apply(lambda x:clean_text(x))"
      ],
      "execution_count": null,
      "outputs": []
    },
    {
      "cell_type": "code",
      "metadata": {
        "id": "vk3ctSuQVbSK"
      },
      "source": [
        "#df_comb[df_comb.index.duplicated(keep = False)]"
      ],
      "execution_count": null,
      "outputs": []
    },
    {
      "cell_type": "code",
      "metadata": {
        "id": "k0uGYncZVbSK"
      },
      "source": [
        "X = df_comb.loc[:,'Abstract']"
      ],
      "execution_count": null,
      "outputs": []
    },
    {
      "cell_type": "code",
      "metadata": {
        "id": "mclxZhaxVbSK",
        "outputId": "ff9f7bf2-aaba-4080-fd6a-5f951c3bbe21"
      },
      "source": [
        "X"
      ],
      "execution_count": null,
      "outputs": [
        {
          "output_type": "execute_result",
          "data": {
            "text/plain": [
              "0      breast cancer survivors bcss report fatigue pe...\n",
              "1      purpose cognitive behavioral therapy insomnia ...\n",
              "2      investigate comparative efficacy cognitive beh...\n",
              "3      ninety prenatally depressed pregnant women wer...\n",
              "4      fibromyalgia syndrome fms characterized muscul...\n",
              "                             ...                        \n",
              "389    fibromyalgia condition characterised chronic w...\n",
              "390    mild cognitive impairment mci cognitive declin...\n",
              "391    sufficient evidence effectiveness acupuncture ...\n",
              "392    currently available treatments obsessive compu...\n",
              "393    chronic fatigue cf unexplained fatigue lasting...\n",
              "Name: Abstract, Length: 394, dtype: object"
            ]
          },
          "metadata": {
            "tags": []
          },
          "execution_count": 26
        }
      ]
    },
    {
      "cell_type": "code",
      "metadata": {
        "id": "DDf3j1nmVbSL"
      },
      "source": [
        "y = df_comb.loc[:,'AbL']"
      ],
      "execution_count": null,
      "outputs": []
    },
    {
      "cell_type": "code",
      "metadata": {
        "id": "gpHBPXPlVbSL",
        "outputId": "2611415d-f683-4544-adfd-7f11859b3504"
      },
      "source": [
        "y"
      ],
      "execution_count": null,
      "outputs": [
        {
          "output_type": "execute_result",
          "data": {
            "text/plain": [
              "0      0\n",
              "1      1\n",
              "2      1\n",
              "3      1\n",
              "4      1\n",
              "      ..\n",
              "389    1\n",
              "390    0\n",
              "391    0\n",
              "392    0\n",
              "393    1\n",
              "Name: AbL, Length: 394, dtype: int64"
            ]
          },
          "metadata": {
            "tags": []
          },
          "execution_count": 28
        }
      ]
    },
    {
      "cell_type": "markdown",
      "metadata": {
        "id": "lL8Ib3fwVbSM"
      },
      "source": [
        "Train-test split"
      ]
    },
    {
      "cell_type": "code",
      "metadata": {
        "id": "GmRM19N_VbSM"
      },
      "source": [
        "from sklearn.model_selection import train_test_split\n",
        "X_train, X_test, y_train, y_test = train_test_split(X, y, test_size = 0.2, random_state = 0)"
      ],
      "execution_count": null,
      "outputs": []
    },
    {
      "cell_type": "code",
      "metadata": {
        "id": "pFkSpuRLVbSN",
        "outputId": "c7977468-b7f3-4fe5-8770-7e9f16630e4a"
      },
      "source": [
        "y_train.value_counts()"
      ],
      "execution_count": null,
      "outputs": [
        {
          "output_type": "execute_result",
          "data": {
            "text/plain": [
              "1    171\n",
              "0    144\n",
              "Name: AbL, dtype: int64"
            ]
          },
          "metadata": {
            "tags": []
          },
          "execution_count": 33
        }
      ]
    },
    {
      "cell_type": "code",
      "metadata": {
        "id": "Nc7JPaUMVbSN",
        "outputId": "77ec847f-8946-4b1c-c007-bf9f91fcef54"
      },
      "source": [
        "y_test.value_counts()"
      ],
      "execution_count": null,
      "outputs": [
        {
          "output_type": "execute_result",
          "data": {
            "text/plain": [
              "1    42\n",
              "0    37\n",
              "Name: AbL, dtype: int64"
            ]
          },
          "metadata": {
            "tags": []
          },
          "execution_count": 34
        }
      ]
    },
    {
      "cell_type": "markdown",
      "metadata": {
        "id": "pKVYLwA4VbSO"
      },
      "source": [
        "# BOW"
      ]
    },
    {
      "cell_type": "code",
      "metadata": {
        "id": "QP7GGlNjVbSO"
      },
      "source": [
        "# define max features(words); ngram: to recognize two words as a one, like heart-attack\n",
        "from sklearn.feature_extraction.text import CountVectorizer \n",
        "cv = CountVectorizer(max_features = 5000, ngram_range = (1, 2))\n",
        "X_train = cv.fit_transform(X_train)\n",
        "X_test = cv.transform(X_test)\n",
        "#count vectorizer gives you a sparse matrix: lots of 0s, more efficient for the computer'"
      ],
      "execution_count": null,
      "outputs": []
    },
    {
      "cell_type": "code",
      "metadata": {
        "id": "WDghIuB3VbSO",
        "outputId": "e7354855-c507-4055-f3fc-507eee5ec81e"
      },
      "source": [
        "X_train"
      ],
      "execution_count": null,
      "outputs": [
        {
          "output_type": "execute_result",
          "data": {
            "text/plain": [
              "<315x5000 sparse matrix of type '<class 'numpy.int64'>'\n",
              "\twith 43672 stored elements in Compressed Sparse Row format>"
            ]
          },
          "metadata": {
            "tags": []
          },
          "execution_count": 36
        }
      ]
    },
    {
      "cell_type": "code",
      "metadata": {
        "id": "qRabsOwaVbSO",
        "outputId": "313959c7-e2d1-4960-e417-ff4571cb735d"
      },
      "source": [
        "from sklearn.ensemble import GradientBoostingClassifier\n",
        "classifier = GradientBoostingClassifier(random_state = 0)\n",
        "classifier.fit(X_train, y_train)"
      ],
      "execution_count": null,
      "outputs": [
        {
          "output_type": "execute_result",
          "data": {
            "text/plain": [
              "GradientBoostingClassifier(random_state=0)"
            ]
          },
          "metadata": {
            "tags": []
          },
          "execution_count": 37
        }
      ]
    },
    {
      "cell_type": "code",
      "metadata": {
        "id": "jTz5ZH8fVbSP"
      },
      "source": [
        "y_pred = classifier.predict(X_test)"
      ],
      "execution_count": null,
      "outputs": []
    },
    {
      "cell_type": "code",
      "metadata": {
        "id": "_f_fCT5AVbSP",
        "outputId": "29c48129-e251-497a-ec75-80502e48959d"
      },
      "source": [
        "from sklearn import metrics \n",
        "fpr, tpr, thresholds = metrics.roc_curve(y_test, y_pred)\n",
        "metrics.auc(fpr, tpr)"
      ],
      "execution_count": null,
      "outputs": [
        {
          "output_type": "execute_result",
          "data": {
            "text/plain": [
              "0.7648005148005148"
            ]
          },
          "metadata": {
            "tags": []
          },
          "execution_count": 39
        }
      ]
    },
    {
      "cell_type": "code",
      "metadata": {
        "id": "7_NHXKEeVbSQ",
        "outputId": "43dbdca0-4af7-47a9-e36d-35d360d87912"
      },
      "source": [
        "from sklearn.linear_model import LogisticRegression\n",
        "classifier = LogisticRegression(random_state = 0)\n",
        "classifier.fit(X_train, y_train)"
      ],
      "execution_count": null,
      "outputs": [
        {
          "output_type": "execute_result",
          "data": {
            "text/plain": [
              "LogisticRegression(random_state=0)"
            ]
          },
          "metadata": {
            "tags": []
          },
          "execution_count": 40
        }
      ]
    },
    {
      "cell_type": "code",
      "metadata": {
        "id": "NH4GqJs9VbSR"
      },
      "source": [
        "y_pred = classifier.predict(X_test)"
      ],
      "execution_count": null,
      "outputs": []
    },
    {
      "cell_type": "code",
      "metadata": {
        "id": "1_s8aPsWVbSS",
        "outputId": "26f1dfe1-3b4c-434b-a8be-1c7486295e20"
      },
      "source": [
        "from sklearn import metrics \n",
        "fpr, tpr, thresholds = metrics.roc_curve(y_test, y_pred)\n",
        "metrics.auc(fpr, tpr)"
      ],
      "execution_count": null,
      "outputs": [
        {
          "output_type": "execute_result",
          "data": {
            "text/plain": [
              "0.8410553410553411"
            ]
          },
          "metadata": {
            "tags": []
          },
          "execution_count": 42
        }
      ]
    },
    {
      "cell_type": "code",
      "metadata": {
        "id": "BwnOW-jVVbSS"
      },
      "source": [
        "# Find the wrong predictions "
      ],
      "execution_count": null,
      "outputs": []
    },
    {
      "cell_type": "code",
      "metadata": {
        "id": "R2DOixdxVbST"
      },
      "source": [
        "y_pred_series = pd.Series(y_pred, index = y_test.index)"
      ],
      "execution_count": null,
      "outputs": []
    },
    {
      "cell_type": "code",
      "metadata": {
        "id": "O5ZM_4TsVbST"
      },
      "source": [
        "c = (y_test != y_pred_series)"
      ],
      "execution_count": null,
      "outputs": []
    },
    {
      "cell_type": "code",
      "metadata": {
        "id": "5rGtmeaPVbST"
      },
      "source": [
        "diff = c[c].index"
      ],
      "execution_count": null,
      "outputs": []
    },
    {
      "cell_type": "code",
      "metadata": {
        "id": "0RhqhetTVbST",
        "outputId": "ff26b324-d02c-49b8-d5ac-f439270564fd"
      },
      "source": [
        "for i in diff:\n",
        "    print(i, y_test[i],y_pred_series[i], X[i])"
      ],
      "execution_count": null,
      "outputs": [
        {
          "output_type": "stream",
          "text": [
            "74 1 0 nonpharmacologic treatments increasingly adopted alternative primary approaches chronic pain management present results pilot study examining effect week combined abbreviated progressive relaxation technique aprt guided imagery gi intervention management chronic pain n power analysis explore recommended sample sizes future clinical trials results indicated consistent clinically significant trends improvement pain mcgill pain questionnaire visual analog scale mental health depression anxiety stress scale domains quality life rand health survey sleep treatment group owing inadequate power study results were statistically significant methodologic concerns suggestions improved intervention protocol discussed concluded strong preliminary evidence efficacy aprt gi adjunct conventional treatment options chronic pain\n",
            "135 0 1 post amputation complication phantom limb pain plp prevalent difficult manage study aimed determine was feasible acceptable undertake definitive multicentred randomised controlled trial assessing effectiveness acupuncture treating lower limb amputees plp mixed methods embedded design including randomised controlled trial semistructured interviews was undertaken total participants plp were randomly assigned receive pragmatic traditional chinese medicine acupuncture treatments usual care usual care weeks outcome measures were completed baseline weekly study month post completion study included numerical pain rating scale short form mcgill pain questionnaire eq d l hospital anxiety depression scale perceived stress scale item insomnia severity index patient global impression change post completion trial participants acupuncture group were interviewed experience feasibility specific data were collected amputees meeting study inclusion criteria agreed participate recruitment rate qualitatively acupuncture was perceived beneficial effective quantitatively acupuncture demonstrated clinically meaningful change average pain intensity raw change worst pain intensity raw change feasibility specific data identified undertaking definitive trial recruitment practitioner adherence acupuncture protocol completion outcome measures month follow blinding addressed appropriate outcome measures were identified use definitive trial data were generated future sample size calculations effect size allowing dropout rate sample size participants group needed future definitive trial future definitive trial possible areas identified study addressed acupuncture effective treating plp feasibility study suggests definitive trial possible multicentred trial adequate sample size blinding needed clinicaltrials gov identifier nct registered september\n",
            "164 0 1 compare differences efficacy agitated depression alliance therapy acupuncture seroxat alliance therapy electroacupuncture seroxat simple application seroxat cases were randomized medication group conventional acupuncture medication group electroacupuncture medication group cases medication group seroxat was prescribed oral administration day conventional acupuncture medication group seroxat was applied combination conventional acupuncture therapy baihui gv yintang ex hn were taken main acupoints electroacupuncture medication group seroxat was applied combination electroacupuncture basic therapeutic program conventional acupuncture medication group electric stimulation was attached baihui gv yintang ex hn acupuncture was applied days treatment weeks session session treatment was required research treatment clinical global impression cgi world health organization quality life bref whoqol bref were adopted assessment group cgi comparison severity illness si treatment was alleviated significantly patients groups compared treatment p difference was significant statistically groups p global improvement gi was different significantly groups p gi electroacupuncture medication group was best conventional acupuncture medication group was taken second place total improvement rates were separately difference efficacy index ei was significant statistically groups p concerning adverse events were case mild insomnia medication group case moderate anorexia conventional acupuncture medication group cases mild insomnia dry mouth electroacupuncture medication group whoqol bref comparison compared treatment indices electroacupuncture medication group were increased significantly treatment p indices physiological field indices were improved conventional acupuncture medication group treatment p p scores physiological field social field were higher significantly treatment medication group p p treatment statistically significant difference was displayed psychological field groups p improvement electroacupuncture medication group was best conventional acupuncture medication group was taken second place medication group was worst alliance therapy acupuncture medication simple oral administration seroxat improves overall efficacy quality life patients agitated depression efficacy alliance therapy acupuncture medication superior simple oral administration seroxat efficacy electroacupuncture superior conventional acupuncture therapy\n",
            "374 1 0 participation music therapy associated improved psychological physical indices chronically ill patients listening music hemodialysis treatments positively affects patients hemodynamics laboratory values quality life physical symptoms effect live singing hemodialysis treatments previously studied total participants diagnosis end stage kidney disease participated study vocalist was musically trained dialysis nurse patients listened min live singing consecutive hemodialysis sessions underwent standard hemodialysis washout period days groups were reversed listening live music was associated improvements systolic diastolic blood pressure better quality sleep fewer cramps reduced anxiety depression pain itching p values listening live music hemodialysis effective potentially low cost therapy dialysis care team employ hemodialysis treatments\n",
            "308 0 1 distress increasing public health problem adolescents young adults aimed evaluate potential effects week minute week yoga course non randomized controlled study school sport control group was implemented german secondary schools primary outcome was stress perceived stress scale baseline week secondary outcomes included depression anxiety attention quality life mood visual analogue scales pain headache neck tension exhaustion sleep yoga efficacy parameters were assessed pre baseline holidays baseline week holidays interventions started week months follow intention treat analysis ancova was performed participants female years were included study significant differences were observed groups regard pss weeks ci p months ci p vas headache favour yoga hads d favour school sport showed significant group differences months follow significant intra group mean changes primary outcome secondary outcomes were found yoga group young adults german secondary school settings benefit yoga found effects were prominent yoga group effects attributed non specific effects chosen study design studies needed include high quality study designs including randomization longer term follow ups larger sample sizes\n",
            "361 0 1 examine feasibility acceptability picu soothing intervention touch reading music nonblinded pilot randomized controlled trial picu medical surgical wards canadian pediatric hospital picu patients age years old parents randomized intervention group n control group n picu soothing consisted parental comforting touch reading followed quiet period music soft headbands administered daily hospitalization acceptability feasibility intervention methods were assessed participation rates observation measurement completion rates semistructured interviews telephone calls psychological was assessed measures distress sleep child parent anxiety picu wards months post discharge percent parents agreed participate seventy percent intervention group parents responded positively comforting music respectively intervention group parents nurses felt children responded positively nurses found intervention acceptable feasible measurement completion rates ranged pilot data suggested lower intervention group child parent anxiety transfer hospital wards picu soothing acceptable feasible conduct results support implementation scale randomized controlled trial evaluate intervention effectiveness\n",
            "316 0 1 years end war veterans suffer post traumatic stress disorder ptsd present study explored influence symptoms ptsd iranian veterans iran iraq war mindfulness based cognitive therapy mbct add standard treatment citalopram male veterans ptsd mean age years took week intervention study standard treatment patients consisted citalopram mg day therapeutic dosages patients were randomly assigned treatment control condition treatment involved mbct delivered group sessions week patients control condition met hospital frequency duration socio therapeutic events baseline study completion patients completed questionnaires covering symptoms ptsd depression anxiety stress study completion weeks scores ptsd experiencing events avoidance negative mood cognition hyperarousal depression anxiety stress were lower intervention control group data suggest adjuvant standard ssri medication mbct effective intervention significantly reduce symptoms ptsd depression anxiety stress veterans\n",
            "76 0 1 verify anti depression effect acupuncture moxibustion based medication selective serotonin reuptake inhibitors ssris eighty cases depression were randomly divided acupuncture moxibustion medication group cases acupuncture medication group cases medication group cases ssris medication was administered groups complementarily acupuncture moxibustion medication group needling technique qi conduction governor vessel was applied baihui gv fengfu gv dazhui gv etc additionally mild moxibustion was added dazhui gv baihui gv acupuncture medication group acupuncture qi conduction governor vessel was adopted hamilton depression scale hamd was evaluation total score score factor treatment separately therapeutic effects were observed groups compared medication group scores factors retardation sleep anxiety somatization total score were apparently improved groups p p compared acupuncture medication group scores sleep cognition factors total score hamd were improved acupuncture moxibustion medication group p p remarkable effective rates were groups separately result acupuncture moxibustion medication group was superior acupuncture medication group p results groups were superior medication group p acupunctrure moxibustion definite anti depression effect based ssris medication coordination acupuncture moxibustion achieves superior efficacy compared simple acupuncture therapy\n",
            "52 0 1 clinical studies shown biofeedback assisted relaxation positively influences treatment outcomes sleep disturbance studies reporting timing relaxation training initiation relationships timing initiation effectiveness relaxation remain unclear aim study was determine optimal timing initiating nurse led biofeedback assisted relaxation hospitalized coronary heart disease patients sleep disturbance experimental pretest repeated posttest design was compare effectiveness nurse led biofeedback assisted relaxation total patients coronary heart disease were randomly assigned groups morning group night group morning night group control group outcome measures included self report sleep related indicators scores pittsburgh sleep quality index psqi zung s self rating anxiety scale sas dosage sleep medication way analysis variance simple effect test were analyze differences groups significant differences detected baseline compared control group nurse led biofeedback assisted relaxation yielded greater benefit patients intervention groups group time factors pretest protest explain variation effectiveness program main effect p were statistical differences groups patients night group fsol p ftst p fse p fpsqi p fsas p respectively morning night group fsol p ftst p fse p fpsqi p fsas p respectively had slightly shorter sleep latency experienced fewer awakenings reported higher sleep quality significantly fewer sleep medications morning group did f p timing initiation nurse led biofeedback assisted relaxation was factors affecting effectiveness relaxation relaxation training night morning night combination effectively enhance sleep quality decrease need sleep medications hospitalized patients sleep disturbance\n",
            "355 0 1 mood disorders common problems patients chronic hepatitis b virus hbv infection clinical treatment focus anti viral anti fibrosis taking care mood disorders past decades developed chinese medicine treatment method nursing intervention shows positive treatment effect patients cases hepatitis b patients were randomly divided control group cases observation group cases patients control group received hepatology nursing liver protecting transaminase lowering medicine ear acupoint bean pressing treatment addition nursing treatment control group patients observation group were given targeted nursing interventions including psychological intervention emotional intervention cognitive intervention systematic family community support intervention anxiety level sleep quality patients groups were compared improvement hepatic indexes was checked life qualities groups were compared compared control group patients observation group provided statistically significant mprovement anxiety control sleep quality hepatic indexes changes p observation group showed remarkably better life quality scores gqli control group p research confirmed targeted nursing intervention coupled ear acupoint bean pressing showed effective improvement anxiety control sleep quality chronic hepatic b patients demonstrated better hepatic index recovery patients observation group higher life quality scores control group\n",
            "190 0 1 objective clinical trial was determine intervention listening nursery songs integrated heartbeat sounds resulted changes anxiety levels infants children younger years emergent setting randomized single blinded controlled trial study included children younger years were deemed emergency physician need computed tomographic ct scan experimental group exp n listened recorded children s songs integrated heartbeat sounds baby sleep compact disc head ct controls con n had music scales measure agitation were completed trained research associate cm visual analog scale vas modified ramsay sedation scale mrss research associate wore headphones blocking music research associate recorded agitation levels preintervention postintervention scales was successful completion head ct pharmacologic intervention frequency medication use mann whitney u t test logistic regression were analysis p was considered significant were differences groups age sex initial vital signs diagnostic category ethnicity insurance status rate completion head ct rate medication use hospital admissions initial vas mrss score was improvement vas score exp group subjects con group subjects vas score exp group improved cm con group worsened cm intervention difference cm p were significant changes mrss scores accounting age sex admission status adjusted odds having improved sedation score were exp group measured vas was significant decrease agitation children undergoing head ct children s songs integrated heartbeat sounds were played procedure\n",
            "20 0 1 secondary analysis examined changes sleep quality associated participation mindfulness based stress reduction mbsr program healthy older adults data were collected baseline weeks post treatment month follow adults aged n randomly assigned mbsr waitlist control group differences were examined mixed analysis covariance repeated measures total pittsburgh sleep quality index psqi score small sized significant effect was found overall sleep mbsr participants baseline psqi scores indicative sleep disturbance f p sub p sub sup sup medium sized significant effect was found mbsr participants baseline psqi scores f p sub p sub sup sup findings indicate improved sleep quality older adults higher levels sleep disturbance associated participation mbsr\n"
          ],
          "name": "stdout"
        }
      ]
    },
    {
      "cell_type": "markdown",
      "metadata": {
        "id": "Cg4j2QIMVbSU"
      },
      "source": [
        "# TFIDF"
      ]
    },
    {
      "cell_type": "code",
      "metadata": {
        "id": "HxWkL0q5VbSU"
      },
      "source": [
        "from sklearn.model_selection import train_test_split\n",
        "X_train, X_test, y_train, y_test = train_test_split(X, y, test_size = 0.2, random_state = 0)"
      ],
      "execution_count": null,
      "outputs": []
    },
    {
      "cell_type": "code",
      "metadata": {
        "id": "k5AQ_DFJVbSU"
      },
      "source": [
        "#fit transform will create inversed document frequency\n",
        "from sklearn.feature_extraction.text import TfidfVectorizer\n",
        "cv = TfidfVectorizer(max_features= 4000, ngram_range = (1,2))\n",
        "X_train = cv.fit_transform(X_train)\n",
        "X_test = cv.transform(X_test)"
      ],
      "execution_count": null,
      "outputs": []
    },
    {
      "cell_type": "code",
      "metadata": {
        "id": "FobCcmrwVbSU",
        "outputId": "1ffa8e60-c4e6-420d-b412-b4cd8881a208"
      },
      "source": [
        "from sklearn.ensemble import GradientBoostingClassifier\n",
        "classifier = GradientBoostingClassifier(random_state = 0)\n",
        "classifier.fit(X_train, y_train)"
      ],
      "execution_count": null,
      "outputs": [
        {
          "output_type": "execute_result",
          "data": {
            "text/plain": [
              "GradientBoostingClassifier(random_state=0)"
            ]
          },
          "metadata": {
            "tags": []
          },
          "execution_count": 50
        }
      ]
    },
    {
      "cell_type": "code",
      "metadata": {
        "id": "n1gt4aQzVbSV"
      },
      "source": [
        "y_pred = classifier.predict(X_test)"
      ],
      "execution_count": null,
      "outputs": []
    },
    {
      "cell_type": "code",
      "metadata": {
        "id": "BAQedc5fVbSV",
        "outputId": "4710c378-7217-4156-c52f-6f7f98c95145"
      },
      "source": [
        "from sklearn import metrics \n",
        "fpr, tpr, thresholds = metrics.roc_curve(y_test, y_pred)\n",
        "metrics.auc(fpr, tpr)"
      ],
      "execution_count": null,
      "outputs": [
        {
          "output_type": "execute_result",
          "data": {
            "text/plain": [
              "0.7496782496782497"
            ]
          },
          "metadata": {
            "tags": []
          },
          "execution_count": 52
        }
      ]
    },
    {
      "cell_type": "code",
      "metadata": {
        "id": "i9K-SpMrVbSV",
        "outputId": "53690c2a-f1d3-4a77-f96e-cb823b0dc113"
      },
      "source": [
        "from sklearn.linear_model import LogisticRegression\n",
        "classifier = LogisticRegression(random_state = 0)\n",
        "classifier.fit(X_train, y_train)"
      ],
      "execution_count": null,
      "outputs": [
        {
          "output_type": "execute_result",
          "data": {
            "text/plain": [
              "LogisticRegression(random_state=0)"
            ]
          },
          "metadata": {
            "tags": []
          },
          "execution_count": 53
        }
      ]
    },
    {
      "cell_type": "code",
      "metadata": {
        "id": "Daoqe8hHVbSV"
      },
      "source": [
        "y_pred = classifier.predict(X_test)"
      ],
      "execution_count": null,
      "outputs": []
    },
    {
      "cell_type": "code",
      "metadata": {
        "id": "OJvGzXkGVbSW",
        "outputId": "687c2cb2-c820-4161-be2f-4e08c0167c66"
      },
      "source": [
        "from sklearn import metrics \n",
        "fpr, tpr, thresholds = metrics.roc_curve(y_test, y_pred)\n",
        "metrics.auc(fpr, tpr)"
      ],
      "execution_count": null,
      "outputs": [
        {
          "output_type": "execute_result",
          "data": {
            "text/plain": [
              "0.7599742599742599"
            ]
          },
          "metadata": {
            "tags": []
          },
          "execution_count": 55
        }
      ]
    },
    {
      "cell_type": "markdown",
      "metadata": {
        "id": "PeeJDvCjVbSW"
      },
      "source": [
        "#Find wrong predictions and diagnose"
      ]
    },
    {
      "cell_type": "code",
      "metadata": {
        "id": "tdZrXfVhVbSW",
        "outputId": "7ab025fe-806d-4812-b891-7094314c225b"
      },
      "source": [
        "y_pred"
      ],
      "execution_count": null,
      "outputs": [
        {
          "output_type": "execute_result",
          "data": {
            "text/plain": [
              "array([1, 1, 1, 1, 1, 0, 1, 1, 0, 1, 1, 1, 1, 1, 1, 0, 1, 0, 1, 1, 0, 1,\n",
              "       1, 1, 1, 1, 1, 1, 1, 1, 1, 0, 1, 1, 1, 1, 1, 1, 0, 1, 1, 0, 1, 1,\n",
              "       1, 1, 0, 1, 1, 0, 1, 1, 0, 1, 1, 0, 1, 0, 0, 1, 1, 1, 1, 1, 0, 1,\n",
              "       0, 0, 1, 0, 1, 1, 0, 0, 0, 1, 0, 1, 0], dtype=int64)"
            ]
          },
          "metadata": {
            "tags": []
          },
          "execution_count": 71
        }
      ]
    },
    {
      "cell_type": "code",
      "metadata": {
        "id": "EBntRGCkVbSW",
        "outputId": "6f0d28de-b0ea-40ab-e930-269e5c688671"
      },
      "source": [
        "y_pred_series = pd.Series(y_pred, index = y_test.index)\n",
        "y_pred_series"
      ],
      "execution_count": null,
      "outputs": [
        {
          "output_type": "execute_result",
          "data": {
            "text/plain": [
              "113    1\n",
              "281    1\n",
              "68     1\n",
              "155    1\n",
              "329    1\n",
              "      ..\n",
              "90     0\n",
              "124    1\n",
              "64     0\n",
              "55     1\n",
              "300    0\n",
              "Length: 79, dtype: int64"
            ]
          },
          "metadata": {
            "tags": []
          },
          "execution_count": 74
        }
      ]
    },
    {
      "cell_type": "code",
      "metadata": {
        "id": "gw0mkCxPVbSX",
        "outputId": "822138f5-2308-444d-869a-07887e1e5804"
      },
      "source": [
        "y_test"
      ],
      "execution_count": null,
      "outputs": [
        {
          "output_type": "execute_result",
          "data": {
            "text/plain": [
              "113    1\n",
              "281    1\n",
              "68     1\n",
              "155    0\n",
              "329    1\n",
              "      ..\n",
              "90     0\n",
              "124    1\n",
              "64     1\n",
              "55     1\n",
              "300    0\n",
              "Name: AbL, Length: 79, dtype: int64"
            ]
          },
          "metadata": {
            "tags": []
          },
          "execution_count": 73
        }
      ]
    },
    {
      "cell_type": "code",
      "metadata": {
        "id": "GZ6SANWDVbSX"
      },
      "source": [
        "c = (y_test != y_pred_series)"
      ],
      "execution_count": null,
      "outputs": []
    },
    {
      "cell_type": "code",
      "metadata": {
        "id": "8mChdfEJVbSX",
        "outputId": "5efe1098-37cd-4112-a603-0f2b27ec9a62"
      },
      "source": [
        "c[c].index"
      ],
      "execution_count": null,
      "outputs": [
        {
          "output_type": "execute_result",
          "data": {
            "text/plain": [
              "Int64Index([155, 357, 229, 334, 342,  74, 135, 164, 308, 361, 316,  76,  52,\n",
              "            122, 355, 190,  20, 382,  64],\n",
              "           dtype='int64')"
            ]
          },
          "metadata": {
            "tags": []
          },
          "execution_count": 92
        }
      ]
    },
    {
      "cell_type": "code",
      "metadata": {
        "id": "UEAJTISLVbSX",
        "outputId": "b33f070c-683b-4fb9-95d7-3da3c30347e3"
      },
      "source": [
        "X[64]"
      ],
      "execution_count": null,
      "outputs": [
        {
          "output_type": "execute_result",
          "data": {
            "text/plain": [
              "'obesity urgent public health problem clinical trials systematically tested efficacy long term weight loss maintenance interventions randomized clinical trial tested efficacy novel mind body technique weight loss maintenance participants were obese adults had completed month behavioral weight loss program prior randomization successfully lost weight were randomized experimental weight loss maintenance intervention tapas acupressure technique tat control intervention comprised social support group meetings ss led professional facilitators tat combines self applied light pressure specific acupressure points accompanied prescribed sequence mental steps participants maintenance conditions attended group sessions months active weight loss maintenance intervention followed additional 6 months intervention main outcome measure was change weight beginning weight loss maintenance intervention 12 months later secondary outcomes were change depression stress insomnia quality life analysis covariance primary analysis method missing values were replaced multiple imputation 285 randomized participants 79 were female mean age was 56 standard deviation sd 11 mean bmi randomization was 34 sd 5 mean initial weight loss was 9 8 kg sd 5 primary outcome model was significant difference weight regain arms 1 72 kg se 0 85 weight regain tat 2 96 kg se 0 96 weight regain ss p 0 097 tests arm differences secondary outcomes were significant secondary analysis showed significant interaction treatment initial weight loss p 036 exploratory post hoc tests showing greater initial weight loss was associated weight regain ss weight regain tat primary analysis showed significant difference weight regain tat ss secondary post hoc analyses indicate direction future research'"
            ]
          },
          "metadata": {
            "tags": []
          },
          "execution_count": 84
        }
      ]
    },
    {
      "cell_type": "code",
      "metadata": {
        "id": "I77_xsczVbSY"
      },
      "source": [
        ""
      ],
      "execution_count": null,
      "outputs": []
    },
    {
      "cell_type": "code",
      "metadata": {
        "id": "1rHIuo-LVbSY"
      },
      "source": [
        ""
      ],
      "execution_count": null,
      "outputs": []
    },
    {
      "cell_type": "code",
      "metadata": {
        "id": "AqN2rRL3VbSY"
      },
      "source": [
        ""
      ],
      "execution_count": null,
      "outputs": []
    },
    {
      "cell_type": "code",
      "metadata": {
        "id": "HhbdWmUnVbSZ",
        "outputId": "66a7c7ef-017e-47e2-f505-ea124fc50a27"
      },
      "source": [
        "tpr"
      ],
      "execution_count": null,
      "outputs": [
        {
          "output_type": "execute_result",
          "data": {
            "text/plain": [
              "array([0.        , 0.91111111, 1.        ])"
            ]
          },
          "metadata": {
            "tags": []
          },
          "execution_count": 97
        }
      ]
    },
    {
      "cell_type": "code",
      "metadata": {
        "id": "6aOa3WgmVbSZ",
        "outputId": "b39cc1cd-af3d-4b9b-b7c2-753ad634ed63"
      },
      "source": [
        "fpr"
      ],
      "execution_count": null,
      "outputs": [
        {
          "output_type": "execute_result",
          "data": {
            "text/plain": [
              "array([0.        , 0.44117647, 1.        ])"
            ]
          },
          "metadata": {
            "tags": []
          },
          "execution_count": 98
        }
      ]
    },
    {
      "cell_type": "markdown",
      "metadata": {
        "id": "c2ou0AIsVbSa"
      },
      "source": [
        "# BERTs"
      ]
    },
    {
      "cell_type": "code",
      "metadata": {
        "id": "0Qcr1qUnWIFO"
      },
      "source": [
        ""
      ],
      "execution_count": null,
      "outputs": []
    },
    {
      "cell_type": "code",
      "metadata": {
        "id": "54XF1uqOVnhL",
        "colab": {
          "base_uri": "https://localhost:8080/"
        },
        "outputId": "eecf6db7-6c84-4c07-885e-9ca838aebade"
      },
      "source": [
        "from google.colab import drive\n",
        "drive.mount('/content/drive')"
      ],
      "execution_count": 1,
      "outputs": [
        {
          "output_type": "stream",
          "text": [
            "Mounted at /content/drive\n"
          ],
          "name": "stdout"
        }
      ]
    },
    {
      "cell_type": "code",
      "metadata": {
        "collapsed": true,
        "colab": {
          "base_uri": "https://localhost:8080/"
        },
        "id": "pkVE-wvHVbSa",
        "outputId": "3b215c86-a0c1-4a7d-8abd-fe83229b4d90"
      },
      "source": [
        "!pip3 install --upgrade tensorflow"
      ],
      "execution_count": 2,
      "outputs": [
        {
          "output_type": "stream",
          "text": [
            "Requirement already up-to-date: tensorflow in /usr/local/lib/python3.6/dist-packages (2.4.1)\n",
            "Requirement already satisfied, skipping upgrade: tensorboard~=2.4 in /usr/local/lib/python3.6/dist-packages (from tensorflow) (2.4.1)\n",
            "Requirement already satisfied, skipping upgrade: opt-einsum~=3.3.0 in /usr/local/lib/python3.6/dist-packages (from tensorflow) (3.3.0)\n",
            "Requirement already satisfied, skipping upgrade: gast==0.3.3 in /usr/local/lib/python3.6/dist-packages (from tensorflow) (0.3.3)\n",
            "Requirement already satisfied, skipping upgrade: termcolor~=1.1.0 in /usr/local/lib/python3.6/dist-packages (from tensorflow) (1.1.0)\n",
            "Requirement already satisfied, skipping upgrade: wrapt~=1.12.1 in /usr/local/lib/python3.6/dist-packages (from tensorflow) (1.12.1)\n",
            "Requirement already satisfied, skipping upgrade: tensorflow-estimator<2.5.0,>=2.4.0 in /usr/local/lib/python3.6/dist-packages (from tensorflow) (2.4.0)\n",
            "Requirement already satisfied, skipping upgrade: keras-preprocessing~=1.1.2 in /usr/local/lib/python3.6/dist-packages (from tensorflow) (1.1.2)\n",
            "Requirement already satisfied, skipping upgrade: google-pasta~=0.2 in /usr/local/lib/python3.6/dist-packages (from tensorflow) (0.2.0)\n",
            "Requirement already satisfied, skipping upgrade: numpy~=1.19.2 in /usr/local/lib/python3.6/dist-packages (from tensorflow) (1.19.5)\n",
            "Requirement already satisfied, skipping upgrade: wheel~=0.35 in /usr/local/lib/python3.6/dist-packages (from tensorflow) (0.36.2)\n",
            "Requirement already satisfied, skipping upgrade: typing-extensions~=3.7.4 in /usr/local/lib/python3.6/dist-packages (from tensorflow) (3.7.4.3)\n",
            "Requirement already satisfied, skipping upgrade: protobuf>=3.9.2 in /usr/local/lib/python3.6/dist-packages (from tensorflow) (3.12.4)\n",
            "Requirement already satisfied, skipping upgrade: six~=1.15.0 in /usr/local/lib/python3.6/dist-packages (from tensorflow) (1.15.0)\n",
            "Requirement already satisfied, skipping upgrade: grpcio~=1.32.0 in /usr/local/lib/python3.6/dist-packages (from tensorflow) (1.32.0)\n",
            "Requirement already satisfied, skipping upgrade: absl-py~=0.10 in /usr/local/lib/python3.6/dist-packages (from tensorflow) (0.10.0)\n",
            "Requirement already satisfied, skipping upgrade: astunparse~=1.6.3 in /usr/local/lib/python3.6/dist-packages (from tensorflow) (1.6.3)\n",
            "Requirement already satisfied, skipping upgrade: flatbuffers~=1.12.0 in /usr/local/lib/python3.6/dist-packages (from tensorflow) (1.12)\n",
            "Requirement already satisfied, skipping upgrade: h5py~=2.10.0 in /usr/local/lib/python3.6/dist-packages (from tensorflow) (2.10.0)\n",
            "Requirement already satisfied, skipping upgrade: tensorboard-plugin-wit>=1.6.0 in /usr/local/lib/python3.6/dist-packages (from tensorboard~=2.4->tensorflow) (1.8.0)\n",
            "Requirement already satisfied, skipping upgrade: google-auth-oauthlib<0.5,>=0.4.1 in /usr/local/lib/python3.6/dist-packages (from tensorboard~=2.4->tensorflow) (0.4.2)\n",
            "Requirement already satisfied, skipping upgrade: werkzeug>=0.11.15 in /usr/local/lib/python3.6/dist-packages (from tensorboard~=2.4->tensorflow) (1.0.1)\n",
            "Requirement already satisfied, skipping upgrade: setuptools>=41.0.0 in /usr/local/lib/python3.6/dist-packages (from tensorboard~=2.4->tensorflow) (53.0.0)\n",
            "Requirement already satisfied, skipping upgrade: google-auth<2,>=1.6.3 in /usr/local/lib/python3.6/dist-packages (from tensorboard~=2.4->tensorflow) (1.25.0)\n",
            "Requirement already satisfied, skipping upgrade: requests<3,>=2.21.0 in /usr/local/lib/python3.6/dist-packages (from tensorboard~=2.4->tensorflow) (2.23.0)\n",
            "Requirement already satisfied, skipping upgrade: markdown>=2.6.8 in /usr/local/lib/python3.6/dist-packages (from tensorboard~=2.4->tensorflow) (3.3.3)\n",
            "Requirement already satisfied, skipping upgrade: requests-oauthlib>=0.7.0 in /usr/local/lib/python3.6/dist-packages (from google-auth-oauthlib<0.5,>=0.4.1->tensorboard~=2.4->tensorflow) (1.3.0)\n",
            "Requirement already satisfied, skipping upgrade: pyasn1-modules>=0.2.1 in /usr/local/lib/python3.6/dist-packages (from google-auth<2,>=1.6.3->tensorboard~=2.4->tensorflow) (0.2.8)\n",
            "Requirement already satisfied, skipping upgrade: cachetools<5.0,>=2.0.0 in /usr/local/lib/python3.6/dist-packages (from google-auth<2,>=1.6.3->tensorboard~=2.4->tensorflow) (4.2.1)\n",
            "Requirement already satisfied, skipping upgrade: rsa<5,>=3.1.4; python_version >= \"3.6\" in /usr/local/lib/python3.6/dist-packages (from google-auth<2,>=1.6.3->tensorboard~=2.4->tensorflow) (4.7)\n",
            "Requirement already satisfied, skipping upgrade: certifi>=2017.4.17 in /usr/local/lib/python3.6/dist-packages (from requests<3,>=2.21.0->tensorboard~=2.4->tensorflow) (2020.12.5)\n",
            "Requirement already satisfied, skipping upgrade: urllib3!=1.25.0,!=1.25.1,<1.26,>=1.21.1 in /usr/local/lib/python3.6/dist-packages (from requests<3,>=2.21.0->tensorboard~=2.4->tensorflow) (1.24.3)\n",
            "Requirement already satisfied, skipping upgrade: chardet<4,>=3.0.2 in /usr/local/lib/python3.6/dist-packages (from requests<3,>=2.21.0->tensorboard~=2.4->tensorflow) (3.0.4)\n",
            "Requirement already satisfied, skipping upgrade: idna<3,>=2.5 in /usr/local/lib/python3.6/dist-packages (from requests<3,>=2.21.0->tensorboard~=2.4->tensorflow) (2.10)\n",
            "Requirement already satisfied, skipping upgrade: importlib-metadata; python_version < \"3.8\" in /usr/local/lib/python3.6/dist-packages (from markdown>=2.6.8->tensorboard~=2.4->tensorflow) (3.4.0)\n",
            "Requirement already satisfied, skipping upgrade: oauthlib>=3.0.0 in /usr/local/lib/python3.6/dist-packages (from requests-oauthlib>=0.7.0->google-auth-oauthlib<0.5,>=0.4.1->tensorboard~=2.4->tensorflow) (3.1.0)\n",
            "Requirement already satisfied, skipping upgrade: pyasn1<0.5.0,>=0.4.6 in /usr/local/lib/python3.6/dist-packages (from pyasn1-modules>=0.2.1->google-auth<2,>=1.6.3->tensorboard~=2.4->tensorflow) (0.4.8)\n",
            "Requirement already satisfied, skipping upgrade: zipp>=0.5 in /usr/local/lib/python3.6/dist-packages (from importlib-metadata; python_version < \"3.8\"->markdown>=2.6.8->tensorboard~=2.4->tensorflow) (3.4.0)\n"
          ],
          "name": "stdout"
        }
      ]
    },
    {
      "cell_type": "code",
      "metadata": {
        "collapsed": true,
        "colab": {
          "base_uri": "https://localhost:8080/"
        },
        "id": "nZ39jYB1VbSb",
        "outputId": "06aaef98-cc95-45bc-daaf-803d6f9ca192"
      },
      "source": [
        "!pip install ktrain"
      ],
      "execution_count": 3,
      "outputs": [
        {
          "output_type": "stream",
          "text": [
            "Collecting ktrain\n",
            "\u001b[?25l  Downloading https://files.pythonhosted.org/packages/e1/3c/8469632f3fa51f244ce35ac184de4c55a260dccfcb7386529faf82ebf60f/ktrain-0.25.4.tar.gz (25.3MB)\n",
            "\u001b[K     |████████████████████████████████| 25.3MB 135kB/s \n",
            "\u001b[?25hCollecting scikit-learn==0.23.2\n",
            "\u001b[?25l  Downloading https://files.pythonhosted.org/packages/5c/a1/273def87037a7fb010512bbc5901c31cfddfca8080bc63b42b26e3cc55b3/scikit_learn-0.23.2-cp36-cp36m-manylinux1_x86_64.whl (6.8MB)\n",
            "\u001b[K     |████████████████████████████████| 6.8MB 56.2MB/s \n",
            "\u001b[?25hRequirement already satisfied: matplotlib>=3.0.0 in /usr/local/lib/python3.6/dist-packages (from ktrain) (3.2.2)\n",
            "Requirement already satisfied: pandas>=1.0.1 in /usr/local/lib/python3.6/dist-packages (from ktrain) (1.1.5)\n",
            "Requirement already satisfied: fastprogress>=0.1.21 in /usr/local/lib/python3.6/dist-packages (from ktrain) (1.0.0)\n",
            "Requirement already satisfied: requests in /usr/local/lib/python3.6/dist-packages (from ktrain) (2.23.0)\n",
            "Requirement already satisfied: joblib in /usr/local/lib/python3.6/dist-packages (from ktrain) (1.0.0)\n",
            "Requirement already satisfied: packaging in /usr/local/lib/python3.6/dist-packages (from ktrain) (20.9)\n",
            "Requirement already satisfied: ipython in /usr/local/lib/python3.6/dist-packages (from ktrain) (5.5.0)\n",
            "Collecting langdetect\n",
            "\u001b[?25l  Downloading https://files.pythonhosted.org/packages/56/a3/8407c1e62d5980188b4acc45ef3d94b933d14a2ebc9ef3505f22cf772570/langdetect-1.0.8.tar.gz (981kB)\n",
            "\u001b[K     |████████████████████████████████| 983kB 50.7MB/s \n",
            "\u001b[?25hRequirement already satisfied: jieba in /usr/local/lib/python3.6/dist-packages (from ktrain) (0.42.1)\n",
            "Collecting cchardet\n",
            "\u001b[?25l  Downloading https://files.pythonhosted.org/packages/a0/e5/a0b9edd8664ea3b0d3270c451ebbf86655ed9fc4c3e4c45b9afae9c2e382/cchardet-2.1.7-cp36-cp36m-manylinux2010_x86_64.whl (263kB)\n",
            "\u001b[K     |████████████████████████████████| 266kB 47.3MB/s \n",
            "\u001b[?25hCollecting syntok\n",
            "  Downloading https://files.pythonhosted.org/packages/8c/76/a49e73a04b3e3a14ce232e8e28a1587f8108baa665644fe8c40e307e792e/syntok-1.3.1.tar.gz\n",
            "Collecting seqeval==0.0.19\n",
            "  Downloading https://files.pythonhosted.org/packages/93/e5/b7705156a77f742cfe4fc6f22d0c71591edb2d243328dff2f8fc0f933ab6/seqeval-0.0.19.tar.gz\n",
            "Collecting transformers<4.0,>=3.1.0\n",
            "\u001b[?25l  Downloading https://files.pythonhosted.org/packages/3a/83/e74092e7f24a08d751aa59b37a9fc572b2e4af3918cb66f7766c3affb1b4/transformers-3.5.1-py3-none-any.whl (1.3MB)\n",
            "\u001b[K     |████████████████████████████████| 1.3MB 42.7MB/s \n",
            "\u001b[?25hCollecting sentencepiece\n",
            "\u001b[?25l  Downloading https://files.pythonhosted.org/packages/14/67/e42bd1181472c95c8cda79305df848264f2a7f62740995a46945d9797b67/sentencepiece-0.1.95-cp36-cp36m-manylinux2014_x86_64.whl (1.2MB)\n",
            "\u001b[K     |████████████████████████████████| 1.2MB 49.6MB/s \n",
            "\u001b[?25hCollecting keras_bert>=0.86.0\n",
            "  Downloading https://files.pythonhosted.org/packages/e2/7f/95fabd29f4502924fa3f09ff6538c5a7d290dfef2c2fe076d3d1a16e08f0/keras-bert-0.86.0.tar.gz\n",
            "Requirement already satisfied: networkx>=2.3 in /usr/local/lib/python3.6/dist-packages (from ktrain) (2.5)\n",
            "Collecting whoosh\n",
            "\u001b[?25l  Downloading https://files.pythonhosted.org/packages/ba/19/24d0f1f454a2c1eb689ca28d2f178db81e5024f42d82729a4ff6771155cf/Whoosh-2.7.4-py2.py3-none-any.whl (468kB)\n",
            "\u001b[K     |████████████████████████████████| 471kB 48.7MB/s \n",
            "\u001b[?25hRequirement already satisfied: numpy>=1.13.3 in /usr/local/lib/python3.6/dist-packages (from scikit-learn==0.23.2->ktrain) (1.19.5)\n",
            "Requirement already satisfied: scipy>=0.19.1 in /usr/local/lib/python3.6/dist-packages (from scikit-learn==0.23.2->ktrain) (1.4.1)\n",
            "Collecting threadpoolctl>=2.0.0\n",
            "  Downloading https://files.pythonhosted.org/packages/f7/12/ec3f2e203afa394a149911729357aa48affc59c20e2c1c8297a60f33f133/threadpoolctl-2.1.0-py3-none-any.whl\n",
            "Requirement already satisfied: pyparsing!=2.0.4,!=2.1.2,!=2.1.6,>=2.0.1 in /usr/local/lib/python3.6/dist-packages (from matplotlib>=3.0.0->ktrain) (2.4.7)\n",
            "Requirement already satisfied: cycler>=0.10 in /usr/local/lib/python3.6/dist-packages (from matplotlib>=3.0.0->ktrain) (0.10.0)\n",
            "Requirement already satisfied: python-dateutil>=2.1 in /usr/local/lib/python3.6/dist-packages (from matplotlib>=3.0.0->ktrain) (2.8.1)\n",
            "Requirement already satisfied: kiwisolver>=1.0.1 in /usr/local/lib/python3.6/dist-packages (from matplotlib>=3.0.0->ktrain) (1.3.1)\n",
            "Requirement already satisfied: pytz>=2017.2 in /usr/local/lib/python3.6/dist-packages (from pandas>=1.0.1->ktrain) (2018.9)\n",
            "Requirement already satisfied: chardet<4,>=3.0.2 in /usr/local/lib/python3.6/dist-packages (from requests->ktrain) (3.0.4)\n",
            "Requirement already satisfied: urllib3!=1.25.0,!=1.25.1,<1.26,>=1.21.1 in /usr/local/lib/python3.6/dist-packages (from requests->ktrain) (1.24.3)\n",
            "Requirement already satisfied: idna<3,>=2.5 in /usr/local/lib/python3.6/dist-packages (from requests->ktrain) (2.10)\n",
            "Requirement already satisfied: certifi>=2017.4.17 in /usr/local/lib/python3.6/dist-packages (from requests->ktrain) (2020.12.5)\n",
            "Requirement already satisfied: decorator in /usr/local/lib/python3.6/dist-packages (from ipython->ktrain) (4.4.2)\n",
            "Requirement already satisfied: pygments in /usr/local/lib/python3.6/dist-packages (from ipython->ktrain) (2.6.1)\n",
            "Requirement already satisfied: traitlets>=4.2 in /usr/local/lib/python3.6/dist-packages (from ipython->ktrain) (4.3.3)\n",
            "Requirement already satisfied: prompt-toolkit<2.0.0,>=1.0.4 in /usr/local/lib/python3.6/dist-packages (from ipython->ktrain) (1.0.18)\n",
            "Requirement already satisfied: simplegeneric>0.8 in /usr/local/lib/python3.6/dist-packages (from ipython->ktrain) (0.8.1)\n",
            "Requirement already satisfied: pickleshare in /usr/local/lib/python3.6/dist-packages (from ipython->ktrain) (0.7.5)\n",
            "Requirement already satisfied: setuptools>=18.5 in /usr/local/lib/python3.6/dist-packages (from ipython->ktrain) (53.0.0)\n",
            "Requirement already satisfied: pexpect; sys_platform != \"win32\" in /usr/local/lib/python3.6/dist-packages (from ipython->ktrain) (4.8.0)\n",
            "Requirement already satisfied: six in /usr/local/lib/python3.6/dist-packages (from langdetect->ktrain) (1.15.0)\n",
            "Requirement already satisfied: regex in /usr/local/lib/python3.6/dist-packages (from syntok->ktrain) (2019.12.20)\n",
            "Requirement already satisfied: Keras>=2.2.4 in /usr/local/lib/python3.6/dist-packages (from seqeval==0.0.19->ktrain) (2.4.3)\n",
            "Collecting sacremoses\n",
            "\u001b[?25l  Downloading https://files.pythonhosted.org/packages/7d/34/09d19aff26edcc8eb2a01bed8e98f13a1537005d31e95233fd48216eed10/sacremoses-0.0.43.tar.gz (883kB)\n",
            "\u001b[K     |████████████████████████████████| 890kB 46.3MB/s \n",
            "\u001b[?25hRequirement already satisfied: filelock in /usr/local/lib/python3.6/dist-packages (from transformers<4.0,>=3.1.0->ktrain) (3.0.12)\n",
            "Requirement already satisfied: tqdm>=4.27 in /usr/local/lib/python3.6/dist-packages (from transformers<4.0,>=3.1.0->ktrain) (4.41.1)\n",
            "Requirement already satisfied: dataclasses; python_version < \"3.7\" in /usr/local/lib/python3.6/dist-packages (from transformers<4.0,>=3.1.0->ktrain) (0.8)\n",
            "Requirement already satisfied: protobuf in /usr/local/lib/python3.6/dist-packages (from transformers<4.0,>=3.1.0->ktrain) (3.12.4)\n",
            "Collecting tokenizers==0.9.3\n",
            "\u001b[?25l  Downloading https://files.pythonhosted.org/packages/4c/34/b39eb9994bc3c999270b69c9eea40ecc6f0e97991dba28282b9fd32d44ee/tokenizers-0.9.3-cp36-cp36m-manylinux1_x86_64.whl (2.9MB)\n",
            "\u001b[K     |████████████████████████████████| 2.9MB 47.0MB/s \n",
            "\u001b[?25hCollecting keras-transformer>=0.38.0\n",
            "  Downloading https://files.pythonhosted.org/packages/89/6c/d6f0c164f4cc16fbc0d0fea85f5526e87a7d2df7b077809e422a7e626150/keras-transformer-0.38.0.tar.gz\n",
            "Requirement already satisfied: ipython-genutils in /usr/local/lib/python3.6/dist-packages (from traitlets>=4.2->ipython->ktrain) (0.2.0)\n",
            "Requirement already satisfied: wcwidth in /usr/local/lib/python3.6/dist-packages (from prompt-toolkit<2.0.0,>=1.0.4->ipython->ktrain) (0.2.5)\n",
            "Requirement already satisfied: ptyprocess>=0.5 in /usr/local/lib/python3.6/dist-packages (from pexpect; sys_platform != \"win32\"->ipython->ktrain) (0.7.0)\n",
            "Requirement already satisfied: pyyaml in /usr/local/lib/python3.6/dist-packages (from Keras>=2.2.4->seqeval==0.0.19->ktrain) (3.13)\n",
            "Requirement already satisfied: h5py in /usr/local/lib/python3.6/dist-packages (from Keras>=2.2.4->seqeval==0.0.19->ktrain) (2.10.0)\n",
            "Requirement already satisfied: click in /usr/local/lib/python3.6/dist-packages (from sacremoses->transformers<4.0,>=3.1.0->ktrain) (7.1.2)\n",
            "Collecting keras-pos-embd>=0.11.0\n",
            "  Downloading https://files.pythonhosted.org/packages/09/70/b63ed8fc660da2bb6ae29b9895401c628da5740c048c190b5d7107cadd02/keras-pos-embd-0.11.0.tar.gz\n",
            "Collecting keras-multi-head>=0.27.0\n",
            "  Downloading https://files.pythonhosted.org/packages/e6/32/45adf2549450aca7867deccfa04af80a0ab1ca139af44b16bc669e0e09cd/keras-multi-head-0.27.0.tar.gz\n",
            "Collecting keras-layer-normalization>=0.14.0\n",
            "  Downloading https://files.pythonhosted.org/packages/a4/0e/d1078df0494bac9ce1a67954e5380b6e7569668f0f3b50a9531c62c1fc4a/keras-layer-normalization-0.14.0.tar.gz\n",
            "Collecting keras-position-wise-feed-forward>=0.6.0\n",
            "  Downloading https://files.pythonhosted.org/packages/e3/59/f0faa1037c033059e7e9e7758e6c23b4d1c0772cd48de14c4b6fd4033ad5/keras-position-wise-feed-forward-0.6.0.tar.gz\n",
            "Collecting keras-embed-sim>=0.8.0\n",
            "  Downloading https://files.pythonhosted.org/packages/57/ef/61a1e39082c9e1834a2d09261d4a0b69f7c818b359216d4e1912b20b1c86/keras-embed-sim-0.8.0.tar.gz\n",
            "Collecting keras-self-attention==0.46.0\n",
            "  Downloading https://files.pythonhosted.org/packages/15/6b/c804924a056955fa1f3ff767945187103cfc851ba9bd0fc5a6c6bc18e2eb/keras-self-attention-0.46.0.tar.gz\n",
            "Building wheels for collected packages: ktrain, langdetect, syntok, seqeval, keras-bert, sacremoses, keras-transformer, keras-pos-embd, keras-multi-head, keras-layer-normalization, keras-position-wise-feed-forward, keras-embed-sim, keras-self-attention\n",
            "  Building wheel for ktrain (setup.py) ... \u001b[?25l\u001b[?25hdone\n",
            "  Created wheel for ktrain: filename=ktrain-0.25.4-cp36-none-any.whl size=25276443 sha256=3dd5111724c4db2d8a769e2fd887c0df3494e99445f5a1d85a5615e32dfc7803\n",
            "  Stored in directory: /root/.cache/pip/wheels/1b/77/8a/bdceaabc308e7178d575278bf6143b7d1a9b939a1e40c56b88\n",
            "  Building wheel for langdetect (setup.py) ... \u001b[?25l\u001b[?25hdone\n",
            "  Created wheel for langdetect: filename=langdetect-1.0.8-cp36-none-any.whl size=993194 sha256=9f3184c7f9776969c5b0a7e70864737cbe6629659716fd4c05e1d596048c0d45\n",
            "  Stored in directory: /root/.cache/pip/wheels/8d/b3/aa/6d99de9f3841d7d3d40a60ea06e6d669e8e5012e6c8b947a57\n",
            "  Building wheel for syntok (setup.py) ... \u001b[?25l\u001b[?25hdone\n",
            "  Created wheel for syntok: filename=syntok-1.3.1-cp36-none-any.whl size=20918 sha256=34b1dd4ebd56d8cf3addd9013c2a66875e20b7c68a72743aa6efcaa9327016cd\n",
            "  Stored in directory: /root/.cache/pip/wheels/51/c6/a4/be1920586c49469846bcd2888200bdecfe109ec421dab9be2d\n",
            "  Building wheel for seqeval (setup.py) ... \u001b[?25l\u001b[?25hdone\n",
            "  Created wheel for seqeval: filename=seqeval-0.0.19-cp36-none-any.whl size=9919 sha256=ff19b7ab6dc369ab42294824f6156a2c3164354a009d6bcae659a692c7488309\n",
            "  Stored in directory: /root/.cache/pip/wheels/8d/1f/bf/1198beceed805a2099060975f6281d1b01046dd279e19c97be\n",
            "  Building wheel for keras-bert (setup.py) ... \u001b[?25l\u001b[?25hdone\n",
            "  Created wheel for keras-bert: filename=keras_bert-0.86.0-cp36-none-any.whl size=34145 sha256=ed67e920df6afca4472e2eee8e2e42939e8c93d8b3722e3db2fc0f7635a9c4cb\n",
            "  Stored in directory: /root/.cache/pip/wheels/66/f0/b1/748128b58562fc9e31b907bb5e2ab6a35eb37695e83911236b\n",
            "  Building wheel for sacremoses (setup.py) ... \u001b[?25l\u001b[?25hdone\n",
            "  Created wheel for sacremoses: filename=sacremoses-0.0.43-cp36-none-any.whl size=893261 sha256=7af83a918fdb84cdacb951a99f65b9a36f0262762a6bdc9fb8c58b9c02bb26ce\n",
            "  Stored in directory: /root/.cache/pip/wheels/29/3c/fd/7ce5c3f0666dab31a50123635e6fb5e19ceb42ce38d4e58f45\n",
            "  Building wheel for keras-transformer (setup.py) ... \u001b[?25l\u001b[?25hdone\n",
            "  Created wheel for keras-transformer: filename=keras_transformer-0.38.0-cp36-none-any.whl size=12944 sha256=d92a6bbceac97f57b951146590c79a47636938a68d03896a45949978f1f7c74d\n",
            "  Stored in directory: /root/.cache/pip/wheels/e5/fb/3a/37b2b9326c799aa010ae46a04ddb04f320d8c77c0b7e837f4e\n",
            "  Building wheel for keras-pos-embd (setup.py) ... \u001b[?25l\u001b[?25hdone\n",
            "  Created wheel for keras-pos-embd: filename=keras_pos_embd-0.11.0-cp36-none-any.whl size=7553 sha256=028bd8237a769245938bbe7ae317ed8579ad9c53848e21c03b434a41a4466aa2\n",
            "  Stored in directory: /root/.cache/pip/wheels/5b/a1/a0/ce6b1d49ba1a9a76f592e70cf297b05c96bc9f418146761032\n",
            "  Building wheel for keras-multi-head (setup.py) ... \u001b[?25l\u001b[?25hdone\n",
            "  Created wheel for keras-multi-head: filename=keras_multi_head-0.27.0-cp36-none-any.whl size=15612 sha256=d5efacf47158945508bddfeb33e12a29425a38af2e72547edd8e8e602e8599f0\n",
            "  Stored in directory: /root/.cache/pip/wheels/b5/b4/49/0a0c27dcb93c13af02fea254ff51d1a43a924dd4e5b7a7164d\n",
            "  Building wheel for keras-layer-normalization (setup.py) ... \u001b[?25l\u001b[?25hdone\n",
            "  Created wheel for keras-layer-normalization: filename=keras_layer_normalization-0.14.0-cp36-none-any.whl size=5267 sha256=67fb5d2d58dfd282acd174f309aad3f7eddacacb35e95cfa1aacc0d7615323c1\n",
            "  Stored in directory: /root/.cache/pip/wheels/54/80/22/a638a7d406fd155e507aa33d703e3fa2612b9eb7bb4f4fe667\n",
            "  Building wheel for keras-position-wise-feed-forward (setup.py) ... \u001b[?25l\u001b[?25hdone\n",
            "  Created wheel for keras-position-wise-feed-forward: filename=keras_position_wise_feed_forward-0.6.0-cp36-none-any.whl size=5625 sha256=90061106201822ae37c47299526a1cfe6a6f62851e141e083ab4dbf3f1c74675\n",
            "  Stored in directory: /root/.cache/pip/wheels/39/e2/e2/3514fef126a00574b13bc0b9e23891800158df3a3c19c96e3b\n",
            "  Building wheel for keras-embed-sim (setup.py) ... \u001b[?25l\u001b[?25hdone\n",
            "  Created wheel for keras-embed-sim: filename=keras_embed_sim-0.8.0-cp36-none-any.whl size=4559 sha256=031a891d5833f18ef7c9af6ddf5f0cf20a1ccbb90cf77de4e38d4861d4e9273d\n",
            "  Stored in directory: /root/.cache/pip/wheels/49/45/8b/c111f6cc8bec253e984677de73a6f4f5d2f1649f42aac191c8\n",
            "  Building wheel for keras-self-attention (setup.py) ... \u001b[?25l\u001b[?25hdone\n",
            "  Created wheel for keras-self-attention: filename=keras_self_attention-0.46.0-cp36-none-any.whl size=17278 sha256=710950d9e13c88824c143ab863299cba5301f5e875d5878fa191b58ec5954da7\n",
            "  Stored in directory: /root/.cache/pip/wheels/d2/2e/80/fec4c05eb23c8e13b790e26d207d6e0ffe8013fad8c6bdd4d2\n",
            "Successfully built ktrain langdetect syntok seqeval keras-bert sacremoses keras-transformer keras-pos-embd keras-multi-head keras-layer-normalization keras-position-wise-feed-forward keras-embed-sim keras-self-attention\n",
            "\u001b[31mERROR: transformers 3.5.1 has requirement sentencepiece==0.1.91, but you'll have sentencepiece 0.1.95 which is incompatible.\u001b[0m\n",
            "Installing collected packages: threadpoolctl, scikit-learn, langdetect, cchardet, syntok, seqeval, sacremoses, sentencepiece, tokenizers, transformers, keras-pos-embd, keras-self-attention, keras-multi-head, keras-layer-normalization, keras-position-wise-feed-forward, keras-embed-sim, keras-transformer, keras-bert, whoosh, ktrain\n",
            "  Found existing installation: scikit-learn 0.22.2.post1\n",
            "    Uninstalling scikit-learn-0.22.2.post1:\n",
            "      Successfully uninstalled scikit-learn-0.22.2.post1\n",
            "Successfully installed cchardet-2.1.7 keras-bert-0.86.0 keras-embed-sim-0.8.0 keras-layer-normalization-0.14.0 keras-multi-head-0.27.0 keras-pos-embd-0.11.0 keras-position-wise-feed-forward-0.6.0 keras-self-attention-0.46.0 keras-transformer-0.38.0 ktrain-0.25.4 langdetect-1.0.8 sacremoses-0.0.43 scikit-learn-0.23.2 sentencepiece-0.1.95 seqeval-0.0.19 syntok-1.3.1 threadpoolctl-2.1.0 tokenizers-0.9.3 transformers-3.5.1 whoosh-2.7.4\n"
          ],
          "name": "stdout"
        }
      ]
    },
    {
      "cell_type": "code",
      "metadata": {
        "id": "SZqWVHlBVbSb"
      },
      "source": [
        "#df_valid = df_comb.sample(frac = 0.2, random_state = 42)"
      ],
      "execution_count": null,
      "outputs": []
    },
    {
      "cell_type": "code",
      "metadata": {
        "id": "pmzu45oEVbSc"
      },
      "source": [
        "#df_valid.to_pickle('C:/users/Combined_valid.pkl')"
      ],
      "execution_count": null,
      "outputs": []
    },
    {
      "cell_type": "code",
      "metadata": {
        "id": "bsdnFvHPVbSc"
      },
      "source": [
        "#df_train = df_comb.drop(df_valid.index)"
      ],
      "execution_count": null,
      "outputs": []
    },
    {
      "cell_type": "code",
      "metadata": {
        "id": "9EFC-4XqVbSc"
      },
      "source": [
        "#df_train.to_pickle('C:/users/Combined_train.pkl')"
      ],
      "execution_count": null,
      "outputs": []
    },
    {
      "cell_type": "code",
      "metadata": {
        "id": "BpX2oKjko-Hj"
      },
      "source": [
        "import pandas as pd\n",
        "import numpy as np\n",
        "import matplotlib.pyplot as plt\n",
        "import pickle"
      ],
      "execution_count": 4,
      "outputs": []
    },
    {
      "cell_type": "code",
      "metadata": {
        "id": "sSVqixArVbSc"
      },
      "source": [
        "df_train = pd.read_pickle('/content/drive/MyDrive/Combined_train.pkl')\n",
        "df_valid = pd.read_pickle('/content/drive/MyDrive/Combined_valid.pkl')"
      ],
      "execution_count": 5,
      "outputs": []
    },
    {
      "cell_type": "code",
      "metadata": {
        "id": "dzg4rZjCo7Lp"
      },
      "source": [
        "import tensorflow as tf\n",
        "from sklearn import metrics\n",
        "import ktrain\n",
        "from ktrain import text\n"
      ],
      "execution_count": 6,
      "outputs": []
    },
    {
      "cell_type": "code",
      "metadata": {
        "colab": {
          "base_uri": "https://localhost:8080/"
        },
        "id": "iVeHNambcY8J",
        "outputId": "148e86d1-5610-43a5-9f7e-9538aa753a53"
      },
      "source": [
        "#print(tf.__version__)"
      ],
      "execution_count": 2,
      "outputs": [
        {
          "output_type": "stream",
          "text": [
            "2.4.1\n"
          ],
          "name": "stdout"
        }
      ]
    },
    {
      "cell_type": "code",
      "metadata": {
        "colab": {
          "base_uri": "https://localhost:8080/",
          "height": 394,
          "referenced_widgets": [
            "9c5c5d7ed09a478197e354b1d3b2f4ee",
            "f91f4cb5daf049899e7b857fa98b4184",
            "86836db4392a4d2b83ce5e933ec499e6",
            "a6b7c577aea740cb8f493e514ec0c683",
            "7275905099f14c2496770f9948937385",
            "91b91ce62702485e8684745efb1c9fec",
            "ecac11571db94a228969edf426a48654",
            "93ad9fe4f19a43b79eee36c508b19b3b",
            "a65610eabed84806b29a3d2e074bf97b",
            "93fbb68c4b6342719b3b95c5b1866f5c",
            "f24c93f2d5a64a5c967b742c1f7f22b1",
            "5718e66998ce4f1c9361de16c0def6e1",
            "974b6b8c1d5845fda99d3b6bee1164b1",
            "9ea94991e79240468e597aa9d10a35f1",
            "4520780171634ce0ab352b584f05bac5",
            "836244e1900544a89dad17c9febe047a",
            "e1bedba4fa504416afaf16fd6432f160",
            "4a6ac220cf774da39412a7ca57eb6e5a",
            "de79d655826341758726c9a985e1b3d7",
            "d04f2e030cfa4b12b257c48a4624f065",
            "4a28d272534a4415aa235638f1615b2a",
            "d342cd2f3e97475b9f98531ad8d95f3a",
            "5e4c7f9d59f34118bab5bdc1339caef6",
            "6f517ca5c3eb4ae6beaf921bdee01e57"
          ]
        },
        "id": "4X8Mcj8HVbSd",
        "outputId": "8fa0539c-2fa5-4d72-e32e-8111503c956a"
      },
      "source": [
        "(train, val, preproc) = text.texts_from_df(train_df=df_train, text_column='Abstract', label_columns='AbL',\n",
        "                                           val_df = df_valid,\n",
        "                                           maxlen = 512, #length of each doc aligned to 512\n",
        "                                           preprocess_mode = 'distilbert')"
      ],
      "execution_count": 7,
      "outputs": [
        {
          "output_type": "display_data",
          "data": {
            "application/vnd.jupyter.widget-view+json": {
              "model_id": "9c5c5d7ed09a478197e354b1d3b2f4ee",
              "version_minor": 0,
              "version_major": 2
            },
            "text/plain": [
              "HBox(children=(FloatProgress(value=0.0, description='Downloading', max=442.0, style=ProgressStyle(description_…"
            ]
          },
          "metadata": {
            "tags": []
          }
        },
        {
          "output_type": "stream",
          "text": [
            "\n",
            "preprocessing train...\n",
            "language: en\n",
            "train sequence lengths:\n",
            "\tmean : 179\n",
            "\t95percentile : 294\n",
            "\t99percentile : 579\n"
          ],
          "name": "stdout"
        },
        {
          "output_type": "display_data",
          "data": {
            "application/vnd.jupyter.widget-view+json": {
              "model_id": "a65610eabed84806b29a3d2e074bf97b",
              "version_minor": 0,
              "version_major": 2
            },
            "text/plain": [
              "HBox(children=(FloatProgress(value=0.0, description='Downloading', max=231508.0, style=ProgressStyle(descripti…"
            ]
          },
          "metadata": {
            "tags": []
          }
        },
        {
          "output_type": "stream",
          "text": [
            "\n"
          ],
          "name": "stdout"
        },
        {
          "output_type": "display_data",
          "data": {
            "application/vnd.jupyter.widget-view+json": {
              "model_id": "e1bedba4fa504416afaf16fd6432f160",
              "version_minor": 0,
              "version_major": 2
            },
            "text/plain": [
              "HBox(children=(FloatProgress(value=0.0, description='Downloading', max=466062.0, style=ProgressStyle(descripti…"
            ]
          },
          "metadata": {
            "tags": []
          }
        },
        {
          "output_type": "stream",
          "text": [
            "\n"
          ],
          "name": "stdout"
        },
        {
          "output_type": "display_data",
          "data": {
            "text/html": [
              ""
            ],
            "text/plain": [
              "<IPython.core.display.HTML object>"
            ]
          },
          "metadata": {
            "tags": []
          }
        },
        {
          "output_type": "stream",
          "text": [
            "Is Multi-Label? False\n",
            "preprocessing test...\n",
            "language: en\n",
            "test sequence lengths:\n",
            "\tmean : 164\n",
            "\t95percentile : 229\n",
            "\t99percentile : 288\n"
          ],
          "name": "stdout"
        },
        {
          "output_type": "display_data",
          "data": {
            "text/html": [
              ""
            ],
            "text/plain": [
              "<IPython.core.display.HTML object>"
            ]
          },
          "metadata": {
            "tags": []
          }
        }
      ]
    },
    {
      "cell_type": "code",
      "metadata": {
        "colab": {
          "base_uri": "https://localhost:8080/",
          "height": 119,
          "referenced_widgets": [
            "6a0d890c46424090a9e8c35f02d3b7ff",
            "b8ed21e10ed34b1d8977f8b928b37980",
            "9a4f5695b00d4260bc260e5472774b37",
            "ab5072012f764cd381e04da66799d882",
            "d53fcf0500674c2c88855cc441ca89fc",
            "32cb94fe45f54de69a939e9cfca54189",
            "64de03ec9b474f9a9835b24ccedffdcd",
            "f2ae97ca2ec4402cad8fd98bd9021e97"
          ]
        },
        "id": "T0FDQJ3OVbSe",
        "outputId": "8738e526-cb50-4fd4-fab1-ea0607fc4db0"
      },
      "source": [
        "bertmodel = text.text_classifier(name = 'distilbert', train_data = train, preproc=preproc)"
      ],
      "execution_count": 8,
      "outputs": [
        {
          "output_type": "stream",
          "text": [
            "Is Multi-Label? False\n",
            "maxlen is 512\n"
          ],
          "name": "stdout"
        },
        {
          "output_type": "display_data",
          "data": {
            "application/vnd.jupyter.widget-view+json": {
              "model_id": "6a0d890c46424090a9e8c35f02d3b7ff",
              "version_minor": 0,
              "version_major": 2
            },
            "text/plain": [
              "HBox(children=(FloatProgress(value=0.0, description='Downloading', max=363423424.0, style=ProgressStyle(descri…"
            ]
          },
          "metadata": {
            "tags": []
          }
        },
        {
          "output_type": "stream",
          "text": [
            "\n",
            "done.\n"
          ],
          "name": "stdout"
        }
      ]
    },
    {
      "cell_type": "code",
      "metadata": {
        "id": "lZjHsm73VbSe"
      },
      "source": [
        "learner = ktrain.get_learner(model = bertmodel,\n",
        "                             train_data = train,\n",
        "                             val_data = val,\n",
        "                             batch_size = 6)"
      ],
      "execution_count": 9,
      "outputs": []
    },
    {
      "cell_type": "code",
      "metadata": {
        "colab": {
          "base_uri": "https://localhost:8080/"
        },
        "id": "ht4EN-cHVbSe",
        "outputId": "7dfcd196-cb1c-4a15-9cd3-8f91d0c2e769"
      },
      "source": [
        "learner.fit_onecycle(lr = 2e-5, epochs=10)"
      ],
      "execution_count": 10,
      "outputs": [
        {
          "output_type": "stream",
          "text": [
            "\n",
            "\n",
            "begin training using onecycle policy with max lr of 2e-05...\n",
            "Epoch 1/10\n",
            "53/53 [==============================] - 29s 397ms/step - loss: 0.6922 - accuracy: 0.5205 - val_loss: 0.6879 - val_accuracy: 0.5316\n",
            "Epoch 2/10\n",
            "53/53 [==============================] - 20s 371ms/step - loss: 0.6803 - accuracy: 0.5750 - val_loss: 0.6742 - val_accuracy: 0.5316\n",
            "Epoch 3/10\n",
            "53/53 [==============================] - 20s 376ms/step - loss: 0.5951 - accuracy: 0.7082 - val_loss: 0.6406 - val_accuracy: 0.6329\n",
            "Epoch 4/10\n",
            "53/53 [==============================] - 20s 381ms/step - loss: 0.5224 - accuracy: 0.7796 - val_loss: 0.5760 - val_accuracy: 0.7215\n",
            "Epoch 5/10\n",
            "53/53 [==============================] - 20s 385ms/step - loss: 0.2914 - accuracy: 0.8883 - val_loss: 0.4968 - val_accuracy: 0.7215\n",
            "Epoch 6/10\n",
            "53/53 [==============================] - 21s 390ms/step - loss: 0.2450 - accuracy: 0.9146 - val_loss: 0.5574 - val_accuracy: 0.7848\n",
            "Epoch 7/10\n",
            "53/53 [==============================] - 21s 394ms/step - loss: 0.1655 - accuracy: 0.9537 - val_loss: 0.6265 - val_accuracy: 0.7595\n",
            "Epoch 8/10\n",
            "53/53 [==============================] - 21s 397ms/step - loss: 0.0840 - accuracy: 0.9652 - val_loss: 0.6498 - val_accuracy: 0.7975\n",
            "Epoch 9/10\n",
            "53/53 [==============================] - 21s 396ms/step - loss: 0.0385 - accuracy: 0.9956 - val_loss: 0.6879 - val_accuracy: 0.7975\n",
            "Epoch 10/10\n",
            "53/53 [==============================] - 21s 396ms/step - loss: 0.0332 - accuracy: 0.9958 - val_loss: 0.7115 - val_accuracy: 0.7975\n"
          ],
          "name": "stdout"
        },
        {
          "output_type": "execute_result",
          "data": {
            "text/plain": [
              "<tensorflow.python.keras.callbacks.History at 0x7f60d738f6a0>"
            ]
          },
          "metadata": {
            "tags": []
          },
          "execution_count": 10
        }
      ]
    },
    {
      "cell_type": "code",
      "metadata": {
        "id": "H7NcE2qFVbSf"
      },
      "source": [
        "predictor = ktrain.get_predictor(learner.model, preproc)"
      ],
      "execution_count": 24,
      "outputs": []
    },
    {
      "cell_type": "code",
      "metadata": {
        "id": "So2SeTkAeAmu"
      },
      "source": [
        ""
      ],
      "execution_count": null,
      "outputs": []
    },
    {
      "cell_type": "code",
      "metadata": {
        "id": "YeMcfPDSVbSg"
      },
      "source": [
        "text=df_valid['Abstract']\n",
        "data=list(text)"
      ],
      "execution_count": 25,
      "outputs": []
    },
    {
      "cell_type": "code",
      "metadata": {
        "id": "6Cw1B6ZKVbSg"
      },
      "source": [
        "#data"
      ],
      "execution_count": null,
      "outputs": []
    },
    {
      "cell_type": "code",
      "metadata": {
        "id": "oocsRf5YVbSg"
      },
      "source": [
        "###predictor.get_classes()"
      ],
      "execution_count": null,
      "outputs": []
    },
    {
      "cell_type": "code",
      "metadata": {
        "id": "POn-GqzIVbSh"
      },
      "source": [
        "y_pred = predictor.predict(data, return_proba=True)"
      ],
      "execution_count": 26,
      "outputs": []
    },
    {
      "cell_type": "code",
      "metadata": {
        "id": "hH3XQRx3VbSh"
      },
      "source": [
        "df_valid.AbL = df_valid.AbL.astype('int')\n",
        "df_train.AbL = df_train.AbL.astype('int')"
      ],
      "execution_count": 27,
      "outputs": []
    },
    {
      "cell_type": "code",
      "metadata": {
        "id": "mtS9K_GWVbSi"
      },
      "source": [
        "y_test = df_valid['AbL']"
      ],
      "execution_count": 28,
      "outputs": []
    },
    {
      "cell_type": "code",
      "metadata": {
        "colab": {
          "base_uri": "https://localhost:8080/"
        },
        "id": "yvxqIa9tVbSi",
        "outputId": "26bed30e-97e1-486e-df28-08ef8aa29d6d"
      },
      "source": [
        "fpr, tpr, thresholds = metrics.roc_curve(y_test, y_pred[:,1])\n",
        "auc = metrics.auc(fpr, tpr)\n",
        "#plt.plot(fpr, tpr)\n",
        "auc"
      ],
      "execution_count": 29,
      "outputs": [
        {
          "output_type": "execute_result",
          "data": {
            "text/plain": [
              "0.8622908622908623"
            ]
          },
          "metadata": {
            "tags": []
          },
          "execution_count": 29
        }
      ]
    },
    {
      "cell_type": "code",
      "metadata": {
        "id": "wNONvzE_VbSj"
      },
      "source": [
        ""
      ],
      "execution_count": null,
      "outputs": []
    },
    {
      "cell_type": "code",
      "metadata": {
        "id": "1zCRNyqYVbSk"
      },
      "source": [
        "#### Alternative metric reports ####"
      ],
      "execution_count": null,
      "outputs": []
    },
    {
      "cell_type": "code",
      "metadata": {
        "colab": {
          "base_uri": "https://localhost:8080/",
          "height": 176
        },
        "id": "GsYUrLt0VbSk",
        "outputId": "1e8f706b-5ec9-4917-ff86-09fceb4b1ca6"
      },
      "source": [
        "X_test = df_valid.loc [:,'Abstract']\n",
        "X_test[78]"
      ],
      "execution_count": 12,
      "outputs": [
        {
          "output_type": "execute_result",
          "data": {
            "application/vnd.google.colaboratory.intrinsic+json": {
              "type": "string"
            },
            "text/plain": [
              "'aim study was investigate effects yoga quality life patients cancer patients were yoga program were exercise group years age going treatment cancer were included study physical characteristics patients were recorded general physiotherapy assessments performed sessions classical yoga program including warming breathing exercises asanas relaxation supine position meditation sessions classical exercise program were applied participants yoga exercise program quality life assessments patients were conducted nottingham health profile nhp patients depression levels were assessed beck depression inventory level pain fatigue sleep quality was evaluated visual analog scale vas was found patients quality life scores yoga exercise program were better scores obtained yoga exercise program p post treatment data groups were compared terms nhp subcategories er si s pa total scores nhp were found significantly different favor group p el p scores nhp were different groups p groups were compared terms depression pain fatigue sleep quality statistically significant differences were found parameters pre post treatment values groups p post treatment values groups were compared fatigue sleep quality were found statistically different groups favor group p concluded yoga valuable helping diminish depression pain fatigue helps cancer patients perform daily routine activities increases quality life elderly patients breast cancer'"
            ]
          },
          "metadata": {
            "tags": []
          },
          "execution_count": 12
        }
      ]
    },
    {
      "cell_type": "code",
      "metadata": {
        "id": "5CY961diVbSk"
      },
      "source": [
        "X_test = df_valid.loc [:,'Abstract']\n",
        "\n",
        "# X_test.keys()\n",
        "X_test_BERT = []\n",
        "for keys in X_test.keys():\n",
        "    X_test_BERT.append(X_test[keys])\n",
        "#X_test_BERT[0]"
      ],
      "execution_count": 13,
      "outputs": []
    },
    {
      "cell_type": "code",
      "metadata": {
        "collapsed": true,
        "id": "jmlAXbHQVbSl"
      },
      "source": [
        "y_pred_BERT = predictor.predict(X_test_BERT, return_proba=True)"
      ],
      "execution_count": 14,
      "outputs": []
    },
    {
      "cell_type": "code",
      "metadata": {
        "id": "txfW0b5yVbSl"
      },
      "source": [
        "predictor.save('/content/drive/MyDrive/BERT_HS651CAMs_pred')"
      ],
      "execution_count": 15,
      "outputs": []
    },
    {
      "cell_type": "code",
      "metadata": {
        "id": "_x9I-mCVi_yL"
      },
      "source": [
        "y_test = df_valid['AbL']"
      ],
      "execution_count": 18,
      "outputs": []
    },
    {
      "cell_type": "code",
      "metadata": {
        "colab": {
          "base_uri": "https://localhost:8080/"
        },
        "id": "KO2tPpDpVbSl",
        "outputId": "074c1b43-9ba2-4071-cb41-80e11a3ab802"
      },
      "source": [
        "y_pred_BERT"
      ],
      "execution_count": 16,
      "outputs": [
        {
          "output_type": "execute_result",
          "data": {
            "text/plain": [
              "array([[0.027872  , 0.972128  ],\n",
              "       [0.01458724, 0.9854128 ],\n",
              "       [0.0147657 , 0.9852343 ],\n",
              "       [0.01407404, 0.985926  ],\n",
              "       [0.02267958, 0.97732043],\n",
              "       [0.9826984 , 0.01730168],\n",
              "       [0.99097824, 0.00902181],\n",
              "       [0.01462934, 0.98537064],\n",
              "       [0.03579683, 0.9642032 ],\n",
              "       [0.08695722, 0.9130428 ],\n",
              "       [0.99222976, 0.00777019],\n",
              "       [0.9850632 , 0.01493685],\n",
              "       [0.01577121, 0.98422885],\n",
              "       [0.92819494, 0.07180506],\n",
              "       [0.98437554, 0.01562452],\n",
              "       [0.9912888 , 0.00871122],\n",
              "       [0.0688794 , 0.93112063],\n",
              "       [0.13257907, 0.867421  ],\n",
              "       [0.01889271, 0.98110735],\n",
              "       [0.9903486 , 0.00965142],\n",
              "       [0.9872873 , 0.01271269],\n",
              "       [0.98900175, 0.01099824],\n",
              "       [0.04100728, 0.9589928 ],\n",
              "       [0.99095976, 0.00904024],\n",
              "       [0.9895064 , 0.01049355],\n",
              "       [0.02203321, 0.9779668 ],\n",
              "       [0.9102021 , 0.08979792],\n",
              "       [0.0199863 , 0.9800137 ],\n",
              "       [0.99038005, 0.00962   ],\n",
              "       [0.6145859 , 0.3854141 ],\n",
              "       [0.06950571, 0.9304943 ],\n",
              "       [0.99130857, 0.00869144],\n",
              "       [0.12183212, 0.87816787],\n",
              "       [0.01695102, 0.98304904],\n",
              "       [0.9891706 , 0.01082942],\n",
              "       [0.9852959 , 0.01470417],\n",
              "       [0.01698299, 0.983017  ],\n",
              "       [0.6407472 , 0.35925284],\n",
              "       [0.9903178 , 0.0096822 ],\n",
              "       [0.15740803, 0.84259194],\n",
              "       [0.12424558, 0.8757544 ],\n",
              "       [0.99219793, 0.00780203],\n",
              "       [0.98801464, 0.0119854 ],\n",
              "       [0.99213856, 0.0078614 ],\n",
              "       [0.9922978 , 0.00770223],\n",
              "       [0.9530527 , 0.04694726],\n",
              "       [0.90092593, 0.0990741 ],\n",
              "       [0.01452356, 0.98547643],\n",
              "       [0.9917452 , 0.00825483],\n",
              "       [0.01540885, 0.9845911 ],\n",
              "       [0.1247134 , 0.87528664],\n",
              "       [0.9910781 , 0.00892183],\n",
              "       [0.92088383, 0.07911622],\n",
              "       [0.9033185 , 0.09668142],\n",
              "       [0.96275806, 0.03724196],\n",
              "       [0.01894265, 0.9810573 ],\n",
              "       [0.0310047 , 0.96899533],\n",
              "       [0.9774684 , 0.02253164],\n",
              "       [0.8871572 , 0.11284279],\n",
              "       [0.14901958, 0.85098046],\n",
              "       [0.9911014 , 0.00889855],\n",
              "       [0.99205434, 0.00794562],\n",
              "       [0.02619628, 0.9738037 ],\n",
              "       [0.9916536 , 0.00834645],\n",
              "       [0.9827822 , 0.01721784],\n",
              "       [0.02609916, 0.9739008 ],\n",
              "       [0.74486166, 0.2551384 ],\n",
              "       [0.9889683 , 0.01103171],\n",
              "       [0.03467327, 0.9653267 ],\n",
              "       [0.01536009, 0.9846399 ],\n",
              "       [0.01552042, 0.9844796 ],\n",
              "       [0.02485668, 0.9751433 ],\n",
              "       [0.9878814 , 0.01211858],\n",
              "       [0.02316468, 0.97683525],\n",
              "       [0.9800986 , 0.01990146],\n",
              "       [0.04455974, 0.9554403 ],\n",
              "       [0.03580974, 0.9641903 ],\n",
              "       [0.02354043, 0.97645956],\n",
              "       [0.02077434, 0.97922564]], dtype=float32)"
            ]
          },
          "metadata": {
            "tags": []
          },
          "execution_count": 16
        }
      ]
    },
    {
      "cell_type": "code",
      "metadata": {
        "colab": {
          "base_uri": "https://localhost:8080/"
        },
        "id": "pMOoeZZOVbSm",
        "outputId": "c8b4b863-307d-4332-fad9-ec696dcfdd95"
      },
      "source": [
        "fpr, tpr, thresholds = metrics.roc_curve(y_test, y_pred_BERT[:,1])\n",
        "auc = metrics.auc(fpr, tpr)\n",
        "auc"
      ],
      "execution_count": 19,
      "outputs": [
        {
          "output_type": "execute_result",
          "data": {
            "text/plain": [
              "0.8622908622908623"
            ]
          },
          "metadata": {
            "tags": []
          },
          "execution_count": 19
        }
      ]
    },
    {
      "cell_type": "code",
      "metadata": {
        "id": "uiNB9fwTVbSm"
      },
      "source": [
        "# Load saved model"
      ],
      "execution_count": null,
      "outputs": []
    },
    {
      "cell_type": "code",
      "metadata": {
        "id": "jmbmkpwNVbSm"
      },
      "source": [
        "saved_predictor = ktrain.load_predictor('/content/drive/MyDrive/BERT_HS651CAMs_pred')"
      ],
      "execution_count": 20,
      "outputs": []
    },
    {
      "cell_type": "code",
      "metadata": {
        "id": "xmg6yeL0VbSm"
      },
      "source": [
        "y_pred_BERT1 = saved_predictor.predict(X_test_BERT, return_proba=True)"
      ],
      "execution_count": 21,
      "outputs": []
    },
    {
      "cell_type": "code",
      "metadata": {
        "id": "engYu8WfVbSn"
      },
      "source": [
        "y_pred_BERT1 "
      ],
      "execution_count": null,
      "outputs": []
    },
    {
      "cell_type": "code",
      "metadata": {
        "collapsed": true,
        "colab": {
          "base_uri": "https://localhost:8080/"
        },
        "id": "R0t4Mw0oVbSn",
        "outputId": "b8154892-4ffa-477e-91a9-72d4679f7d6f"
      },
      "source": [
        "fpr, tpr, thresholds = metrics.roc_curve(y_test, y_pred_BERT1[:,1])\n",
        "auc = metrics.auc(fpr, tpr)\n",
        "auc"
      ],
      "execution_count": 23,
      "outputs": [
        {
          "output_type": "execute_result",
          "data": {
            "text/plain": [
              "0.8622908622908623"
            ]
          },
          "metadata": {
            "tags": []
          },
          "execution_count": 23
        }
      ]
    },
    {
      "cell_type": "code",
      "metadata": {
        "id": "J4N4krRJVbSo"
      },
      "source": [
        ""
      ],
      "execution_count": null,
      "outputs": []
    }
  ]
}