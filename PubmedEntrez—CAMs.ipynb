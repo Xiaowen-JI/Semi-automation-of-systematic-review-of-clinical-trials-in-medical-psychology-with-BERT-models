{
  "nbformat": 4,
  "nbformat_minor": 0,
  "metadata": {
    "kernelspec": {
      "display_name": "Python 3",
      "language": "python",
      "name": "python3"
    },
    "language_info": {
      "codemirror_mode": {
        "name": "ipython",
        "version": 3
      },
      "file_extension": ".py",
      "mimetype": "text/x-python",
      "name": "python",
      "nbconvert_exporter": "python",
      "pygments_lexer": "ipython3",
      "version": "3.7.6"
    },
    "colab": {
      "name": "PubmedEntrez—CAMs.ipynb",
      "provenance": []
    }
  },
  "cells": [
    {
      "cell_type": "code",
      "metadata": {
        "id": "dad21-Vmuotu",
        "outputId": "d27497cb-1aa0-4638-8207-e4631d056e5f"
      },
      "source": [
        "pip install biopython"
      ],
      "execution_count": null,
      "outputs": [
        {
          "output_type": "stream",
          "text": [
            "Requirement already satisfied: biopython in c:\\anocoda\\lib\\site-packages (1.78)\n",
            "Requirement already satisfied: numpy in c:\\anocoda\\lib\\site-packages (from biopython) (1.18.1)\n",
            "Note: you may need to restart the kernel to use updated packages.\n"
          ],
          "name": "stdout"
        }
      ]
    },
    {
      "cell_type": "code",
      "metadata": {
        "id": "lz9ntNYNuot2"
      },
      "source": [
        "import pandas as pd\n",
        "import json\n",
        "import re\n",
        "import numpy as np\n",
        "#import csv"
      ],
      "execution_count": null,
      "outputs": []
    },
    {
      "cell_type": "code",
      "metadata": {
        "id": "CLTqxFWAuot3"
      },
      "source": [
        "# Biopython entrez"
      ],
      "execution_count": null,
      "outputs": []
    },
    {
      "cell_type": "code",
      "metadata": {
        "id": "q1hVmn-wuot3"
      },
      "source": [
        "from Bio import Entrez\n",
        "\n",
        "def search(query): # scraping\n",
        "    Entrez.email = 'xji1@dons.usfca.edu'\n",
        "    handle = Entrez.esearch(db='pubmed', \n",
        "                            sort='relevance',\n",
        "                            retmax='245',\n",
        "                            retmode='xml', \n",
        "                            term=query)\n",
        "    results = Entrez.read(handle)\n",
        "    return results\n",
        "\n",
        "def fetch_details(id_list):  \n",
        "    ids = ','.join(id_list)\n",
        "    Entrez.email = 'xji1@dons.usfca.edu'\n",
        "    handle = Entrez.efetch(db='pubmed',\n",
        "                           retmode='xml',\n",
        "                           id=ids)\n",
        "    results = Entrez.read(handle)\n",
        "    return results\n",
        "\n",
        "if __name__ == '__main__': # parsing \n",
        "    results = search(['randomized control* [abstract] AND (insomnia OR sleep) AND (depressi* OR anxiety) AND (Herb OR mind-body OR acup* OR music OR mindfulness OR meditation OR Tai ji OR tai chi OR qigong OR yoga OR hypnotherapy OR massage OR manipulation OR traditional Chinese Medicine OR homeopathy OR relaxation OR guided imagery) AND 2010:2021[Date - Publication]'])\n",
        "    id_list = results['IdList'] # a list of UIDs from fetching\n",
        "    papers = fetch_details(id_list)\n",
        "    for i, paper in enumerate(papers['PubmedArticle']):\n",
        "        print(\"%d) %s\" % (i+1, paper['MedlineCitation']['Article']['ArticleTitle']))"
      ],
      "execution_count": null,
      "outputs": []
    },
    {
      "cell_type": "code",
      "metadata": {
        "id": "3DZtvY8quot4"
      },
      "source": [
        "# get journal name from API records\n",
        "CAMJournal=[]\n",
        "for i, paper in enumerate(results['PubmedArticle']):\n",
        "    try:\n",
        "        if 'ISOAbbreviation' in paper['MedlineCitation']['Article']['Journal']:\n",
        "          CAMJournal.append(paper['MedlineCitation']['Article']['Journal']['ISOAbbreviation'])\n",
        "        else:\n",
        "          CAMJournal.append('NaN')\n",
        "\n",
        "    except KeyError as e:\n",
        "        CAMJournal.append('NaN')\n",
        "CAMJournal"
      ],
      "execution_count": null,
      "outputs": []
    },
    {
      "cell_type": "code",
      "metadata": {
        "id": "Cn3L7L_euot5"
      },
      "source": [
        "# get abstracts\n",
        "CAMAb=[]\n",
        "for i, paper in enumerate(results['PubmedArticle']):\n",
        "    try:\n",
        "        if 'AbstractText' in paper['MedlineCitation']['Article']['Abstract']:\n",
        "            CAMAb.append(paper['MedlineCitation']['Article']['Abstract']['AbstractText'])\n",
        "        else:\n",
        "            CAMAb.append('NaN')\n",
        "    except KeyError as e:\n",
        "        CAMAb.append('NaN')\n",
        "CAMAb"
      ],
      "execution_count": null,
      "outputs": []
    },
    {
      "cell_type": "code",
      "metadata": {
        "scrolled": true,
        "id": "kzMXWeBCuot6"
      },
      "source": [
        "# get titles\n",
        "CAMtitles=[]\n",
        "for i, paper in enumerate(results['PubmedArticle']):\n",
        "    try:\n",
        "        if 'ArticleTitle' in paper['MedlineCitation']['Article']:\n",
        "            CAMtitles.append(paper['MedlineCitation']['Article']['ArticleTitle'])\n",
        "        else:\n",
        "           CAMtitles.append('NaN')\n",
        "    except KeyError as e:\n",
        "           CAMtitles.append('NaN')    \n",
        "CAMtitles"
      ],
      "execution_count": null,
      "outputs": []
    },
    {
      "cell_type": "code",
      "metadata": {
        "id": "jL84AMUB35eF"
      },
      "source": [
        "# Check if journal, abstract and title aligns \n",
        "len(CAMJournal)\n",
        "len(CAMAb)\n",
        "len(CAMtitles)"
      ],
      "execution_count": null,
      "outputs": []
    },
    {
      "cell_type": "code",
      "metadata": {
        "scrolled": true,
        "id": "uPPlQNLQuot6"
      },
      "source": [
        "combdata= list(zip(CAMtitles, CAMJournal,CAMAb)) \n",
        "df = pd.DataFrame(combdata,columns = ['Title', 'JournalInfo','Abstract']) \n",
        "len(df)"
      ],
      "execution_count": null,
      "outputs": []
    },
    {
      "cell_type": "code",
      "metadata": {
        "id": "mpUYwty_uot7",
        "outputId": "8291dfcd-7cc8-4604-ac38-eaa4e11f32b5"
      },
      "source": [
        "df['Abstract'][1]"
      ],
      "execution_count": null,
      "outputs": [
        {
          "output_type": "execute_result",
          "data": {
            "text/plain": [
              "[StringElement('and Purpose: There were studies showing the positive effects of Tai Chi on sleep, fatigue, endurance, balance, anxiety and depression in rheumatologic diseases. The aim of this study was to investigate the effects of Tai Chi exercise program on trunk endurance, balance, sleep, fatigue, anxiety and depression in patients with systemic sclerosis (SSc).', attributes={'Label': 'BACKGROUND', 'NlmCategory': 'BACKGROUND'}),\n",
              " StringElement('28 patients were randomly divided into two groups as Tai Chi (n:14, 53.35\\xa0±\\xa010.86 years) and home exercise group (n:14, 52.64\\xa0±\\xa09.45 years). Trunk Lateral Endurance Test, Berg Balance Scale, Pittsburg Sleep Quality Index, Fatigue Severity Scale and Fatigue Impact Scale, Hospital Anxiety and Depression Scale was used for assesment. All evaluations were performed at baseline and at the end of the 10th week.', attributes={'Label': 'MATERIALS AND METHODS', 'NlmCategory': 'METHODS'}),\n",
              " StringElement('After training, a statistically significant difference was observed in all parameters in Tai Chi group (p:0.00); there was a significant difference in trunk endurance and sleep quality in the home exercise group (p:0.00-0.03) compared to pre-training. When the delta values between groups were compared, Tai Chi group was superior to home exercise group in all parameters except trunk endurance (p:0.00-0.01). No side effects were observed during the exercises.', attributes={'Label': 'RESULTS', 'NlmCategory': 'RESULTS'}),\n",
              " StringElement('As a result of our study; Tai Chi has a possitive effect on endurance, balance, sleep quality, fatique, anxiety and depression in patients with SSc. Tai Chi should be included in rehabilitation programs as a safe alternative type of exercise to improve trunk endurance, balance, sleep quality and reduce fatigue, anxiety and depression in patients with SSc.', attributes={'Label': 'CONCLUSION', 'NlmCategory': 'CONCLUSIONS'})]"
            ]
          },
          "metadata": {
            "tags": []
          },
          "execution_count": 13
        }
      ]
    },
    {
      "cell_type": "code",
      "metadata": {
        "id": "H-BRc9pcuot7"
      },
      "source": [
        "df['Abstract'] = df.Abstract.apply(lambda x: ' '.join(x))"
      ],
      "execution_count": null,
      "outputs": []
    },
    {
      "cell_type": "code",
      "metadata": {
        "id": "8Jsy9FKQuot8"
      },
      "source": [
        "def remove_brackets(x):\n",
        "    remove = '<>()[]{}\"'\n",
        "    p = re.compile(\"[\" + re.escape(remove) + \"]\")\n",
        "    return p.sub(\"\",x)"
      ],
      "execution_count": null,
      "outputs": []
    },
    {
      "cell_type": "code",
      "metadata": {
        "id": "N5WznKO0uot8",
        "outputId": "970636f6-776a-4e46-cf06-f49737255518"
      },
      "source": [
        "df['JournalInfo'] = df.JournalInfo.apply(lambda x: json.dumps(x))\n",
        "type(df.JournalInfo[0])"
      ],
      "execution_count": null,
      "outputs": [
        {
          "output_type": "execute_result",
          "data": {
            "text/plain": [
              "str"
            ]
          },
          "metadata": {
            "tags": []
          },
          "execution_count": 16
        }
      ]
    },
    {
      "cell_type": "code",
      "metadata": {
        "id": "e0_K-R3Wuot8",
        "outputId": "fedec2fe-095d-4d61-d5e1-2797f9715006"
      },
      "source": [
        "df['Abstract'] = df.Abstract.apply(lambda x: remove_brackets(x))\n",
        "type(df.Abstract[0])"
      ],
      "execution_count": null,
      "outputs": [
        {
          "output_type": "execute_result",
          "data": {
            "text/plain": [
              "str"
            ]
          },
          "metadata": {
            "tags": []
          },
          "execution_count": 17
        }
      ]
    },
    {
      "cell_type": "code",
      "metadata": {
        "id": "TUu9ciqHuot9"
      },
      "source": [
        "#df['Title'] = df.Title.apply(lambda x: json.dumps(x))\n",
        "#type(df.Title[0])"
      ],
      "execution_count": null,
      "outputs": []
    },
    {
      "cell_type": "code",
      "metadata": {
        "id": "yEPdT5Ctuot9",
        "outputId": "092caa5a-c293-4163-c959-d84ad546aea0"
      },
      "source": [
        "df.head(20)"
      ],
      "execution_count": null,
      "outputs": [
        {
          "output_type": "execute_result",
          "data": {
            "text/html": [
              "<div>\n",
              "<style scoped>\n",
              "    .dataframe tbody tr th:only-of-type {\n",
              "        vertical-align: middle;\n",
              "    }\n",
              "\n",
              "    .dataframe tbody tr th {\n",
              "        vertical-align: top;\n",
              "    }\n",
              "\n",
              "    .dataframe thead th {\n",
              "        text-align: right;\n",
              "    }\n",
              "</style>\n",
              "<table border=\"1\" class=\"dataframe\">\n",
              "  <thead>\n",
              "    <tr style=\"text-align: right;\">\n",
              "      <th></th>\n",
              "      <th>Title</th>\n",
              "      <th>JournalInfo</th>\n",
              "      <th>Abstract</th>\n",
              "    </tr>\n",
              "  </thead>\n",
              "  <tbody>\n",
              "    <tr>\n",
              "      <th>0</th>\n",
              "      <td>Qigong or Tai Chi in Cancer Care: an Updated S...</td>\n",
              "      <td>Curr Oncol Rep</td>\n",
              "      <td>Qigong and Tai Chi are two increasingly popula...</td>\n",
              "    </tr>\n",
              "    <tr>\n",
              "      <th>1</th>\n",
              "      <td>Investigation of the effectiveness of Tai Chi ...</td>\n",
              "      <td>Complement Ther Clin Pract</td>\n",
              "      <td>and Purpose: There were studies showing the po...</td>\n",
              "    </tr>\n",
              "    <tr>\n",
              "      <th>2</th>\n",
              "      <td>Tai Chi and Qigong for cancer-related symptoms...</td>\n",
              "      <td>J Cancer Surviv</td>\n",
              "      <td>This study aims to summarize and critically ev...</td>\n",
              "    </tr>\n",
              "    <tr>\n",
              "      <th>3</th>\n",
              "      <td>The effectiveness of tai chi in breast cancer ...</td>\n",
              "      <td>Complement Ther Clin Pract</td>\n",
              "      <td>Tai chi has been suggested as a potential effe...</td>\n",
              "    </tr>\n",
              "    <tr>\n",
              "      <th>4</th>\n",
              "      <td>Effect of simplified Tai Chi exercise on relie...</td>\n",
              "      <td>J Sports Med Phys Fitness</td>\n",
              "      <td>Tai Chi, a kind of physical exercise, may act ...</td>\n",
              "    </tr>\n",
              "    <tr>\n",
              "      <th>5</th>\n",
              "      <td>Effect of tai chi versus aerobic exercise for ...</td>\n",
              "      <td>BMJ</td>\n",
              "      <td>To determine the effectiveness of tai chi inte...</td>\n",
              "    </tr>\n",
              "    <tr>\n",
              "      <th>6</th>\n",
              "      <td>Effectiveness of Tai Chi on fibromyalgia patie...</td>\n",
              "      <td>Complement Ther Med</td>\n",
              "      <td>To identify empirical evidence on the effectiv...</td>\n",
              "    </tr>\n",
              "    <tr>\n",
              "      <th>7</th>\n",
              "      <td>Does Tai Chi Chuan improve psychological well-...</td>\n",
              "      <td>Medicine Baltimore</td>\n",
              "      <td>Breast cancer is the most prevalent cancer in ...</td>\n",
              "    </tr>\n",
              "    <tr>\n",
              "      <th>8</th>\n",
              "      <td>Effect of Tai Chi for post-stroke mental disor...</td>\n",
              "      <td>Medicine Baltimore</td>\n",
              "      <td>Post-stroke mental disorders (PSMDs) and post-...</td>\n",
              "    </tr>\n",
              "    <tr>\n",
              "      <th>9</th>\n",
              "      <td>The effects of guided imagery on state and tra...</td>\n",
              "      <td>Complement Ther Med</td>\n",
              "      <td>This study aimed to investigate the effects of...</td>\n",
              "    </tr>\n",
              "    <tr>\n",
              "      <th>10</th>\n",
              "      <td>An integrative Tai Chi program for patients wi...</td>\n",
              "      <td>J Integr Med</td>\n",
              "      <td>Breast cancer patients experience various side...</td>\n",
              "    </tr>\n",
              "    <tr>\n",
              "      <th>11</th>\n",
              "      <td>Efficacy of mindfulness-based intervention ('m...</td>\n",
              "      <td>BMJ Open</td>\n",
              "      <td>Insomnia is a prevalent and significant public...</td>\n",
              "    </tr>\n",
              "    <tr>\n",
              "      <th>12</th>\n",
              "      <td>Guided Imagery: Reducing Anxiety, Depression, ...</td>\n",
              "      <td>Clin J Oncol Nurs</td>\n",
              "      <td>Cancer treatment can be a great source of anxi...</td>\n",
              "    </tr>\n",
              "    <tr>\n",
              "      <th>13</th>\n",
              "      <td>Efficacy of Guided Imagery for Postoperative S...</td>\n",
              "      <td>J Perianesth Nurs</td>\n",
              "      <td>The purpose of this study was to determine the...</td>\n",
              "    </tr>\n",
              "    <tr>\n",
              "      <th>14</th>\n",
              "      <td>Music to improve sleep quality in adults with ...</td>\n",
              "      <td>Trials</td>\n",
              "      <td>Insomnia is a common sleep disorder for adults...</td>\n",
              "    </tr>\n",
              "    <tr>\n",
              "      <th>15</th>\n",
              "      <td>Self-administered acupressure for insomnia dis...</td>\n",
              "      <td>J Sleep Res</td>\n",
              "      <td>Self-administered acupressure has potential as...</td>\n",
              "    </tr>\n",
              "    <tr>\n",
              "      <th>16</th>\n",
              "      <td>[A clinical trial of treatment of primary inso...</td>\n",
              "      <td>Zhen Ci Yan Jiu</td>\n",
              "      <td>To investigate the clinical effect of shallow ...</td>\n",
              "    </tr>\n",
              "    <tr>\n",
              "      <th>17</th>\n",
              "      <td>The effect of acupuncture on emotional disorde...</td>\n",
              "      <td>Medicine Baltimore</td>\n",
              "      <td>Insomnia with high incidence is usually accomp...</td>\n",
              "    </tr>\n",
              "    <tr>\n",
              "      <th>18</th>\n",
              "      <td>Traditional Chinese herbal bath therapy for in...</td>\n",
              "      <td>Medicine Baltimore</td>\n",
              "      <td>Insomnia is a major public health problem. Due...</td>\n",
              "    </tr>\n",
              "    <tr>\n",
              "      <th>19</th>\n",
              "      <td>Acupoint combination effect of Shenmen (HT 7) ...</td>\n",
              "      <td>Trials</td>\n",
              "      <td>Insomnia is a global disease with a high incid...</td>\n",
              "    </tr>\n",
              "  </tbody>\n",
              "</table>\n",
              "</div>"
            ],
            "text/plain": [
              "                                                Title  \\\n",
              "0   Qigong or Tai Chi in Cancer Care: an Updated S...   \n",
              "1   Investigation of the effectiveness of Tai Chi ...   \n",
              "2   Tai Chi and Qigong for cancer-related symptoms...   \n",
              "3   The effectiveness of tai chi in breast cancer ...   \n",
              "4   Effect of simplified Tai Chi exercise on relie...   \n",
              "5   Effect of tai chi versus aerobic exercise for ...   \n",
              "6   Effectiveness of Tai Chi on fibromyalgia patie...   \n",
              "7   Does Tai Chi Chuan improve psychological well-...   \n",
              "8   Effect of Tai Chi for post-stroke mental disor...   \n",
              "9   The effects of guided imagery on state and tra...   \n",
              "10  An integrative Tai Chi program for patients wi...   \n",
              "11  Efficacy of mindfulness-based intervention ('m...   \n",
              "12  Guided Imagery: Reducing Anxiety, Depression, ...   \n",
              "13  Efficacy of Guided Imagery for Postoperative S...   \n",
              "14  Music to improve sleep quality in adults with ...   \n",
              "15  Self-administered acupressure for insomnia dis...   \n",
              "16  [A clinical trial of treatment of primary inso...   \n",
              "17  The effect of acupuncture on emotional disorde...   \n",
              "18  Traditional Chinese herbal bath therapy for in...   \n",
              "19  Acupoint combination effect of Shenmen (HT 7) ...   \n",
              "\n",
              "                   JournalInfo  \\\n",
              "0               Curr Oncol Rep   \n",
              "1   Complement Ther Clin Pract   \n",
              "2              J Cancer Surviv   \n",
              "3   Complement Ther Clin Pract   \n",
              "4    J Sports Med Phys Fitness   \n",
              "5                          BMJ   \n",
              "6          Complement Ther Med   \n",
              "7           Medicine Baltimore   \n",
              "8           Medicine Baltimore   \n",
              "9          Complement Ther Med   \n",
              "10                J Integr Med   \n",
              "11                    BMJ Open   \n",
              "12           Clin J Oncol Nurs   \n",
              "13           J Perianesth Nurs   \n",
              "14                      Trials   \n",
              "15                 J Sleep Res   \n",
              "16             Zhen Ci Yan Jiu   \n",
              "17          Medicine Baltimore   \n",
              "18          Medicine Baltimore   \n",
              "19                      Trials   \n",
              "\n",
              "                                             Abstract  \n",
              "0   Qigong and Tai Chi are two increasingly popula...  \n",
              "1   and Purpose: There were studies showing the po...  \n",
              "2   This study aims to summarize and critically ev...  \n",
              "3   Tai chi has been suggested as a potential effe...  \n",
              "4   Tai Chi, a kind of physical exercise, may act ...  \n",
              "5   To determine the effectiveness of tai chi inte...  \n",
              "6   To identify empirical evidence on the effectiv...  \n",
              "7   Breast cancer is the most prevalent cancer in ...  \n",
              "8   Post-stroke mental disorders (PSMDs) and post-...  \n",
              "9   This study aimed to investigate the effects of...  \n",
              "10  Breast cancer patients experience various side...  \n",
              "11  Insomnia is a prevalent and significant public...  \n",
              "12  Cancer treatment can be a great source of anxi...  \n",
              "13  The purpose of this study was to determine the...  \n",
              "14  Insomnia is a common sleep disorder for adults...  \n",
              "15  Self-administered acupressure has potential as...  \n",
              "16  To investigate the clinical effect of shallow ...  \n",
              "17  Insomnia with high incidence is usually accomp...  \n",
              "18  Insomnia is a major public health problem. Due...  \n",
              "19  Insomnia is a global disease with a high incid...  "
            ]
          },
          "metadata": {
            "tags": []
          },
          "execution_count": 19
        }
      ]
    },
    {
      "cell_type": "code",
      "metadata": {
        "id": "wFOS_2Rduot-"
      },
      "source": [
        "#df.head()"
      ],
      "execution_count": null,
      "outputs": []
    },
    {
      "cell_type": "code",
      "metadata": {
        "id": "AOS79RGxuot-"
      },
      "source": [
        "# Write a new columne 'Til' : labelling based on title (lable papers titled with 'protocol','systematic review','meta-analysis' or 'guideline' or 'qualitative' as 0, else 1)"
      ],
      "execution_count": null,
      "outputs": []
    },
    {
      "cell_type": "code",
      "metadata": {
        "id": "Qk9kTE3e44Vl"
      },
      "source": [
        "# could be taliored for target pouplation (children/youth/adolescent or only adults)"
      ],
      "execution_count": null,
      "outputs": []
    },
    {
      "cell_type": "code",
      "metadata": {
        "id": "WVZfti-ouot-",
        "outputId": "ed0fc247-3bad-4330-e9d7-de74c15ff7cc"
      },
      "source": [
        "df['TiL'] = np.where(df['Title'].str.lower().str.contains(\"meta-analysis|systematic review|protocol|guideline|qualitative\"), 0, 1)\n",
        "df.head()"
      ],
      "execution_count": null,
      "outputs": [
        {
          "output_type": "execute_result",
          "data": {
            "text/html": [
              "<div>\n",
              "<style scoped>\n",
              "    .dataframe tbody tr th:only-of-type {\n",
              "        vertical-align: middle;\n",
              "    }\n",
              "\n",
              "    .dataframe tbody tr th {\n",
              "        vertical-align: top;\n",
              "    }\n",
              "\n",
              "    .dataframe thead th {\n",
              "        text-align: right;\n",
              "    }\n",
              "</style>\n",
              "<table border=\"1\" class=\"dataframe\">\n",
              "  <thead>\n",
              "    <tr style=\"text-align: right;\">\n",
              "      <th></th>\n",
              "      <th>Title</th>\n",
              "      <th>JournalInfo</th>\n",
              "      <th>Abstract</th>\n",
              "      <th>TiL</th>\n",
              "    </tr>\n",
              "  </thead>\n",
              "  <tbody>\n",
              "    <tr>\n",
              "      <th>0</th>\n",
              "      <td>Qigong or Tai Chi in Cancer Care: an Updated S...</td>\n",
              "      <td>Curr Oncol Rep</td>\n",
              "      <td>Qigong and Tai Chi are two increasingly popula...</td>\n",
              "      <td>0</td>\n",
              "    </tr>\n",
              "    <tr>\n",
              "      <th>1</th>\n",
              "      <td>Investigation of the effectiveness of Tai Chi ...</td>\n",
              "      <td>Complement Ther Clin Pract</td>\n",
              "      <td>and Purpose: There were studies showing the po...</td>\n",
              "      <td>1</td>\n",
              "    </tr>\n",
              "    <tr>\n",
              "      <th>2</th>\n",
              "      <td>Tai Chi and Qigong for cancer-related symptoms...</td>\n",
              "      <td>J Cancer Surviv</td>\n",
              "      <td>This study aims to summarize and critically ev...</td>\n",
              "      <td>0</td>\n",
              "    </tr>\n",
              "    <tr>\n",
              "      <th>3</th>\n",
              "      <td>The effectiveness of tai chi in breast cancer ...</td>\n",
              "      <td>Complement Ther Clin Pract</td>\n",
              "      <td>Tai chi has been suggested as a potential effe...</td>\n",
              "      <td>0</td>\n",
              "    </tr>\n",
              "    <tr>\n",
              "      <th>4</th>\n",
              "      <td>Effect of simplified Tai Chi exercise on relie...</td>\n",
              "      <td>J Sports Med Phys Fitness</td>\n",
              "      <td>Tai Chi, a kind of physical exercise, may act ...</td>\n",
              "      <td>1</td>\n",
              "    </tr>\n",
              "  </tbody>\n",
              "</table>\n",
              "</div>"
            ],
            "text/plain": [
              "                                               Title  \\\n",
              "0  Qigong or Tai Chi in Cancer Care: an Updated S...   \n",
              "1  Investigation of the effectiveness of Tai Chi ...   \n",
              "2  Tai Chi and Qigong for cancer-related symptoms...   \n",
              "3  The effectiveness of tai chi in breast cancer ...   \n",
              "4  Effect of simplified Tai Chi exercise on relie...   \n",
              "\n",
              "                  JournalInfo  \\\n",
              "0              Curr Oncol Rep   \n",
              "1  Complement Ther Clin Pract   \n",
              "2             J Cancer Surviv   \n",
              "3  Complement Ther Clin Pract   \n",
              "4   J Sports Med Phys Fitness   \n",
              "\n",
              "                                            Abstract  TiL  \n",
              "0  Qigong and Tai Chi are two increasingly popula...    0  \n",
              "1  and Purpose: There were studies showing the po...    1  \n",
              "2  This study aims to summarize and critically ev...    0  \n",
              "3  Tai chi has been suggested as a potential effe...    0  \n",
              "4  Tai Chi, a kind of physical exercise, may act ...    1  "
            ]
          },
          "metadata": {
            "tags": []
          },
          "execution_count": 32
        }
      ]
    },
    {
      "cell_type": "code",
      "metadata": {
        "id": "08nrFSP5uot-",
        "outputId": "0fc6b7e0-3704-40c7-9436-ac07f3fd9571"
      },
      "source": [
        "type(df[\"TiL\"])"
      ],
      "execution_count": null,
      "outputs": [
        {
          "output_type": "execute_result",
          "data": {
            "text/plain": [
              "pandas.core.series.Series"
            ]
          },
          "metadata": {
            "tags": []
          },
          "execution_count": 33
        }
      ]
    },
    {
      "cell_type": "code",
      "metadata": {
        "id": "nimjj6Auuot_"
      },
      "source": [
        "df.to_pickle('save_path')"
      ],
      "execution_count": null,
      "outputs": []
    },
    {
      "cell_type": "code",
      "metadata": {
        "id": "CQZOTPZKuot_"
      },
      "source": [
        "df = pd.read_pickle('save_path')"
      ],
      "execution_count": null,
      "outputs": []
    },
    {
      "cell_type": "code",
      "metadata": {
        "id": "EgyDaztLuouA"
      },
      "source": [
        "#manully input value to new colunm 'AbL' (labelling based on abstract) examples"
      ],
      "execution_count": null,
      "outputs": []
    },
    {
      "cell_type": "code",
      "metadata": {
        "id": "c2j_LM5OuouA"
      },
      "source": [
        "df_Abs['AbL'] = 1"
      ],
      "execution_count": null,
      "outputs": []
    },
    {
      "cell_type": "code",
      "metadata": {
        "id": "RRXyDEMmuouA"
      },
      "source": [
        "#df_Abs['Abstract'][9]:  not CAM only CBT"
      ],
      "execution_count": null,
      "outputs": []
    },
    {
      "cell_type": "code",
      "metadata": {
        "id": "xebKotq9uouB"
      },
      "source": [
        "df_Abs.at[9,'AbL'] = 0"
      ],
      "execution_count": null,
      "outputs": []
    },
    {
      "cell_type": "code",
      "metadata": {
        "id": "AzGvJYqwuouB"
      },
      "source": [
        "#df_Abs['Abstract'][14] : a review"
      ],
      "execution_count": null,
      "outputs": []
    },
    {
      "cell_type": "code",
      "metadata": {
        "id": "VPfNmRT4uouB"
      },
      "source": [
        "df_Abs.at[14,'AbL'] = 0"
      ],
      "execution_count": null,
      "outputs": []
    },
    {
      "cell_type": "code",
      "metadata": {
        "id": "W39Ciws7uouB"
      },
      "source": [
        "#df_Abs['Abstract'][16]: MBCT,qinggo CT incoporating with CBT"
      ],
      "execution_count": null,
      "outputs": []
    },
    {
      "cell_type": "code",
      "metadata": {
        "id": "E9fRKyQTuouB"
      },
      "source": [
        "df_Abs.at[16,'AbL'] = 0"
      ],
      "execution_count": null,
      "outputs": []
    },
    {
      "cell_type": "code",
      "metadata": {
        "id": "SnwZYk8KuouB"
      },
      "source": [
        "# df_Abs['Abstract'][20]: only CBT-I"
      ],
      "execution_count": null,
      "outputs": []
    },
    {
      "cell_type": "code",
      "metadata": {
        "id": "dZ04XN8LuouC"
      },
      "source": [
        "df_Abs.at[20,'AbL'] = 0"
      ],
      "execution_count": null,
      "outputs": []
    },
    {
      "cell_type": "code",
      "metadata": {
        "id": "cSBOGVguuouC"
      },
      "source": [
        "#df_Abs['Abstract'][21]: cross-sectional analysis of the RCT baseline"
      ],
      "execution_count": null,
      "outputs": []
    },
    {
      "cell_type": "code",
      "metadata": {
        "id": "x0DlRPiYuouC"
      },
      "source": [
        "df_Abs.at[21,'AbL'] = 0"
      ],
      "execution_count": null,
      "outputs": []
    },
    {
      "cell_type": "code",
      "metadata": {
        "id": "g-1pIiJUuouZ"
      },
      "source": [
        "df_Abs.AbL"
      ],
      "execution_count": null,
      "outputs": []
    }
  ]
}